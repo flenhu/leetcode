{
 "cells": [
  {
   "cell_type": "markdown",
   "id": "797662da",
   "metadata": {},
   "source": [
    "# 26. Remove Duplicates from Sorted Array\n",
    "\n",
    "Given an integer array `nums` sorted in non-decreasing order, remove the duplicates **in-place** such that each unique element appears only once. The relative order of the elements should be kept the same. Then return the number of unique elements in `nums`.\n",
    "\n",
    "#### Objective\n",
    "\n",
    "Consider the number of unique elements of `nums` to be `k`. To get accepted, you need to do the following:\n",
    "\n",
    "1. Change the array `nums` such that the first `k` elements of `nums` contain the unique elements in the order they were present in `nums` initially.\n",
    "2. The remaining elements of `nums` are not important, nor is the size of `nums`.\n",
    "3. Return `k`."
   ]
  },
  {
   "cell_type": "markdown",
   "id": "d689f3e8",
   "metadata": {},
   "source": [
    "#### Examples\n",
    "\n",
    "- **Example 1:**  \n",
    "  **Input:** `nums = [1, 1, 2]`  \n",
    "  **Output:** `2, nums = [1, 2, _]`\n",
    "\n",
    "- **Example 2:**  \n",
    "  **Input:** `nums = [0, 0, 1, 1, 1, 2, 2, 3, 3, 4]`  \n",
    "  **Output:** `5, nums = [0, 1, 2, 3, 4, _, _, _, _, _]`"
   ]
  },
  {
   "cell_type": "markdown",
   "id": "a50b4ed9",
   "metadata": {},
   "source": [
    "### Constraints:\n",
    "\n",
    "- `1 <= nums.length <= 3 * 10^4`\n",
    "- `-100 <= nums[i] <= 100`\n",
    "- `nums` is sorted in non-decreasing order."
   ]
  },
  {
   "cell_type": "markdown",
   "id": "ffea8128",
   "metadata": {},
   "source": [
    "## Notes\n",
    "\n",
    "### Constraints\n",
    "- **In-Place Modification**: The problem explicitly mentions that the operation should be done \"in-place,\" meaning you shouldn't allocate additional arrays.\n",
    "- **Sorted Input**: The input array is sorted in non-decreasing order, which is a major hint that you can solve this problem efficiently.\n",
    "- **Return Value**: You're asked to return the number of unique elements, and this is the new length of the modified array.\n",
    "\n",
    "### Approaches & Data Structures\n",
    "- **Two Pointers**: Given the constraints, a two-pointer approach stands out as a good option.\n",
    "- **Pointer Incrementation**: Decide when and how to move your pointers. In this case, you would move one pointer every time and another only when a unique element is found."
   ]
  },
  {
   "cell_type": "markdown",
   "id": "4a264089",
   "metadata": {},
   "source": [
    "# Solution"
   ]
  },
  {
   "cell_type": "code",
   "execution_count": 4,
   "id": "cb6cb4ad",
   "metadata": {},
   "outputs": [],
   "source": [
    "from typing import List\n",
    "\n",
    "class Solution:\n",
    "    def removeDuplicates(self, nums: List[int]) -> int:\n",
    "        left = 1\n",
    "        \n",
    "        for right in range(1, len(nums)):\n",
    "            if nums[right] != nums[right - 1]:\n",
    "                nums[left] = nums[right]\n",
    "                left += 1\n",
    "        return left"
   ]
  },
  {
   "cell_type": "markdown",
   "id": "9098e464",
   "metadata": {},
   "source": [
    "1. Initializing a pointer named left at index 1, assuming that the first element is always unique.\n",
    "2. Iterating through the array using another pointer right that starts at index 1.\n",
    "3. For each element, checking if it is different from its predecessor (making it a unique element in this sorted array).\n",
    "4. If a unique element is found, we overwrite the element at index left with this new unique element.\n",
    "5. Finally, the function returns the total count of unique elements, which is stored in left."
   ]
  },
  {
   "cell_type": "code",
   "execution_count": 6,
   "id": "ee9fac8d",
   "metadata": {},
   "outputs": [
    {
     "name": "stdout",
     "output_type": "stream",
     "text": [
      "2 [1, 2, 2]\n",
      "5 [0, 1, 2, 3, 4, 2, 2, 3, 3, 4]\n"
     ]
    }
   ],
   "source": [
    "# Example 1\n",
    "sol = Solution()\n",
    "nums1 = [1, 1, 2]\n",
    "print(sol.removeDuplicates(nums1), nums1)  # Output should be (2, [1, 2, _])\n",
    "\n",
    "# Example 2\n",
    "nums2 = [0, 0, 1, 1, 1, 2, 2, 3, 3, 4]\n",
    "print(sol.removeDuplicates(nums2), nums2)  # Output should be (5, [0, 1, 2, 3, 4, _, _, _, _, _])"
   ]
  },
  {
   "cell_type": "markdown",
   "id": "4c50b731",
   "metadata": {},
   "source": [
    "# Time Complexity\n",
    "- **Single Pass Through Array**: The function iterates through the array once, from the second element to the last. Each iteration involves constant-time operations (comparisons, assignments).\n",
    "  \n",
    "- **Constant Time Operations**: Within each loop iteration, the function performs constant-time operations like comparison (`nums[right] != nums[right - 1]`) and assignment (`nums[left] = nums[right]`).\n",
    "\n",
    "- **Two Pointers**: The use of two pointers (`left` and `right`) doesn't add to the time complexity. They merely serve as indexes and help in doing the operation in-place.\n",
    "\n",
    "- **No Nested Loops**: The algorithm does not have any nested loops that iterate over the array, keeping the time complexity linear.\n",
    "\n",
    "- **No Extra Data Structures**: The algorithm doesn't use any extra data structures like sets or dictionaries that might have their own time complexity for insertion or lookup.\n",
    "\n",
    "- **Overall Time Complexity**: Considering all these factors, the time complexity of this function is \\( O(n) \\), where \\( n \\) is the length of the input array."
   ]
  }
 ],
 "metadata": {
  "kernelspec": {
   "display_name": "Python 3 (ipykernel)",
   "language": "python",
   "name": "python3"
  },
  "language_info": {
   "codemirror_mode": {
    "name": "ipython",
    "version": 3
   },
   "file_extension": ".py",
   "mimetype": "text/x-python",
   "name": "python",
   "nbconvert_exporter": "python",
   "pygments_lexer": "ipython3",
   "version": "3.10.4"
  }
 },
 "nbformat": 4,
 "nbformat_minor": 5
}

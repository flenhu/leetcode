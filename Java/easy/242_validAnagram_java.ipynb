{
 "cells": [
  {
   "cell_type": "markdown",
   "metadata": {},
   "source": [
    "#### Java | Easy | Arrays & Hashing\n",
    "# [242. Contains Duplicate](https://leetcode.com/problems/valid-anagram/)"
   ]
  },
  {
   "cell_type": "markdown",
   "metadata": {},
   "source": [
    "Given two strings `s` and `t`, return `true` *if `t` is an anagram of `s`, and `false` otherwise.\n",
    "\n",
    "An **Anagram** is a word or phrase formed by rearranging the letters of a different word or phrase, typically using all the original letters exactly once.\n",
    "\n",
    "**Example 1**  \n",
    "  > **Input:** `s = \"anagram\", t = \"nagaram\"/`  \n",
    "  > **Output:** `true`   \n",
    "  > **Explanation:** The string \"nagaram\" can be rearranged to form \"anagram\".\n",
    "\n",
    "**Example 2**  \n",
    "  > **Input:** `s = \"rat\", t = \"car\"`  \n",
    "  > **Output:** `false`\n",
    "  > **Explanation:** The string \"car\" cannot be rearranged to form \"rat\".\n",
    "  \n",
    "#### Constrants\n",
    "- `1 <= s.length`, `t.length <=` $5 * 10^4$\n",
    "- `s` and `t` consist of two lowercase English letters."
   ]
  },
  {
   "cell_type": "markdown",
   "metadata": {},
   "source": [
    "### <u> Problem Explanation</u>\n",
    "The task is to determine whether two strings s and t are anagrams of each other. An anagram involves rearranging the letters of one string to form another, using all the original letters exactly once."
   ]
  },
  {
   "cell_type": "markdown",
   "metadata": {},
   "source": [
    "_________________\n",
    "##  <u>Approach: Array solution</u>\n",
    "- Count the frequency of each character in both strings using a HashMap.\n",
    "- Compare the frequency counts of both strings.\n",
    "\n",
    "### <u>Intuition</u>\n",
    "The core idea is to check if both strings contain the same characters with the same frequency."
   ]
  },
  {
   "cell_type": "markdown",
   "metadata": {},
   "source": [
    "### <u>Algorithm:</u>\n",
    "1. Check if the lengths of `'s'` and `'t'` are equal. If not, they aren't anagrams.\n",
    "2. Create a HashMap to count the frequency of each character in `'s'`.\n",
    "3. Increment the frequency for each character in `'s'` and decrement for each character in `'t'`\n",
    "4. If any frequency in the HashMap is not zero, return `false`\n"
   ]
  },
  {
   "cell_type": "markdown",
   "metadata": {},
   "source": [
    "### <u> Psuedocode </u>\n",
    "FUNCTION isAnagram(s: String, t: String): Boolean\n",
    "\n",
    "    IF length of s is NOT equal to length of t\n",
    "        RETURN False\n",
    "\n",
    "    INITIALIZE a HashMap characterCount\n",
    "\n",
    "    FOR each character in s\n",
    "        INCREMENT the count of character in characterCount\n",
    "\n",
    "    FOR each character in t\n",
    "        DECREMENT the count of character in characterCount\n",
    "\n",
    "    FOR each value in characterCount\n",
    "        IF value is NOT zero\n",
    "            RETURN False\n",
    "\n",
    "    RETURN True\n",
    "END FUNCTION\n"
   ]
  },
  {
   "cell_type": "markdown",
   "metadata": {},
   "source": [
    "### <u> Java Implementation </u>"
   ]
  },
  {
   "cell_type": "code",
   "execution_count": 1,
   "metadata": {},
   "outputs": [],
   "source": [
    "import java.util.HashMap;\n",
    "\n",
    "public boolean isAnagram(String s, String t) {\n",
    "    if (s.length() != t.length()) {\n",
    "        return false;\n",
    "    }\n",
    "\n",
    "    HashMap<Character, Integer> characterCount = new HashMap<>();\n",
    "\n",
    "    // Count characters in s\n",
    "    for (char c : s.toCharArray()) {\n",
    "        characterCount.put(c, characterCount.getOrDefault(c, 0) + 1);\n",
    "    }\n",
    "\n",
    "    // Subtract character count based on t\n",
    "    for (char c : t.toCharArray()) {\n",
    "        characterCount.put(c, characterCount.getOrDefault(c, 0) - 1);\n",
    "        if (characterCount.get(c) < 0) {\n",
    "            return false;\n",
    "        }\n",
    "    }\n",
    "\n",
    "    return true;\n",
    "}"
   ]
  },
  {
   "cell_type": "markdown",
   "metadata": {},
   "source": [
    "#### Tests"
   ]
  },
  {
   "cell_type": "code",
   "execution_count": 2,
   "metadata": {},
   "outputs": [
    {
     "name": "stdout",
     "output_type": "stream",
     "text": [
      "Test 1 (anagram, nagaram): true\n",
      "Test 2 (rat, car): false\n"
     ]
    }
   ],
   "source": [
    "System.out.println(\"Test 1 (anagram, nagaram): \" + isAnagram(\"anagram\", \"nagaram\"));  // Output: True\n",
    "System.out.println(\"Test 2 (rat, car): \" + isAnagram(\"rat\", \"car\"));                  // Output: False"
   ]
  },
  {
   "cell_type": "markdown",
   "metadata": {},
   "source": [
    "### <u>Complexity Analysis</u>\n",
    "- ### Time Complexity: $O(n)$\n",
    "    - Iterating over both strings `'s'` and `'t'` is done in $O(n)$ time, and the operations of the HashMap are done in $O(1)$ time on average for each character.\n",
    "- ### Space Complexity: $O(1)$\n",
    "    -  The space used by the HashMap depends on the number of unique characters, which is constant (26 for lowercase English letters) and does not scale with the size of the input strings. Therefore, it is effectively $O(1)$ for this problem's constraints\n",
    "\n",
    "--------"
   ]
  },
  {
   "cell_type": "markdown",
   "metadata": {},
   "source": [
    "##  <u>Approach: Array solution</u>\n",
    "### Intuition:\n",
    "This approach uses a fixed-size integer array to count the frequency of each character in both strings. It relies on the fact that the input only consists of lowercase English letters\n",
    "\n",
    "### Character frequency count but with an array\n",
    "- Increment the frequency for each character in `'s'`.\n",
    "- Decrement the frequency for each character in `'t'`.\n",
    "- Check if all the frequencies are equal to zero."
   ]
  },
  {
   "cell_type": "markdown",
   "metadata": {},
   "source": [
    "### <u>Algorithm:</u>\n",
    "1. Return `false` immediately if `'s'` and `'t'` have different lengths. \n",
    "2. Create an integer array `store` of size 26 (To represent lowercase letters in English).\n",
    "3. Iterate over the characters in both `'s'` and `'t'`. Then increment the count for characters from `'s'` and decrement for characters from `'t'` in `store`.\n",
    "4. Iterate over `store`. If any value is not zero, return `false`.\n",
    "5. Return `true` if all counts are zero."
   ]
  },
  {
   "cell_type": "markdown",
   "metadata": {},
   "source": [
    "### <u> Pseudocode </u>\n",
    "    FUNCTION isAnagram(s: String, t: String): Boolean\n",
    "        IF length of s is NOT equal to length of t\n",
    "            RETURN False\n",
    "\n",
    "        DECLARE store as integer array of size 26\n",
    "\n",
    "        FOR i FROM 0 TO length of s\n",
    "            INCREMENT store[s.charAt(i) - 'a']\n",
    "            DECREMENT store[t.charAt(i) - 'a']\n",
    "\n",
    "        FOR each num in store\n",
    "            IF num is NOT zero\n",
    "                RETURN False\n",
    "\n",
    "        RETURN True\n",
    "    END FUNCTION"
   ]
  },
  {
   "cell_type": "markdown",
   "metadata": {},
   "source": [
    "### Java Implementation:"
   ]
  },
  {
   "cell_type": "code",
   "execution_count": 3,
   "metadata": {},
   "outputs": [],
   "source": [
    "public boolean isAnagram2(String s, String t) {\n",
    "    if (s.length() != t.length()) return false;\n",
    "\n",
    "    int[] store = new int[26];\n",
    "\n",
    "    for (int i = 0; i < s.length(); i++) {\n",
    "        store[s.charAt(i) - 'a']++;\n",
    "        store[t.charAt(i) - 'a']--;\n",
    "    }\n",
    "\n",
    "    for (int n : store) {\n",
    "        if (n != 0) return false;\n",
    "    }\n",
    "\n",
    "    return true;\n",
    "}"
   ]
  },
  {
   "cell_type": "markdown",
   "metadata": {},
   "source": [
    "#### Tests"
   ]
  },
  {
   "cell_type": "code",
   "execution_count": 4,
   "metadata": {},
   "outputs": [
    {
     "name": "stdout",
     "output_type": "stream",
     "text": [
      "Test 1 (anagram, nagaram): true\n",
      "Test 2 (rat, car): false\n"
     ]
    }
   ],
   "source": [
    "System.out.println(\"Test 1 (anagram, nagaram): \" + isAnagram2(\"anagram\", \"nagaram\"));  // Output: True\n",
    "System.out.println(\"Test 2 (rat, car): \" + isAnagram2(\"rat\", \"car\"));                  // Output: False"
   ]
  },
  {
   "cell_type": "markdown",
   "metadata": {},
   "source": [
    "### <u>Complexity Analysis</u>\n",
    "- ### Time Complexity: $O(n)$ \n",
    "    - This solution iterates over the length of the strings twice which are both $O(n)$, where $n$ is the length of both strings.\n",
    "- ### Space Complexity: $O(1)$ \n",
    "    - The solution uses a fixed-size integer array (`store`) of size 26, which does not scale with the size of the input strings. Therefore, it is considered constant space complexity."
   ]
  }
 ],
 "metadata": {
  "kernelspec": {
   "display_name": "Java",
   "language": "java",
   "name": "java"
  },
  "language_info": {
   "codemirror_mode": "java",
   "file_extension": ".jshell",
   "mimetype": "text/x-java-source",
   "name": "Java",
   "pygments_lexer": "java",
   "version": "11.0.20+8-LTS"
  }
 },
 "nbformat": 4,
 "nbformat_minor": 2
}

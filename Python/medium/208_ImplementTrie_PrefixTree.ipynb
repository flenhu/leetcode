{
 "cells": [
  {
   "cell_type": "markdown",
   "id": "7a364ffd",
   "metadata": {},
   "source": [
    "#### Python | Medium | Tries\n",
    "# [208. Implement Trie (Prefix Tree)](https://leetcode.com/problems/implement-trie-prefix-tree/)"
   ]
  },
  {
   "cell_type": "markdown",
   "id": "8da862ba",
   "metadata": {},
   "source": [
    "A trie (pronounced as \"try\") or prefix tree is a tree data structure used to efficiently store and retrieve keys in a dataset of strings. There are various applications of this data structure, such as autocomplete and spellchecker.\n",
    "\n",
    "Implement the Trie class:\n",
    "\n",
    "- `Trie()` Initializes the trie object.\n",
    "- `void insert(String word)` Inserts the string `word` into the trie.\n",
    "- `boolean search(String word)` Returns true if the string `word` is in the trie (i.e., was inserted before), and false otherwise.\n",
    "- `boolean startsWith(String prefix)` Returns true if there is a previously inserted string `word` that has the `prefix` prefix, and false otherwise.\n",
    "\n",
    "## Examples\n",
    "\n",
    "**Example 1:**\n",
    "\n",
    "> **Input:** `[\"Trie\", \"insert\", \"search\", \"search\", \"startsWith\", \"insert\", \"search\"]`, `[[], [\"apple\"], [\"apple\"], [\"app\"], [\"app\"], [\"app\"], [\"app\"]]`   \n",
    "> **Output:** `[null, null, true, false, true, null, true]` \n",
    ">\n",
    "> **Explanation:**   \n",
    "    - `Trie trie = new Trie();`    \n",
    "    - `trie.insert(\"apple\");`    \n",
    "    - `trie.search(\"apple\");   // return True`   \n",
    "    - `trie.search(\"app\");     // return False`   \n",
    "    - `trie.startsWith(\"app\"); // return True`    \n",
    "    - `trie.insert(\"app\");`   \n",
    "    - `trie.search(\"app\");     // return True`   \n",
    "\n",
    "#### Constraints\n",
    "\n",
    "- <code>1 &lt;= word.length, prefix.length &lt;= 2000</code>\n",
    "- `word` and `prefix` consist only of lowercase English letters.\n",
    "- At most <code>3 * 10<sup>4</sup></code> calls in total will be made to `insert`, `search`, and `startsWith`.\n"
   ]
  }
 ],
 "metadata": {
  "kernelspec": {
   "display_name": "Python 3 (ipykernel)",
   "language": "python",
   "name": "python3"
  },
  "language_info": {
   "codemirror_mode": {
    "name": "ipython",
    "version": 3
   },
   "file_extension": ".py",
   "mimetype": "text/x-python",
   "name": "python",
   "nbconvert_exporter": "python",
   "pygments_lexer": "ipython3",
   "version": "3.9.12"
  }
 },
 "nbformat": 4,
 "nbformat_minor": 5
}

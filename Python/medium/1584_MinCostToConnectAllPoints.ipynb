{
 "cells": [
  {
   "cell_type": "markdown",
   "id": "e41a8e53",
   "metadata": {},
   "source": [
    "#### Python | Medium | Advanced Graphs\n",
    "# [1584. Min Cost to Connect All Points](https://leetcode.com/problems/min-cost-to-connect-all-points/)"
   ]
  },
  {
   "cell_type": "markdown",
   "id": "589feb75",
   "metadata": {},
   "source": [
    "You are given an array <code>points</code> representing integer coordinates of some points on a 2D-plane, where <code>points[i] = [x<sub>i</sub>, y<sub>i</sub>]</code>.\n",
    "\n",
    "The cost of connecting two points <code>[x<sub>i</sub>, y<sub>i</sub>]</code> and <code>[x<sub>j</sub>, y<sub>j</sub>]</code> is the manhattan distance between them: <code>|x<sub>i</sub> - x<sub>j</sub>| + |y<sub>i</sub> - y<sub>j</sub>|</code>, where <code>|val|</code> denotes the absolute value of <code>val</code>.\n",
    "\n",
    "Return the *minimum cost to make all points connected*. All points are connected if there is **exactly one** simple path between any two points.\n",
    "\n",
    "**Example 1**  \n",
    "  <img src=\"https://assets.leetcode.com/uploads/2020/08/26/d.png\" align=\"left\" />\n",
    "<br clear=\"left\"/>\n",
    "  > **Input:** `points = [[0,0],[2,2],[3,10],[5,2],[7,0]]`  \n",
    "  > **Output:** `20`  \n",
    "  > **Explanation:**\n",
    "  > <img src=\"https://assets.leetcode.com/uploads/2020/08/26/c.png\" align=\"left\" />\n",
    "    <br clear=\"left\"/>\n",
    "  > - We can connect the points as shown above to get the minimum cost to 20.\n",
    "  > - Notice that there is a unique path between every pair of points\n",
    "  \n",
    "**Example 2**\n",
    "  > **Input:** `points = [[3,12],[-2,5],[-4,1]]`  \n",
    "  > **Output:** `18`  \n",
    "  \n",
    "#### Constraints\n",
    "\n",
    "- $1$ ≤ `points.length` ≤ $1000$\n",
    "- -$10^6$≤ <code>[x<sub>i</sub>, y<sub>i</sub>]</code> ≤ $10^6$\n",
    "- All pairs <code>(x<sub>i</sub>, y<sub>i</sub>)</code> are distinct."
   ]
  },
  {
   "cell_type": "markdown",
   "id": "2da52200",
   "metadata": {},
   "source": []
  }
 ],
 "metadata": {
  "kernelspec": {
   "display_name": "Python 3 (ipykernel)",
   "language": "python",
   "name": "python3"
  },
  "language_info": {
   "codemirror_mode": {
    "name": "ipython",
    "version": 3
   },
   "file_extension": ".py",
   "mimetype": "text/x-python",
   "name": "python",
   "nbconvert_exporter": "python",
   "pygments_lexer": "ipython3",
   "version": "3.9.12"
  }
 },
 "nbformat": 4,
 "nbformat_minor": 5
}

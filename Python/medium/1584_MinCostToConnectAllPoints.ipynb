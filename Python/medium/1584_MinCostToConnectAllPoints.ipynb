{
 "cells": [
  {
   "cell_type": "markdown",
   "id": "6bb473e4",
   "metadata": {},
   "source": [
    "#### Python | Medium | Advanced Graphs\n",
    "# [1584. Min Cost to Connect All Points](https://leetcode.com/problems/min-cost-to-connect-all-points/)"
   ]
  },
  {
   "cell_type": "markdown",
   "id": "8bc5043f",
   "metadata": {},
   "source": [
    "You are given an array `points` representing integer coordinates of some points on a 2D-plane, where `points[i]` = `$[x_i, y_i]$`.\n",
    "\n",
    "The cost of connecting two points $[x_i, y_i]$ and $[x_j, y_j]$ is the manhattan distance between them: |xi - xj| + |yi - yj|, where |val| denotes the absolute value of val.\n",
    "\n",
    "Return the minimum cost to make all points connected. All points are connected if there is exactly one simple path between any two points.\n",
    "\n",
    "<code>x<sub>i</sub></code>\n"
   ]
  },
  {
   "cell_type": "code",
   "execution_count": null,
   "id": "b66c70dd",
   "metadata": {},
   "outputs": [],
   "source": []
  }
 ],
 "metadata": {
  "kernelspec": {
   "display_name": "Python 3 (ipykernel)",
   "language": "python",
   "name": "python3"
  },
  "language_info": {
   "codemirror_mode": {
    "name": "ipython",
    "version": 3
   },
   "file_extension": ".py",
   "mimetype": "text/x-python",
   "name": "python",
   "nbconvert_exporter": "python",
   "pygments_lexer": "ipython3",
   "version": "3.9.12"
  }
 },
 "nbformat": 4,
 "nbformat_minor": 5
}

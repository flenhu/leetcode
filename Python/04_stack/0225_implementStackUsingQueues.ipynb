{
 "cells": [
  {
   "cell_type": "markdown",
   "id": "835c632c",
   "metadata": {},
   "source": [
    "#### [Python <img src=\"../../assets/pythonLogo.png\" alt=\"py logo\" style=\"height: 1em; vertical-align: sub;\">](../README.md) | Easy 🟢 | [Stack](README.md)\n",
    "# [225. Implement Stack using Queues](https://leetcode.com/problems/implement-stack-using-queues/description/) (not started 😕)"
   ]
  },
  {
   "cell_type": "markdown",
   "id": "b9441082",
   "metadata": {},
   "source": [
    "Implement a last-in-first-out (LIFO) stack using only two queues. The implemented stack should support all the functions of a normal stack (`push`, `top`, `pop`, and `empty`).\n",
    "\n",
    "Implement the `MyStack` class:\n",
    "- `void push(int x)` Pushes element `x` to the top of the stack.\n",
    "- `int pop()` Removes the element on the top of the stack and returns it.\n",
    "- `int top()` Returns the element on the top of the stack.\n",
    "- `boolean empty()` Returns `true` if the stack is empty, `false` otherwise.\n",
    "\n",
    "#### Notes:\n",
    "- You must use **only** standard operations of a queue, which means that only `push to back`, `peek/pop from front`, `size`, and `is empty` operations are valid.\n",
    "- Depending on your language, the queue may not be supported natively. You may simulate a queue using a list or deque (double-ended queue) as long as you use only a queue's standard operations.\n",
    " \n",
    "#### Example 1:\n",
    "> **Input:**  \n",
    "> `[\"MyStack\", \"push\", \"push\", \"top\", \"pop\", \"empty\"]`  \n",
    "> `[[], [1], [2], [], [], []]`  \n",
    "> **Output:**  \n",
    "> `[null, null, null, 2, 2, false]`  \n",
    "> **Explanation:**  \n",
    "> `MyStack myStack = new MyStack();`  \n",
    "> `myStack.push(1);`  \n",
    "> `myStack.push(2);`  \n",
    "> `myStack.top();` // return 2  \n",
    "> `myStack.pop();` // return 2  \n",
    "> `myStack.empty();` // return False\n",
    "\n",
    "#### Constraints:\n",
    "- `1 <= x <= 9`\n",
    "- At most `100` calls will be made to `push`, `pop`, `top`, and `empty`.\n",
    "- All the calls to `pop` and `top` are valid.\n"
   ]
  },
  {
   "cell_type": "markdown",
   "id": "5a871415",
   "metadata": {},
   "source": [
    "## Problem Explanation\n",
    "- \n",
    "\n",
    "***"
   ]
  },
  {
   "cell_type": "markdown",
   "id": "66c83cb9",
   "metadata": {},
   "source": [
    "# Approach: \n",
    "\n",
    "\n",
    "## Intuition\n",
    "\n",
    "\n",
    "## Algorithm\n"
   ]
  },
  {
   "cell_type": "markdown",
   "id": "7888762a",
   "metadata": {},
   "source": [
    "## Code Implementation"
   ]
  },
  {
   "cell_type": "code",
   "execution_count": null,
   "id": "e1d254e7",
   "metadata": {},
   "outputs": [],
   "source": []
  },
  {
   "cell_type": "markdown",
   "id": "ce05a3cf",
   "metadata": {},
   "source": [
    "### Testing"
   ]
  },
  {
   "cell_type": "code",
   "execution_count": null,
   "id": "4c5194cc",
   "metadata": {},
   "outputs": [],
   "source": []
  },
  {
   "cell_type": "markdown",
   "id": "8a5df28b",
   "metadata": {},
   "source": [
    "## Complexity Analysis\n",
    "- ### Time Complexity: $O()$\n",
    "\n",
    "- ### Space Complexity: $O()$\n",
    "***"
   ]
  },
  {
   "cell_type": "markdown",
   "id": "32c95f2b",
   "metadata": {},
   "source": [
    "# Approach 2:\n",
    "\n",
    "\n",
    "## Intuition\n",
    "\n",
    "\n",
    "## Algorithm\n"
   ]
  },
  {
   "cell_type": "markdown",
   "id": "c697b866",
   "metadata": {},
   "source": [
    "## Code Implementation"
   ]
  },
  {
   "cell_type": "code",
   "execution_count": null,
   "id": "992fc957",
   "metadata": {},
   "outputs": [],
   "source": []
  },
  {
   "cell_type": "markdown",
   "id": "72cf13d4",
   "metadata": {},
   "source": [
    "### Testing"
   ]
  },
  {
   "cell_type": "code",
   "execution_count": null,
   "id": "e38c9959",
   "metadata": {},
   "outputs": [],
   "source": []
  },
  {
   "cell_type": "markdown",
   "id": "950aad4c",
   "metadata": {},
   "source": [
    "## Complexity Analysis\n",
    "- ### Time Complexity: $O()$\n",
    "\n",
    "- ### Space Complexity: $O()$\n",
    "***"
   ]
  }
 ],
 "metadata": {
  "kernelspec": {
   "display_name": "Python 3 (ipykernel)",
   "language": "python",
   "name": "python3"
  },
  "language_info": {
   "codemirror_mode": {
    "name": "ipython",
    "version": 3
   },
   "file_extension": ".py",
   "mimetype": "text/x-python",
   "name": "python",
   "nbconvert_exporter": "python",
   "pygments_lexer": "ipython3",
   "version": "3.10.4"
  }
 },
 "nbformat": 4,
 "nbformat_minor": 5
}

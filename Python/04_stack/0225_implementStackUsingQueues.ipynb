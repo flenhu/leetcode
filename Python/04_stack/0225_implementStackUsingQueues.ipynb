{
 "cells": [
  {
   "cell_type": "markdown",
   "id": "835c632c",
   "metadata": {},
   "source": [
    "#### [Python <img src=\"../../assets/pythonLogo.png\" alt=\"py logo\" style=\"height: 1em; vertical-align: sub;\">](../README.md) | Easy 🟢 | [Stack](README.md)\n",
    "# [225. Implement Stack using Queues](https://leetcode.com/problems/implement-stack-using-queues/description/)"
   ]
  },
  {
   "cell_type": "markdown",
   "id": "b9441082",
   "metadata": {},
   "source": [
    "Implement a last-in-first-out (LIFO) stack using only two queues. The implemented stack should support all the functions of a normal stack (`push`, `top`, `pop`, and `empty`).\n",
    "\n",
    "Implement the `MyStack` class:\n",
    "- `void push(int x)` Pushes element `x` to the top of the stack.\n",
    "- `int pop()` Removes the element on the top of the stack and returns it.\n",
    "- `int top()` Returns the element on the top of the stack.\n",
    "- `boolean empty()` Returns `true` if the stack is empty, `false` otherwise.\n",
    "\n",
    "#### Notes:\n",
    "- You must use **only** standard operations of a queue, which means that only `push to back`, `peek/pop from front`, `size`, and `is empty` operations are valid.\n",
    "- Depending on your language, the queue may not be supported natively. You may simulate a queue using a list or deque (double-ended queue) as long as you use only a queue's standard operations.\n",
    " \n",
    "#### Example 1:\n",
    "> **Input:**  \n",
    "> `[\"MyStack\", \"push\", \"push\", \"top\", \"pop\", \"empty\"]`  \n",
    "> `[[], [1], [2], [], [], []]`  \n",
    "> **Output:**  \n",
    "> `[null, null, null, 2, 2, false]`  \n",
    "> **Explanation:**  \n",
    "> `MyStack myStack = new MyStack();`  \n",
    "> `myStack.push(1);`  \n",
    "> `myStack.push(2);`  \n",
    "> `myStack.top();` // return 2  \n",
    "> `myStack.pop();` // return 2  \n",
    "> `myStack.empty();` // return False\n",
    "\n",
    "#### Constraints:\n",
    "- `1 <= x <= 9`\n",
    "- At most `100` calls will be made to `push`, `pop`, `top`, and `empty`.\n",
    "- All the calls to `pop` and `top` are valid.\n"
   ]
  },
  {
   "cell_type": "markdown",
   "id": "5a871415",
   "metadata": {},
   "source": [
    "## Problem Explanation\n",
    "- For this problem we are trying to simulate the behavior of a stack using only queue operations. \n",
    "- To reiterate, a stack follows the Last-In-First-Out (_**LIFO**_) principle, whereas a queue operates on the First-In-First-Out (_**FIFO**_) principle.\n",
    "- Our main goal here is to implement the stack functions (`push`, `pop`, `top`, and `empty`) using a data structure that doesn't inherently support _LIFO_ behavior directly.\n",
    "\n",
    "***"
   ]
  },
  {
   "cell_type": "markdown",
   "id": "66c83cb9",
   "metadata": {},
   "source": [
    "# Approach 1: One Queue (_Push - $O(n)$, Pop - $O(1)$_) \n",
    "We can first try approaching this problem by using a single queue to implement a stack which involves manipulating the order of element within the queue whenever a new element is added (`push` operation), to ensure that the alst added element can be retrieved first, which adheres to the stack's **LIFO** principle.\n",
    "\n",
    "## Intuition\n",
    "- The key intuition here is that by requiring elements already in the queue in a specific manner after adding a new element, you can maintain the order necessary for stack operations.\n",
    "- More specifically, after inserting a new element at the end of the queue, you can move all elements that were in the queue before it to the back of the queue in their original order, effectively placing the new element at the front of the queue.\n",
    "\n",
    "\n",
    "## Algorithm\n",
    "1. **Initialize:** Create an empty queue `q` to store the stack elements.\n",
    "2. **Push:**\n",
    "    - Append the new element `x` to the queue.\n",
    "    - Rotate the queue by dequeing (_popping from the front_) and enqueing (_appending to the back_) all element excepty the newlty added element. This effectively moves the new element to the front of the queue.\n",
    "3. **Pop:** Simply dequeue (_pop from the front_) the first element, which is the last pushed element due to the rotation performed during `push`.\n",
    "4. **Top:** Similar to `pop`, but after getting the front element, re-enqueue it to preserve the stack's state.\n",
    "5. **Empty:** Check if the queue is empty.\n"
   ]
  },
  {
   "cell_type": "markdown",
   "id": "7888762a",
   "metadata": {},
   "source": [
    "## Code Implementation"
   ]
  },
  {
   "cell_type": "code",
   "execution_count": 1,
   "id": "e1d254e7",
   "metadata": {},
   "outputs": [],
   "source": [
    "from collections import deque\n",
    "\n",
    "class MyStack:\n",
    "    def __init__(self):\n",
    "        self.q = deque()\n",
    "\n",
    "    def push(self, x: int) -> None:\n",
    "        # Append x to the queue\n",
    "        self.q.append(x)\n",
    "        # Rotate the queue to make the last element as the first\n",
    "        for _ in range(len(self.q) - 1):\n",
    "            self.q.append(self.q.popleft())\n",
    "\n",
    "    def pop(self) -> int:\n",
    "        # Pop the first element which is the last pushed element\n",
    "        return self.q.popleft()\n",
    "\n",
    "    def top(self) -> int:\n",
    "        # Peek the first element without removing it\n",
    "        top_element = self.q[0]\n",
    "        return top_element\n",
    "\n",
    "    def empty(self) -> bool:\n",
    "        # Check if the queue is empty\n",
    "        return not self.q\n"
   ]
  },
  {
   "cell_type": "markdown",
   "id": "ce05a3cf",
   "metadata": {},
   "source": [
    "### Testing"
   ]
  },
  {
   "cell_type": "code",
   "execution_count": 2,
   "id": "4c5194cc",
   "metadata": {},
   "outputs": [
    {
     "name": "stdout",
     "output_type": "stream",
     "text": [
      "Operation: push, Input: [1], Output: None, Expected: None.\n",
      "✅ Test passed!\n",
      "\n",
      "Operation: push, Input: [2], Output: None, Expected: None.\n",
      "✅ Test passed!\n",
      "\n",
      "Operation: top, Input: [], Output: 2, Expected: 2.\n",
      "✅ Test passed!\n",
      "\n",
      "Operation: pop, Input: [], Output: 2, Expected: 2.\n",
      "✅ Test passed!\n",
      "\n",
      "Operation: empty, Input: [], Output: False, Expected: False.\n",
      "✅ Test passed!\n",
      "\n",
      "All tests passed! 🤩\n",
      "\n"
     ]
    }
   ],
   "source": [
    "def test_MyStack(stackClass):\n",
    "    # Create an instance of the stack class\n",
    "    stack = stackClass()\n",
    "    operations = [\"push\", \"push\", \"top\", \"pop\", \"empty\"]\n",
    "    inputs = [[1], [2], [], [], []]\n",
    "    expected_outputs = [None, None, 2, 2, False]\n",
    "    \n",
    "    outputs = []\n",
    "    for op, value in zip(operations, inputs):\n",
    "        if op == \"push\":\n",
    "            stack.push(value[0])\n",
    "            outputs.append(None)\n",
    "            print(f\"Operation: {op}, Input: {value}, Output: None, Expected: None.\\n✅ Test passed!\\n\")\n",
    "        elif op == \"pop\":\n",
    "            result = stack.pop()\n",
    "            outputs.append(result)\n",
    "            print(f\"Operation: {op}, Input: {value}, Output: {result}, Expected: {expected_outputs[operations.index(op)]}.\\n✅ Test passed!\\n\")\n",
    "        elif op == \"top\":\n",
    "            result = stack.top()\n",
    "            outputs.append(result)\n",
    "            print(f\"Operation: {op}, Input: {value}, Output: {result}, Expected: {expected_outputs[operations.index(op)]}.\\n✅ Test passed!\\n\")\n",
    "        elif op == \"empty\":\n",
    "            result = stack.empty()\n",
    "            outputs.append(result)\n",
    "            print(f\"Operation: {op}, Input: {value}, Output: {result}, Expected: {expected_outputs[operations.index(op)]}.\\n✅ Test passed!\\n\")\n",
    "    \n",
    "    print(\"All tests passed! 🤩\\n\")\n",
    "\n",
    "test_MyStack(MyStack)  "
   ]
  },
  {
   "cell_type": "markdown",
   "id": "8a5df28b",
   "metadata": {},
   "source": [
    "## Complexity Analysis\n",
    "- ### Time Complexity:\n",
    "    - **Push**: $O(n)$, since each `push` involves rotating the queue.\n",
    "    - **Pop:** $O(1)$, direct dequeue operation.\n",
    "    - **Top:** $O(1)$, simply retrieves the first element of the queue.\n",
    "    - **Empty:** $O(1)$, checks if the queue is empty.\n",
    "\n",
    "- ### Space Complexity: $O(1)$\n",
    "    - The additional space used by the operations doesn't scale with the number of elements in the stack, so the operations use a constant amount of extra space.\n",
    "    - Although, the total space used by the stack structure itself does scale with the number of elements in a broader sense, which is $O(n)$.\n",
    "***"
   ]
  },
  {
   "cell_type": "markdown",
   "id": "32c95f2b",
   "metadata": {},
   "source": [
    "# Approach 2: Two Queues (_Push - $O(1)$, Pop - $O(n)$_) \n",
    "Another approach we could use to tackle this problem is by using two queues to implement a stack which ensures that the `push` operation is efficient $O(1)$ while the `pop` and `top` operations may possibly take up $O(n)$ time.\n",
    "\n",
    "## Intuition\n",
    "- **Main Queue** is used to hold the stack element in the order they should be popped or peeked (_this mimicks the stack's top_)\n",
    "- **Auxiliary Queue** is used temporarily during the `pop` or `top` operations to reorder the elements so that the last pushed element can be accessed.\n",
    "\n",
    "In essence when a new element is pushed, it's simply enqueued to the main queue, ensuring $O(1)$ complexity. For `pop` or `top`, elements are moved into the auxiliary queue until the last element is reachde, which is then returned or moved. The two queue's roles are then swapped if needed. \n",
    "\n",
    "## Algorithm\n",
    "1. **Initialization:** Initialize two queues, `mainQueue` and `auxQueue`.\n",
    "2. **Push(x):** Enqueue `x` to `mainQueue`.\n",
    "3. **Pop:**\n",
    "    - Transfer all elements except the last from `mainQueue` to `auxQueue`.\n",
    "    - Dequeue and save the last element from `mainQueue` (the one to be popped).\n",
    "    - Swap `mainQueue` and `auxQueue`.\n",
    "    - Return the saved last element.\n",
    "4. **Top():** Similar to `Pop()`, but after saving the last element, re-enqueue it to `auxQueue` before swapping.\n",
    "5. **Empty():** Return whether `mainQueue` is empty."
   ]
  },
  {
   "cell_type": "markdown",
   "id": "c697b866",
   "metadata": {},
   "source": [
    "## Code Implementation"
   ]
  },
  {
   "cell_type": "code",
   "execution_count": 3,
   "id": "992fc957",
   "metadata": {},
   "outputs": [],
   "source": [
    "from collections import deque\n",
    "\n",
    "class MyStack2:\n",
    "    def __init__(self):\n",
    "        self.mainQueue = deque()    # initialize the main queue\n",
    "        self.auxQueue = deque()     # initialize the auxiliary queue\n",
    "\n",
    "    def push(self, x: int) -> None:\n",
    "        self.mainQueue.append(x)\n",
    "\n",
    "    def pop(self) -> int:\n",
    "        # Move all elements from main queue to auxiliary queue except the last one\n",
    "        while len(self.mainQueue) > 1:      # check if the main queue has more than one element\n",
    "            self.auxQueue.append(self.mainQueue.popleft())  # move the first element from main queue to auxiliary queue\n",
    "        poppedElement = self.mainQueue.popleft()        # pop the last element from main queue\n",
    "        self.mainQueue, self.auxQueue = self.auxQueue, self.mainQueue       # swap the main queue and auxiliary queue\n",
    "        return poppedElement        # return the popped element\n",
    "    \n",
    "    def top(self) -> int:\n",
    "        # Move all elements from main queue to auxiliary queue except the last one\n",
    "        while len(self.mainQueue) > 1:      # check if the main queue has more than one element\n",
    "            self.auxQueue.append(self.mainQueue.popleft())  # move the first element from main queue to auxiliary queue\n",
    "        topElement = self.mainQueue[0]    # get the last element from main queue\n",
    "        self.auxQueue.append(self.mainQueue.popleft())  # move the last element from main queue to auxiliary queue\n",
    "        self.mainQueue, self.auxQueue = self.auxQueue, self.mainQueue    # swap the main queue and auxiliary queue\n",
    "        return topElement    # return the top element\n",
    "    \n",
    "    def empty(self) -> bool:\n",
    "        return len(self.mainQueue) == 0"
   ]
  },
  {
   "cell_type": "markdown",
   "id": "72cf13d4",
   "metadata": {},
   "source": [
    "### Testing"
   ]
  },
  {
   "cell_type": "code",
   "execution_count": 4,
   "id": "e38c9959",
   "metadata": {},
   "outputs": [
    {
     "name": "stdout",
     "output_type": "stream",
     "text": [
      "Operation: push, Input: [1], Output: None, Expected: None.\n",
      "✅ Test passed!\n",
      "\n",
      "Operation: push, Input: [2], Output: None, Expected: None.\n",
      "✅ Test passed!\n",
      "\n",
      "Operation: top, Input: [], Output: 2, Expected: 2.\n",
      "✅ Test passed!\n",
      "\n",
      "Operation: pop, Input: [], Output: 2, Expected: 2.\n",
      "✅ Test passed!\n",
      "\n",
      "Operation: empty, Input: [], Output: False, Expected: False.\n",
      "✅ Test passed!\n",
      "\n",
      "All tests passed! 🤩\n",
      "\n"
     ]
    }
   ],
   "source": [
    "test_MyStack(MyStack2)  "
   ]
  },
  {
   "cell_type": "markdown",
   "id": "950aad4c",
   "metadata": {},
   "source": [
    "## Complexity Analysis\n",
    "- ### Time Complexity:\n",
    "    - **Push:** $O(1)$ - Directly enqueues to the main queue.\n",
    "    - **Pop/top:** $O(n)$ - Transfers $n-1$ elements to the auxiliary queue and swaps the queues.\n",
    "- ### Space Complexity: $O(1)$\n",
    "    - We don't use additional space outside of the deque, so we can say we're using constant space.\n",
    "    - In regards to the stack, we need space for storing up to $n$ elements across the two queues, where `n` elements are pushed to the stack, so the stack uses linear space.\n",
    "***"
   ]
  },
  {
   "cell_type": "markdown",
   "id": "7a139cfe",
   "metadata": {},
   "source": [
    "# Approach 3: Two Queues (_Push - $O(n)$, Pop - $O(1)$_) \n",
    "This approach reverses the operational functionality of the previous approach: making the `push` operations run in $O(n)$ and the `pop` opertaions run in $O(1)$. This approach similarly uses two queues, but ensures that every `push` operation rearranges elements so that the last element can be popped instantly, which still respect's the stack's LIFO nature.\n",
    "\n",
    "## Intuition\n",
    "The core intuition is pretty similar to the previous approach, but now we'll use the secondary queue to reorder elements whenever a new element is pushed, ensuring that the newest element is always at the front of the primary queue. This allows for immediate retrieval or removal (_mimicking `pop` and `top` operations of a stack_).\n",
    "\n",
    "## Algorithm\n",
    "1. **Initialization:** Initialize two queues, `primaryQueue` and `secondaryQueue`.\n",
    "2. **Push(x):**\n",
    "    - Enqueue the new element `x` into `secondaryQueue`.\n",
    "    - While `primaryQueue` isn't empty, dequeue elements from `primaryQueue` and enqueue them into `secondaryQueue`. This step places `x` at the front of the queue structure formed by the combination of both queues.\n",
    "    - Swap `primaryQueue` and `secondaryQueue` so that `primaryQueue` contains the elements in the correct stack order, with the last pushed element at the front.\n",
    "3. **Pop():**\n",
    "    - Since the last pushed element is at the front of `primaryQueue`, simply dequeue from `primaryQueue`.\n",
    "4. **Top():** Peek the first element of `primaryQueue` (_the last pushed element_).\n",
    "5. **Empty():** Return whether `primaryQueue` is empty."
   ]
  },
  {
   "cell_type": "markdown",
   "id": "e1183200",
   "metadata": {},
   "source": [
    "## Code Implementation"
   ]
  },
  {
   "cell_type": "code",
   "execution_count": 5,
   "id": "36c0abb2",
   "metadata": {},
   "outputs": [],
   "source": [
    "from collections import deque\n",
    "\n",
    "class MyStack3:\n",
    "    def __init__(self):\n",
    "        self.primaryQueue = deque()\n",
    "        self.secondaryQueue = deque()\n",
    "\n",
    "    def push(self, x: int) -> None:\n",
    "        # Move all elements from primary queue to secondary queue\n",
    "        self.secondaryQueue.append(x)   # append the new element to the secondary queue\n",
    "        while self.primaryQueue:    # check if the primary queue is not empty\n",
    "            self.secondaryQueue.append(self.primaryQueue.popleft())\n",
    "        self.primaryQueue, self.secondaryQueue = self.secondaryQueue, self.primaryQueue\n",
    "\n",
    "    def pop(self) -> int:   \n",
    "        # Pop the first element from the primary queue\n",
    "        return self.primaryQueue.popleft()\n",
    "\n",
    "    def top(self) -> int:\n",
    "        # Return the first element from the primary queue\n",
    "        return self.primaryQueue[0]\n",
    "\n",
    "    def empty(self) -> bool:\n",
    "        return not self.primaryQueue"
   ]
  },
  {
   "cell_type": "markdown",
   "id": "a7a48dfb",
   "metadata": {},
   "source": [
    "### Testing"
   ]
  },
  {
   "cell_type": "code",
   "execution_count": 6,
   "id": "31b459a1",
   "metadata": {},
   "outputs": [
    {
     "name": "stdout",
     "output_type": "stream",
     "text": [
      "Operation: push, Input: [1], Output: None, Expected: None.\n",
      "✅ Test passed!\n",
      "\n",
      "Operation: push, Input: [2], Output: None, Expected: None.\n",
      "✅ Test passed!\n",
      "\n",
      "Operation: top, Input: [], Output: 2, Expected: 2.\n",
      "✅ Test passed!\n",
      "\n",
      "Operation: pop, Input: [], Output: 2, Expected: 2.\n",
      "✅ Test passed!\n",
      "\n",
      "Operation: empty, Input: [], Output: False, Expected: False.\n",
      "✅ Test passed!\n",
      "\n",
      "All tests passed! 🤩\n",
      "\n"
     ]
    }
   ],
   "source": [
    "test_MyStack(MyStack3)  "
   ]
  },
  {
   "cell_type": "markdown",
   "id": "f999e108",
   "metadata": {},
   "source": [
    "## Complexity Analysis\n",
    "- ### Time Complexity:\n",
    "    - **Push:** $O(n)$ - We are moving all elements from `primaryQueue` to `secondaryQueue` each time a new element is pushed, where $n$ is the number of elements in the stack.\n",
    "    - **Pop/top:** $O(1)$ - These operations only require accessing or removing the front elements of the `primaryQueue`, which is already structured, so these are done in constant time. \n",
    "- ### Space Complexity: $O(1)$\n",
    "    - We don't use additional space outside of the deque, so we can say we're using constant space.\n",
    "    - In regards to the stack, there are $n$ number of elements pushed to the stack, and this space is used to store elements across both queues, so the total space used by the stack structure itself is linear.\n",
    "***"
   ]
  },
  {
   "cell_type": "markdown",
   "id": "594bd48c",
   "metadata": {},
   "source": [
    "# Shortcut Approach: Direct Use of Deque as a Stack\n",
    "- This approach definitely doesn't follow the nature of the problem (which is to simulate a stack behavior using queue operations), but it directly uses Python's `deque` to mimic a stack. \n",
    "- Python's `deque` supports both queue and stack operations, so its pretty straightforward to implement.\n",
    "\n",
    "## Intuition\n",
    "- The idea behind doing this approach is to leverage the fast that a deque (a double-ended queue) supports $O(1)$ time complexity for both append and pop operations at both ends. \n",
    "- By using the `append` method for push and the `pop` method (_which operates on the end of the deque_) for pop, we're essentially using the deque as a stack. \n",
    "- This approach is also not a proper solution to doing the problem.\n",
    "\n",
    "## Algorithm\n",
    "1. **Initialization:** Create a `deque` object to store stack elements.\n",
    "2. **Push(x):** Append `x` to the end of the deque, which will serve as the top of the stack.\n",
    "3. **Pop():** Pop and return the last element of the deque (_top element of the stack_), ensuring the operations is only done when the deque is not empty.\n",
    "4. **Top():** Return the last element of the deque without removing it, acting as the top element of the stack.\n",
    "5. **Empty():** Check if the deque is empty."
   ]
  },
  {
   "cell_type": "markdown",
   "id": "a982dbce",
   "metadata": {},
   "source": [
    "## Code Implementation"
   ]
  },
  {
   "cell_type": "code",
   "execution_count": 7,
   "id": "c053b819",
   "metadata": {},
   "outputs": [],
   "source": [
    "from collections import deque\n",
    "\n",
    "class MyStack4:\n",
    "    def __init__(self):\n",
    "        # Initialize a deque to store stack elements\n",
    "        self.queue = deque()\n",
    "\n",
    "    def push(self, x: int) -> None:\n",
    "        # Append new element to the deque (top of the stack)\n",
    "        self.queue.append(x)\n",
    "\n",
    "    def pop(self) -> int:\n",
    "        # Pop the top element from the deque (stack) if not empty\n",
    "        if not self.empty():\n",
    "            return self.queue.pop()\n",
    "\n",
    "    def top(self) -> int:\n",
    "        # Return the top element of the deque (stack) if not empty\n",
    "        if not self.empty():\n",
    "            return self.queue[-1]\n",
    "\n",
    "    def empty(self) -> bool:\n",
    "        # Return True if the deque (stack) is empty, False otherwise\n",
    "        return len(self.queue) == 0"
   ]
  },
  {
   "cell_type": "markdown",
   "id": "188b128a",
   "metadata": {},
   "source": [
    "### Testing"
   ]
  },
  {
   "cell_type": "code",
   "execution_count": 8,
   "id": "28920798",
   "metadata": {},
   "outputs": [
    {
     "name": "stdout",
     "output_type": "stream",
     "text": [
      "Operation: push, Input: [1], Output: None, Expected: None.\n",
      "✅ Test passed!\n",
      "\n",
      "Operation: push, Input: [2], Output: None, Expected: None.\n",
      "✅ Test passed!\n",
      "\n",
      "Operation: top, Input: [], Output: 2, Expected: 2.\n",
      "✅ Test passed!\n",
      "\n",
      "Operation: pop, Input: [], Output: 2, Expected: 2.\n",
      "✅ Test passed!\n",
      "\n",
      "Operation: empty, Input: [], Output: False, Expected: False.\n",
      "✅ Test passed!\n",
      "\n",
      "All tests passed! 🤩\n",
      "\n"
     ]
    }
   ],
   "source": [
    "test_MyStack(MyStack4) "
   ]
  },
  {
   "cell_type": "markdown",
   "id": "d563d656",
   "metadata": {},
   "source": [
    "## Complexity Analysis\n",
    "- ### Time Complexity: $O(1)$\n",
    "    - **Push:** $O(1)$ - Append operation on deque.\n",
    "    - **Push:** $O(1)$ - Pop operation on a deque.\n",
    "    - **Push:** $O(1)$ - Accessing the last element of deque.\n",
    "    - **Push:** $O(1)$ - Checking if the deque is empty\n",
    "- ### Space Complexity: $O(1)$\n",
    "    - In regards to the stack, where $n$ is the number of elements in the stack, the deque used to implement the stack will grow in size with each element of the stack, which would be linear $O(n)$ space.\n",
    "***"
   ]
  },
  {
   "cell_type": "markdown",
   "id": "e66b23bc",
   "metadata": {},
   "source": [
    "## Conclusion: Implementing Stack using Queues\n",
    "\n",
    "### Approach #1: One Queue (Push - $O(n)$, Pop - $O(1)$)\n",
    "\n",
    "- **Summary**: This method uses a single queue where each `push` operation involves rotating the queue to maintain the last pushed element at the front, ensuring O(1) `pop` and `top` operations.\n",
    "- **Pros**: Simplifies the implementation by using only one queue.\n",
    "- **Cons**: The `push` operation is less efficient due to the need to rotate the queue.\n",
    "\n",
    "### Approach #2: Two Queues (Push - O(1), Pop O(n))\n",
    "\n",
    "- **Summary**: Utilizes two queues, where one queue is used to store new elements and the other is used to reverse the order during `pop` or `top` operations, ensuring the last element can be accessed directly.\n",
    "- **Pros**: Offers O(1) time complexity for the `push` operation.\n",
    "- **Cons**: `Pop` and `top` operations are less efficient, requiring elements to be transferred between queues.\n",
    "\n",
    "### Approach #3: Two Queues (Push - O(n), Pop O(1))\n",
    "\n",
    "- **Summary**: In this variation, elements are pushed into an empty queue and then all elements from the other queue are transferred to this queue, ensuring the newly pushed element remains at the front. This setup allows for O(1) `pop` and `top` operations.\n",
    "- **Pros**: Optimizes for fast `pop` and `top` operations.\n",
    "- **Cons**: The `push` operation becomes less efficient due to transferring elements between queues.\n",
    "\n",
    "### Comparison and Recommendation\n",
    "\n",
    "- **Efficiency**: Approach #1 and Approach #3 optimize for different operations. Approach #1 offers an efficient `pop` operation at the cost of a slower `push`, while Approach #3 does the opposite.\n",
    "- **Complexity**: Approach #1 is simpler in terms of conceptual understanding and implementation, as it only requires managing a single queue.\n",
    "- **Use Case**: The choice between these approaches depends on the expected usage pattern. If `pop` operations are more frequent and performance-critical than `push`, Approach #1 might be preferable. Conversely, if efficient `push` operations are more critical, Approach #3 could be better.\n",
    "\n",
    "Given these considerations, **Approach #1 (One Queue, push - O(n), pop O(1))** might be considered the best overall due to its simplicity and the typical use case of stacks where `pop` operations are as critical, if not more so, than `push` operations. Their optimization for quick `pop` and `top` operations aligns well with the common use cases of stacks, where accessing and removing the top element are frequent operations."
   ]
  }
 ],
 "metadata": {
  "kernelspec": {
   "display_name": "Python 3 (ipykernel)",
   "language": "python",
   "name": "python3"
  },
  "language_info": {
   "codemirror_mode": {
    "name": "ipython",
    "version": 3
   },
   "file_extension": ".py",
   "mimetype": "text/x-python",
   "name": "python",
   "nbconvert_exporter": "python",
   "pygments_lexer": "ipython3",
   "version": "3.10.4"
  }
 },
 "nbformat": 4,
 "nbformat_minor": 5
}

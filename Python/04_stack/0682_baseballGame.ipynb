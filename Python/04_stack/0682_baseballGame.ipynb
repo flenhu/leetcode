{
 "cells": [
  {
   "cell_type": "markdown",
   "id": "835c632c",
   "metadata": {},
   "source": [
    "#### [Python <img src=\"../../assets/pythonLogo.png\" alt=\"py logo\" style=\"height: 1em; vertical-align: sub;\">](../README.md) | Easy 🟢 | [Sliding Window](README.md)\n",
    "# [682. Baseball Game](https://leetcode.com/problems/baseball-game/description/) (not started 😕)"
   ]
  },
  {
   "cell_type": "markdown",
   "id": "b9441082",
   "metadata": {},
   "source": [
    "You are keeping the scores for a baseball game with strange rules. At the beginning of the game, you start with an empty record.\n",
    "\n",
    "You are given a list of strings `operations`, where `operations[i]` is the `i-th` operation you must apply to the record and is one of the following:\n",
    "- An integer `x`.\n",
    "  - Record a new score of `x`.\n",
    "- `'+'`.\n",
    "  - Record a new score that is the sum of the previous two scores.\n",
    "- `'D'`.\n",
    "  - Record a new score that is the double of the previous score.\n",
    "- `'C'`.\n",
    "  - Invalidate the previous score, removing it from the record.\n",
    "\n",
    "Return the sum of all the scores on the record after applying all the operations.\n",
    "\n",
    "The test cases are generated such that the answer and all intermediate calculations fit in a **32-bit** integer and that all operations are valid.\n",
    "\n",
    "#### Example 1:\n",
    "> **Input:** `ops = [\"5\",\"2\",\"C\",\"D\",\"+\"]`  \n",
    "> **Output:** `30`  \n",
    "> **Explanation:**  \n",
    "> `\"5\"` - Add `5` to the record, record is now `[5]` .    \n",
    "> `\"2\"` - Add `2` to the record, record is now `[5, 2]` .  \n",
    "> `\"C\"` - Invalidate and remove the previous score, record is now `[5]` .  \n",
    "> `\"D\"` - Add $2 \\cdot 5 = 10$ to the record, record is now `[5, 10]` .  \n",
    "> `\"+\"` - Add $5 + 10 = 15$ to the record, record is now `[5, 10, 15]` .  \n",
    "> The **total sum** is $5 + 10 + 15 = \\bf{30}$.\n",
    "\n",
    "#### Example 2:\n",
    "> **Input:** `ops = [\"5\",\"-2\",\"4\",\"C\",\"D\",\"9\",\"+\",\"+\"]`  \n",
    "> **Output:** `27`  \n",
    "> **Explanation:**  \n",
    "> `\"5\"` - Add `5` to the record, record is now `[5]` .    \n",
    "> `\"-2\"` - Add `-2` to the record, record is now `[5, -2]` .  \n",
    "> `\"4\"` - Add `4` to the record, record is now `[5, -2, 4]` .  \n",
    "> `\"C\"` - Invalidate and remove the previous score, record is now `[5, -2]` .  \n",
    "> `\"D\"` - Add $2 \\cdot -2 = -4$ to the record, record is now `[5, -2, -4]` .  \n",
    "> `\"9\"` - Add `9` to the record, record is now `[5, -2, -4, 9]` .  \n",
    "> `\"+\"` - Add $-4 + 9 = 5$ to the record, record is now `[5, -2, -4, 9, 5]` .  \n",
    "> `\"+\"` - Add $9 + 5 = 14$ to the record, record is now `[5, -2, -4, 9, 5, 14]` .  \n",
    "> The **total sum** is $5 + (-2) + (-4) + 9 + 5 + 14 = \\bf{27}$.\n",
    "\n",
    "#### Example 3:\n",
    "> **Input:** `ops = [\"1\",\"C\"]`  \n",
    "> **Output:** `0`  \n",
    "> **Explanation:**  \n",
    "> `\"1\"` - Add `1` to the record, record is now `[1]` .  \n",
    "> `\"C\"` - Invalidate and remove the previous score, record is now `[ ]` .  \n",
    "> Since the record is empty, the **total sum** is $\\bf{0}$.\n",
    "\n",
    "#### Constraints:\n",
    "- `1 <= operations.length <= 1000`\n",
    "- `operations[i]` is `\"C\"`, `\"D\"`, `\"+\"`, or a string representing an integer in the range $[-3 \\cdot 10^4, 3 \\cdot 10^4]$.\n",
    "- For operation `\"+\"`, there will always be at least two previous scores on the record.\n",
    "- For operations `\"C\"` and `\"D\"`, there will always be at least one previous score on the record."
   ]
  },
  {
   "cell_type": "markdown",
   "id": "5a871415",
   "metadata": {},
   "source": [
    "### Problem Explanation\n",
    "- \n",
    "\n",
    "***"
   ]
  },
  {
   "cell_type": "markdown",
   "id": "66c83cb9",
   "metadata": {},
   "source": [
    "# Approach: \n",
    "\n",
    "\n",
    "### Intuition\n",
    "\n",
    "\n",
    "### Algorithm\n"
   ]
  },
  {
   "cell_type": "markdown",
   "id": "7888762a",
   "metadata": {},
   "source": [
    "### Code Implementation"
   ]
  },
  {
   "cell_type": "code",
   "execution_count": null,
   "id": "e1d254e7",
   "metadata": {},
   "outputs": [],
   "source": []
  },
  {
   "cell_type": "markdown",
   "id": "ce05a3cf",
   "metadata": {},
   "source": [
    "### Testing"
   ]
  },
  {
   "cell_type": "code",
   "execution_count": null,
   "id": "4c5194cc",
   "metadata": {},
   "outputs": [],
   "source": []
  },
  {
   "cell_type": "markdown",
   "id": "8a5df28b",
   "metadata": {},
   "source": [
    "### Complexity Analysis\n",
    "- #### Time Complexity: \n",
    "    - \n",
    "- #### Space Complexity: \n",
    "    - \n",
    "***"
   ]
  },
  {
   "cell_type": "markdown",
   "id": "32c95f2b",
   "metadata": {},
   "source": [
    "# Approach 2:\n",
    "\n",
    "\n",
    "### Intuition\n",
    "\n",
    "\n",
    "### Algorithm\n"
   ]
  }
 ],
 "metadata": {
  "kernelspec": {
   "display_name": "Python 3 (ipykernel)",
   "language": "python",
   "name": "python3"
  },
  "language_info": {
   "codemirror_mode": {
    "name": "ipython",
    "version": 3
   },
   "file_extension": ".py",
   "mimetype": "text/x-python",
   "name": "python",
   "nbconvert_exporter": "python",
   "pygments_lexer": "ipython3",
   "version": "3.10.4"
  }
 },
 "nbformat": 4,
 "nbformat_minor": 5
}

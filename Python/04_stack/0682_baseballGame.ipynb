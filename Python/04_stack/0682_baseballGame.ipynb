{
 "cells": [
  {
   "cell_type": "markdown",
   "id": "835c632c",
   "metadata": {},
   "source": [
    "#### [Python <img src=\"../../assets/pythonLogo.png\" alt=\"py logo\" style=\"height: 1em; vertical-align: sub;\">](../README.md) | Easy 🟢 | [Stack](README.md)\n",
    "# [682. Baseball Game](https://leetcode.com/problems/baseball-game/description/)"
   ]
  },
  {
   "cell_type": "markdown",
   "id": "b9441082",
   "metadata": {},
   "source": [
    "You are keeping the scores for a baseball game with strange rules. At the beginning of the game, you start with an empty record.\n",
    "\n",
    "You are given a list of strings `operations`, where `operations[i]` is the `i-th` operation you must apply to the record and is one of the following:\n",
    "- An integer `x`.\n",
    "  - Record a new score of `x`.\n",
    "- `'+'`.\n",
    "  - Record a new score that is the sum of the previous two scores.\n",
    "- `'D'`.\n",
    "  - Record a new score that is the double of the previous score.\n",
    "- `'C'`.\n",
    "  - Invalidate the previous score, removing it from the record.\n",
    "\n",
    "Return the sum of all the scores on the record after applying all the operations.\n",
    "\n",
    "The test cases are generated such that the answer and all intermediate calculations fit in a **32-bit** integer and that all operations are valid.\n",
    "\n",
    "#### Example 1:\n",
    "> **Input:** `ops = [\"5\",\"2\",\"C\",\"D\",\"+\"]`  \n",
    "> **Output:** `30`  \n",
    "> **Explanation:**  \n",
    "> `\"5\"` - Add `5` to the record, record is now `[5]` .    \n",
    "> `\"2\"` - Add `2` to the record, record is now `[5, 2]` .  \n",
    "> `\"C\"` - Invalidate and remove the previous score, record is now `[5]` .  \n",
    "> `\"D\"` - Add $2 \\cdot 5 = 10$ to the record, record is now `[5, 10]` .  \n",
    "> `\"+\"` - Add $5 + 10 = 15$ to the record, record is now `[5, 10, 15]` .  \n",
    "> The **total sum** is $5 + 10 + 15 = \\bf{30}$.\n",
    "\n",
    "#### Example 2:\n",
    "> **Input:** `ops = [\"5\",\"-2\",\"4\",\"C\",\"D\",\"9\",\"+\",\"+\"]`  \n",
    "> **Output:** `27`  \n",
    "> **Explanation:**  \n",
    "> `\"5\"` - Add `5` to the record, record is now `[5]` .    \n",
    "> `\"-2\"` - Add `-2` to the record, record is now `[5, -2]` .  \n",
    "> `\"4\"` - Add `4` to the record, record is now `[5, -2, 4]` .  \n",
    "> `\"C\"` - Invalidate and remove the previous score, record is now `[5, -2]` .  \n",
    "> `\"D\"` - Add $2 \\cdot -2 = -4$ to the record, record is now `[5, -2, -4]` .  \n",
    "> `\"9\"` - Add `9` to the record, record is now `[5, -2, -4, 9]` .  \n",
    "> `\"+\"` - Add $-4 + 9 = 5$ to the record, record is now `[5, -2, -4, 9, 5]` .  \n",
    "> `\"+\"` - Add $9 + 5 = 14$ to the record, record is now `[5, -2, -4, 9, 5, 14]` .  \n",
    "> The **total sum** is $5 + (-2) + (-4) + 9 + 5 + 14 = \\bf{27}$.\n",
    "\n",
    "#### Example 3:\n",
    "> **Input:** `ops = [\"1\",\"C\"]`  \n",
    "> **Output:** `0`  \n",
    "> **Explanation:**  \n",
    "> `\"1\"` - Add `1` to the record, record is now `[1]` .  \n",
    "> `\"C\"` - Invalidate and remove the previous score, record is now `[ ]` .  \n",
    "> Since the record is empty, the **total sum** is $\\bf{0}$.\n",
    "\n",
    "#### Constraints:\n",
    "- `1 <= operations.length <= 1000`\n",
    "- `operations[i]` is `\"C\"`, `\"D\"`, `\"+\"`, or a string representing an integer in the range $[-3 \\cdot 10^4, 3 \\cdot 10^4]$.\n",
    "- For operation `\"+\"`, there will always be at least two previous scores on the record.\n",
    "- For operations `\"C\"` and `\"D\"`, there will always be at least one previous score on the record."
   ]
  },
  {
   "cell_type": "markdown",
   "id": "5a871415",
   "metadata": {},
   "source": [
    "## Problem Explanation\n",
    "- In this problem, we are essentially simulating a baseball game with a unique set of rules for recording the score. We are given a list of operations that represents scores (`x`) or special actions (`\"+\"`, `\"D\"`, `\"C\"`) to modify the scores. Our main goal is to calculate the total score after applying these rules.\n",
    "\n",
    "***"
   ]
  },
  {
   "cell_type": "markdown",
   "id": "87139cf2",
   "metadata": {},
   "source": [
    "# Approach: Stack\n",
    "Using a stack is the most straightforward way to approach this problem. A stacj lets us easily add, double, sum, or remove scores according to the operations, which maintains the correct order of scores as we process through each operation.\n",
    "\n",
    "## Intuition\n",
    "A stack is ideal for this scenario because the last operation often depends on the most recent score, which follows the principle of LIFO (_**Last In, First Out**_), and works especially well for the `\"+\"`, `\"D\"`, and `\"C\"` operations. By pushing scores onto the stack and popping them off as needed, we have an easy way to manage the dynamic list of scores. \n",
    "\n",
    "\n",
    "## Algorithm\n",
    "1. Initialize an empty list, let's call it `score_stack`, to act as the stack.\n",
    "2. Iterate through each operation in `operations`:\n",
    "    - If the operation is `\"+\"`, check of the stack has at least two scores, sum the last two, and push the sum onto the stack.\n",
    "    - If the operations is `\"D\"`, check if there's at least one score, double the last score, and push it onto the stack.\n",
    "    - If the operation is `\"C\"`, check if there's at least one score, and pop the last score from the stack.\n",
    "    - Otherwise, the opreation is a score `x`. Convert `x` to an integer and push it onto the stack.\n",
    "3. After processing all operations, sum the scores in the stack and get the total score."
   ]
  },
  {
   "cell_type": "markdown",
   "id": "7888762a",
   "metadata": {},
   "source": [
    "## Code Implementation"
   ]
  },
  {
   "cell_type": "code",
   "execution_count": 1,
   "id": "e1d254e7",
   "metadata": {},
   "outputs": [],
   "source": [
    "from typing import List\n",
    "\n",
    "class Solution:\n",
    "    def calPoints(self, operations: List[str]) -> int:\n",
    "        score_stack = []  # Stack to keep track of scores\n",
    "\n",
    "        for op in operations:\n",
    "            if op == \"+\":\n",
    "                # Add the sum of the last two scores to the stack\n",
    "                score_stack.append(score_stack[-1] + score_stack[-2])\n",
    "            elif op == \"D\":\n",
    "                # Double the last score and add to the stack\n",
    "                score_stack.append(2 * score_stack[-1])\n",
    "            elif op == \"C\":\n",
    "                # Remove the last score from the stack\n",
    "                score_stack.pop()\n",
    "            else:\n",
    "                # convert the op into an integer and add to the stack\n",
    "                score_stack.append(int(op))\n",
    "\n",
    "        return sum(score_stack)     # Sum the scores in the stack for the total score"
   ]
  },
  {
   "cell_type": "markdown",
   "id": "ce05a3cf",
   "metadata": {},
   "source": [
    "### Testing"
   ]
  },
  {
   "cell_type": "code",
   "execution_count": 2,
   "id": "4c5194cc",
   "metadata": {},
   "outputs": [
    {
     "name": "stdout",
     "output_type": "stream",
     "text": [
      "Operations: ['5', '2', 'C', 'D', '+'], Expected: 30, Got: 30\n",
      "✅ Test passed!\n",
      "Operations: ['5', '-2', '4', 'C', 'D', '9', '+', '+'], Expected: 27, Got: 27\n",
      "✅ Test passed!\n",
      "Operations: ['1', 'C'], Expected: 0, Got: 0\n",
      "✅ Test passed!\n"
     ]
    }
   ],
   "source": [
    "def test_calPoints(solution, operations, expected):\n",
    "    result = solution.calPoints(operations)\n",
    "    print(f\"Operations: {operations}, Expected: {expected}, Got: {result}\")\n",
    "    assert result == expected, \"Test failed.\"\n",
    "    print(\"✅ Test passed!\")\n",
    "\n",
    "sol = Solution()\n",
    "\n",
    "# Test cases\n",
    "test_calPoints(sol, [\"5\",\"2\",\"C\",\"D\",\"+\"], 30)\n",
    "test_calPoints(sol, [\"5\",\"-2\",\"4\",\"C\",\"D\",\"9\",\"+\",\"+\"], 27)\n",
    "test_calPoints(sol, [\"1\",\"C\"], 0)\n"
   ]
  },
  {
   "cell_type": "markdown",
   "id": "8a5df28b",
   "metadata": {},
   "source": [
    "## Complexity Analysis\n",
    "- ### Time Complexity: $O(n)$\n",
    "    - Each operation in the list is processed exactly once, where `n` is the number of operations.\n",
    "- ### Space Complexity: $O(n)$\n",
    "    - In the worst case, if there are no `\"C\"` operations to remove scores, the stack may grow to the size of the operations list.\n",
    "***"
   ]
  }
 ],
 "metadata": {
  "kernelspec": {
   "display_name": "Python 3 (ipykernel)",
   "language": "python",
   "name": "python3"
  },
  "language_info": {
   "codemirror_mode": {
    "name": "ipython",
    "version": 3
   },
   "file_extension": ".py",
   "mimetype": "text/x-python",
   "name": "python",
   "nbconvert_exporter": "python",
   "pygments_lexer": "ipython3",
   "version": "3.10.4"
  }
 },
 "nbformat": 4,
 "nbformat_minor": 5
}

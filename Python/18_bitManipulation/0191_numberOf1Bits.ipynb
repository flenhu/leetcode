{
 "cells": [
  {
   "cell_type": "markdown",
   "id": "4f3ad541",
   "metadata": {},
   "source": [
    "#### [Python <img src=\"../../assets/pythonLogo.png\" alt=\"py logo\" style=\"height: 1em; vertical-align: sub;\">](../README.md) | Easy 🟢 | [1-D Dynamic Programming](README.md) | \n",
    "# [191. Number of 1 Bits](https://leetcode.com/problems/number-of-1-bits/description/)"
   ]
  },
  {
   "cell_type": "markdown",
   "id": "2f05d751",
   "metadata": {},
   "source": [
    "Write a function that takes the binary representation of an unsigned integer and returns the number of `1` bits it has (as known as the Hamming weight).\n",
    "\n",
    "**Note**:\n",
    "- Note that in some languages, such as Java, there is no unsigned integer type. In this case, the input will be given as a signed integer type. It should not affect your implementation, as the integer's internal binary representation is the same, whether it is signed or unsigned.\n",
    "- In Java, the compiler represents the signed integers using 2's complement notation. Therefore, in Example 3, the input represents the signed integer. -3.\n",
    " \n",
    "**Example 1:**\n",
    "> **Input:**  `n = 00000000000000000000000000001011`  \n",
    "> **Output:**  `3`  \n",
    "> **Explanation:**  The input binary string has a total of three `1` bits.\n",
    "    \n",
    "**Example 2:**\n",
    "> **Input:**  `n = 00000000000000000000000010000000`  \n",
    "> **Output:**  `1`  \n",
    "> **Explanation:**  The input binary string has a total of one `1` bits.\n",
    "\n",
    "**Example 3:**\n",
    "> **Input:**  `n = 11111111111111111111111111111101`  \n",
    "> **Output:**  `21`  \n",
    "> **Explanation:**  The input binary string has a total of thirty one `1` bits.\n",
    "\n",
    "\n",
    "#### Constraints\n",
    "- The input must be a **binary string** of length `32`.\n",
    "***"
   ]
  },
  {
   "cell_type": "markdown",
   "id": "c0a6840b",
   "metadata": {},
   "source": [
    "### Problem Explanation\n",
    "- This problem is also known as the Hamming weight problem, which requires us to count the number of `1` bits in the binary representation of an unsigned integer.\n",
    "\n",
    "# Approach: Bit Manipulation\n",
    "- The efficient approach to solve this problem is to repeatedly flip the least significant `1` bit of the number to `0` and count how many we perform this operation until the number becomes zero.\n",
    "\n",
    "### Intuition\n",
    "- The key idea here is that for any binary number `n`, the expression `n - 1` flips the least significant `1` bit of `n` to `0` and all the 0 bits to the right of this `1` but to `1`.\n",
    "- When we perform a bitwise AND between `n` and `n - 1`, it effectively remove the least significant `1` bit from `n`.\n",
    "- Repeating this process gives us the count of `1` bits in the binary representation.\n",
    "\n",
    "### Algorithm\n",
    "1. Initialize a counter `res` to 0.\n",
    "2. While `n` is not 0:\n",
    "    - Perform a bitwise AND between `n` and `n - 1` and assign the result back to `n`. This operation removes the least significant `1` bit from `n`.\n",
    "    - Increment the counter `res` by 1.\n",
    "3. Return the counter `res` as the total number of `1`\n",
    "\n",
    "### Code Implementation"
   ]
  },
  {
   "cell_type": "code",
   "execution_count": 1,
   "id": "a9ac9ad4",
   "metadata": {},
   "outputs": [],
   "source": [
    "class Solution:\n",
    "    def hammingWeight(self, n: int) -> int:\n",
    "        res = 0 # Initialize the count of '1' bits to 0\n",
    "        \n",
    "        # Continue the process until n becomes 0\n",
    "        while n:\n",
    "            # Bitwise AND of n and n-1 flips the least significant '1'\n",
    "            n &= n - 1\n",
    "            res += 1 # Increment count for each '1' bit removed\n",
    "            \n",
    "        return res # Return the total count of '1' bits"
   ]
  },
  {
   "cell_type": "markdown",
   "id": "ece700b5",
   "metadata": {},
   "source": [
    "### Complexity Analysis\n",
    "- #### Time Complexity: $O(k) =O(n)$ \n",
    "    - $k$ is the number of `1` bits in the binary representation of `n`.\n",
    "    - In the worst case, when `n` is a power of 2, the time complexity $O(\\log n)$ because there are $\\log n$ bits in `n`\n",
    "\n",
    "- #### Space Complexity: $O(1)$\n",
    "    - There is no extra space used besides the counter variable `res`."
   ]
  }
 ],
 "metadata": {
  "kernelspec": {
   "display_name": "Python 3 (ipykernel)",
   "language": "python",
   "name": "python3"
  },
  "language_info": {
   "codemirror_mode": {
    "name": "ipython",
    "version": 3
   },
   "file_extension": ".py",
   "mimetype": "text/x-python",
   "name": "python",
   "nbconvert_exporter": "python",
   "pygments_lexer": "ipython3",
   "version": "3.10.4"
  }
 },
 "nbformat": 4,
 "nbformat_minor": 5
}

{
 "cells": [
  {
   "cell_type": "markdown",
   "id": "e11d6c31",
   "metadata": {},
   "source": [
    "#### [Python <img src=\"../../assets/pythonLogo.png\" alt=\"py logo\" style=\"height: 1em; vertical-align: sub;\">](../README.md) | Easy 🟢 | [1-D Dynamic Programming](README.md) | \n",
    "# [191. Number of 1 Bits](https://leetcode.com/problems/number-of-1-bits/description/)"
   ]
  },
  {
   "cell_type": "markdown",
   "id": "f34aa29c",
   "metadata": {},
   "source": [
    "Write a function that takes the binary representation of an unsigned integer and returns the number of `1` bits it has (as known as the Hamming weight).\n",
    "\n",
    "**Note**:\n",
    "- Note that in some languages, such as Java, there is no unsigned integer type. In this case, the input will be given as a signed integer type. It should not affect your implementation, as the integer's internal binary representation is the same, whether it is signed or unsigned.\n",
    "- In Java, the compiler represents the signed integers using 2's complement notation. Therefore, in Example 3, the input represents the signed integer. -3.\n",
    " \n",
    "**Example 1:**\n",
    "> **Input:**  `n = 00000000000000000000000000001011`  \n",
    "> **Output:**  `3`  \n",
    "> **Explanation:**  The input binary string has a total of three `1` bits.\n",
    "    \n",
    "**Example 2:**\n",
    "> **Input:**  `n = 00000000000000000000000010000000`  \n",
    "> **Output:**  `1`  \n",
    "> **Explanation:**  The input binary string has a total of one `1` bits.\n",
    "\n",
    "**Example 3:**\n",
    "> **Input:**  `n = 11111111111111111111111111111101`  \n",
    "> **Output:**  `21`  \n",
    "> **Explanation:**  The input binary string has a total of thirty one `1` bits.\n",
    "\n",
    "\n",
    "#### Constraints\n",
    "- The input must be a **binary string** of length `32`."
   ]
  }
 ],
 "metadata": {
  "kernelspec": {
   "display_name": "Python 3 (ipykernel)",
   "language": "python",
   "name": "python3"
  },
  "language_info": {
   "codemirror_mode": {
    "name": "ipython",
    "version": 3
   },
   "file_extension": ".py",
   "mimetype": "text/x-python",
   "name": "python",
   "nbconvert_exporter": "python",
   "pygments_lexer": "ipython3",
   "version": "3.10.4"
  }
 },
 "nbformat": 4,
 "nbformat_minor": 5
}

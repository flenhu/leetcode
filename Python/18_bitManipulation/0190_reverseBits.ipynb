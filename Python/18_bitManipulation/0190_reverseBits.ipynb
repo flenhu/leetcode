{
 "cells": [
  {
   "cell_type": "markdown",
   "id": "4f3ad541",
   "metadata": {},
   "source": [
    "#### [Python <img src=\"../../assets/pythonLogo.png\" alt=\"py logo\" style=\"height: 1em; vertical-align: sub;\">](../README.md) | Easy 🟢 | [Bit Manipulation](README.md) | \n",
    "# [190. Reverse Bits](https://leetcode.com/problems/reverse-bits/description/)"
   ]
  },
  {
   "cell_type": "markdown",
   "id": "2f05d751",
   "metadata": {},
   "source": [
    "Reverse bits of a given 32 bits unsigned integer.\n",
    "\n",
    "**Note**:\n",
    "- Note that in some languages, such as Java, there is no unsigned integer type. In this case, both input and output will be given as a signed integer type. They should not affect your implementation, as the integer's internal binary representation is the same, whether it is signed or unsigned.\n",
    "- In Java, the compiler represents the signed integers using 2's complement notation. Therefore, in Example 2 above, the input represents the signed integer -3 and the output represents the signed integer -1073741825.\n",
    "\n",
    "**Example 1:**\n",
    "> **Input:**  `n = 00000010100101000001111010011100`  \n",
    "> **Output:**  `964176192 (00111001011110000010100101000000)`  \n",
    "> **Explanation:**  The input binary string `00000010100101000001111010011100` represents the unsigned integer `43261596`, so return `964176192` which its binary representation is `00111001011110000010100101000000`.\n",
    "    \n",
    "**Example 2:**\n",
    "> **Input:**  `n = 11111111111111111111111111111101`  \n",
    "> **Output:**  `3221225471 (10111111111111111111111111111111)`  \n",
    "> **Explanation:**  The input binary string `11111111111111111111111111111101` represents the unsigned integer `4294967293`, so return `3221225471` which its binary representation is `10111111111111111111111111111111`.\n",
    "\n",
    "\n",
    "#### Constraints\n",
    "- The input must be a **binary string of length `32`.\n",
    "***"
   ]
  },
  {
   "cell_type": "markdown",
   "id": "c0a6840b",
   "metadata": {},
   "source": [
    "### Problem Explanation\n",
    "\n",
    "\n",
    "\n",
    "# Approach 1: Bit by Bit \n",
    "This problem uses dynamic programming to build up the solution iteratively. The main idea is to use previously computed results to efficiently calculate the Hamming weight for the next numbers.\n",
    "\n",
    "### Intuition\n",
    "\n",
    "\n",
    "### Algorithm\n",
    "\n",
    "\n",
    "### Code Implementation"
   ]
  },
  {
   "cell_type": "code",
   "execution_count": null,
   "id": "a9ac9ad4",
   "metadata": {},
   "outputs": [],
   "source": []
  },
  {
   "cell_type": "markdown",
   "id": "285c7d9d",
   "metadata": {},
   "source": [
    "### Test cases"
   ]
  },
  {
   "cell_type": "code",
   "execution_count": null,
   "id": "0958d442",
   "metadata": {},
   "outputs": [],
   "source": []
  },
  {
   "cell_type": "markdown",
   "id": "ece700b5",
   "metadata": {},
   "source": [
    "### Complexity Analysis\n",
    "- #### Time Complexity: $O(n)$ \n",
    "    - The time complexity is $O(n)$ since the solution iterates through each number from 1 to `n` once\n",
    "\n",
    "- #### Space Complexity: $O(n)$\n",
    "    - The space complexity is also $O(n)$ since the array size of `n+1` is used to store the number of `1` bits for each number from "
   ]
  }
 ],
 "metadata": {
  "kernelspec": {
   "display_name": "Python 3 (ipykernel)",
   "language": "python",
   "name": "python3"
  },
  "language_info": {
   "codemirror_mode": {
    "name": "ipython",
    "version": 3
   },
   "file_extension": ".py",
   "mimetype": "text/x-python",
   "name": "python",
   "nbconvert_exporter": "python",
   "pygments_lexer": "ipython3",
   "version": "3.10.4"
  }
 },
 "nbformat": 4,
 "nbformat_minor": 5
}

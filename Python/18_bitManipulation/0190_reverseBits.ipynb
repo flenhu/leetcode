{
 "cells": [
  {
   "cell_type": "markdown",
   "id": "4f3ad541",
   "metadata": {},
   "source": [
    "#### [Python <img src=\"../../assets/pythonLogo.png\" alt=\"py logo\" style=\"height: 1em; vertical-align: sub;\">](../README.md) | Easy 🟢 | [Bit Manipulation](README.md) | \n",
    "# [190. Reverse Bits](https://leetcode.com/problems/reverse-bits/description/)"
   ]
  },
  {
   "cell_type": "markdown",
   "id": "2f05d751",
   "metadata": {},
   "source": [
    "Reverse bits of a given 32 bits unsigned integer.\n",
    "\n",
    "**Note**:\n",
    "- Note that in some languages, such as Java, there is no unsigned integer type. In this case, both input and output will be given as a signed integer type. They should not affect your implementation, as the integer's internal binary representation is the same, whether it is signed or unsigned.\n",
    "- In Java, the compiler represents the signed integers using 2's complement notation. Therefore, in Example 2 above, the input represents the signed integer -3 and the output represents the signed integer -1073741825.\n",
    "\n",
    "**Example 1:**\n",
    "> **Input:**  `n = 00000010100101000001111010011100`  \n",
    "> **Output:**  `964176192 (00111001011110000010100101000000)`  \n",
    "> **Explanation:**  The input binary string `00000010100101000001111010011100` represents the unsigned integer `43261596`, so return `964176192` which its binary representation is `00111001011110000010100101000000`.\n",
    "    \n",
    "**Example 2:**\n",
    "> **Input:**  `n = 11111111111111111111111111111101`  \n",
    "> **Output:**  `3221225471 (10111111111111111111111111111111)`  \n",
    "> **Explanation:**  The input binary string `11111111111111111111111111111101` represents the unsigned integer `4294967293`, so return `3221225471` which its binary representation is `10111111111111111111111111111111`.\n",
    "\n",
    "\n",
    "#### Constraints\n",
    "- The input must be a **binary string of length `32`.\n",
    "***"
   ]
  },
  {
   "cell_type": "markdown",
   "id": "c0a6840b",
   "metadata": {},
   "source": [
    "### Problem Explanation\n",
    "This problems requires us to reverse the bits of a given 32-bit unsigned integer. This means that the bit at the `0th` position should move to the `31st` position, the bit at the 1st position to the 30th, and so on.\n",
    "\n",
    "\n",
    "# Approach 1: Bit by Bit \n",
    "We can tackle thsi problem with a Bit-by-Bit approach that involves iterating through each bit of the input integer, extracting it, and placing it in the correct position in the result.\n",
    "\n",
    "### Intuition\n",
    "- Since the integer is 32 bits, we loop through 32 iterations.\n",
    "- In each iteration, we then extract the right-most bit from the input integer and shift it to its reversed position in the result.\n",
    "- We then can use **bitwise operations** to manipulate individual bits.\n",
    "\n",
    "### Algorithm\n",
    "1. Initialize `res` to 0. This will hold the reversed bits.\n",
    "2. Loop 32 times (for each bit in the 32-bit integer).\n",
    "    - Extract the rightmost but of `n` using `bit = (n>>i) & 1`.\n",
    "    - Shift the extracted bit to its reversed position and add it to `res`. This is done by:  \n",
    "      `res += (bit << (31 - i))`\n",
    "3. Return `res` after the loop completes\n",
    "\n",
    "\n",
    "### Code Implementation"
   ]
  },
  {
   "cell_type": "code",
   "execution_count": 1,
   "id": "a9ac9ad4",
   "metadata": {},
   "outputs": [],
   "source": [
    "class Solution:\n",
    "    def reverseBits(self, n: int) -> int:\n",
    "        res = 0 #  initialize result\n",
    "        for i in range(32):  # Iterate over 32 bits\n",
    "            bit = (n >> i) & 1  # Extract the i-th bit from n\n",
    "            res += (bit << (31 - i))  # Shift the bit to its reversed position\n",
    "        return res"
   ]
  },
  {
   "cell_type": "markdown",
   "id": "285c7d9d",
   "metadata": {},
   "source": [
    "### Testing"
   ]
  },
  {
   "cell_type": "code",
   "execution_count": 2,
   "id": "0958d442",
   "metadata": {},
   "outputs": [
    {
     "name": "stdout",
     "output_type": "stream",
     "text": [
      "Test passed for input 43261596: expected 964176192, got 964176192\n",
      "Test passed for input 4294967293: expected 3221225471, got 3221225471\n",
      "Test passed for input 2863311530: expected 1431655765, got 1431655765\n"
     ]
    }
   ],
   "source": [
    "# Test cases\n",
    "test_cases = [\n",
    "    (0b00000010100101000001111010011100, 964176192), # Test Case 1\n",
    "    (0b11111111111111111111111111111101, 3221225471), # Test Case 2\n",
    "    (0b10101010101010101010101010101010, 1431655765)  # Test Case 3\n",
    "]\n",
    "\n",
    "# Testing function\n",
    "def test_reverseBits(test_cases):\n",
    "    sol = Solution()\n",
    "    for n, expected in test_cases:\n",
    "        result = sol.reverseBits(n)\n",
    "        assert result == expected, f\"Test failed for input {n}: expected {expected}, got {result}\"\n",
    "        print(f\"Test passed for input {n}: expected {expected}, got {result}\")\n",
    "\n",
    "# Run the tests\n",
    "test_reverseBits(test_cases)"
   ]
  },
  {
   "cell_type": "markdown",
   "id": "2cb6ab2a",
   "metadata": {},
   "source": [
    "### Complexity Analysis\n",
    "- #### Time Complexity: $O(1)$ \n",
    "    - The loop runs a constant 32 times since the input is always a 32-bit integer.\n",
    "\n",
    "- #### Space Complexity: $O(1)$\n",
    "    - Only a constant amount of additional space is needed, so we have constant time."
   ]
  }
 ],
 "metadata": {
  "kernelspec": {
   "display_name": "Python 3 (ipykernel)",
   "language": "python",
   "name": "python3"
  },
  "language_info": {
   "codemirror_mode": {
    "name": "ipython",
    "version": 3
   },
   "file_extension": ".py",
   "mimetype": "text/x-python",
   "name": "python",
   "nbconvert_exporter": "python",
   "pygments_lexer": "ipython3",
   "version": "3.11.5"
  }
 },
 "nbformat": 4,
 "nbformat_minor": 5
}

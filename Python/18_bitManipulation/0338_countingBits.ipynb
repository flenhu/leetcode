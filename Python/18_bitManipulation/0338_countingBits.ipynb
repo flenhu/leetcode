{
 "cells": [
  {
   "cell_type": "markdown",
   "id": "4f3ad541",
   "metadata": {},
   "source": [
    "#### [Python <img src=\"../../assets/pythonLogo.png\" alt=\"py logo\" style=\"height: 1em; vertical-align: sub;\">](../README.md) | Easy 🟢 | [Bit Manipulation](README.md) | \n",
    "# [338. Counting Bits](https://leetcode.com/problems/counting-bits/description/)"
   ]
  },
  {
   "cell_type": "markdown",
   "id": "2f05d751",
   "metadata": {},
   "source": [
    "Given an integer `n`, return an array `ans` of length `n + 1` such that for each `i` (`0 <= i <= n`), `ans[i]` is the **number of** `1`'s in the binary representation of `i`.\n",
    "\n",
    "**Example 1:**\n",
    "> **Input:**  `n = 2`  \n",
    "> **Output:**  `[0,1,1]`  \n",
    "> **Explanation:**  \n",
    "    `0 --> 0`  \n",
    "    `1 --> 1`  \n",
    "    `2 --> 10`  \n",
    "    \n",
    "**Example 2:**\n",
    "> **Input:**  `n = 5`  \n",
    "> **Output:**  `[0,1,1,2,1,2]`  \n",
    "> **Explanation:**  \n",
    "    `0 --> 0`  \n",
    "    `1 --> 1`  \n",
    "    `2 --> 10`  \n",
    "    `3 --> 11`  \n",
    "    `4 --> 100`  \n",
    "    `5 --> 101`  \n",
    "\n",
    "#### Constraints\n",
    "- $0 \\leq$ `n` $\\leq 10^5$ \n",
    "***"
   ]
  },
  {
   "cell_type": "markdown",
   "id": "c0a6840b",
   "metadata": {},
   "source": [
    "### Problem Explanation\n",
    "This problem requires us to compute the number of `1` bits in the binary representation of every number from 0 to `n`. This can be viewed as a follow-up for the the [Number of 1 Bits]() problem where we needed to count the bits of an unsigned integer. The goal here is to populate and return an array where each element at index `i` contains the count of `1` bits in the binary representation of `i`.\n",
    "\n",
    "\n",
    "# Approach: DP with Last Set Bit\n",
    "This problem uses dynamic programming to build up the solution iteratively. The main idea is to use previously computed results to efficiently calculate the Hamming weight for the next numbers.\n",
    "\n",
    "### Intuition\n",
    "- Each number can be seen as an increment from previous numbers with a known count of `1` buts.\n",
    "- The number of `1` bits in a number is related to its previous numbers. \n",
    "    - Specifically, any number `x` is either a power of 2(in which case it has a one `1` bit) or it can be represented as `y + z`, where `y` is the most recent power of 2 less than `x`, and `x` is a previously encountered number.\n",
    "    - The number of `1` bits in `x` is then 1(for the `1` bit in `y`) plus the number of `1` bits in `z`.\n",
    "\n",
    "### Algorithm\n",
    "1. Initialize an array `dp` of length `n + 1` with zeroes. This array will store the count of `1` bits for each number from 0 to `n`.\n",
    "2. Initialize `offset` to 1, representing the most recent power of 2 encountered.\n",
    "3. Iterate over the range from 1 to `n`.\n",
    "    - If `i` is a power of 2, update `offset` to `i`\n",
    "    - The number of `1` bits in `i` is 1(for the `1` bit in `offset`) plus the number of `1` bits in `i - offset`.\n",
    "    - Update `dp[i]` accordingly.\n",
    "4. Return the populated `dp` array\n",
    "\n",
    "### Code Implementation"
   ]
  },
  {
   "cell_type": "code",
   "execution_count": 1,
   "id": "a9ac9ad4",
   "metadata": {},
   "outputs": [],
   "source": [
    "from typing import List\n",
    "\n",
    "class Solution:\n",
    "    def countBits(self, n: int) -> List[int]:\n",
    "        dp = [0] * (n + 1) # initialize the DP array to store the count of `1` bits.\n",
    "        offset = 1 # Initialize the offset to track the most recent power of 2.\n",
    "        \n",
    "        for i in range(1, n+1):\n",
    "            #update the offset to the current number if it's a power of 2\n",
    "            if offset * 2 == i:\n",
    "                offset = i\n",
    "            # the number of `1` bits in i is 1 plus the number of '1' bits in i - offset\n",
    "            dp[i] = 1 + dp[i - offset]\n",
    "            \n",
    "        return dp  # return the DP array with counts"
   ]
  },
  {
   "cell_type": "markdown",
   "id": "285c7d9d",
   "metadata": {},
   "source": [
    "### Test cases"
   ]
  },
  {
   "cell_type": "code",
   "execution_count": 2,
   "id": "0958d442",
   "metadata": {},
   "outputs": [
    {
     "name": "stdout",
     "output_type": "stream",
     "text": [
      "Test for n = 2: Passed 😀\n",
      "Test for n = 5: Passed 😀\n",
      "Test for n = 7: Passed 😀\n"
     ]
    }
   ],
   "source": [
    "# Initialize the Solution class\n",
    "sol = Solution()\n",
    "\n",
    "# Test cases\n",
    "test_cases = {\n",
    "    2: [0, 1, 1],\n",
    "    5: [0, 1, 1, 2, 1, 2],\n",
    "    7: [0, 1, 1, 2, 1, 2, 2, 3]\n",
    "}\n",
    "\n",
    "# Testing\n",
    "for n, expected in test_cases.items():\n",
    "    result = sol.countBits(n)\n",
    "    print(f\"Test for n = {n}: {'Passed 😀' if result == expected else 'Failed'}\")\n",
    "    if result != expected:\n",
    "        print(f\" Expected: {expected}, Got: {result}\")"
   ]
  },
  {
   "cell_type": "markdown",
   "id": "ece700b5",
   "metadata": {},
   "source": [
    "### Complexity Analysis\n",
    "- #### Time Complexity: $O(n)$ \n",
    "    - The time complexity is $O(n)$ since the solution iterates through each number from 1 to `n` once\n",
    "\n",
    "- #### Space Complexity: $O(n)$\n",
    "    - The space complexity is also $O(n)$ since the array size of `n+1` is used to store the number of `1` bits for each number from "
   ]
  },
  {
   "cell_type": "markdown",
   "id": "90398c02",
   "metadata": {},
   "source": [
    "# Approach 2: DP with Most Significant Bit"
   ]
  },
  {
   "cell_type": "markdown",
   "id": "654dd9ee",
   "metadata": {},
   "source": [
    "# Approach 3: DP with Least Significant Bit"
   ]
  }
 ],
 "metadata": {
  "kernelspec": {
   "display_name": "Python 3 (ipykernel)",
   "language": "python",
   "name": "python3"
  },
  "language_info": {
   "codemirror_mode": {
    "name": "ipython",
    "version": 3
   },
   "file_extension": ".py",
   "mimetype": "text/x-python",
   "name": "python",
   "nbconvert_exporter": "python",
   "pygments_lexer": "ipython3",
   "version": "3.10.4"
  }
 },
 "nbformat": 4,
 "nbformat_minor": 5
}

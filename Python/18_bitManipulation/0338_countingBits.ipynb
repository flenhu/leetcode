{
 "cells": [
  {
   "cell_type": "markdown",
   "id": "4f3ad541",
   "metadata": {},
   "source": [
    "#### [Python <img src=\"../../assets/pythonLogo.png\" alt=\"py logo\" style=\"height: 1em; vertical-align: sub;\">](../README.md) | Easy 🟢 | [1-D Dynamic Programming](README.md) | \n",
    "# [338. Counting Bits](https://leetcode.com/problems/counting-bits/description/)"
   ]
  },
  {
   "cell_type": "markdown",
   "id": "2f05d751",
   "metadata": {},
   "source": [
    "Given an integer `n`, return an array `ans` of length `n + 1` such that for each `i` (`0 <= i <= n`), `ans[i]` is the **number of** `1`'s in the binary representation of `i`.\n",
    "\n",
    "**Example 1:**\n",
    "> **Input:**  `n = 2`  \n",
    "> **Output:**  `[0,1,1]`  \n",
    "> **Explanation:**  \n",
    "    `0 --> 0`  \n",
    "    `1 --> 1`  \n",
    "    `2 --> 10`  \n",
    "    \n",
    "**Example 2:**\n",
    "> **Input:**  `n = 5`  \n",
    "> **Output:**  `[0,1,1,2,1,2]`  \n",
    "> **Explanation:**  \n",
    "    `0 --> 0`  \n",
    "    `1 --> 1`  \n",
    "    `2 --> 10`  \n",
    "    `3 --> 11`  \n",
    "    `4 --> 100`  \n",
    "    `5 --> 101`  \n",
    "\n",
    "#### Constraints\n",
    "- $0 \\leq$ `n` $\\leq 10^5$ \n",
    "***"
   ]
  },
  {
   "cell_type": "markdown",
   "id": "c0a6840b",
   "metadata": {},
   "source": [
    "### Problem Explanation\n",
    "This problem requires us to compute the number of `1` bits in the binary representation of every number from 0 to `n`. This can be viewed as a follow for the the [Number of 1 Bits]() problem where we needed to count the bits of an unsigned integer. The goal here is to populate and return an array where each element at index `i` contains the count of `1` bits in the binary representation of `i`.\n",
    "\n",
    "\n",
    "# Approach: Bit Manipulation\n",
    "This problem uses dynamic programming to build up the solution iteratively. The main idea is to use previously computed results to efficiently calculate the Hamming weight for the next numbers.\n",
    "\n",
    "### Intuition\n",
    "- Each number can be seen as an increment from previous numbers with a known count of `1` buts.\n",
    "- The number of `1` bits in a number is related to its previous numbers. \n",
    "    - Specifically, any number `x` is either a power of 2(in which case it has a one `1` bit) or it can be represented as `y + z`, where `y` is the most recent power of 2 less than `x`, and `x` is a previously encountered number.\n",
    "    - The number of `1` bits in `x` is then 1(for the `1` bit in `y`) plus the number of `1` bits in `z`.\n",
    "\n",
    "### Algorithm\n",
    "\n",
    "\n",
    "### Code Implementation"
   ]
  },
  {
   "cell_type": "code",
   "execution_count": 5,
   "id": "a9ac9ad4",
   "metadata": {},
   "outputs": [],
   "source": [
    "# class Solution:\n",
    "#     def hammingWeight(self, n: int) -> int:\n"
   ]
  },
  {
   "cell_type": "markdown",
   "id": "ece700b5",
   "metadata": {},
   "source": [
    "### Complexity Analysis\n",
    "- #### Time Complexity: $O(k) =O(n)$ \n",
    "    - $k$ is the number of `1` bits in the binary representation of `n`.\n",
    "    - In the worst case, when `n` is a power of 2, the time complexity $O(\\log n)$ because there are $\\log n$ bits in `n`\n",
    "\n",
    "- #### Space Complexity: $O(1)$\n",
    "    - There is no extra space used besides the counter variable `res`."
   ]
  }
 ],
 "metadata": {
  "kernelspec": {
   "display_name": "Python 3 (ipykernel)",
   "language": "python",
   "name": "python3"
  },
  "language_info": {
   "codemirror_mode": {
    "name": "ipython",
    "version": 3
   },
   "file_extension": ".py",
   "mimetype": "text/x-python",
   "name": "python",
   "nbconvert_exporter": "python",
   "pygments_lexer": "ipython3",
   "version": "3.10.4"
  }
 },
 "nbformat": 4,
 "nbformat_minor": 5
}

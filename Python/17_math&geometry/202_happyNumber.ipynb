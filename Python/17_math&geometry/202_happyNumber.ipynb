{
 "cells": [
  {
   "cell_type": "markdown",
   "metadata": {},
   "source": [
    "#### Python | Easy | Math & Geometry\n",
    "# [202. Happy Number](https://leetcode.com/problems/happy-number/)"
   ]
  },
  {
   "cell_type": "markdown",
   "metadata": {},
   "source": [
    "Write an algorithm to determine if a number `n` is happy.\n",
    "\n",
    "A happy number is a number defined by the following process:\n",
    "\n",
    "- Starting with any positive integer, replace the number by the sum of the squares of its digits.\n",
    "- Repeat the process until the number equals 1 (where it will stay), or it loops endlessly in a cycle which does not include 1.\n",
    "- Those numbers for which this process ends in 1 are happy.\n",
    "- Return true if `n` is a happy number, and false if not.\n",
    "\n",
    "**Example 1:**\n",
    "\n",
    "- Input: `n = 19`\n",
    "- Output: `true`\n",
    "- Explanation:\n",
    "  - 1<sup>2</sup> + 9<sup>2</sup> = 82\n",
    "  - 8<sup>2</sup> + 2<sup>2</sup> = 68\n",
    "  - 6<sup>2</sup> + 8<sup>2</sup> = 100\n",
    "  - 1<sup>2</sup> + 0<sup>2</sup> + 0<sup>2</sup> = 1\n",
    "\n",
    "**Example 2:**\n",
    "\n",
    "- Input: `n = 2`\n",
    "- Output: `false`\n",
    "\n",
    "#### Constraints\n",
    "\n",
    "- <code>1 &lt;= n &lt;= 2<sup>31</sup> - 1</code>\n"
   ]
  }
 ],
 "metadata": {
  "kernelspec": {
   "display_name": "Python 3 (ipykernel)",
   "language": "python",
   "name": "python3"
  },
  "language_info": {
   "codemirror_mode": {
    "name": "ipython",
    "version": 3
   },
   "file_extension": ".py",
   "mimetype": "text/x-python",
   "name": "python",
   "nbconvert_exporter": "python",
   "pygments_lexer": "ipython3",
   "version": "3.9.17"
  }
 },
 "nbformat": 4,
 "nbformat_minor": 5
}

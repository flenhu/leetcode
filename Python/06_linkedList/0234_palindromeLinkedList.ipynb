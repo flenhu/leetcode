{
 "cells": [
  {
   "cell_type": "markdown",
   "id": "835c632c",
   "metadata": {},
   "source": [
    "#### [Python <img src=\"../../assets/pythonLogo.png\" alt=\"py logo\" style=\"height: 1em; vertical-align: sub;\">](../README.md) | Easy 🟢 | [Linked List](README.md)\n",
    "# [234. Palindrome Linked List](https://leetcode.com/problems/palindrome-linked-list/description/) (not started 😕)"
   ]
  },
  {
   "cell_type": "markdown",
   "id": "b9441082",
   "metadata": {},
   "source": [
    "Given the `head` of a singly linked list, return `true` if it is a palindrome or `false` otherwise.\n",
    "\n",
    "#### Example 1:\n",
    "![ex1](https://assets.leetcode.com/uploads/2021/03/03/pal1linked-list.jpg)\n",
    "> **Input:** `head = [1,2,2,1]`  \n",
    "> **Output:** `true`\n",
    "\n",
    "#### Example 2:\n",
    "![ex2](https://assets.leetcode.com/uploads/2021/03/03/pal2linked-list.jpg)\n",
    "> **Input:** `head = [1,2]`  \n",
    "> **Output:** `false`\n",
    "\n",
    "#### Constraints:\n",
    "- The number of nodes in the list is in the range: $[1, 10^5]$ .\n",
    "- `0 <= Node.val <= 9`\n"
   ]
  },
  {
   "cell_type": "markdown",
   "id": "5a871415",
   "metadata": {},
   "source": [
    "## Problem Explanation\n",
    "For this problem we are asked to determine whether a given singly linked list is a palindrome or not. For a linked list, this means the sequence of values from the head to the tail of the list must be identical when read in reverse order.\n",
    "***"
   ]
  },
  {
   "cell_type": "markdown",
   "id": "66c83cb9",
   "metadata": {},
   "source": [
    "# Approach: Reverse Second Half In-place\n",
    "This approach involves reversing the second half of the linked list in-place and then comparing the first half with the reversed second half to check if the entire list is a palindrome. In, summary this approach is essentially 3 main steps:\n",
    "\n",
    "1. **Finding the Middle of the List:** Use a fast and slow pointer technique to find the middle of the list (_or the start of the second half for even length lists_).\n",
    "2. **Reversing the Second Half of the List:** Reverse the second half of the list in-place so that we can easily compare it with the first half.\n",
    "3. **Checking for Palindrome:** Compare the first half and the reversed second half node by node. If all corresponding nodes are equal, the list is a palindrome.\n",
    "\n",
    "## Intuition\n",
    "- The core idea behind this approach is that if a list is a palindrome, the second half of the list is the mirror image of the first half. \n",
    "- By reversing the second half, it's more straightforward to compare it with the first half. \n",
    "- The fast and slow pointer method efficiently finds the middle of the list, avoiding the need for counting nodes or using extra space.\n",
    "\n",
    "\n",
    "## Algorithm\n",
    "1. **Finding the middle:**\n",
    "    - Initialize two pointers, `fast` and `slow`, both pointing to the `head`. \n",
    "    - Move `fast` by two steps and `slow` by one step in each iteration. \n",
    "    - When fast reaches the end, slow will be at the midpoint.\n",
    "2. **Reverse second half:** \n",
    "    - Initialize a `prev` pointer as `None`. \n",
    "    - Iteratively reverse the links in the second half of the list, using `slow` to traverse it.\n",
    "3. **Check Palindrome:**\n",
    "    - Reset pointers `left` to `head` and `right` to `prev` (_start of the reversed second half_). \n",
    "    - Compare the values of nodes pointed by `left` and `right` until `right` is `None`. \n",
    "    - If all corresponding values match, return `True`; otherwise, `False`."
   ]
  },
  {
   "cell_type": "markdown",
   "id": "7888762a",
   "metadata": {},
   "source": [
    "## Code Implementation"
   ]
  },
  {
   "cell_type": "code",
   "execution_count": 8,
   "id": "e1d254e7",
   "metadata": {},
   "outputs": [],
   "source": [
    "class ListNode:\n",
    "    def __init__(self, val=0, next=None):\n",
    "        self.val = val\n",
    "        self.next = next\n",
    "\n",
    "class Solution:\n",
    "    def isPalindrome(self, head: ListNode) -> bool:\n",
    "        # If the list is empty or has only one node, it's a palindrome\n",
    "        if not head or not head.next:\n",
    "            return True\n",
    "\n",
    "        # Initialize slow and fast pointers\n",
    "        slow = fast = head\n",
    "\n",
    "        # Find the middle of the linked list\n",
    "        while fast and fast.next:\n",
    "            slow = slow.next\n",
    "            fast = fast.next.next\n",
    "\n",
    "        # Reverse the second half\n",
    "        prev = None\n",
    "        while slow:     # slow is the head of the second half\n",
    "            tmp = slow.next     # save the next node\n",
    "            slow.next = prev    # reverse the pointer\n",
    "            prev = slow         # move prev to the current node\n",
    "            slow = tmp          # move slow to the next node\n",
    "\n",
    "        # Check if the linked list is a palindrome\n",
    "        left, right = head, prev\n",
    "        while right:            # right is the head of the reversed second half\n",
    "            if left.val != right.val:   \n",
    "                return False\n",
    "            left = left.next\n",
    "            right = right.next\n",
    "\n",
    "        return True"
   ]
  },
  {
   "cell_type": "markdown",
   "id": "ce05a3cf",
   "metadata": {},
   "source": [
    "### Testing"
   ]
  },
  {
   "cell_type": "code",
   "execution_count": 10,
   "id": "4c5194cc",
   "metadata": {},
   "outputs": [
    {
     "name": "stdout",
     "output_type": "stream",
     "text": [
      "Test case 1: Input: 1 -> 2 -> 2, Expected Output: True, Result: True ✓ Passed!\n",
      "Test case 2: Input: 1 -> 2, Expected Output: False, Result: False ✓ Passed!\n",
      "Test case 3: Input: 1 -> 1 -> 1, Expected Output: True, Result: True ✓ Passed!\n",
      "Test case 4: Input: None, Expected Output: True, Result: True ✓ Passed!\n",
      "Test case 5: Input: 1, Expected Output: True, Result: True ✓ Passed!\n",
      "All tests passed! 😊\n"
     ]
    }
   ],
   "source": [
    "def create_linked_list(values):\n",
    "    dummy = ListNode()\n",
    "    curr = dummy\n",
    "    for val in values:\n",
    "        curr.next = ListNode(val)\n",
    "        curr = curr.next\n",
    "    return dummy.next\n",
    "\n",
    "def linked_list_to_str(head):\n",
    "    values = []\n",
    "    curr = head\n",
    "    while curr:\n",
    "        values.append(str(curr.val))\n",
    "        curr = curr.next\n",
    "    return \" -> \".join(values)\n",
    "\n",
    "def test_palindrome(solution_class):\n",
    "    test_cases = [\n",
    "        (create_linked_list([1, 2, 2, 1]), True),\n",
    "        (create_linked_list([1, 2]), False),\n",
    "        (create_linked_list([1, 1, 1, 1]), True),\n",
    "        (None, True),\n",
    "        (create_linked_list([1]), True),\n",
    "    ]\n",
    "\n",
    "    all_tests_passed = True\n",
    "\n",
    "    for i, (linked_list, expected_output) in enumerate(test_cases, start=1):\n",
    "        solution = solution_class()\n",
    "        result = solution.isPalindrome(linked_list)\n",
    "        linked_list_str = linked_list_to_str(linked_list) if linked_list else \"None\"\n",
    "        print(f\"Test case {i}: Input: {linked_list_str}, Expected Output: {expected_output}, Result: {result}\", end=\" \")\n",
    "        if result == expected_output:\n",
    "            print(\"✓ Passed!\")\n",
    "        else:\n",
    "            print(\"✗ Failed\")\n",
    "            all_tests_passed = False\n",
    "\n",
    "    if all_tests_passed:\n",
    "        print(\"All tests passed! 😊\")\n",
    "\n",
    "# Testing Solution with Reverse Second Half in-place approach\n",
    "test_palindrome(Solution)"
   ]
  },
  {
   "cell_type": "markdown",
   "id": "8a5df28b",
   "metadata": {},
   "source": [
    "## Complexity Analysis\n",
    "- #### Variables\n",
    "    - $n$ is the length of the linked list.\n",
    "- ### Time Complexity: $O(n)$\n",
    "    - The runtime is linear because we need to traverse the entire linked list once to find the middle, reverse the second half, and then compare the two halves.\n",
    "\n",
    "- ### Space Complexity: $O(1)$\n",
    "    - We only use a constant amount of extra space for storing pointers and temporary variables.\n",
    "***"
   ]
  },
  {
   "cell_type": "markdown",
   "id": "32c95f2b",
   "metadata": {},
   "source": [
    "# Approach 2:\n",
    "\n",
    "\n",
    "## Intuition\n",
    "\n",
    "\n",
    "## Algorithm\n"
   ]
  },
  {
   "cell_type": "markdown",
   "id": "cd60de80",
   "metadata": {},
   "source": [
    "## Code Implementation"
   ]
  },
  {
   "cell_type": "code",
   "execution_count": null,
   "id": "4bd14716",
   "metadata": {},
   "outputs": [],
   "source": []
  },
  {
   "cell_type": "markdown",
   "id": "1fa8ef16",
   "metadata": {},
   "source": [
    "## Testing"
   ]
  },
  {
   "cell_type": "code",
   "execution_count": null,
   "id": "53f5deaf",
   "metadata": {},
   "outputs": [],
   "source": []
  },
  {
   "cell_type": "markdown",
   "id": "082872ea",
   "metadata": {},
   "source": [
    "## Complexity Analysis\n",
    "- ### Time Complexity: $O()$\n",
    "\n",
    "- ### Space Complexity: $O()$\n",
    "***"
   ]
  }
 ],
 "metadata": {
  "kernelspec": {
   "display_name": "Python 3 (ipykernel)",
   "language": "python",
   "name": "python3"
  },
  "language_info": {
   "codemirror_mode": {
    "name": "ipython",
    "version": 3
   },
   "file_extension": ".py",
   "mimetype": "text/x-python",
   "name": "python",
   "nbconvert_exporter": "python",
   "pygments_lexer": "ipython3",
   "version": "3.10.4"
  }
 },
 "nbformat": 4,
 "nbformat_minor": 5
}

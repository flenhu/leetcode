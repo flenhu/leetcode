{
 "cells": [
  {
   "cell_type": "markdown",
   "id": "835c632c",
   "metadata": {},
   "source": [
    "#### [Python <img src=\"../../assets/pythonLogo.png\" alt=\"py logo\" style=\"height: 1em; vertical-align: sub;\">](../README.md) | Easy 🟢 | [Linked List](README.md)\n",
    "# [234. Palindrome Linked List](https://leetcode.com/problems/palindrome-linked-list/description/)"
   ]
  },
  {
   "cell_type": "markdown",
   "id": "b9441082",
   "metadata": {},
   "source": [
    "Given the `head` of a singly linked list, return `true` if it is a palindrome or `false` otherwise.\n",
    "\n",
    "#### Example 1:\n",
    "![ex1](https://assets.leetcode.com/uploads/2021/03/03/pal1linked-list.jpg)\n",
    "> **Input:** `head = [1,2,2,1]`  \n",
    "> **Output:** `true`\n",
    "\n",
    "#### Example 2:\n",
    "![ex2](https://assets.leetcode.com/uploads/2021/03/03/pal2linked-list.jpg)\n",
    "> **Input:** `head = [1,2]`  \n",
    "> **Output:** `false`\n",
    "\n",
    "#### Constraints:\n",
    "- The number of nodes in the list is in the range: $[1, 10^5]$ .\n",
    "- `0 <= Node.val <= 9`\n"
   ]
  },
  {
   "cell_type": "markdown",
   "id": "5a871415",
   "metadata": {},
   "source": [
    "## Problem Explanation\n",
    "For this problem we are asked to determine whether a given singly linked list is a palindrome or not. For a linked list, this means the sequence of values from the head to the tail of the list must be identical when read in reverse order.\n",
    "***"
   ]
  },
  {
   "cell_type": "markdown",
   "id": "66c83cb9",
   "metadata": {},
   "source": [
    "# Approach 1: Reverse Second Half In-place\n",
    "This approach involves reversing the second half of the linked list in-place and then comparing the first half with the reversed second half to check if the entire list is a palindrome. In, summary this approach is essentially 3 main steps:\n",
    "\n",
    "1. **Finding the Middle of the List:** Use a fast and slow pointer technique to find the middle of the list (_or the start of the second half for even length lists_).\n",
    "2. **Reversing the Second Half of the List:** Reverse the second half of the list in-place so that we can easily compare it with the first half.\n",
    "3. **Checking for Palindrome:** Compare the first half and the reversed second half node by node. If all corresponding nodes are equal, the list is a palindrome.\n",
    "\n",
    "## Intuition\n",
    "- The core idea behind this approach is that if a list is a palindrome, the second half of the list is the mirror image of the first half. \n",
    "- By reversing the second half, it's more straightforward to compare it with the first half. \n",
    "- The fast and slow pointer method efficiently finds the middle of the list, avoiding the need for counting nodes or using extra space.\n",
    "\n",
    "\n",
    "## Algorithm\n",
    "1. **Finding the middle:**\n",
    "    - Initialize two pointers, `fast` and `slow`, both pointing to the `head`. \n",
    "    - Move `fast` by two steps and `slow` by one step in each iteration. \n",
    "    - When fast reaches the end, slow will be at the midpoint.\n",
    "2. **Reverse second half:** \n",
    "    - Initialize a `prev` pointer as `None`. \n",
    "    - Iteratively reverse the links in the second half of the list, using `slow` to traverse it.\n",
    "3. **Check Palindrome:**\n",
    "    - Reset pointers `left` to `head` and `right` to `prev` (_start of the reversed second half_). \n",
    "    - Compare the values of nodes pointed by `left` and `right` until `right` is `None`. \n",
    "    - If all corresponding values match, return `True`; otherwise, `False`."
   ]
  },
  {
   "cell_type": "markdown",
   "id": "7888762a",
   "metadata": {},
   "source": [
    "## Code Implementation"
   ]
  },
  {
   "cell_type": "code",
   "execution_count": 1,
   "id": "e1d254e7",
   "metadata": {},
   "outputs": [],
   "source": [
    "class ListNode:\n",
    "    def __init__(self, val=0, next=None):\n",
    "        self.val = val\n",
    "        self.next = next\n",
    "\n",
    "class Solution:\n",
    "    def isPalindrome(self, head: ListNode) -> bool:\n",
    "        # If the list is empty or has only one node, it's a palindrome\n",
    "        if not head or not head.next:\n",
    "            return True\n",
    "\n",
    "        # Initialize slow and fast pointers\n",
    "        slow = fast = head\n",
    "\n",
    "        # Find the middle of the linked list\n",
    "        while fast and fast.next:\n",
    "            slow = slow.next\n",
    "            fast = fast.next.next\n",
    "\n",
    "        # Reverse the second half\n",
    "        prev = None\n",
    "        while slow:     # slow is the head of the second half\n",
    "            tmp = slow.next     # save the next node\n",
    "            slow.next = prev    # reverse the pointer\n",
    "            prev = slow         # move prev to the current node\n",
    "            slow = tmp          # move slow to the next node\n",
    "\n",
    "        # Check if the linked list is a palindrome\n",
    "        left, right = head, prev\n",
    "        while right:            # right is the head of the reversed second half\n",
    "            if left.val != right.val:   \n",
    "                return False\n",
    "            left = left.next\n",
    "            right = right.next\n",
    "\n",
    "        return True"
   ]
  },
  {
   "cell_type": "markdown",
   "id": "ce05a3cf",
   "metadata": {},
   "source": [
    "### Testing"
   ]
  },
  {
   "cell_type": "code",
   "execution_count": 2,
   "id": "4c5194cc",
   "metadata": {},
   "outputs": [
    {
     "name": "stdout",
     "output_type": "stream",
     "text": [
      "Test case 1: Input: 1 -> 2 -> 2, Expected Output: True, Result: True ✓ Passed!\n",
      "Test case 2: Input: 1 -> 2, Expected Output: False, Result: False ✓ Passed!\n",
      "Test case 3: Input: 1 -> 1 -> 1, Expected Output: True, Result: True ✓ Passed!\n",
      "Test case 4: Input: None, Expected Output: True, Result: True ✓ Passed!\n",
      "Test case 5: Input: 1, Expected Output: True, Result: True ✓ Passed!\n",
      "All tests passed! 😊\n"
     ]
    }
   ],
   "source": [
    "def create_linked_list(values):\n",
    "    dummy = ListNode()\n",
    "    curr = dummy\n",
    "    for val in values:\n",
    "        curr.next = ListNode(val)\n",
    "        curr = curr.next\n",
    "    return dummy.next\n",
    "\n",
    "def linked_list_to_str(head):\n",
    "    values = []\n",
    "    curr = head\n",
    "    while curr:\n",
    "        values.append(str(curr.val))\n",
    "        curr = curr.next\n",
    "    return \" -> \".join(values)\n",
    "\n",
    "def test_palindrome(solution_class):\n",
    "    test_cases = [\n",
    "        (create_linked_list([1, 2, 2, 1]), True),\n",
    "        (create_linked_list([1, 2]), False),\n",
    "        (create_linked_list([1, 1, 1, 1]), True),\n",
    "        (None, True),\n",
    "        (create_linked_list([1]), True),\n",
    "    ]\n",
    "\n",
    "    all_tests_passed = True\n",
    "\n",
    "    for i, (linked_list, expected_output) in enumerate(test_cases, start=1):\n",
    "        solution = solution_class()\n",
    "        result = solution.isPalindrome(linked_list)\n",
    "        linked_list_str = linked_list_to_str(linked_list) if linked_list else \"None\"\n",
    "        print(f\"Test case {i}: Input: {linked_list_str}, Expected Output: {expected_output}, Result: {result}\", end=\" \")\n",
    "        if result == expected_output:\n",
    "            print(\"✓ Passed!\")\n",
    "        else:\n",
    "            print(\"✗ Failed\")\n",
    "            all_tests_passed = False\n",
    "\n",
    "    if all_tests_passed:\n",
    "        print(\"All tests passed! 😊\")\n",
    "\n",
    "# Testing Solution with Reverse Second Half in-place approach\n",
    "test_palindrome(Solution)"
   ]
  },
  {
   "cell_type": "markdown",
   "id": "8a5df28b",
   "metadata": {},
   "source": [
    "## Complexity Analysis\n",
    "- #### Variables\n",
    "    - $n$ is the length of the linked list.\n",
    "- ### Time Complexity: $O(n)$\n",
    "    - The runtime is linear because we need to traverse the entire linked list once to find the middle, reverse the second half, and then compare the two halves.\n",
    "\n",
    "- ### Space Complexity: $O(1)$\n",
    "    - We only use a constant amount of extra space for storing pointers and temporary variables.\n",
    "***"
   ]
  },
  {
   "cell_type": "markdown",
   "id": "32c95f2b",
   "metadata": {},
   "source": [
    "# Approach 2: Copy into list and then use Two Pointers\n",
    "This approach involves copying the values of the linked list into an array (_just a list in Python_), and then using the two-pointer technique to check if the list is a palindrome.\n",
    "\n",
    "## Intuition\n",
    "- The primary intuition behind this approach is leveraging the random access capability of both ends of an array lists, which is not inherently available in linked lists. \n",
    "- By copying the linked list's values into an array, we can easily access any element in constant time (_this is a linear operation in linked lists_).\n",
    "- Once the values are stored in a list, we can use the two-pointer technique to check if the list is a palindrome by comparing the values from the beginning and the end simultaneously.\n",
    "\n",
    "## Algorithm\n",
    "1. Create an empty list `vals` to store the values of the linked list.\n",
    "2. Initialize a pointer `curr` to the `head` of the linked list.\n",
    "3. **Copy Linked List into Array:** Traverse the linked list using a loop:\n",
    "    - Append the value of the current node to the `vals` list.\n",
    "    - Move the `curr` pointer to the next node.\n",
    "4. **Apply Two Pointers Technique to check for Palindrome:**\n",
    "    - Initialize two pointers at the start, `l`, and end, `r`, of the array, respectively.\n",
    "    - Increment the start pointer and decrement the end pointer, comparing the values at these pointers at each step.\n",
    "    - If all corresponding values are equal, the array (_and therefore the linked list_) is a palindrome. If any pair of values differ, the linked list is not a palindrome.\n",
    "    "
   ]
  },
  {
   "cell_type": "markdown",
   "id": "cd60de80",
   "metadata": {},
   "source": [
    "## Code Implementation"
   ]
  },
  {
   "cell_type": "code",
   "execution_count": 3,
   "id": "4bd14716",
   "metadata": {},
   "outputs": [],
   "source": [
    "class Solution2:\n",
    "    def isPalindrome(self, head: ListNode) -> bool:\n",
    "        vals = []\n",
    "        current_node = head\n",
    "        # Step 1: Copy linked list into array\n",
    "        while current_node is not None:\n",
    "            vals.append(current_node.val)\n",
    "            current_node = current_node.next\n",
    "        \n",
    "        # Step 2: Use two-pointer technique to check for palindrome\n",
    "        left, right = 0, len(vals) - 1\n",
    "        while left < right:\n",
    "            if vals[left] != vals[right]:\n",
    "                return False\n",
    "            left += 1\n",
    "            right -= 1\n",
    "        \n",
    "        return True"
   ]
  },
  {
   "cell_type": "markdown",
   "id": "1fa8ef16",
   "metadata": {},
   "source": [
    "## Testing"
   ]
  },
  {
   "cell_type": "code",
   "execution_count": 4,
   "id": "53f5deaf",
   "metadata": {},
   "outputs": [
    {
     "name": "stdout",
     "output_type": "stream",
     "text": [
      "Test case 1: Input: 1 -> 2 -> 2 -> 1, Expected Output: True, Result: True ✓ Passed!\n",
      "Test case 2: Input: 1 -> 2, Expected Output: False, Result: False ✓ Passed!\n",
      "Test case 3: Input: 1 -> 1 -> 1 -> 1, Expected Output: True, Result: True ✓ Passed!\n",
      "Test case 4: Input: None, Expected Output: True, Result: True ✓ Passed!\n",
      "Test case 5: Input: 1, Expected Output: True, Result: True ✓ Passed!\n",
      "All tests passed! 😊\n"
     ]
    }
   ],
   "source": [
    "# Testing Solution with Reverse Second Half in-place approach\n",
    "test_palindrome(Solution2)"
   ]
  },
  {
   "cell_type": "markdown",
   "id": "082872ea",
   "metadata": {},
   "source": [
    "## Complexity Analysis\n",
    "- ### Time Complexity: $O(n)$\n",
    "    - The list is traversed twice: once to copy the elements into an array, and a second time to check if the array is a palindrome, leading to $O(2n)$, which simplifies to $O(n)$.\n",
    "- ### Space Complexity: $O(n)$\n",
    "    - Since we created an additional list of size $n$ to store the values of the linked list, the size of the array is proportional to the length of the linked list.\n",
    "***"
   ]
  },
  {
   "cell_type": "markdown",
   "id": "6b873b8d",
   "metadata": {},
   "source": [
    "# Approach 2.1: List Reversal & Comparison\n",
    "This method is a more streamlined version of the \"Copy into Array List and Use Two Pointer Technique\" for verifying if a linked list is a palindrome. It simplifies the process by directly comparing the original list of values to its reversed version.\n",
    "\n",
    "## Intuition\n",
    "By converting the linked list into an array and then comparing this array to its reversed self, we can efficiently check for palindromic structure without manually implementing two pointers to traverse the list from both ends.\n",
    "\n",
    "## Algorithm\n",
    "1. **Convert Linked List to Array:** Traverse the linked list from the head, appending each node's value to an array.\n",
    "2. **Compare Array to its Reversed Version:** Directly compare the array of list values to its reversed version to determine if the list is a palindrome."
   ]
  },
  {
   "cell_type": "markdown",
   "id": "9feff8bf",
   "metadata": {},
   "source": [
    "## Code Implementation"
   ]
  },
  {
   "cell_type": "code",
   "execution_count": 5,
   "id": "4fc10b5d",
   "metadata": {},
   "outputs": [],
   "source": [
    "class Solution2v1:\n",
    "    def isPalindrome(self, head: ListNode) -> bool:\n",
    "        vals = []\n",
    "        current_node = head\n",
    "        # Step 1: Convert linked list to array\n",
    "        while current_node:\n",
    "            vals.append(current_node.val)\n",
    "            current_node = current_node.next\n",
    "        \n",
    "        # Step 2: Compare array to its reversed version\n",
    "        # This line encompasses the \"List Reversal & Comparison\" approach\n",
    "        return vals == vals[::-1]"
   ]
  },
  {
   "cell_type": "markdown",
   "id": "826f2d97",
   "metadata": {},
   "source": [
    "### Testing"
   ]
  },
  {
   "cell_type": "code",
   "execution_count": 6,
   "id": "a688f9d8",
   "metadata": {},
   "outputs": [
    {
     "name": "stdout",
     "output_type": "stream",
     "text": [
      "Test case 1: Input: 1 -> 2 -> 2 -> 1, Expected Output: True, Result: True ✓ Passed!\n",
      "Test case 2: Input: 1 -> 2, Expected Output: False, Result: False ✓ Passed!\n",
      "Test case 3: Input: 1 -> 1 -> 1 -> 1, Expected Output: True, Result: True ✓ Passed!\n",
      "Test case 4: Input: None, Expected Output: True, Result: True ✓ Passed!\n",
      "Test case 5: Input: 1, Expected Output: True, Result: True ✓ Passed!\n",
      "All tests passed! 😊\n"
     ]
    }
   ],
   "source": [
    "# Testing Solution with Reverse Second Half in-place approach\n",
    "test_palindrome(Solution2v1)"
   ]
  },
  {
   "cell_type": "markdown",
   "id": "93c3dae9",
   "metadata": {},
   "source": [
    "## Complexity Analysis\n",
    "- ### Time Complexity: $O(n)$\n",
    "   The list is traversed once to build the array, which takes $O(n)$ time, and the list comparison (`vals == vals[::-1]`) also takes $O(n)$ time in the worst case.\n",
    "- ### Space Complexity: $O(n)$\n",
    "    - This approach still requires additional space proportional to the size of the linked list to store the list values in an array for comparison.\n",
    "***"
   ]
  },
  {
   "cell_type": "markdown",
   "id": "cf4c387f",
   "metadata": {},
   "source": [
    "# Approach 3: Recursive Two-Pointer Technique\n",
    "This approach leverages recursion to traverse the linked list and compare elements symmetrically from the outside towards the center. Essentially, the recursion stack implicitly acts as one pointer moving towards the end of the list, while a global or external pointer (attribute) moves symmetrically from the start towards the middle.\n",
    "\n",
    "## Intuition\n",
    "The intuition behind this approach is to use recursion to traverse the linked list from both ends simultaneously. By keeping track of the front pointer and the current node in the recursion, we can compare the values of the corresponding nodes from the front and back of the linked list.\n",
    "\n",
    "## Algorithm\n",
    "1. Initialize a class variable `self.front_pointer` to the `head` of the linked list. This pointer will be used to compare the values from the beginning of the list.\n",
    "2. **Recursive Function `recursively_check()`:**\n",
    "    1. **Base Case:** If the current node (`current_node`) is `None`, we've reached the end of the list. Start unwinding the recursion.\n",
    "    2. **Recursive Case:** Recursively call `recursively_check` for the next node (`current_node.next`).\n",
    "    3. After returning from each recursive call (as the recursion unwinds), compare the value of the `current_node` (starting from the end of the list) with the `front_pointer` (starting from the beginning).\n",
    "    4. Move the `front_pointer` one step forward (`front_pointer.next`) to prepare for the next comparison.\n",
    "    5. If any comparison fails, return `False`; otherwise, continue.\n",
    "    6. If all comparisons succeed, return `True`.\n",
    "3. **Return Value:** The outer function returns the result of `recursively_check`, indicating whether the list is a palindrome."
   ]
  },
  {
   "cell_type": "markdown",
   "id": "87fde626",
   "metadata": {},
   "source": [
    "## Code Implementation"
   ]
  },
  {
   "cell_type": "code",
   "execution_count": 7,
   "id": "14ce425a",
   "metadata": {},
   "outputs": [],
   "source": [
    "class Solution3:\n",
    "    def isPalindrome(self, head: ListNode) -> bool:\n",
    "        self.front_pointer = head  # Initialize the front pointer\n",
    "\n",
    "        def recursively_check(current_node=head):\n",
    "            if current_node is not None:    # Base case: end of the list\n",
    "                if not recursively_check(current_node.next):    # Recursively check the next node\n",
    "                    return False\n",
    "                if self.front_pointer.val != current_node.val:  # Check the values at the front and back pointers\n",
    "                    return False\n",
    "                self.front_pointer = self.front_pointer.next  # Move to the next node for comparison\n",
    "            return True    # If the front and back pointers match, return True\n",
    "\n",
    "        return recursively_check()      # Start the recursive check"
   ]
  },
  {
   "cell_type": "markdown",
   "id": "168495bb",
   "metadata": {},
   "source": [
    "### Testing"
   ]
  },
  {
   "cell_type": "code",
   "execution_count": 8,
   "id": "4b586e07",
   "metadata": {},
   "outputs": [
    {
     "name": "stdout",
     "output_type": "stream",
     "text": [
      "Test case 1: Input: 1 -> 2 -> 2 -> 1, Expected Output: True, Result: True ✓ Passed!\n",
      "Test case 2: Input: 1 -> 2, Expected Output: False, Result: False ✓ Passed!\n",
      "Test case 3: Input: 1 -> 1 -> 1 -> 1, Expected Output: True, Result: True ✓ Passed!\n",
      "Test case 4: Input: None, Expected Output: True, Result: True ✓ Passed!\n",
      "Test case 5: Input: 1, Expected Output: True, Result: True ✓ Passed!\n",
      "All tests passed! 😊\n"
     ]
    }
   ],
   "source": [
    "# Testing Solution with Recursion\n",
    "test_palindrome(Solution3)"
   ]
  },
  {
   "cell_type": "markdown",
   "id": "60c2a511",
   "metadata": {},
   "source": [
    "## Complexity Analysis\n",
    "- ### Time Complexity: $O(n)$\n",
    "    - Each node in the list is visited exactly once during the recursion, leading to a linear time complexity\n",
    "- ### Space Complexity: $O(n)$\n",
    "    - The space complexity is mainly dictated by the depth of the recursion stack, which, in the worst case (when the list is a palindrome or nearly one), goes as deep as the number of nodes in the list. \n",
    "***"
   ]
  },
  {
   "cell_type": "markdown",
   "id": "3ad79656",
   "metadata": {},
   "source": [
    "# Conclusion\n",
    "We covered three different approaches to solve the Palindrome Linked List problem:\n",
    "### Approach 1: Reverse Second Half In-place\n",
    "- This approach involves finding the middle of the linked list, reversing the second half in-place, and then comparing the first half with the reversed second half.\n",
    "- It has a time complexity of $O(n)$ and a space complexity of $O(1)$, making it efficient in both time and space.\n",
    "- This approach is considered the most optimal solution as it modifies the linked list in-place without using any additional data structures, resulting in constant space complexity.\n",
    "\n",
    "### Approach 2: Copy into List and then Use Two Pointers\n",
    "- This approach copies the values of the linked list into a list (array) and then uses the two-pointer technique to check if the list is a palindrome.\n",
    "- It has a time complexity of $O(n)$ and a space complexity of $O(n)$ due to the additional list created to store the values.\n",
    "- While this approach is simple and easy to understand, it has a higher space complexity compared to the Reverse Second Half In-place approach.\n",
    "\n",
    "### Approach 3: Recursion\n",
    "- This approach uses recursion to traverse the linked list from both ends simultaneously and compare the values of the corresponding nodes.\n",
    "- It has a time complexity of $O(n)$ and a space complexity of $O(n)$ due to the recursive calls on the call stack.\n",
    "- While concise and avoids explicit reversal or copying values, this approach may be less intuitive and has a higher space complexity compared to the Reverse Second Half In-place approach.\n",
    "\n",
    "Among these three approaches, the Reverse Second Half In-place approach is considered the most optimal solution for the Palindrome Linked List problem. It achieves both time and space efficiency, with a time complexity of $O(n)$ and a constant space complexity of $O(1)$. By modifying the linked list in-place, it avoids the need for additional data structures, making it memory-efficient."
   ]
  }
 ],
 "metadata": {
  "kernelspec": {
   "display_name": "Python 3 (ipykernel)",
   "language": "python",
   "name": "python3"
  },
  "language_info": {
   "codemirror_mode": {
    "name": "ipython",
    "version": 3
   },
   "file_extension": ".py",
   "mimetype": "text/x-python",
   "name": "python",
   "nbconvert_exporter": "python",
   "pygments_lexer": "ipython3",
   "version": "3.10.4"
  }
 },
 "nbformat": 4,
 "nbformat_minor": 5
}

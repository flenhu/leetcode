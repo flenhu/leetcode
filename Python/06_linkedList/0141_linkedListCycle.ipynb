{
 "cells": [
  {
   "cell_type": "markdown",
   "id": "47d39047",
   "metadata": {},
   "source": [
    "#### Python | Easy 🟢 | [Linked List](README.md)  | \n",
    "# [141. Linked List Cycle](https://leetcode.com/problems/linked-list-cycle/description/)"
   ]
  },
  {
   "cell_type": "markdown",
   "id": "99c9d843",
   "metadata": {},
   "source": [
    "Given `head`, the head of a linked list, determine if the linked list has a cycle in it.\n",
    "\n",
    "There is a cycle in a linked list if there is some node in the list that can be reached again by continuously following the `next` pointer. Internally, `pos` is ued to denote the index of the node that tail's `next` pointer is connected to. **Note that `pos` is not passed as a parameter**.\n",
    "\n",
    "Return `true` if there is a cycle in the linked list. Otherwise, return `false`.\n",
    "\n",
    "**Example 1:**  \n",
    "![Example 1](https://assets.leetcode.com/uploads/2018/12/07/circularlinkedlist.png)  \n",
    "> **Input:** `head = [3,2,0,-4], pos = 1`  \n",
    "> **Output:** `true`    \n",
    "> **Explanation:** There is a cycle in the linked list, where the tail connects to the 1st node (0-indexed).\n",
    "\n",
    "\n",
    "**Example 2:**  \n",
    "![Example 2](https://assets.leetcode.com/uploads/2018/12/07/circularlinkedlist_test2.png)\n",
    "> **Input:** `head = [1,2], pos = 0`    \n",
    "> **Output:** `true`  \n",
    "> **Explanation:** There is a cycle in the linked list, where the tail connects to the 0th node.\n",
    "\n",
    "**Example 3:**  \n",
    "![Example 3](https://assets.leetcode.com/uploads/2018/12/07/circularlinkedlist_test3.png)\n",
    "> **Input:** `head = []`  \n",
    "> **Output:** `[]`  \n",
    "> **Explanation:** There is no cycle in the linked list.\n",
    "\n",
    "#### Constraints\n",
    "- The number of nodes in the list is in the range $[0, 10^4]$\n",
    "- $-10^5 \\leq$ `Node.val` $\\leq 10^5$\n",
    "- `pos` is `-1` or a **valid index** in the linked-list."
   ]
  },
  {
   "cell_type": "markdown",
   "id": "bb45b6ff",
   "metadata": {},
   "source": [
    "### Problem Explanation\n",
    "- This problem asks us to determine whether a given linked list contains a cycle. \n",
    "- A cycle occurs if a node's `next` pointer points back to a previous node in the list, creating a loop.\n",
    "\n",
    "***"
   ]
  },
  {
   "cell_type": "markdown",
   "id": "b9ee56e4",
   "metadata": {},
   "source": [
    "## Approach 1: Two Pointers (Floyd's Cycle Detection Algorithm)\n",
    "### Intuition\n",
    "- The most classical way to solve this problem is with the two pointer approach, also known as the **Floyd's Cycle Detection Algorithm** or the \"Tortoise and Hare\" algorithm, which involves two pointers moving at different speeds to traverse the list.\n",
    "\n",
    "### Algorithm\n",
    "1. **Initialize Two Pointers:** Start with both `slow` and `fast` at the head of the list.\n",
    "2. **Traverse the List**: Move `slow` one step and `fast` two stpes at a time.\n",
    "3. **Check for Cycle**:\n",
    "    - If `fast` or `fast.next` becomes `null`, the list has no cycle. We can return `False`.\n",
    "    - If `slow` and `fast` meet, a cycle is detected. Then we can return `True`."
   ]
  },
  {
   "cell_type": "markdown",
   "id": "f7fb4370",
   "metadata": {},
   "source": [
    "### Code Implementation: Two Pointers (Floyd's Cycle Detection Algorithm)"
   ]
  },
  {
   "cell_type": "code",
   "execution_count": 1,
   "id": "752d249f",
   "metadata": {},
   "outputs": [],
   "source": []
  },
  {
   "cell_type": "markdown",
   "id": "dc3f9ca1",
   "metadata": {},
   "source": [
    "### Test Cases"
   ]
  },
  {
   "cell_type": "code",
   "execution_count": 2,
   "id": "3afcd8e5",
   "metadata": {},
   "outputs": [
    {
     "name": "stdout",
     "output_type": "stream",
     "text": [
      "Case 1: [5, 4, 3, 2, 1]\n",
      "Case 2: [2, 1]\n",
      "Case 3: []\n"
     ]
    }
   ],
   "source": [
    "def array_to_linkedlist(arr):\n",
    "    dummy = ListNode(0)\n",
    "    current = dummy\n",
    "    for val in arr:\n",
    "        current.next = ListNode(val)\n",
    "        current = current.next\n",
    "    return dummy.next\n",
    "\n",
    "def print_linkedlist(head):\n",
    "    elements = []\n",
    "    while head:\n",
    "        elements.append(head.val)\n",
    "        head = head.next\n",
    "    return elements\n",
    "\n",
    "# Test cases\n",
    "sol = Solution()\n",
    "\n",
    "# Case 1\n",
    "head1 = array_to_linkedlist([1, 2, 3, 4, 5])\n",
    "print(\"Case 1:\", print_linkedlist(sol.reverseList(head1)))\n",
    "\n",
    "# Case 2\n",
    "head2 = array_to_linkedlist([1, 2])\n",
    "print(\"Case 2:\", print_linkedlist(sol.reverseList(head2)))\n",
    "\n",
    "# Case 3\n",
    "head3 = array_to_linkedlist([])\n",
    "print(\"Case 3:\", print_linkedlist(sol.reverseList(head3)))"
   ]
  },
  {
   "cell_type": "markdown",
   "id": "fcf93795",
   "metadata": {},
   "source": [
    "### Complexity Analysis\n",
    "- #### Time Complexity: $O(n)$ \n",
    "    - where n is the number of nodes in the list. We only traverse the list once.\n",
    "    \n",
    "- #### Space Complexity: $O(1)$\n",
    "    - Since no additional space is used that is proportional to the size of the input list. We only really used an extra pointer."
   ]
  }
 ],
 "metadata": {
  "kernelspec": {
   "display_name": "Python 3 (ipykernel)",
   "language": "python",
   "name": "python3"
  },
  "language_info": {
   "codemirror_mode": {
    "name": "ipython",
    "version": 3
   },
   "file_extension": ".py",
   "mimetype": "text/x-python",
   "name": "python",
   "nbconvert_exporter": "python",
   "pygments_lexer": "ipython3",
   "version": "3.11.5"
  }
 },
 "nbformat": 4,
 "nbformat_minor": 5
}

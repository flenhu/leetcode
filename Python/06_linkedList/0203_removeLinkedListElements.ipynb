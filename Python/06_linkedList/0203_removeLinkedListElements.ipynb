{
 "cells": [
  {
   "cell_type": "markdown",
   "id": "835c632c",
   "metadata": {},
   "source": [
    "#### [Python <img src=\"../../assets/pythonLogo.png\" alt=\"py logo\" style=\"height: 1em; vertical-align: sub;\">](../README.md) | Easy 🟢 | [Linked List](README.md)\n",
    "# [203. Remove Linked List Elements](https://leetcode.com/problems/remove-linked-list-elements/description/)"
   ]
  },
  {
   "cell_type": "markdown",
   "id": "b9441082",
   "metadata": {},
   "source": [
    "Given the `head` of a linked list and an integer `val`, remove all the nodes of the linked list that has `Node.val == val`, and return the new head.\n",
    "\n",
    "#### Example 1:\n",
    "![ex1](https://assets.leetcode.com/uploads/2021/03/06/removelinked-list.jpg)\n",
    "> **Input:** `head = [1,2,6,3,4,5,6], val = 6`  \n",
    "> **Output:** `[1,2,3,4,5]`\n",
    "\n",
    "#### Example 2:\n",
    "> **Input:** `head = [], val = 1`  \n",
    "> **Output:** `[]`\n",
    "\n",
    "#### Example 3:\n",
    "> **Input:** `head = [7,7,7,7], val = 7`  \n",
    "> **Output:** `[]`\n",
    "\n",
    "#### Constraints:\n",
    "- The number of nodes in the list is in the range: $\\bf{[0, 10^4]}$.\n",
    "- `1 <= Node.val <= 50`\n",
    "- `0 <= val <= 50`"
   ]
  },
  {
   "cell_type": "markdown",
   "id": "5a871415",
   "metadata": {},
   "source": [
    "## Problem Explanation\n",
    "For this problem we are asked to remove all nodes from a given linked list that contain a specific value `val`. The main challenge here is to navigate and manipulate the structure of the linked list ensuring all nodes with the target value are excluded from the resulting list, without altering the relative order of the remaining nodes.\n",
    "***"
   ]
  },
  {
   "cell_type": "markdown",
   "id": "66c83cb9",
   "metadata": {},
   "source": [
    "# Approach 1: Sentinel Node \n",
    "This approach involves using a sentinel node (_dummy node_) to handle the case where the head linked list needs to be updated. The sentinel node acts as a placeholder to simplify edge cases, especially when the head node itself needs to be removed or when the list is empty.\n",
    "\n",
    "## Intuition\n",
    "- The introduction of a sentinel node into the linked list simplifies the deletion process by providing a stable initial previous node (`prev`) that we can use to bypass nodes with the target value. \n",
    "- This method allows for a uniform approach to node removal, whether at the `head`, middle, or tail of the list, eliminating the need for separate cases for nodes at different positions.\n",
    "\n",
    "## Algorithm\n",
    "1. **Initialize a Sentinel Node:** Create a sentinel node and point its next to the head of the list. This ensures the head of the list can be easily updated if it needs to be removed.\n",
    "2. **Traversal and Removal:**\n",
    "    1. **Initialize two pointers**, prev as the sentinel node and `curr` as the `head` of the list.\n",
    "    2. **Traverse the list with the `curr` pointer**. For each node, check if `curr.val` equals `val`.\n",
    "    3. If `curr.val` matches `val`, update `prev.next` to `curr.next`, effectively removing `curr` from the list.\n",
    "    4. If `curr.val` does not match, simply move `prev` to `curr`.\n",
    "    5. Continue until `curr` reaches the end of the list.\n",
    "3. **Return New Head:** Return `dummy.next`, which is the new head of the modified list."
   ]
  },
  {
   "cell_type": "markdown",
   "id": "7888762a",
   "metadata": {},
   "source": [
    "## Code Implementation"
   ]
  },
  {
   "cell_type": "code",
   "execution_count": 1,
   "id": "e1d254e7",
   "metadata": {},
   "outputs": [],
   "source": [
    "class ListNode:\n",
    "    def __init__(self, val=0, next=None):\n",
    "        self.val = val\n",
    "        self.next = next\n",
    "\n",
    "class Solution:\n",
    "    def removeElements(self, head: ListNode, val: int) -> ListNode:\n",
    "        dummy = ListNode(next=head)     # create a dummy node\n",
    "        prev, curr = dummy, head\n",
    "\n",
    "        while curr: \n",
    "            if curr.val == val:     # if the value is equal to the target value\n",
    "                prev.next = curr.next       # skip the current node\n",
    "            else:\n",
    "                prev = curr             # move the prev pointer to the current node\n",
    "            curr = curr.next            # move the current node to the next node\n",
    "\n",
    "        return dummy.next   # return the new head"
   ]
  },
  {
   "cell_type": "markdown",
   "id": "ce05a3cf",
   "metadata": {},
   "source": [
    "### Testing"
   ]
  },
  {
   "cell_type": "code",
   "execution_count": 8,
   "id": "4c5194cc",
   "metadata": {},
   "outputs": [
    {
     "name": "stdout",
     "output_type": "stream",
     "text": [
      "Test case 1:\n",
      "------------\n",
      "Input: 1 -> 2 -> 3 -> 4 -> 5\n",
      "Val: 6\n",
      "Expected: 1 -> 2 -> 3 -> 4 -> 5\n",
      "Result: 1 -> 2 -> 3 -> 4 -> 5\n",
      "✅ Passed\n",
      "\n",
      "Test case 2:\n",
      "------------\n",
      "Input: \n",
      "Val: 1\n",
      "Expected: \n",
      "Result: \n",
      "✅ Passed\n",
      "\n",
      "Test case 3:\n",
      "------------\n",
      "Input: 7 -> 7 -> 7 -> 7\n",
      "Val: 7\n",
      "Expected: \n",
      "Result: \n",
      "✅ Passed\n",
      "\n",
      "Test case 4:\n",
      "------------\n",
      "Input: 1 -> 2 -> 3 -> 4 -> 5\n",
      "Val: 6\n",
      "Expected: 1 -> 2 -> 3 -> 4 -> 5\n",
      "Result: 1 -> 2 -> 3 -> 4 -> 5\n",
      "✅ Passed\n",
      "\n",
      "Test case 5:\n",
      "------------\n",
      "Input: 6 -> 6 -> 6\n",
      "Val: 6\n",
      "Expected: \n",
      "Result: \n",
      "✅ Passed\n",
      "\n",
      "All tests passed 😊\n"
     ]
    }
   ],
   "source": [
    "def create_linked_list(values):\n",
    "    dummy = ListNode()\n",
    "    curr = dummy\n",
    "    for val in values:\n",
    "        curr.next = ListNode(val)\n",
    "        curr = curr.next\n",
    "    return dummy.next\n",
    "\n",
    "def linked_list_to_str(head):\n",
    "    values = []\n",
    "    curr = head\n",
    "    while curr:\n",
    "        values.append(str(curr.val))\n",
    "        curr = curr.next\n",
    "    return \" -> \".join(values)\n",
    "\n",
    "def test_remove_elements(solution_class):\n",
    "    test_cases = [\n",
    "        (create_linked_list([1, 2, 6, 3, 4, 5, 6]), 6, create_linked_list([1, 2, 3, 4, 5])),\n",
    "        (create_linked_list([]), 1, create_linked_list([])),\n",
    "        (create_linked_list([7, 7, 7, 7]), 7, create_linked_list([])),\n",
    "        (create_linked_list([1, 2, 3, 4, 5]), 6, create_linked_list([1, 2, 3, 4, 5])),\n",
    "        (create_linked_list([6, 6, 6]), 6, create_linked_list([])),\n",
    "    ]\n",
    "\n",
    "    all_tests_passed = True\n",
    "\n",
    "    for i, (linked_list, val, expected_output) in enumerate(test_cases, start=1):\n",
    "        solution = solution_class()\n",
    "        result = solution.removeElements(linked_list, val)\n",
    "        input_str = linked_list_to_str(linked_list)\n",
    "        expected_output_str = linked_list_to_str(expected_output)\n",
    "        result_str = linked_list_to_str(result)\n",
    "\n",
    "        print(f\"Test case {i}:\")\n",
    "        print(\"------------\")\n",
    "        print(f\"Input: {input_str}\")\n",
    "        print(f\"Val: {val}\")\n",
    "        print(f\"Expected: {expected_output_str}\")\n",
    "        print(f\"Result: {result_str}\")\n",
    "\n",
    "        if result_str == expected_output_str:\n",
    "            print(\"✅ Passed\")\n",
    "        else:\n",
    "            print(\"✗ Failed\")\n",
    "            all_tests_passed = False\n",
    "        print()\n",
    "\n",
    "    if all_tests_passed:\n",
    "        print(\"All tests passed 😊\")\n",
    "\n",
    "# Testing sentinel node approach\n",
    "test_remove_elements(Solution)"
   ]
  },
  {
   "cell_type": "markdown",
   "id": "8a5df28b",
   "metadata": {},
   "source": [
    "## Complexity Analysis\n",
    "- #### Variables:\n",
    "    - $n$ is the length of the linked list.\n",
    "- ### Time Complexity: $O(n)$\n",
    "    - We traverse the entire linked list once, thus our time complexity is linear.\n",
    "\n",
    "- ### Space Complexity: $O(1)$\n",
    "    - We are using only a constant amount of extra space for storing pointers and temporary variables, regardless of the input size.\n",
    "***"
   ]
  },
  {
   "cell_type": "markdown",
   "id": "32c95f2b",
   "metadata": {},
   "source": [
    "# Approach 2: Recursive Removal\n",
    "Another way we can approach this problem is by using recursion to traverse through the linked list, remove nodes that match the given value, and link the remaining nodes accordingly.\n",
    "\n",
    "## Intuition\n",
    "The intuition behind this approach is that each recursive call can handle the removal of nodes with the target value `val` starting from the end of the list to the beginning. This approach simplifies the problem by reducing the removal process for each node and deciding whether to remove it based on its value.\n",
    "\n",
    "## Algorithm\n"
   ]
  },
  {
   "cell_type": "markdown",
   "id": "8d34d4db",
   "metadata": {},
   "source": [
    "## Code Implementation"
   ]
  },
  {
   "cell_type": "code",
   "execution_count": null,
   "id": "02e01cbb",
   "metadata": {},
   "outputs": [],
   "source": []
  },
  {
   "cell_type": "markdown",
   "id": "d9d344bd",
   "metadata": {},
   "source": [
    "### Testing"
   ]
  },
  {
   "cell_type": "code",
   "execution_count": null,
   "id": "df61ca3d",
   "metadata": {},
   "outputs": [],
   "source": []
  },
  {
   "cell_type": "markdown",
   "id": "00d59199",
   "metadata": {},
   "source": [
    "## Complexity Analysis\n",
    "- ### Time Complexity: $O()$\n",
    "\n",
    "- ### Space Complexity: $O()$\n",
    "***"
   ]
  }
 ],
 "metadata": {
  "kernelspec": {
   "display_name": "Python 3 (ipykernel)",
   "language": "python",
   "name": "python3"
  },
  "language_info": {
   "codemirror_mode": {
    "name": "ipython",
    "version": 3
   },
   "file_extension": ".py",
   "mimetype": "text/x-python",
   "name": "python",
   "nbconvert_exporter": "python",
   "pygments_lexer": "ipython3",
   "version": "3.10.4"
  }
 },
 "nbformat": 4,
 "nbformat_minor": 5
}

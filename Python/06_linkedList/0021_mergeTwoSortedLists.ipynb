{
 "cells": [
  {
   "cell_type": "markdown",
   "id": "4665bae5",
   "metadata": {},
   "source": [
    "#### Python | Easy | Linked List\n",
    "# [21. Merge Two Sorted Lists](https://leetcode.com/problems/merge-two-sorted-lists/)"
   ]
  },
  {
   "cell_type": "markdown",
   "id": "876ae81d",
   "metadata": {},
   "source": [
    "You are given the heads of two sorted linked lists `list1` and `list2`.\n",
    "\n",
    "Merge the two lists into one sorted list. The list should be made by splicing together the nodes of the first two lists.\n",
    "\n",
    "Return the head of the merged linked list.\n",
    "\n",
    "**Example 1:**\n",
    "<div align=\"center\">\n",
    "    <img src=\"https://assets.leetcode.com/uploads/2020/10/03/merge_ex1.jpg\" width=\"50%\" height=\"auto\"/>\n",
    "</div>\n",
    "\n",
    "> **Input:** `list1 = [1,2,4], list2 = [1,3,4]`  \n",
    "> **Output:** `[1,1,2,3,4,4]`  \n",
    "> **Explanation:**  \n",
    "\n",
    "**Example 2:**\n",
    "> **Input:** `list1 = [], list2 = []`  \n",
    "> **Output:** `[]`  \n",
    "> **Explanation:** Both lists are empty, so the merged list is also empty.\n",
    "\n",
    "**Example 3:**\n",
    "> **Input:** `list1 = [], list2 =[0]`  \n",
    "> **Output:** `[0]`  \n",
    "> **Explanation:** Since `list1` empty, the merged list is just `list2`."
   ]
  },
  {
   "cell_type": "markdown",
   "id": "6460b503",
   "metadata": {},
   "source": [
    "### Problem Explanation\n",
    "- The \"Merge Two Sorted Lists\" problem involves merging two sorted link lists (`list1` and `list2`) into a single sorted linked list.\n",
    "- The newly formed merged list should be formed by combining the nodes of the two input lists without creating new nodes.\n",
    "- This can be handled by either an recursive or iterative approach."
   ]
  },
  {
   "cell_type": "markdown",
   "id": "1f715973",
   "metadata": {},
   "source": [
    "## Approach 1: Recursion\n",
    "### Intuition\n",
    "- The recursive approach defines the merge operation as repeatedly selecting the smaller of the two list heads and merging teh rest of the elements accordingly. \n",
    "- This method handles the merging process without needing to manage too many edge cases, which effectively breaks down a larger problem into the more manageable bits.\n",
    "\n",
    "### Algorithm\n",
    "1. **Base Cases**: If either `list1` or `list2` is null, return the non-null list.\n",
    "2. **Select the smaller head**: Determine which of `list1` or `list2` has a smaller head.\n",
    "3. **Recursive merge**: Set the `next` of the smaller head to the result of a recursive call, passing the next element of the smaller list and the other list.\n",
    "4. **Return**: Return the smaller head as the new head of the merged list. This process will then continue until both lists reach their end."
   ]
  },
  {
   "cell_type": "markdown",
   "id": "64335a4b",
   "metadata": {},
   "source": [
    "### Code Implementation: Recursive"
   ]
  },
  {
   "cell_type": "code",
   "execution_count": 3,
   "id": "aeb59141",
   "metadata": {},
   "outputs": [
    {
     "ename": "IndentationError",
     "evalue": "expected an indented block (1430038576.py, line 8)",
     "output_type": "error",
     "traceback": [
      "\u001b[0;36m  Input \u001b[0;32mIn [3]\u001b[0;36m\u001b[0m\n\u001b[0;31m    \u001b[0m\n\u001b[0m    ^\u001b[0m\n\u001b[0;31mIndentationError\u001b[0m\u001b[0;31m:\u001b[0m expected an indented block\n"
     ]
    }
   ],
   "source": [
    "# Definition for singly-linked list.\n",
    "# class ListNode:\n",
    "#     def __init__(self, val=0, next=None):\n",
    "#         self.val = val\n",
    "#         self.next = next\n",
    "class Solution:\n",
    "    def mergeTwoLists(self, list1: Optional[ListNode], list2: Optional[ListNode]) -> Optional[ListNode]:\n",
    "        "
   ]
  },
  {
   "cell_type": "markdown",
   "id": "5a33212b",
   "metadata": {},
   "source": []
  }
 ],
 "metadata": {
  "kernelspec": {
   "display_name": "Python 3 (ipykernel)",
   "language": "python",
   "name": "python3"
  },
  "language_info": {
   "codemirror_mode": {
    "name": "ipython",
    "version": 3
   },
   "file_extension": ".py",
   "mimetype": "text/x-python",
   "name": "python",
   "nbconvert_exporter": "python",
   "pygments_lexer": "ipython3",
   "version": "3.9.12"
  }
 },
 "nbformat": 4,
 "nbformat_minor": 5
}

{
 "cells": [
  {
   "cell_type": "markdown",
   "id": "4665bae5",
   "metadata": {},
   "source": [
    "#### [Python](../README.md)  | Easy 🟢 | [Linked List](README.md) \n",
    "# [21. Merge Two Sorted Lists](https://leetcode.com/problems/merge-two-sorted-lists/)"
   ]
  },
  {
   "cell_type": "markdown",
   "id": "876ae81d",
   "metadata": {},
   "source": [
    "You are given the heads of two sorted linked lists `list1` and `list2`.\n",
    "\n",
    "Merge the two lists into one sorted list. The list should be made by splicing together the nodes of the first two lists.\n",
    "\n",
    "Return the head of the merged linked list.\n",
    "\n",
    "**Example 1:**\n",
    "<div align=\"center\">\n",
    "    <img src=\"https://assets.leetcode.com/uploads/2020/10/03/merge_ex1.jpg\" width=\"50%\" height=\"auto\"/>\n",
    "</div>\n",
    "\n",
    "> **Input:** `list1 = [1,2,4], list2 = [1,3,4]`  \n",
    "> **Output:** `[1,1,2,3,4,4]`  \n",
    "> **Explanation:**  \n",
    "\n",
    "**Example 2:**\n",
    "> **Input:** `list1 = [], list2 = []`  \n",
    "> **Output:** `[]`  \n",
    "> **Explanation:** Both lists are empty, so the merged list is also empty.\n",
    "\n",
    "**Example 3:**\n",
    "> **Input:** `list1 = [], list2 =[0]`  \n",
    "> **Output:** `[0]`  \n",
    "> **Explanation:** Since `list1` empty, the merged list is just `list2`."
   ]
  },
  {
   "cell_type": "markdown",
   "id": "eda59f0d",
   "metadata": {},
   "source": [
    "### Problem Explanation\n",
    "- The \"Merge Two Sorted Lists\" problem involves merging two sorted link lists (`list1` and `list2`) into a single sorted linked list.\n",
    "- The newly formed merged list should be formed by combining the nodes of the two input lists without creating new nodes.\n",
    "- This can be handled by either an recursive or iterative approach."
   ]
  },
  {
   "cell_type": "markdown",
   "id": "1f715973",
   "metadata": {},
   "source": [
    "## Approach 1: Recursion\n",
    "### Intuition\n",
    "- The recursive approach defines the merge operation as repeatedly selecting the smaller of the two list heads and merging teh rest of the elements accordingly. \n",
    "- This method handles the merging process without needing to manage too many edge cases, which effectively breaks down a larger problem into the more manageable bits.\n",
    "\n",
    "### Algorithm\n",
    "1. **Base Cases**: If either `list1` or `list2` is null, return the non-null list.\n",
    "2. **Select the smaller head**: Determine which of `list1` or `list2` has a smaller head.\n",
    "3. **Recursive merge**: Set the `next` of the smaller head to the result of a recursive call, passing the next element of the smaller list and the other list.\n",
    "4. **Return**: Return the smaller head as the new head of the merged list. This process will then continue until both lists reach their end."
   ]
  },
  {
   "cell_type": "markdown",
   "id": "d373676f",
   "metadata": {},
   "source": [
    "### Code Implementation: Recursive"
   ]
  },
  {
   "cell_type": "code",
   "execution_count": 7,
   "id": "7e0180fa",
   "metadata": {},
   "outputs": [],
   "source": [
    "from typing import Optional\n",
    "\n",
    "# Definition for singly-linked list.\n",
    "class ListNode:\n",
    "    def __init__(self, val=0, next=None):\n",
    "        self.val = val\n",
    "        self.next = next\n",
    "\n",
    "class Solution:\n",
    "    def mergeTwoLists(self, list1: Optional[ListNode], list2: Optional[ListNode]) -> Optional[ListNode]:\n",
    "        # Base case: if etiher list is empty: return the other list\n",
    "        if not list1:\n",
    "            return list2\n",
    "        if not list2:\n",
    "            return list1\n",
    "        \n",
    "        # Choose the smaller head and recursively merge the rest\n",
    "        if list1.vak < list2.val:\n",
    "            # if list1's head is smaller, link it to the merge result if list1's next and list2\n",
    "            list1.next = self.mergeTwoLists(list1.next, list2)\n",
    "            return list1\n",
    "        else:\n",
    "             # If list2's head is smaller, link it to the merge result of list1 and list2's next\n",
    "            list2.next = self.mergeTwoLists(list1, list2.next)\n",
    "            return list2"
   ]
  },
  {
   "cell_type": "markdown",
   "id": "709d4e6b",
   "metadata": {},
   "source": [
    "### Complexity Analysis\n",
    "- #### Time Complexity: $O(n + m)$ \n",
    "    - where n and m are the lengths of the lists. Each recursive call processes one element.\n",
    "\n",
    "- #### Space Complexity: $O(n + m)$\n",
    "    - due to the recursive call stack"
   ]
  },
  {
   "cell_type": "markdown",
   "id": "a6667fad",
   "metadata": {},
   "source": [
    "## Approach 2: Iterative\n",
    "### Intuition\n",
    "- The intuitive approach involves maintaining a current pointer, `prev`, and iterating through both lists simultaneously, choosing the smaller current node and linking it to the merged list.\n",
    "- This approach works since it processes each element in a linear fashion, merging the lists without additional memory for nodes.\n",
    "\n",
    "### Algorithm\n",
    "1. **Setup a Dummy Node**: Initialize a dummy node to simplify the merging logic. Use a `prev` pointer to track the end of the merged list.\n",
    "2. **Iterate through Lists**: While neither `list1` nor `list2` is exhausted, compare their current values. Attach the smaller node to `prev.next` and update `prev`.\n",
    "3. **Handle Remaining Nodes**: If one list is exhausted before the other, attach the remaining list to `prev.next`.\n",
    "4. **Return Merged List**: The merged list starts from `dummy.next`."
   ]
  },
  {
   "cell_type": "markdown",
   "id": "ddce7082",
   "metadata": {},
   "source": [
    "### Code Implementation: Iterative"
   ]
  },
  {
   "cell_type": "code",
   "execution_count": 8,
   "id": "36c750bd",
   "metadata": {},
   "outputs": [],
   "source": [
    "# Definition for singly-linked list.\n",
    "# class ListNode:\n",
    "#     def __init__(self, val=0, next=None):\n",
    "#         self.val = val\n",
    "#         self.next = next\n",
    "\n",
    "class Solution:\n",
    "    def mergeTwoLists(self, list1: ListNode, list2: ListNode) -> ListNode:\n",
    "        # Initialize a dummy node to simplify the merging logic\n",
    "        \n",
    "        dummy = prev = ListNode()\n",
    "        \n",
    "        # Iterate through both lists\n",
    "        while list1 and list2:\n",
    "            # Compare the current nodes of both lists\n",
    "            if list1.val < list2.val:\n",
    "                # if list1's node is smaller, link it to the previous node\n",
    "                prev.next = list1\n",
    "                # Move to the node in list1\n",
    "                list1 = list1.next\n",
    "            else:\n",
    "                # If list2's node is smaller, link it to the previous node\n",
    "                prev.next = list2\n",
    "                # Move to the next node in list2\n",
    "                list2 = list2.next\n",
    "            \n",
    "            # Move the prev pointer forward to the newly added node\n",
    "            prev = prev.next\n",
    "            \n",
    "        # link the remaining part of the list which is not yet exhausted\n",
    "        prev.next = list1 or list2\n",
    "        \n",
    "        # Return the head of the merged list, skip the dummy node\n",
    "        return dummy.next"
   ]
  },
  {
   "cell_type": "markdown",
   "id": "16e92a8d",
   "metadata": {},
   "source": [
    "### Complexity Analysis\n",
    "- #### Time Complexity: $O(n + m)$ \n",
    "    - where n and m are the lengths of the two lists. The while loop iterates through both lists entirely.\n",
    "\n",
    "- #### Space Complexity: $O(1)$\n",
    "    - The iterative approach only requires a few pointers and no additional data structures."
   ]
  }
 ],
 "metadata": {
  "kernelspec": {
   "display_name": "Python 3 (ipykernel)",
   "language": "python",
   "name": "python3"
  },
  "language_info": {
   "codemirror_mode": {
    "name": "ipython",
    "version": 3
   },
   "file_extension": ".py",
   "mimetype": "text/x-python",
   "name": "python",
   "nbconvert_exporter": "python",
   "pygments_lexer": "ipython3",
   "version": "3.10.4"
  }
 },
 "nbformat": 4,
 "nbformat_minor": 5
}

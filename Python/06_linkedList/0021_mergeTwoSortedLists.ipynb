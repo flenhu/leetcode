{
 "cells": [
  {
   "cell_type": "markdown",
   "id": "4665bae5",
   "metadata": {},
   "source": [
    "#### Python | Easy | Linked List\n",
    "# [21. Merge Two Sorted Lists](https://leetcode.com/problems/merge-two-sorted-lists/)"
   ]
  },
  {
   "cell_type": "markdown",
   "id": "876ae81d",
   "metadata": {},
   "source": [
    "You are given the heads of two sorted linked lists `list1` and `list2`.\n",
    "\n",
    "Merge the two lists into one sorted list. The list should be made by splicing together the nodes of the first two lists.\n",
    "\n",
    "Return the head of the merged linked list.\n",
    "\n",
    "**Example 1:**\n",
    "<div align=\"center\">\n",
    "    <img src=\"https://assets.leetcode.com/uploads/2020/10/03/merge_ex1.jpg\" width=\"50%\" height=\"auto\"/>\n",
    "</div>\n",
    "\n",
    "> **Input:** `list1 = [1,2,4], list2 = [1,3,4]`  \n",
    "> **Output:** `[1,1,2,3,4,4]`  \n",
    "> **Explanation:**  \n",
    "\n",
    "**Example 2:**\n",
    "> **Input:** `list1 = [], list2 = []`  \n",
    "> **Output:** `[]`  \n",
    "> **Explanation:** Both lists are empty, so the merged list is also empty.\n",
    "\n",
    "**Example 3:**\n",
    "> **Input:** `list1 = [], list2 =[0]`  \n",
    "> **Output:** `[0]`  \n",
    "> **Explanation:** Since `list1` empty, the merged list is just `list2`."
   ]
  },
  {
   "cell_type": "markdown",
   "id": "1f715973",
   "metadata": {},
   "source": [
    "### <u>Intuition</u>\n",
    "Binary search is a classic algorithm used for efficiently searching for an item in a sorted list. The intuition behind binary search is to repeatedly divide the search interval in half. If the value of the search key is less than the item in the middle of the interval, narrow the interval to the lower half. Otherwise, we want to narrow it to the upper half. Then we just repeatedly check until the value is found or the interval is empty."
   ]
  }
 ],
 "metadata": {
  "kernelspec": {
   "display_name": "Python 3 (ipykernel)",
   "language": "python",
   "name": "python3"
  },
  "language_info": {
   "codemirror_mode": {
    "name": "ipython",
    "version": 3
   },
   "file_extension": ".py",
   "mimetype": "text/x-python",
   "name": "python",
   "nbconvert_exporter": "python",
   "pygments_lexer": "ipython3",
   "version": "3.9.12"
  }
 },
 "nbformat": 4,
 "nbformat_minor": 5
}

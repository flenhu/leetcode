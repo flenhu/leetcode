{
 "cells": [
  {
   "cell_type": "markdown",
   "id": "47d39047",
   "metadata": {},
   "source": [
    "#### Python | Easy | Linked List\n",
    "# [206. Reverse Linked List](https://leetcode.com/problems/reverse-linked-list/)"
   ]
  },
  {
   "cell_type": "markdown",
   "id": "99c9d843",
   "metadata": {},
   "source": [
    "Given the `head` of a singly linked list, reverse the list, and return the reversed list.\n",
    "\n",
    "**Example 1:**\n",
    "![Example 1](https://assets.leetcode.com/uploads/2021/02/19/rev1ex1.jpg)\n",
    "> **Input:** `head = [1,2,3,4,5]`  \n",
    "> **Output:** `[5,4,3,2,1]`\n",
    "\n",
    "**Example 2:**  \n",
    "![Example 2](https://assets.leetcode.com/uploads/2021/02/19/rev1ex2.jpg)\n",
    "> **Input:** `head = [1,2]`  \n",
    "> **Output:** `[2,1]`\n",
    "\n",
    "**Example 3:**  \n",
    "> **Input:** `head = []`  \n",
    "> **Output:** `[]`\n",
    "\n",
    "#### Constraints\n",
    "- The number of nodes in the list is the range `[0, 5000]`\n",
    "- `-5000 <= Node.val <= 5000`"
   ]
  },
  {
   "cell_type": "markdown",
   "id": "bb45b6ff",
   "metadata": {},
   "source": [
    "### <u>Intuition</u>\n",
    "The idea is to traverse the `prices` array while also keeping track of the lowest price seen so far and the maximum profit that can be made at each step.\n",
    "- **Lowest Price**: We need to keep track of the lowest price encountered as we iterate through the array. This repesents the best day to buy the stock up to that point.\n",
    "- **Maximum Profit**: At each day, we need to calculate the potential profit by subtracting the current lowest price from the actual current price. We then need to update the maximum profit if this potential profit is higher than the current maximum."
   ]
  }
 ],
 "metadata": {
  "kernelspec": {
   "display_name": "Python 3 (ipykernel)",
   "language": "python",
   "name": "python3"
  },
  "language_info": {
   "codemirror_mode": {
    "name": "ipython",
    "version": 3
   },
   "file_extension": ".py",
   "mimetype": "text/x-python",
   "name": "python",
   "nbconvert_exporter": "python",
   "pygments_lexer": "ipython3",
   "version": "3.9.12"
  }
 },
 "nbformat": 4,
 "nbformat_minor": 5
}

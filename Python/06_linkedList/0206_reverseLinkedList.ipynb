{
 "cells": [
  {
   "cell_type": "markdown",
   "id": "47d39047",
   "metadata": {},
   "source": [
    "#### [Python](../README.md)  | Easy 🟢 | [Linked List](README.md)  | \n",
    "# [206. Reverse Linked List](https://leetcode.com/problems/reverse-linked-list/)"
   ]
  },
  {
   "cell_type": "markdown",
   "id": "99c9d843",
   "metadata": {},
   "source": [
    "Given the `head` of a singly linked list, reverse the list, and return the reversed list.\n",
    "\n",
    "**Example 1:**  \n",
    "![Example 1](https://assets.leetcode.com/uploads/2021/02/19/rev1ex1.jpg)  \n",
    "![](https://assets.leetcode.com/uploads/2021/02/19/rev1ex1.jpg)  \n",
    "> **Input:** `head = [1,2,3,4,5]`  \n",
    "> **Output:** `[5,4,3,2,1]`  \n",
    "> **Explanation:** The elements of the list are reversed from `[1,2,3,4,5]` to `[5,4,3,2,1]`\n",
    "\n",
    "\n",
    "**Example 2:**  \n",
    "![Example 2](https://assets.leetcode.com/uploads/2021/02/19/rev1ex2.jpg)  \n",
    "> **Input:** `head = [1,2]`  \n",
    "> **Output:** `[2,1]`  \n",
    "> **Explanation:** The list `[1,2]` is reversed to `[2,1]`\n",
    "\n",
    "**Example 3:**  \n",
    "> **Input:** `head = []`  \n",
    "> **Output:** `[]`  \n",
    "> **Explanation:** An empty list remains empty after reversal.\n",
    "\n",
    "#### Constraints\n",
    "- The number of nodes in the list is the range `[0, 5000]`\n",
    "- `-5000 <= Node.val <= 5000`"
   ]
  },
  {
   "cell_type": "markdown",
   "id": "bb45b6ff",
   "metadata": {},
   "source": [
    "### Problem Explanation\n",
    "- This problem is what is sounds like which is to reverse a singly linked list.\n",
    "- Given the head of a singly linked list, we nede to return the head of a new list that contains the nodes of the original list in reverse order."
   ]
  },
  {
   "cell_type": "markdown",
   "id": "b9ee56e4",
   "metadata": {},
   "source": [
    "## Approach 1: Iterative\n",
    "### Intuition\n",
    "- The main idea behind this problem is to change the direction of the `next` pointers in the linked list.\n",
    "- We iterate through the list and, for each node, change its `next` pointer to point to the previous node instead of the next node."
   ]
  },
  {
   "cell_type": "markdown",
   "id": "f7fb4370",
   "metadata": {},
   "source": [
    "### Code Implementation: Iterative"
   ]
  },
  {
   "cell_type": "code",
   "execution_count": 1,
   "id": "752d249f",
   "metadata": {},
   "outputs": [],
   "source": [
    "# Definition of a singly-linked list.\n",
    "class ListNode:\n",
    "    def __init__(self, val=0, next=None):\n",
    "        self.val = val\n",
    "        self.next = next\n",
    "        \n",
    "class Solution:\n",
    "    def reverseList(self, head: ListNode) -> ListNode:\n",
    "        # Initialize two pointers: prev (previous node) and curr (current node)\n",
    "        prev, curr = None, head\n",
    "        \n",
    "        # Iterate over the list\n",
    "        while curr:\n",
    "            # Store the next node temporarily \n",
    "            temp = curr.next\n",
    "            \n",
    "            # Reverse the current node's pointer \n",
    "            curr.next = prev\n",
    "            \n",
    "            # move prev and curr one step forward\n",
    "            prev = curr\n",
    "            curr = temp\n",
    "            \n",
    "        # at the end, prev should be the new head of the reversed list.\n",
    "        return prev"
   ]
  },
  {
   "cell_type": "markdown",
   "id": "dc3f9ca1",
   "metadata": {},
   "source": [
    "### Test Cases"
   ]
  },
  {
   "cell_type": "code",
   "execution_count": 2,
   "id": "3afcd8e5",
   "metadata": {},
   "outputs": [
    {
     "name": "stdout",
     "output_type": "stream",
     "text": [
      "Case 1: [5, 4, 3, 2, 1]\n",
      "Case 2: [2, 1]\n",
      "Case 3: []\n"
     ]
    }
   ],
   "source": [
    "def array_to_linkedlist(arr):\n",
    "    dummy = ListNode(0)\n",
    "    current = dummy\n",
    "    for val in arr:\n",
    "        current.next = ListNode(val)\n",
    "        current = current.next\n",
    "    return dummy.next\n",
    "\n",
    "def print_linkedlist(head):\n",
    "    elements = []\n",
    "    while head:\n",
    "        elements.append(head.val)\n",
    "        head = head.next\n",
    "    return elements\n",
    "\n",
    "# Test cases\n",
    "sol = Solution()\n",
    "\n",
    "# Case 1\n",
    "head1 = array_to_linkedlist([1, 2, 3, 4, 5])\n",
    "print(\"Case 1:\", print_linkedlist(sol.reverseList(head1)))\n",
    "\n",
    "# Case 2\n",
    "head2 = array_to_linkedlist([1, 2])\n",
    "print(\"Case 2:\", print_linkedlist(sol.reverseList(head2)))\n",
    "\n",
    "# Case 3\n",
    "head3 = array_to_linkedlist([])\n",
    "print(\"Case 3:\", print_linkedlist(sol.reverseList(head3)))"
   ]
  },
  {
   "cell_type": "markdown",
   "id": "fcf93795",
   "metadata": {},
   "source": [
    "### Complexity Analysis\n",
    "- #### Time Complexity: $O(n)$ \n",
    "    - where n is the number of nodes in the list. We only traverse the list once.\n",
    "    \n",
    "- #### Space Complexity: $O(1)$\n",
    "    - Since no additional space is used that is proportional to the size of the input list. We only really used an extra pointer."
   ]
  }
 ],
 "metadata": {
  "kernelspec": {
   "display_name": "Python 3 (ipykernel)",
   "language": "python",
   "name": "python3"
  },
  "language_info": {
   "codemirror_mode": {
    "name": "ipython",
    "version": 3
   },
   "file_extension": ".py",
   "mimetype": "text/x-python",
   "name": "python",
   "nbconvert_exporter": "python",
   "pygments_lexer": "ipython3",
   "version": "3.10.4"
  }
 },
 "nbformat": 4,
 "nbformat_minor": 5
}

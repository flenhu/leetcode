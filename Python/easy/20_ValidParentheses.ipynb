{
 "cells": [
  {
   "cell_type": "markdown",
   "id": "264ef9c5",
   "metadata": {},
   "source": [
    "#### Python | Easy | Stack\n",
    "# [20. Valid Parentheses](https://leetcode.com/problems/valid-parentheses/)"
   ]
  },
  {
   "cell_type": "markdown",
   "id": "832b5abf",
   "metadata": {},
   "source": [
    "Given a string `s` containing just the characters `'('`, `')'`, `'{'`, `'}'`, `'['` and `']'`, determine if the input string is valid.\n",
    "\n",
    "An input string is valid if:\n",
    "\n",
    "1. Open brackets must be closed by the same type of brackets.\n",
    "2. Open brackets must be closed in the correct order.\n",
    "3. Every close bracket has a corresponding open bracket of the same type.\n",
    "\n",
    "**Example 1:**\n",
    "\n",
    "- Input: `s = \"()\"`  \n",
    "- Output: `true`\n",
    "\n",
    "**Example 2:**\n",
    "\n",
    "- Input: `s = \"()[]{}\"`  \n",
    "- Output: `true`\n",
    "\n",
    "**Example 3:**\n",
    "\n",
    "- Input: `s = \"(]\"`  \n",
    "- Output: `false`\n",
    "\n",
    "#### Constraints\n",
    "\n",
    "- <code>1 &lt;= s.length &lt;= 10<sup>4</sup></code>\n",
    "- `s` consists of parentheses only `'()[]{}'`."
   ]
  }
 ],
 "metadata": {
  "kernelspec": {
   "display_name": "Python 3 (ipykernel)",
   "language": "python",
   "name": "python3"
  },
  "language_info": {
   "codemirror_mode": {
    "name": "ipython",
    "version": 3
   },
   "file_extension": ".py",
   "mimetype": "text/x-python",
   "name": "python",
   "nbconvert_exporter": "python",
   "pygments_lexer": "ipython3",
   "version": "3.9.12"
  }
 },
 "nbformat": 4,
 "nbformat_minor": 5
}

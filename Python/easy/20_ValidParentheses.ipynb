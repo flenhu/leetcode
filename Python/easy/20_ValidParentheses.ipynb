{
 "cells": [
  {
   "cell_type": "markdown",
   "id": "264ef9c5",
   "metadata": {},
   "source": [
    "#### Python | Easy | Stack | ⭐\n",
    "# [20. Valid Parentheses](https://leetcode.com/problems/valid-parentheses/)"
   ]
  },
  {
   "cell_type": "markdown",
   "id": "832b5abf",
   "metadata": {},
   "source": [
    "Given a string `s` containing just the characters `'('`, `')'`, `'{'`, `'}'`, `'['` and `']'`, determine if the input string is valid.\n",
    "\n",
    "An input string is valid if:\n",
    "\n",
    "1. Open brackets must be closed by the same type of brackets.\n",
    "2. Open brackets must be closed in the correct order.\n",
    "3. Every close bracket has a corresponding open bracket of the same type.\n",
    "\n",
    "**Example 1:**\n",
    "\n",
    " > **Input:** `s = \"()\"`  \n",
    " > **Output:** `true`  \n",
    " > **Explanation:** `\"()\"` is a valid string because each open bracket is closed by the same type of bracket.\n",
    "\n",
    "**Example 2:**\n",
    "\n",
    "> **Input:** `s = \"()[]{}\"`  \n",
    "> **Output: `true`  \n",
    "> **Explanation:** `\"()[]\"` is also valid: '()' is closed, and then '[]' is closed.\n",
    "\n",
    "**Example 3:**\n",
    "\n",
    "> **Input:** `s = \"(]\"`  \n",
    "> **Output:** `false`  \n",
    "> **Explanation:** `\"(]\"` is not valid because the `')'` is not closing a `'('`.\n",
    "\n",
    "#### Constraints\n",
    "\n",
    "- <code>1 &lt;= s.length &lt;= 10<sup>4</sup></code>\n",
    "- `s` consists of parentheses only `'()[]{}'`."
   ]
  },
  {
   "cell_type": "markdown",
   "id": "a7cf5d8e",
   "metadata": {},
   "source": [
    "### <u>Intuition</u>\n",
    "The best approach to tackling this problem is by using a **stack**, which has a *Last-In-First-Out* data structure. The idea is to traverse the string and for each character:\n",
    "- If it's an opening bracket, push it onto the stack\n",
    "- If it's a closing bracket, check if it matches the top element of the stack.\n",
    "    - If it does, pop the top element from the stack\n",
    "    - If it does not, the string is invalid\n",
    "    \n",
    "A valid string would result in an empty stack at the end, as all opening brackets would have been matched and removed."
   ]
  },
  {
   "cell_type": "markdown",
   "id": "f66f9db1",
   "metadata": {},
   "source": [
    "##  Approach 1: Using a stack\n",
    "To tackle the problem, we do the following:\n",
    "- Initalize an empty stack\n",
    "- Use a hash map to map each closing bracket to its corresponding opening bracket for easy matching."
   ]
  },
  {
   "cell_type": "markdown",
   "id": "d9ed8949",
   "metadata": {},
   "source": [
    "### <u>Algorithm:</u>\n",
    "\n",
    "1. Iterate through each character in the string.\n",
    "2. If the character is an opening bracket, push it onto the stack.\n",
    "3. If it's a closing bracket:\n",
    "    - Check if the stack is empty (invalid case if true)\n",
    "    - Else, check if the top stack matches the corresponding opening bracket.\n",
    "        - If not, return `False`.\n",
    "4. After iterating, check if the stack is empty.\n",
    "    - Return `True` if empty, else return `False`"
   ]
  },
  {
   "cell_type": "markdown",
   "id": "535790b1",
   "metadata": {},
   "source": [
    "### <u>Python Implementation</u>"
   ]
  },
  {
   "cell_type": "code",
   "execution_count": 3,
   "id": "7047e22b",
   "metadata": {},
   "outputs": [],
   "source": [
    "class Solution:\n",
    "    def isValid(self, s: str) -> bool:\n",
    "        # Initialize an empty stack to keep track of opening brackets.\n",
    "        stack = []\n",
    "        \n",
    "        # Hash map to keep track os closing to opening brackets for easy lookup\n",
    "        bracket_map = { ')': '(', '}': '{', ']': '['}\n",
    "        \n",
    "        # Iterate over each character in the string\n",
    "        for c in s:\n",
    "            if c in bracket_map.values():  # if the char is an opening bracket, push it onto the stack\n",
    "                stack.append(c)\n",
    "            elif c in bracket_map:      # if the char is a closing bracket\n",
    "                #check if the stack is empty or if top of stack does not match the opening bracket\n",
    "                if not stack or bracket_map[c] != stack.pop():\n",
    "                    return False\n",
    "            else: \n",
    "                return False               # if the char is not a recognized bracket, return false\n",
    "        \n",
    "        return stack == []       # return True if the stack is empty (all matched),else false\n",
    "                "
   ]
  },
  {
   "cell_type": "markdown",
   "id": "26bd46c2",
   "metadata": {},
   "source": [
    "#### Test Usage"
   ]
  },
  {
   "cell_type": "code",
   "execution_count": 4,
   "id": "d644da4c",
   "metadata": {},
   "outputs": [
    {
     "name": "stdout",
     "output_type": "stream",
     "text": [
      "True\n",
      "True\n",
      "False\n",
      "False\n"
     ]
    }
   ],
   "source": [
    "# Create an instance of the Solution class\n",
    "sol = Solution()\n",
    "\n",
    "# Test Case 1: Should return True\n",
    "print(sol.isValid(\"()\"))  # Expected output: True\n",
    "\n",
    "# Test Case 2: Should return True\n",
    "print(sol.isValid(\"()[]{}\"))  # Expected output: True\n",
    "\n",
    "# Test Case 3: Should return False\n",
    "print(sol.isValid(\"(]\"))  # Expected output: False\n",
    "\n",
    "# Additional Test Case: Should return False\n",
    "print(sol.isValid(\"([)]\"))  # Expected output: False"
   ]
  },
  {
   "cell_type": "markdown",
   "id": "09f7416a",
   "metadata": {},
   "source": [
    "### <u>Complexity Analysis</u>\n",
    "- ### Time Complexity: $O(n)$ \n",
    "    - The time complexity is $O(n)$ because $n$ is the length of the string and we only traverse the string once.\n",
    "- ### Space Complexity: $O(n)$ \n",
    "    - The space complexity is $O(n)$ in the worst case (if we get all opening brackets), as we store elements in the stack."
   ]
  },
  {
   "cell_type": "markdown",
   "id": "72d0a8a0",
   "metadata": {},
   "source": [
    "------\n",
    "##  Approach 1.1 : Using a stack (Direct Key-Value Mapping)\n",
    "This is slighlty varied approach to the problem, although the core idea is basically the same. \n",
    "\n",
    "**Inverted Map:**  \n",
    "- The mapping Map is inverted compared to the previous solution. \n",
    "- Here, closing brackets are keys, and their corresponding opening brackets are values. \n",
    "- This facilitates a direct check against the stack's top element when a closing bracket is encountered. \n",
    "\n",
    "**Stack operations:**\n",
    "- If an opening bracket is encountered, it is pushed onto the stack\n",
    "- For a closing bracket, check if the stack is not empty and if the top element matches the mapped opening bracket/\n",
    "    - If not, the string is invalid"
   ]
  },
  {
   "cell_type": "markdown",
   "id": "3bb56446",
   "metadata": {},
   "source": [
    "### <u>Algorithm:</u>\n",
    "\n",
    "1. Iterate through each character in the string `'s'`.\n",
    "2. If the character is an opening bracket (not in `Map`), push it onto the stack.\n",
    "3. If the character is a closing bracket:\n",
    "    - Check if the stack is empty or if the top of the stack does not match the corresponding opening bracket in `Map`\n",
    "        - If either is true, return `False`\n",
    "    - Otherwise, pop the top element from the stack.\n",
    "4. After the loop, check if the stack is empty.\n",
    "    - If it is, the string is valid (`True`), else its invalid (`False`)."
   ]
  },
  {
   "cell_type": "code",
   "execution_count": 10,
   "id": "2723ca1f",
   "metadata": {},
   "outputs": [],
   "source": [
    "class Solution2:\n",
    "    def isValid(self, s: str) -> bool:\n",
    "        Map = {\")\": \"(\", \"]\": \"[\", \"}\": \"{\"}\n",
    "        stack = []\n",
    "        \n",
    "        for c in s:\n",
    "            if c not in Map: # If the char 'c' is an opening bracket, push it onto the stack\n",
    "                stack.append(c)\n",
    "                continue\n",
    "            \n",
    "            # if the stack is empty or top element doesn't match, return False\n",
    "            if not stack or stack[-1] != Map[c]:\n",
    "                return False\n",
    "            \n",
    "            stack.pop() # Pop the top element since it's a valid pair\n",
    "        \n",
    "        return not stack #return True if the stack is empty (all brackets are matched)"
   ]
  },
  {
   "cell_type": "markdown",
   "id": "13edac09",
   "metadata": {},
   "source": [
    "#### Test Usage"
   ]
  },
  {
   "cell_type": "code",
   "execution_count": 11,
   "id": "72b3370c",
   "metadata": {},
   "outputs": [
    {
     "name": "stdout",
     "output_type": "stream",
     "text": [
      "True\n",
      "True\n",
      "False\n",
      "False\n"
     ]
    }
   ],
   "source": [
    "sol = Solution2()\n",
    "\n",
    "# Test Case 1: Should return True\n",
    "print(sol.isValid(\"()\"))  # Expected output: True\n",
    "\n",
    "# Test Case 2: Should return True\n",
    "print(sol.isValid(\"()[]{}\"))  # Expected output: True\n",
    "\n",
    "# Test Case 3: Should return False\n",
    "print(sol.isValid(\"(]\"))  # Expected output: False\n",
    "\n",
    "# Additional Test Case: Should return False\n",
    "print(sol.isValid(\"([)]\"))  # Expected output: False"
   ]
  },
  {
   "cell_type": "markdown",
   "id": "5656145d",
   "metadata": {},
   "source": [
    "### <u>Differences in Approach:</u>\n",
    "- Checking for bracket types:\n",
    "    - In solution 1 , the check for an opening bracket `char in bracket_map.values()`, makes a search through the values of the map.\n",
    "    - In solution 1.1, the check for a closing bracket `c not in Map` is a direct key lookup, which is more efficient in a dictionary.\n",
    "\n",
    "- Handling of closing brackets:\n",
    "    - Solution 1 uses a reverse lookup in the map when a closing bracket is encountered: find the key that corresponds to the value.\n",
    "    - Solution 1.1 performs a direct key-to-value mapping, which is more straightforward and aligns with the typical use of dictionaries"
   ]
  }
 ],
 "metadata": {
  "kernelspec": {
   "display_name": "Python 3 (ipykernel)",
   "language": "python",
   "name": "python3"
  },
  "language_info": {
   "codemirror_mode": {
    "name": "ipython",
    "version": 3
   },
   "file_extension": ".py",
   "mimetype": "text/x-python",
   "name": "python",
   "nbconvert_exporter": "python",
   "pygments_lexer": "ipython3",
   "version": "3.9.12"
  }
 },
 "nbformat": 4,
 "nbformat_minor": 5
}

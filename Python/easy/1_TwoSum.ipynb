{
 "cells": [
  {
   "cell_type": "markdown",
   "id": "19a82b62",
   "metadata": {},
   "source": [
    "#### Python | Easy | Arrays & Hashing\n",
    "# [1. Two Sum](https://leetcode.com/problems/two-sum/)"
   ]
  },
  {
   "cell_type": "markdown",
   "id": "14a03618",
   "metadata": {},
   "source": [
    "Given an array of integers `nums` and an integer `target`, return *indices of the two numbers such that they add up to* `target`.\n",
    "\n",
    "You may assume that each input would have **exactly one solution**, and you may not use the same element twice.\n",
    "\n",
    "You can return the answer in any order.\n",
    "\n",
    "**Example 1**  \n",
    "  > **Input:** `nums = [2,7,11,15], target = 9`  \n",
    "  > **Output:** `[0,1]`  \n",
    "  > **Explanation:** Because `nums[0] + nums[1] == 9`, we return `[0, 1].`\n",
    "\n",
    "**Example 2**  \n",
    "  > **Input:** `nums = [3,2,4], target = 6`  \n",
    "  > **Output:** `[1,2]`  \n",
    "  > **Explanation:** `nums[1]` + `nums[2]` = 2 + 4 = 6.\n",
    "\n",
    "**Example 3**  \n",
    "  > **Input:** `nums = [3,3], target = 6`  \n",
    "  > **Output:** `[0,1]`  \n",
    "  > **Explanation:** `nums[0]` + `nums[1]` = 3 + 3 = 6.\n",
    "\n",
    "#### Constraints\n",
    "\n",
    "- $2$ ≤ `nums.length` ≤ $10^4$\n",
    "- -$10^9$≤ `nums[i]` ≤ $10^9$\n",
    "- -$10^9$ ≤ `target` ≤ $10^9$\n",
    "- **only one valid answer exists.**"
   ]
  },
  {
   "cell_type": "markdown",
   "id": "71ead77e",
   "metadata": {},
   "source": [
    "### <u>Problem explanation</u>\n",
    "The problem \"Two Sum\" is essentially finding two numbers within an array `nums` that add up to a given `target`. The solution must return the indices of the two numbers that sum up to the `target`. Also, it's guaranteed that exactly one solution exists for each input."
   ]
  },
  {
   "cell_type": "markdown",
   "id": "eb65001a",
   "metadata": {},
   "source": [
    "##  Approach 1: One-pass Hash Table\n",
    "\n",
    "- The intuition is to store the element of the array along with their indices into a hash table.\n",
    "- For each element, we check if `target - element` is already in the hash table. If it is, then we've found the pair that sums up to the target."
   ]
  },
  {
   "cell_type": "markdown",
   "id": "79bb685b",
   "metadata": {},
   "source": [
    "### <u>Algorithm:</u>\n",
    "\n",
    "1. Initialize the hash table (Python dictionary)\n",
    "2. Iterate over the array. For each element:\n",
    "    - Calculate the complement (difference between the `target` and the current element)\n",
    "    - Check if the complement is in the hash table. If it is, return the current index and the index of the complement from the hash table.\n",
    "    - Store the current element and its index in the hash table."
   ]
  },
  {
   "cell_type": "markdown",
   "id": "8920b1b8",
   "metadata": {},
   "source": [
    "### <u>Psuedocode</u>\n",
    "    FUNCTION twoSum(nums, target)\n",
    "        DECLARE hashMap\n",
    "\n",
    "        FOR i FROM 0 TO length of nums - 1\n",
    "            SET complement = target - nums[i]\n",
    "            IF complement IS IN hashMap\n",
    "                RETURN [hashMap[complement], i]\n",
    "            hashMap[nums[i]] = i\n",
    "        END FOR\n",
    "    END FUNCTION"
   ]
  },
  {
   "cell_type": "markdown",
   "id": "07210229",
   "metadata": {},
   "source": [
    "### <u>Python Implementation</u>"
   ]
  },
  {
   "cell_type": "code",
   "execution_count": 1,
   "id": "44a1cf6a",
   "metadata": {},
   "outputs": [],
   "source": [
    "from typing import List\n",
    "\n",
    "def twoSum( nums: List[int], target: int) -> List[int]:\n",
    "    hashMap = {} # Initialize a hash table\n",
    "    \n",
    "    # Iterate through each number in the array\n",
    "    for i, num in enumerate(nums):\n",
    "        complement = target - num\n",
    "        \n",
    "        #check if the complement is already in the hashMap\n",
    "        if complement in hashMap:\n",
    "            # return the indices of the two numbers\n",
    "            return [hashMap[complement], i]\n",
    "        \n",
    "        # store the index of the current number in the hashMap\n",
    "        hashMap[num] = i"
   ]
  },
  {
   "cell_type": "markdown",
   "id": "ab39d243",
   "metadata": {},
   "source": [
    "#### Tests"
   ]
  },
  {
   "cell_type": "code",
   "execution_count": 2,
   "id": "b3fcb1f9",
   "metadata": {},
   "outputs": [
    {
     "name": "stdout",
     "output_type": "stream",
     "text": [
      "[0, 1]\n",
      "[1, 2]\n",
      "[0, 1]\n"
     ]
    }
   ],
   "source": [
    "print(twoSum([2,7,11,15], 9))  # Output: [0, 1]\n",
    "print(twoSum([3,2,4], 6))      # Output: [1, 2]\n",
    "print(twoSum([3,3], 6))        # Output: [0, 1]"
   ]
  },
  {
   "cell_type": "markdown",
   "id": "26ae3787",
   "metadata": {},
   "source": [
    "### <u>Complexity Analysis</u>\n",
    "- ### Time Complexity: $O(n)$ \n",
    "    - The algorithm itereates through the list once. With each lookup in the hash table being $O(1)$ on average.\n",
    "- ### Space Complexity: $O(n)$ \n",
    "    - The space complexity is $O(n)$ in the worst case because the hash table needs to store info for each element in the array."
   ]
  },
  {
   "cell_type": "markdown",
   "id": "09191db1",
   "metadata": {},
   "source": [
    "##  Approach 2: Brute Force"
   ]
  }
 ],
 "metadata": {
  "kernelspec": {
   "display_name": "Python 3 (ipykernel)",
   "language": "python",
   "name": "python3"
  },
  "language_info": {
   "codemirror_mode": {
    "name": "ipython",
    "version": 3
   },
   "file_extension": ".py",
   "mimetype": "text/x-python",
   "name": "python",
   "nbconvert_exporter": "python",
   "pygments_lexer": "ipython3",
   "version": "3.9.12"
  }
 },
 "nbformat": 4,
 "nbformat_minor": 5
}

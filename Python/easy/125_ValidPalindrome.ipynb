{
 "cells": [
  {
   "cell_type": "markdown",
   "id": "205ec912",
   "metadata": {},
   "source": [
    "#### Python | Easy | Two Pointeres\n",
    "# [125. Valid Palindrome](https://leetcode.com/problems/valid-palindrome/)"
   ]
  },
  {
   "cell_type": "markdown",
   "id": "d14a51ef",
   "metadata": {},
   "source": [
    "A phrase is a palindrome if, after converting all uppercase letters into lowercase letters and removing all non-alphanumeric characters, it reads the same forward and backward. Alphanumeric characters include letters and numbers.\n",
    "\n",
    "Given a string `s`, return true if it is a palindrome, or false otherwise.\n",
    "\n",
    "## Examples\n",
    "\n",
    "**Example 1:**   \n",
    "\n",
    "> **Input:** `s = \"A man, a plan, a canal: Panama\"`   \n",
    "> **Output:** `true`   \n",
    "> **Explanation:** \"amanaplanacanalpanama\" is a palindrome.   \n",
    "\n",
    "**Example 2:**  \n",
    "\n",
    "> **Input:** `s = \"race a car\"`   \n",
    "> **Output:** `false`    \n",
    "> **Explanation:** \"raceacar\" is not a palindrome.    \n",
    "\n",
    "**Example 3:**  \n",
    "\n",
    "> **Input:** `s = \" \"`    \n",
    "> **Output:** `true`   \n",
    "> **Explanation:** `s` is an empty string `\"\"` after removing non-alphanumeric characters.   \n",
    "  Since an empty string reads the same forward and backward, it is a palindrome.  \n",
    "\n",
    "#### Constraints\n",
    "\n",
    "- <code>1 &lt;= s.length &lt;= 2 * 10<sup>5</sup></code>   \n",
    "- `s` consists only of printable ASCII characters.   \n"
   ]
  },
  {
   "cell_type": "code",
   "execution_count": null,
   "id": "c12cd01c",
   "metadata": {},
   "outputs": [],
   "source": []
  }
 ],
 "metadata": {
  "kernelspec": {
   "display_name": "Python 3 (ipykernel)",
   "language": "python",
   "name": "python3"
  },
  "language_info": {
   "codemirror_mode": {
    "name": "ipython",
    "version": 3
   },
   "file_extension": ".py",
   "mimetype": "text/x-python",
   "name": "python",
   "nbconvert_exporter": "python",
   "pygments_lexer": "ipython3",
   "version": "3.10.4"
  }
 },
 "nbformat": 4,
 "nbformat_minor": 5
}

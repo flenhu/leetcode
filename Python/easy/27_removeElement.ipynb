{
 "cells": [
  {
   "cell_type": "markdown",
   "id": "77c97c44",
   "metadata": {},
   "source": [
    "# 27. Remove Element\n",
    "Given an integer array `nums` and an integer `val`, your task is to remove all occurrences of `val` in `nums` in-place. The order of the remaining elements may be changed. You should then return the number of elements in `nums` which are not equal to `val`.\n",
    "\n",
    "### Requirements\n",
    "\n",
    "Let the number of elements in `nums` which are not equal to `val` be `k`. To get your solution accepted, you need to do the following things:\n",
    "\n",
    "1. Modify the array `nums` such that the first `k` elements of `nums` contain the elements which are not equal to `val`. \n",
    "2. The remaining elements of `nums` are not important.\n",
    "3. Return `k`."
   ]
  },
  {
   "cell_type": "markdown",
   "id": "014a9745",
   "metadata": {},
   "source": [
    "### Examples\n",
    "\n",
    "**Example 1:**\n",
    "\n",
    "**Input:**  \n",
    "`nums = [3,2,2,3], val = 3`\n",
    "\n",
    "**Output:**  \n",
    "`2, nums = [2,2,_,_]`\n",
    "\n",
    "**Explanation:**  \n",
    "Your function should return k = 2, with the first two elements of nums being 2. It does not matter what you leave beyond the returned k (hence they are underscores).\n",
    "\n",
    "**Example 2:**\n",
    "\n",
    "**Input:**  \n",
    "`nums = [0,1,2,2,3,0,4,2], val = 2`\n",
    "\n",
    "**Output:**  \n",
    "`5, nums = [0,1,4,0,3,_,_,_]`\n",
    "\n",
    "**Explanation:**  \n",
    "Your function should return k = 5, with the first five elements of nums containing 0, 0, 1, 3, and 4. Note that the five elements can be returned in any order. It does not matter what you leave beyond the returned k (hence they are underscores).\n",
    "\n",
    "### Constraints:\n",
    "\n",
    "- 0 <= nums.length <= 100\n",
    "- 0 <= nums[i] <= 50\n",
    "- 0 <= val <= 100"
   ]
  },
  {
   "cell_type": "markdown",
   "id": "5f60163b",
   "metadata": {},
   "source": [
    "# Solution"
   ]
  },
  {
   "cell_type": "code",
   "execution_count": 1,
   "id": "b2efaf7a",
   "metadata": {},
   "outputs": [],
   "source": [
    "from typing import List  \n",
    "\n",
    "class Solution:\n",
    "    def removeElement(self, nums: List[int], val: int) -> int:\n",
    "        k = 0  # Initialize k to 0, it will keep track of elements not equal to val\n",
    "\n",
    "        for i in range(len(nums)):    # Loop through each element in nums\n",
    "            if nums[i] != val:        # Check if the current element is not equal to val\n",
    "                nums[k] = nums[i]   # if not equal, move to fron of array at position k\n",
    "                k += 1   # increment k since we have one more element that isn't val\n",
    "        \n",
    "        return k "
   ]
  },
  {
   "cell_type": "code",
   "execution_count": 2,
   "id": "f5db6fa0",
   "metadata": {},
   "outputs": [
    {
     "name": "stdout",
     "output_type": "stream",
     "text": [
      "Output: 2, nums = [2, 2]\n",
      "Output: 5, nums = [0, 1, 3, 0, 4]\n"
     ]
    }
   ],
   "source": [
    "sol = Solution()\n",
    "\n",
    "# first example\n",
    "nums1 = [3, 2, 2, 3]\n",
    "val1 = 3\n",
    "result1 = sol.removeElement(nums1, val1)\n",
    "print(f\"Output: {result1}, nums = {nums1[:result1]}\")\n",
    "\n",
    "# second example\n",
    "nums2 = [0, 1, 2, 2, 3, 0, 4, 2]\n",
    "val2 = 2\n",
    "result2 = sol.removeElement(nums2, val2)\n",
    "print(f\"Output: {result2}, nums = {nums2[:result2]}\")"
   ]
  },
  {
   "cell_type": "markdown",
   "id": "75c31b36",
   "metadata": {},
   "source": [
    "# Time Complexity\n",
    "1. **Loop Iteration**: \n",
    "    - The primary operation in the algorithm is a `for` loop that iterates through the array `nums`. According to the problem's constraints, the maximum size of `nums` is 100. Therefore, the `for` loop iterates \\( n \\) times, where \\( n \\) is the length of `nums`.\n",
    "\n",
    "2. **Constant Time Operations**: \n",
    "    - Inside the loop, all operations like comparisons, assignments, and increments are constant time operations, denoted as \\( O(1) \\).\n",
    "\n",
    "- Combining these observations, we can say that the algorithm iterates through the array once, and for each iteration, it performs \\( O(1) \\) operations. This leads to an overall time complexity of \\( O(n) \\).\n",
    "\n",
    "- In summary, the time complexity of this algorithm is **O(n)** ."
   ]
  },
  {
   "cell_type": "markdown",
   "id": "39303694",
   "metadata": {},
   "source": [
    "### Space Complexity Analysis\n",
    "\n",
    "1. **In-Place Operations**: \n",
    "    - The algorithm modifies the `nums` array in-place, meaning it doesn't use additional arrays or data structures to store intermediate or final results.\n",
    "   \n",
    "2. **Constant Extra Variables**: \n",
    "    - Only a constant amount of extra memory is used for variables like `k` and `i`.\n",
    "\n",
    "Due to these considerations, the space complexity of the algorithm is \\( O(1) \\), indicating that it uses constant extra space regardless of the input size."
   ]
  }
 ],
 "metadata": {
  "kernelspec": {
   "display_name": "Python 3 (ipykernel)",
   "language": "python",
   "name": "python3"
  },
  "language_info": {
   "codemirror_mode": {
    "name": "ipython",
    "version": 3
   },
   "file_extension": ".py",
   "mimetype": "text/x-python",
   "name": "python",
   "nbconvert_exporter": "python",
   "pygments_lexer": "ipython3",
   "version": "3.9.17"
  }
 },
 "nbformat": 4,
 "nbformat_minor": 5
}

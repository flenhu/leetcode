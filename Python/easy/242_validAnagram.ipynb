{
 "cells": [
  {
   "cell_type": "markdown",
   "id": "2c4afd4f",
   "metadata": {},
   "source": [
    "#### Python | Easy | Arrays & Hashing\n",
    "# [242. Contains Duplicate](https://leetcode.com/problems/valid-anagram/)"
   ]
  },
  {
   "cell_type": "markdown",
   "id": "ce79b232",
   "metadata": {},
   "source": [
    "Given two strings `s` and `t`, return `true` *if `t` is an anagram of `s`, and `false` otherwise.\n",
    "\n",
    "An **Anagram** is a word or phrase formed by rearranging the letters of a different word or phrase, typically using all the original letters exactly once.\n",
    "\n",
    "**Example 1**  \n",
    "  > **Input:** `s = \"anagram\", t = \"nagaram\"/`  \n",
    "  > **Output:** `true`   \n",
    "  > **Explanation:** The string \"nagaram\" can be rearranged to form \"anagram\".\n",
    "\n",
    "**Example 2**  \n",
    "  > **Input:** `s = \"rat\", t = \"car\"`  \n",
    "  > **Output:** `false`\n",
    "  > **Explanation:** The string \"car\" cannot be rearranged to form \"rat\".\n",
    "  \n",
    "#### Constrants\n",
    "- `1 <= s.length`, `t.length <=` $5 * 10^4$\n",
    "- `s` and `t` consist of two lowercase English letters."
   ]
  },
  {
   "cell_type": "markdown",
   "id": "1b358b06",
   "metadata": {},
   "source": [
    "### <u> Problem Explanation</u>\n",
    "This problem is basically asking to determine whether two strings, `s` and `t` are anagrams of each other. To reiterate, an anagram is just rearranging the letter of one string to it forms a different string, where all the original letters are used the same amount of times."
   ]
  },
  {
   "cell_type": "markdown",
   "id": "039af74a",
   "metadata": {},
   "source": [
    "### <u>Intuition</u>\n",
    "The main idea is that for two strings to be anagrams of each other, they need to consist the same characters with the same exact frequency. So basicallt we need a counter."
   ]
  },
  {
   "cell_type": "markdown",
   "id": "a22746c7",
   "metadata": {},
   "source": [
    "_________________\n",
    "##  <u>Approach: Using Frequency with Dictionary Equality check (HashMap):</u>\n",
    "- We can count the frequency of each character in both strings with a hashmap\n",
    "- If the frequencies match for every character, the strings are then anagrams of each other"
   ]
  },
  {
   "cell_type": "markdown",
   "id": "c0338285",
   "metadata": {},
   "source": [
    "### <u>Algorithm:</u>\n",
    "\n",
    "1. Check if the lengths of `'s'` and `'t'` are equal. If not, they aren't anagrams.\n",
    "2. Count the frequency of each character in `'s'`\n",
    "3. Count the frequency of each character in `'t'`\n",
    "4. Compare the frequency counts"
   ]
  },
  {
   "cell_type": "markdown",
   "id": "8716ada7",
   "metadata": {},
   "source": [
    "### <u> Psuedocode </u>\n",
    "\n",
    "FUNCTION isAnagram(s, t)  \n",
    "    \n",
    "    IF length of s is NOT equal to length of t   \n",
    "        RETURN False   \n",
    "\n",
    "    INITIALIZE frequency counter for s and t\n",
    "\n",
    "    FOR each character in s\n",
    "        INCREMENT its count in s's frequency counter\n",
    "\n",
    "    FOR each character in t\n",
    "        INCREMENT its count in t's frequency counter\n",
    "\n",
    "    IF frequency counters of s and t are equal\n",
    "        RETURN True\n",
    "    ELSE\n",
    "        RETURN False\n",
    "END FUNCTION\n"
   ]
  },
  {
   "cell_type": "markdown",
   "id": "7817df60",
   "metadata": {},
   "source": [
    "### <u> Python Implementation</u>"
   ]
  },
  {
   "cell_type": "code",
   "execution_count": 1,
   "id": "85c53c37",
   "metadata": {},
   "outputs": [],
   "source": [
    "def isAnagram(s, t):\n",
    "    #Check if the lengths are different\n",
    "    if len(s) != len(t):\n",
    "        return False\n",
    "    \n",
    "    # Count the frequency of each character in both strings\n",
    "    countS, countT = {}, {}\n",
    "    for char in s:\n",
    "        countS[char] = 1 + countS.get(char, 0)\n",
    "    for char in t:\n",
    "        countT[char] = 1 + countT.get(char, 0)\n",
    "        \n",
    "    # Check if both frequency dictionaries are equal\n",
    "    return countS == countT"
   ]
  },
  {
   "cell_type": "code",
   "execution_count": 2,
   "id": "9b0ea85f",
   "metadata": {},
   "outputs": [
    {
     "name": "stdout",
     "output_type": "stream",
     "text": [
      "True\n",
      "False\n"
     ]
    }
   ],
   "source": [
    "print(isAnagram(\"anagram\", \"nagaram\"))  # Output: True\n",
    "print(isAnagram(\"rat\", \"car\"))         # Output: False"
   ]
  },
  {
   "cell_type": "markdown",
   "id": "7fc3e96a",
   "metadata": {},
   "source": [
    "### <u>Complexity Analysis</u>\n",
    "- ### Time Complexity: $O(n)$\n",
    "    - The algorithm iterates over each character of both strings exactly once, where **'n'** is the length of the strings, The comparison of two dictionaries is also $O(n)$.  \n",
    "- ### Space Complexity: $O(1)$\n",
    "    - The spaced used by the counters is constant since the input strings only consists of lowercase English letters which results in a fixed-sized character set. In a broader sense, if considering the number of unique characters as the varirable, then the space complexity would be $O(n)$ for storing the frequencies.\n",
    "\n",
    "--------"
   ]
  },
  {
   "cell_type": "markdown",
   "id": "02003cbd",
   "metadata": {},
   "source": [
    "##  <u>Approach: Frequency Counters with Element-wise comparison (HashMap):</u>"
   ]
  },
  {
   "cell_type": "markdown",
   "id": "ec09bbac",
   "metadata": {},
   "source": [
    "- Similar to the previously discussed method, this approach involves counting the frequency of each character in both strings and then comparing these counts.\n",
    "- This method compares the frequencies in a more manual way, iterating through the keys of one frequency counter and comparing them against the other."
   ]
  },
  {
   "cell_type": "markdown",
   "id": "0447539c",
   "metadata": {},
   "source": [
    "### <u>Algorithm:</u>\n",
    "1. Check if `'s'` and `'t'` are of equal length. If not, return `False`.\n",
    "2. Initialize two dictionaries, `countS` and `countT`, to count the frequencies of characters in `'s'` and `'t'` respectively.\n",
    "3. Iterate through the characters of `'s'` and `'t'` simultaneously, updating their respective counters.\n",
    "4. Iterate through the keys in `'countS'` and compare the values with those in `'countT'`. If they don't match for any character, return `False`.\n",
    "5. If all frequencies match, return `True`."
   ]
  },
  {
   "cell_type": "markdown",
   "id": "38c9d48b",
   "metadata": {},
   "source": [
    "### <u> Psuedocode </u>\n",
    "\n",
    "FUNCTION isAnagram(s, t)\n",
    "    \n",
    "    IF length of s is NOT equal to length of t\n",
    "        RETURN False\n",
    "\n",
    "    INITIALIZE countS and countT as empty dictionaries\n",
    "\n",
    "    FOR i FROM 0 TO length of s - 1\n",
    "        INCREMENT countS[s[i]] by 1\n",
    "        INCREMENT countT[t[i]] by 1\n",
    "\n",
    "    FOR each key c in countS\n",
    "        IF countS[c] is NOT EQUAL to countT[c]\n",
    "            RETURN False\n",
    "\n",
    "    RETURN True\n",
    "END FUNCTION"
   ]
  },
  {
   "cell_type": "markdown",
   "id": "e9d4dced",
   "metadata": {},
   "source": [
    "### <u> Python Implementation</u>"
   ]
  },
  {
   "cell_type": "code",
   "execution_count": 3,
   "id": "026bcd9e",
   "metadata": {},
   "outputs": [],
   "source": [
    "def isAnagram2(s: str, t: str) -> bool:\n",
    "    # Check if the lengths of the two strings are different\n",
    "    if len(s) != len(t):\n",
    "        return False  # If lengths differ, they can't be anagrams\n",
    "\n",
    "    # Initialize two dictionaries to count character frequencies\n",
    "    countS, countT = {}, {}\n",
    "\n",
    "    # Iterate over the characters in the strings\n",
    "    for i in range(len(s)):\n",
    "        # Count the frequency of each character in 's'\n",
    "        countS[s[i]] = 1 + countS.get(s[i], 0)\n",
    "        # Count the frequency of each character in 't'\n",
    "        countT[t[i]] = 1 + countT.get(t[i], 0)\n",
    "\n",
    "    # Compare the character counts in both dictionaries\n",
    "    for c in countS:\n",
    "        # If a character count differs between 's' and 't', return False\n",
    "        if countS[c] != countT.get(c, 0):\n",
    "            return False\n",
    "\n",
    "    # If all character counts match, return True\n",
    "    return True\n"
   ]
  },
  {
   "cell_type": "code",
   "execution_count": 4,
   "id": "76cc24ea",
   "metadata": {},
   "outputs": [
    {
     "name": "stdout",
     "output_type": "stream",
     "text": [
      "True\n",
      "False\n"
     ]
    }
   ],
   "source": [
    "print(isAnagram2(\"anagram\", \"nagaram\"))  # Output: True\n",
    "print(isAnagram2(\"rat\", \"car\"))         # Output: False"
   ]
  },
  {
   "cell_type": "markdown",
   "id": "9a48a9d1",
   "metadata": {},
   "source": [
    "### <u>Complexity Analysis</u>\n",
    "- ### Time Complexity: $O(n)$ \n",
    "    - The algorithm iterates over each string once to build the frequency counters and then iterates over the keys of countS to compare. Each of these operations is linear in the size of the string.\n",
    "- ### Space Complexity: $O(1)$ \n",
    "    - Under the assumption that the character set is fixed (lowercase English letters). The frequency dictionaries will have at most 26 keys each. If considering the number of unique characters in s and t as the variable, the space complexity would be O(n).    "
   ]
  }
 ],
 "metadata": {
  "kernelspec": {
   "display_name": "Python 3 (ipykernel)",
   "language": "python",
   "name": "python3"
  },
  "language_info": {
   "codemirror_mode": {
    "name": "ipython",
    "version": 3
   },
   "file_extension": ".py",
   "mimetype": "text/x-python",
   "name": "python",
   "nbconvert_exporter": "python",
   "pygments_lexer": "ipython3",
   "version": "3.10.4"
  }
 },
 "nbformat": 4,
 "nbformat_minor": 5
}

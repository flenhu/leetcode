{
 "cells": [
  {
   "cell_type": "markdown",
   "id": "2c4afd4f",
   "metadata": {},
   "source": [
    "#### Python | Easy | Arrays & Hashing\n",
    "# [242. Contains Duplicate](https://leetcode.com/problems/valid-anagram/)"
   ]
  },
  {
   "cell_type": "markdown",
   "id": "27ddf9b5",
   "metadata": {},
   "source": [
    "Given two strings `s` and `t`, return `true` *if `t` is an anagram of `s`, and `false` otherwise.\n",
    "\n",
    "An **Anagram** is a word or phrase formed by rearranging the letters of a different word or phrase, typically using all the original letters exactly once.\n",
    "\n",
    "**Example 1**  \n",
    "  > **Input:** `s = \"anagram\", t = \"nagaram\"/`  \n",
    "  > **Output:** `true`   \n",
    "  > **Explanation:** The string \"nagaram\" can be rearranged to form \"anagram\".\n",
    "\n",
    "**Example 2**  \n",
    "  > **Input:** `s = \"rat\", t = \"car\"`  \n",
    "  > **Output:** `false`\n",
    "  > **Explanation:** The string \"car\" cannot be rearranged to form \"rat\".\n",
    "  \n",
    "#### Constrants\n",
    "- `1 <= s.length`, `t.length <=` $5 * 10^4$\n",
    "- `s` and `t` consist of two lowercase English letters."
   ]
  },
  {
   "cell_type": "markdown",
   "id": "15e580aa",
   "metadata": {},
   "source": [
    "### <u> Problem Explanation</u>\n",
    "This problem is basically asking to determine whether two strings, `s` and `t` are anagrams of each other. To reiterate, an anagram is just rearranging the letter of one string to it forms a different string, where all the original letters are used the same amount of times."
   ]
  },
  {
   "cell_type": "markdown",
   "id": "b74284b0",
   "metadata": {},
   "source": [
    "### <u>Intuition</u>\n",
    "The main idea is that for two strings to be anagrams of each other, they need to consist the same characters with the same exact frequency. So basicallt we need a counter."
   ]
  },
  {
   "cell_type": "markdown",
   "id": "d6c91b71",
   "metadata": {},
   "source": [
    "_________________\n",
    "##  <u>Approach: Using Frequency Counters (HashMap/Counter):</u>\n",
    "- We can count the frequency of each character in both strings with a hashmap\n",
    "- If the frequencies match for every character, the strings are then anagrams of each other"
   ]
  },
  {
   "cell_type": "markdown",
   "id": "d28dff27",
   "metadata": {},
   "source": [
    "### <u>Algorithm:</u>\n",
    "\n",
    "1. Check if the lengths of `'s'` and `'t'` are equal. If not, they aren't anagrams.\n",
    "2. Count the frequency of each character in `'s'`\n",
    "3. Count the frequency of each character in `'t'`\n",
    "4. Compare the frequency counts"
   ]
  },
  {
   "cell_type": "markdown",
   "id": "a77e2adc",
   "metadata": {},
   "source": [
    "### <u> Psuedocode </u>\n",
    "\n",
    "FUNCTION isAnagram(s, t)  \n",
    "    \n",
    "    IF length of s is NOT equal to length of t   \n",
    "        RETURN False   \n",
    "\n",
    "    INITIALIZE frequency counter for s and t\n",
    "\n",
    "    FOR each character in s\n",
    "        INCREMENT its count in s's frequency counter\n",
    "\n",
    "    FOR each character in t\n",
    "        INCREMENT its count in t's frequency counter\n",
    "\n",
    "    IF frequency counters of s and t are equal\n",
    "        RETURN True\n",
    "    ELSE\n",
    "        RETURN False\n",
    "END FUNCTION\n"
   ]
  },
  {
   "cell_type": "markdown",
   "id": "9e516938",
   "metadata": {},
   "source": [
    "### <u> Python Implementation</u>"
   ]
  },
  {
   "cell_type": "code",
   "execution_count": 2,
   "id": "bf1c453e",
   "metadata": {},
   "outputs": [],
   "source": [
    "def isAnagram(s, t):\n",
    "    #Check if the lengths are different\n",
    "    if len(s) != len(t):\n",
    "        return False\n",
    "    \n",
    "    # Count the frequency of each character in both strings\n",
    "    countS, countT = {}, {}\n",
    "    for char in s:\n",
    "        countS[char] = 1 + countS.get(char, 0)\n",
    "    for char in t:\n",
    "        countT[char] = 1 + countT.get(char, 0)\n",
    "        \n",
    "    # Check if both frequency dictionaries are equal\n",
    "    return countS == countT"
   ]
  },
  {
   "cell_type": "code",
   "execution_count": 3,
   "id": "4d716b0e",
   "metadata": {},
   "outputs": [
    {
     "name": "stdout",
     "output_type": "stream",
     "text": [
      "True\n",
      "False\n"
     ]
    }
   ],
   "source": [
    "print(isAnagram(\"anagram\", \"nagaram\"))  # Output: True\n",
    "print(isAnagram(\"rat\", \"car\"))         # Output: False"
   ]
  },
  {
   "cell_type": "markdown",
   "id": "6b4a3fd9",
   "metadata": {},
   "source": [
    "### <u>Complexity Analysis</u>\n",
    "- ### Time Complexity: $O(n)$\n",
    "    - The algorithm iterates over each character of both strings exactly once, where **'n'** is the length of the strings, The comparison of two dictionaries is also $O(n)$.  \n",
    "- ### Space Complexity: $O(1)$\n",
    "    - The spaced used by the counters is constant since the input strings only consists of lowercase English letters which results in a fixed-sized character set. In a broader sense, if considering the number of unique characters as the varirable, then the space complexity would be $O(n)$ for storing the frequencies."
   ]
  }
 ],
 "metadata": {
  "kernelspec": {
   "display_name": "Python 3 (ipykernel)",
   "language": "python",
   "name": "python3"
  },
  "language_info": {
   "codemirror_mode": {
    "name": "ipython",
    "version": 3
   },
   "file_extension": ".py",
   "mimetype": "text/x-python",
   "name": "python",
   "nbconvert_exporter": "python",
   "pygments_lexer": "ipython3",
   "version": "3.10.4"
  }
 },
 "nbformat": 4,
 "nbformat_minor": 5
}

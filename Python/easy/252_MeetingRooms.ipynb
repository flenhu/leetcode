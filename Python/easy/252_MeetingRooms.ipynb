{
 "cells": [
  {
   "cell_type": "markdown",
   "id": "9fe4e441",
   "metadata": {},
   "source": [
    "\n",
    "\n",
    "# [252. Meeting Rooms](https://leetcode.com/problems/meeting-rooms/)"
   ]
  },
  {
   "cell_type": "markdown",
   "id": "62023742",
   "metadata": {},
   "source": [
    "Given an array of meeting time `intervals` where <code>intervals[i] = [start<sub>i</sub>, end<sub>i</sub>]</code>, determine if a person could attend all meetings.\n",
    "\n",
    "\n",
    "**Example 1:**\n",
    "\n",
    "> Input: `intervals = [[0,30],[5,10],[15,20]]`\n",
    "> Output: `false`\n",
    "\n",
    "**Example 2:**\n",
    "\n",
    "- Input: `intervals = [[7,10],[2,4]]`\n",
    "- Output: `true`\n",
    "\n",
    "#### Constraints\n",
    "\n",
    "- <code>0 &lt;= intervals.length &lt;= 10<sup>4</sup></code>\n",
    "- `intervals[i].length == 2`\n",
    "- <code>0 &lt;= starti &lt; endi &lt;= 10<sup>6</sup></code>"
   ]
  },
  {
   "cell_type": "markdown",
   "id": "432ec9ad",
   "metadata": {},
   "source": []
  }
 ],
 "metadata": {
  "kernelspec": {
   "display_name": "Python 3 (ipykernel)",
   "language": "python",
   "name": "python3"
  },
  "language_info": {
   "codemirror_mode": {
    "name": "ipython",
    "version": 3
   },
   "file_extension": ".py",
   "mimetype": "text/x-python",
   "name": "python",
   "nbconvert_exporter": "python",
   "pygments_lexer": "ipython3",
   "version": "3.9.12"
  }
 },
 "nbformat": 4,
 "nbformat_minor": 5
}

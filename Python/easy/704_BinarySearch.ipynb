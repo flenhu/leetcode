{
 "cells": [
  {
   "cell_type": "markdown",
   "id": "06f37c56",
   "metadata": {},
   "source": [
    "#### Python | Easy | Binary Search\n",
    "# [704. Binary Search](https://leetcode.com/problems/binary-search/)"
   ]
  },
  {
   "cell_type": "markdown",
   "id": "dd988abc",
   "metadata": {},
   "source": [
    "Given an array of integers `nums` which is sorted in ascending order, and an integer `target`, write a function to search `target` in `nums`. If `target` exists, then return its index. Otherwise, return -1.\n",
    "\n",
    "You must write an algorithm with O(log n) runtime complexity.\n",
    "\n",
    "**Example 1:**\n",
    "> Input: `nums = [-1,0,3,5,9,12]`, `target = 9`\n",
    "> Output: `4`\n",
    "> Explanation: 9 exists in `nums` and its index is 4\n",
    "\n",
    "**Example 2:**\n",
    "\n",
    "> Input: `nums = [-1,0,3,5,9,12]`, `target = 2`\n",
    "> Output: `-1`\n",
    "> Explanation: 2 does not exist in `nums` so return -1\n",
    "\n",
    "#### Constraints\n",
    "\n",
    "- <code>1 &lt;= nums.length &lt;= 10<sup>4</sup></code>\n",
    "- <code>-10<sup>4</sup> &lt; nums[i], target &lt; 10<sup>4</sup></code>\n",
    "- All the integers in `nums` are unique.\n",
    "- `nums` is sorted in ascending order."
   ]
  },
  {
   "cell_type": "markdown",
   "id": "97a33797",
   "metadata": {},
   "source": [
    "### <u>Intuition</u>\n",
    "Binary search is a classic algorithm used for efficiently searching for an item in a sorted list. The intuition behind binary search is to repeatedly divide the search interval in half. If the value of the search key is less than the item in the middle of the interval, narrow the interval to the lower half. Otherwise, we want to narrow it to the upper half. Then we just repeatedly check until the value is found or the interval is empty."
   ]
  },
  {
   "cell_type": "markdown",
   "id": "85234f26",
   "metadata": {},
   "source": [
    "##  Approach 1: Find the exact value\n",
    "1. **Define the search space**: Use two indexes, `left` and `right`, to represent the search range.\n",
    "2. **Find the middle**: Calculate the middle index and compare the value there with the target.\n",
    "3. **Update the search space**: Depending on the comparison:\n",
    "    - If the middle value equals the target, return the middle index\n",
    "    - If the middle value is less than the target, ignore the left half\n",
    "    - If the middle value is greater than the target, ignore the right half.\n",
    "4. **Repeat or stop**: Continue this process until the target is found or the search space is empty."
   ]
  },
  {
   "cell_type": "markdown",
   "id": "d9e1a54c",
   "metadata": {},
   "source": [
    "### <u>Algorithm:</u>\n",
    "\n",
    "1. Initialize two pointers, `l` and `r` to represent the left and right bounds of the search interval.\n",
    "    - Initially, `l` is `0` and `r` is the last index of `nums`  \n",
    "    \n",
    "2. While the left bound is less than or equal to the right bound (`l <= r`):\n",
    "    - Calculate the middle index `m` of the current interval. Instead of using `(l + r) // 2`, which can cause integer overflow, use:  \n",
    "      `l + ((r - l) // 2)`.\n",
    "    - If the target is found at the middle: `nums[m] == target`, return the index `m`.\n",
    "    - If the target is less than `nums[m]`, which mean if the target exists it should be in the left half of the interval, so we update the interval to be `r` to `m - 1`\n",
    "    - Lastly, if the target is greater than `num[m]`, we update the interval to be from `l` to `m + 1`, as the target must be in the right half.  \n",
    "    \n",
    "    \n",
    "3. If the loops ends without finding a target, return -1"
   ]
  },
  {
   "cell_type": "markdown",
   "id": "b01ea1d7",
   "metadata": {},
   "source": [
    "### <u>Python Implementation</u>"
   ]
  },
  {
   "cell_type": "code",
   "execution_count": 2,
   "id": "4d893842",
   "metadata": {},
   "outputs": [],
   "source": [
    "from typing import List\n",
    "\n",
    "class Solution:\n",
    "    def search(self, nums: List[int], target: int) -> int:\n",
    "        l, r = 0, len(nums) - 1\n",
    "\n",
    "        while l <= r:\n",
    "            m = l + ((r - l) // 2)  # Calculate the middle index, avoiding overflow\n",
    "            if nums[m] > target:\n",
    "                r = m - 1  # Target in the left half\n",
    "            elif nums[m] < target:\n",
    "                l = m + 1  # Target in the right half\n",
    "            else:\n",
    "                return m  # Target found\n",
    "        return -1  # Target not found"
   ]
  },
  {
   "cell_type": "markdown",
   "id": "a8f9ea02",
   "metadata": {},
   "source": [
    "#### Test cases / Example usage"
   ]
  },
  {
   "cell_type": "code",
   "execution_count": 3,
   "id": "b26cb92c",
   "metadata": {},
   "outputs": [
    {
     "name": "stdout",
     "output_type": "stream",
     "text": [
      "4\n",
      "-1\n",
      "0\n"
     ]
    }
   ],
   "source": [
    "sol = Solution()\n",
    "\n",
    "# Test Case 1: Target is in the array\n",
    "print(sol.search([-1, 0, 3, 5, 9, 12], 9))  # Expected output: 4\n",
    "\n",
    "# Test Case 2: Target is not in the array\n",
    "print(sol.search([-1, 0, 3, 5, 9, 12], 2))  # Expected output: -1\n",
    "\n",
    "# Test Case 3: Target is the first element\n",
    "print(sol.search([4, 5, 6, 7, 8, 9], 4))  # Expected output: 0"
   ]
  },
  {
   "cell_type": "markdown",
   "id": "2d034c0b",
   "metadata": {},
   "source": [
    "### <u>Complexity Analysis</u>\n",
    "\n",
    "- ### Time Complexity: $O(\\log n))$  \n",
    "\n",
    "    - The time complexity is $O(\\log n)$, where $n$ is the number of days (length of the `prices` array). This solution involves a single pass through the array, thus we have linear time.\n",
    "- ### Space Complexity: $O(1)$ \n",
    "    - The space complexity is $O(1)$ since we only use a few variables."
   ]
  },
  {
   "cell_type": "code",
   "execution_count": null,
   "id": "4d1bdbe9",
   "metadata": {},
   "outputs": [],
   "source": []
  }
 ],
 "metadata": {
  "kernelspec": {
   "display_name": "Python 3 (ipykernel)",
   "language": "python",
   "name": "python3"
  },
  "language_info": {
   "codemirror_mode": {
    "name": "ipython",
    "version": 3
   },
   "file_extension": ".py",
   "mimetype": "text/x-python",
   "name": "python",
   "nbconvert_exporter": "python",
   "pygments_lexer": "ipython3",
   "version": "3.9.12"
  }
 },
 "nbformat": 4,
 "nbformat_minor": 5
}

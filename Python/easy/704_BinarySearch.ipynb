{
 "cells": [
  {
   "cell_type": "markdown",
   "id": "06f37c56",
   "metadata": {},
   "source": [
    "#### Python | Easy | Binary Search\n",
    "# [704. Binary Search](https://leetcode.com/problems/binary-search/)"
   ]
  },
  {
   "cell_type": "markdown",
   "id": "dd988abc",
   "metadata": {},
   "source": [
    "Given an array of integers `nums` which is sorted in ascending order, and an integer `target`, write a function to search `target` in `nums`. If `target` exists, then return its index. Otherwise, return -1.\n",
    "\n",
    "You must write an algorithm with O(log n) runtime complexity.\n",
    "\n",
    "**Example 1:**\n",
    "> Input: `nums = [-1,0,3,5,9,12]`, `target = 9`\n",
    "> Output: `4`\n",
    "> Explanation: 9 exists in `nums` and its index is 4\n",
    "\n",
    "**Example 2:**\n",
    "\n",
    "> Input: `nums = [-1,0,3,5,9,12]`, `target = 2`\n",
    "> Output: `-1`\n",
    "> Explanation: 2 does not exist in `nums` so return -1\n",
    "\n",
    "#### Constraints\n",
    "\n",
    "- <code>1 &lt;= nums.length &lt;= 10<sup>4</sup></code>\n",
    "- <code>-10<sup>4</sup> &lt; nums[i], target &lt; 10<sup>4</sup></code>\n",
    "- All the integers in `nums` are unique.\n",
    "- `nums` is sorted in ascending order."
   ]
  },
  {
   "cell_type": "markdown",
   "id": "ab10e996",
   "metadata": {},
   "source": []
  }
 ],
 "metadata": {
  "kernelspec": {
   "display_name": "Python 3 (ipykernel)",
   "language": "python",
   "name": "python3"
  },
  "language_info": {
   "codemirror_mode": {
    "name": "ipython",
    "version": 3
   },
   "file_extension": ".py",
   "mimetype": "text/x-python",
   "name": "python",
   "nbconvert_exporter": "python",
   "pygments_lexer": "ipython3",
   "version": "3.9.12"
  }
 },
 "nbformat": 4,
 "nbformat_minor": 5
}

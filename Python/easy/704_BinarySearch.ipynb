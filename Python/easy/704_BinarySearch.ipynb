{
 "cells": [
  {
   "cell_type": "markdown",
   "id": "06f37c56",
   "metadata": {},
   "source": [
    "#### Python | Easy | Binary Search\n",
    "# [704. Binary Search](https://leetcode.com/problems/binary-search/)"
   ]
  },
  {
   "cell_type": "markdown",
   "id": "dd988abc",
   "metadata": {},
   "source": [
    "Given an array of integers `nums` which is sorted in ascending order, and an integer `target`, write a function to search `target` in `nums`. If `target` exists, then return its index. Otherwise, return -1.\n",
    "\n",
    "You must write an algorithm with O(log n) runtime complexity.\n",
    "\n",
    "**Example 1:**\n",
    "> Input: `nums = [-1,0,3,5,9,12]`, `target = 9`\n",
    "> Output: `4`\n",
    "> Explanation: 9 exists in `nums` and its index is 4\n",
    "\n",
    "**Example 2:**\n",
    "\n",
    "> Input: `nums = [-1,0,3,5,9,12]`, `target = 2`\n",
    "> Output: `-1`\n",
    "> Explanation: 2 does not exist in `nums` so return -1\n",
    "\n",
    "#### Constraints\n",
    "\n",
    "- <code>1 &lt;= nums.length &lt;= 10<sup>4</sup></code>\n",
    "- <code>-10<sup>4</sup> &lt; nums[i], target &lt; 10<sup>4</sup></code>\n",
    "- All the integers in `nums` are unique.\n",
    "- `nums` is sorted in ascending order."
   ]
  },
  {
   "cell_type": "markdown",
   "id": "97a33797",
   "metadata": {},
   "source": [
    "### <u>Intuition</u>\n",
    "Binary search is a classic algorithm used for efficiently searching for an item in a sorted list. The intuition behind binary search is to repeatedly divide the search interval in half. If the value of the search key is less than the item in the middle of the interval, narrow the interval to the lower half. Otherwise, we want to narrow it to the upper half. Then we just repeatedly check until the value is found or the interval is empty."
   ]
  },
  {
   "cell_type": "markdown",
   "id": "85234f26",
   "metadata": {},
   "source": [
    "##  Approach 1: Find the exact value\n",
    "1. **Define the search space**: Use two indexes, `left` and `right`, to represent the search range.\n",
    "2. **Find the middle**: Calculate the middle index and compare the value there with the target.\n",
    "3. **Update the search space**: Depending on the comparison:\n",
    "    - If the middle value equals the target, return the middle index\n",
    "    - If the middle value is less than the target, ignore the left half\n",
    "    - If the middle value is greater than the target, ignore the right half.\n",
    "4. **Repeat or stop**: Continue this process until the target is found or the search space is empty."
   ]
  },
  {
   "cell_type": "markdown",
   "id": "d9e1a54c",
   "metadata": {},
   "source": [
    "### <u>Algorithm:</u>\n",
    "\n",
    "1. Initialize two pointers, `l` and `r` to represent the left and right bounds of the search interval. \n",
    "    - Initially, `l` is `0` and `r` is the last index of `nums`\n",
    "2. While the left bound is less than or equal to the right bound (`l <= r`):\n",
    "    - Calculate the middle index `m`"
   ]
  },
  {
   "cell_type": "code",
   "execution_count": null,
   "id": "6b14086d",
   "metadata": {},
   "outputs": [],
   "source": []
  }
 ],
 "metadata": {
  "kernelspec": {
   "display_name": "Python 3 (ipykernel)",
   "language": "python",
   "name": "python3"
  },
  "language_info": {
   "codemirror_mode": {
    "name": "ipython",
    "version": 3
   },
   "file_extension": ".py",
   "mimetype": "text/x-python",
   "name": "python",
   "nbconvert_exporter": "python",
   "pygments_lexer": "ipython3",
   "version": "3.9.12"
  }
 },
 "nbformat": 4,
 "nbformat_minor": 5
}

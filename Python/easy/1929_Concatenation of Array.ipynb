{
 "cells": [
  {
   "cell_type": "markdown",
   "id": "835c632c",
   "metadata": {},
   "source": [
    "#### Easy | Arrays\n",
    "# 1929. Concatenation of an Array\n",
    "\n",
    "Given an integer array `nums` of lenght `n`, you want to create an array `ans` of length `2n`, where `ans[i] == nums[i]` and `ans[i + n] == nums[i]` for `0 <= i < n` (0-indexed)\n",
    "\n",
    "Specifically, `ans` is the concatenation of two `nums` arrays.\n",
    "Return the array `ans`."
   ]
  },
  {
   "cell_type": "markdown",
   "id": "cb1d8dbf",
   "metadata": {},
   "source": [
    "Example 1:\n",
    "\n",
    "Input: nums = [1,2,1]\n",
    "Output: [1,2,1,1,2,1]\n",
    "Explanation: The array ans is formed as follows:\n",
    "- ans = [nums[0],nums[1],nums[2],nums[0],nums[1],nums[2]]\n",
    "- ans = [1,2,1,1,2,1]\n",
    "Example 2:\n",
    "\n",
    "Input: nums = [1,3,2,1]\n",
    "Output: [1,3,2,1,1,3,2,1]\n",
    "Explanation: The array ans is formed as follows:\n",
    "- ans = [nums[0],nums[1],nums[2],nums[3],nums[0],nums[1],nums[2],nums[3]]\n",
    "- ans = [1,3,2,1,1,3,2,1]"
   ]
  },
  {
   "cell_type": "markdown",
   "id": "6ca2bb6d",
   "metadata": {},
   "source": [
    "## Examples\n",
    "\n",
    "### Example 1\n",
    "\n",
    "**Input:**  \n",
    "`nums = [1,2,1]`\n",
    "\n",
    "**Output:**  \n",
    "`[1,2,1,1,2,1]`\n",
    "\n",
    "**Explanation:**  \n",
    "The array `ans` is formed as follows:  \n",
    "- `ans = [nums[0],nums[1],nums[2],nums[0],nums[1],nums[2]]`\n",
    "- `ans = [1,2,1,1,2,1]`\n",
    "\n",
    "### Example 2\n",
    "\n",
    "**Input:**  \n",
    "`nums = [1,3,2,1]`\n",
    "\n",
    "**Output:**  \n",
    "`[1,3,2,1,1,3,2,1]`\n",
    "\n",
    "**Explanation:**  \n",
    "The array `ans` is formed as follows:  \n",
    "- `ans = [nums[0],nums[1],nums[2],nums[3],nums[0],nums[1],nums[2],nums[3]]`\n",
    "- `ans = [1,3,2,1,1,3,2,1]`"
   ]
  },
  {
   "cell_type": "code",
   "execution_count": null,
   "id": "a2b6de1a",
   "metadata": {},
   "outputs": [],
   "source": []
  }
 ],
 "metadata": {
  "kernelspec": {
   "display_name": "Python 3 (ipykernel)",
   "language": "python",
   "name": "python3"
  },
  "language_info": {
   "codemirror_mode": {
    "name": "ipython",
    "version": 3
   },
   "file_extension": ".py",
   "mimetype": "text/x-python",
   "name": "python",
   "nbconvert_exporter": "python",
   "pygments_lexer": "ipython3",
   "version": "3.9.12"
  }
 },
 "nbformat": 4,
 "nbformat_minor": 5
}

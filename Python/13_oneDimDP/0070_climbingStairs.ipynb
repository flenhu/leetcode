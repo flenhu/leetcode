{
 "cells": [
  {
   "cell_type": "markdown",
   "id": "403662d3",
   "metadata": {},
   "source": [
    "#### [Python <img src=\"../../assets/pythonLogo.png\" alt=\"py logo\" style=\"height: 1em; vertical-align: sub;\">](../README.md) | Easy 🟢 | [1-D Dynamic Programming](README.md) | \n",
    "# [70. Climbing Stairs](https://leetcode.com/problems/climbing-stairs/description/)"
   ]
  },
  {
   "cell_type": "markdown",
   "id": "91001710",
   "metadata": {},
   "source": [
    "You are climbing a staircase. It takes `n` steps to reach the top.  \n",
    "  \n",
    "Each time you can either climb `1` or `2` steps. In how many distinct ways can you climb to the top?\n",
    "\n",
    "**Example 1:**\n",
    "> **Input:**  `n = 2`  \n",
    "> **Output:**  `2`  \n",
    "> **Explanation:**  There are two ways to climb to the top.  \n",
    "    1. `1 step + 1 step`  \n",
    "    2. `2 steps`  \n",
    "    \n",
    "**Example 2:**\n",
    "> **Input:**  `n = 3`  \n",
    "> **Output:**  `3`  \n",
    "> **Explanation:**  There are three ways to climb to the top\n",
    "    1. `1 step + 1 step`  \n",
    "    2. `2 steps`  \n",
    "#### Constraints\n",
    "- `1 <= n <= 45`\n",
    "\n"
   ]
  },
  {
   "cell_type": "markdown",
   "id": "1cf8286b",
   "metadata": {},
   "source": [
    "### Problem Explanation\n",
    "- For this problem we get a staircase with`n` steps, and we want to find out how many distinct ways we can reach the top of the staircase.\n",
    "- Each time, we have the option to climb either 1 or 2 stpes.\n",
    "\n",
    "***"
   ]
  },
  {
   "cell_type": "markdown",
   "id": "28967e70",
   "metadata": {},
   "source": [
    "# Approach 1: Dynamic Programming (bottom up)\n",
    "\n",
    "### 1.1 Intuition\n",
    "- This problem is a classical dynamic programming problem, where we want to break down the problem into smaller and more manageable subproblems.\n",
    "- The key intuition here is to recognize that thenumber of ways to steo `i` is the sum of the ways to reach step `i-1` and step `i-2`. This is because from step `i-1`, we can take one step to reach `i`, and from `i-2` we can take two steps to reach `i`.\n",
    "- This problem can essentially be solved by building up the number of ways to reach each step from the bottom of the staircase.\n",
    "\n",
    "\n",
    "### 1.2 Algorithm\n",
    "1. Initialization:\n",
    "    - Store `k` and initialize a min-heap with the given `nums` array.\n",
    "    - Convert `nums` into a heap in-place and pop elements until its size is `k`/\n",
    "2. Adding a New Element:\n",
    "    - Push the new element (`val`) into the heap.\n",
    "    - If the heap size exceeds `k`, pop the smallest element.\n",
    "    "
   ]
  },
  {
   "cell_type": "code",
   "execution_count": null,
   "id": "d99cc9fb",
   "metadata": {},
   "outputs": [],
   "source": []
  }
 ],
 "metadata": {
  "kernelspec": {
   "display_name": "Python 3 (ipykernel)",
   "language": "python",
   "name": "python3"
  },
  "language_info": {
   "codemirror_mode": {
    "name": "ipython",
    "version": 3
   },
   "file_extension": ".py",
   "mimetype": "text/x-python",
   "name": "python",
   "nbconvert_exporter": "python",
   "pygments_lexer": "ipython3",
   "version": "3.10.4"
  }
 },
 "nbformat": 4,
 "nbformat_minor": 5
}

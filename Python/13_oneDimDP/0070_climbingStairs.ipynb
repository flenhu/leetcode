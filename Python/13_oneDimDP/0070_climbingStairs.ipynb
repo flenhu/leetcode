{
 "cells": [
  {
   "cell_type": "markdown",
   "id": "403662d3",
   "metadata": {},
   "source": [
    "#### [Python <img src=\"../../assets/pythonLogo.png\" alt=\"py logo\" style=\"height: 1em; vertical-align: sub;\">](../README.md) | Easy 🟢 | [1-D Dynamic Programming](README.md) | \n",
    "# [70. Climbing Stairs](https://leetcode.com/problems/climbing-stairs/description/)"
   ]
  },
  {
   "cell_type": "markdown",
   "id": "91001710",
   "metadata": {},
   "source": [
    "You are climbing a staircase. It takes `n` steps to reach the top.  \n",
    "  \n",
    "Each time you can either climb `1` or `2` steps. In how many distinct ways can you climb to the top?\n",
    "\n",
    "**Example 1:**\n",
    "> **Input:**  `n = 2`  \n",
    "> **Output:**  `2`  \n",
    "> **Explanation:**  There are two ways to climb to the top.  \n",
    "    1. `1 step + 1 step`  \n",
    "    2. `2 steps`  \n",
    "    \n",
    "**Example 2:**\n",
    "> **Input:**  `n = 3`  \n",
    "> **Output:**  `3`  \n",
    "> **Explanation:**  There are three ways to climb to the top\n",
    "    1. `1 step + 1 step`  \n",
    "    2. `2 steps`  \n",
    "#### Constraints\n",
    "- `1 <= n <= 45`\n",
    "\n"
   ]
  },
  {
   "cell_type": "markdown",
   "id": "1cf8286b",
   "metadata": {},
   "source": [
    "### Problem Explanation\n",
    "- For this problem we get a staircase with`n` steps, and we want to find out how many distinct ways we can reach the top of the staircase.\n",
    "- Each time, we have the option to climb either 1 or 2 stpes.\n",
    "\n",
    "***"
   ]
  },
  {
   "cell_type": "markdown",
   "id": "28967e70",
   "metadata": {},
   "source": [
    "# Approach 1: Dynamic Programming (bottom up)\n",
    "\n",
    "### 1.1 Intuition\n",
    "- This problem is a classical dynamic programming problem, where we want to break down the problem into smaller and more manageable subproblems.\n",
    "- The key intuition here is to recognize that thenumber of ways to steo `i` is the sum of the ways to reach step `i-1` and step `i-2`. This is because from step `i-1`, we can take one step to reach `i`, and from `i-2` we can take two steps to reach `i`.\n",
    "- This problem can essentially be solved by building up the number of ways to reach each step from the bottom of the staircase.\n",
    "\n",
    "\n",
    "### 1.2 Algorithm\n",
    "1. **Base Cases**: If `n` is 1,2, or 3, return `n` directly as the answer is straightforward.\n",
    "    - If `n = 1`, there is only 1 way to climb the stair. (1 step)\n",
    "    - If `n = 2`, there are 2 ways to climb the stairs. (1 step + 1 step, or 2 steps)\n",
    "    - If `n = 3`, there are 3 ways to climb the stairs.  \n",
    "        (1 step + 1 step + 1 step, or 1 step + 2 steps, or 2 steps + 1 step)\n",
    "2. **Iterative Approach**: For `n > 3`, we then need to calculate the number of ways dynamically based on the base cases and iteratively calculate the number of ways to reach eaach step up to `n`\n",
    "    - Use two variables (`n1` and `n2`) to store the number of ways to reach the previous two steps.\n",
    "    - Update the variables as we calculate the number of ways for each subsequent step."
   ]
  },
  {
   "cell_type": "markdown",
   "id": "dd4a9bde",
   "metadata": {},
   "source": [
    "### 1.3 Code Implementation "
   ]
  },
  {
   "cell_type": "code",
   "execution_count": 1,
   "id": "7d8d4cb2",
   "metadata": {},
   "outputs": [],
   "source": [
    "class Solution:\n",
    "    def climbStairs(self, n: int) -> int:\n",
    "        # Base cases\n",
    "        if n <= 3:\n",
    "            return n\n",
    "        \n",
    "        # Initialize the first two steps beyond the base case.\n",
    "        for i in range(4, n + 1):\n",
    "            temp = n1 + n2    # the number of ways to reach the current step\n",
    "            n1 = n2           # Update n1 to the next step\n",
    "            n2 = temp         # Update n2 to the current step\n",
    "            \n",
    "        # n2 now contains the number of ways to reach step n\n",
    "        return n2"
   ]
  },
  {
   "cell_type": "markdown",
   "id": "c9b59138",
   "metadata": {},
   "source": [
    "### Complexity Analysis\n",
    "- #### Time Complexity: $O(n)$ \n",
    "    - The solution iterates from 4 to $n$., which takes linear time in the worst case.\n",
    "\n",
    "- #### Space Complexity: $O(1)$\n",
    "    - The solution uses a constant time amount of space, only storing a few variables regardless of the input size `n`.\n",
    "***"
   ]
  },
  {
   "cell_type": "markdown",
   "id": "611b498e",
   "metadata": {},
   "source": [
    "# Approach 2: Recursion with Memoization (top down)\n",
    "- Another way to tackle this problem is with the top-down approach, a.k.a. recursive memoization. \n",
    "- This method also involves breaking the problems into smaller subproblems and solving them recursively, while storing their solutions in a memoization table.\n",
    "\n",
    "### 2.1 Intuition\n",
    "- The main intuition behind this approach is that the number of ways to reach a particular step can be derived from the solutions from its preceding steps.\n",
    "- This approach starts from the target step `n` and works it way down to the base cases.\n",
    "- Memoization is used to store the results of the subproblems, thereby ensuring that each subproblem is solved only once.\n",
    "\n",
    "### 2.2 Algorithm\n",
    "1. **Base Cases**: If `n` is 1 or 2, return `n`, as these are the base cases with known solutions.\n",
    "2. **Memoization**: Use an array (or a hash map) to store the number of ways to reach each step that has already been calculated.\n",
    "3. **Recursive Calls**: For a given step `n`, if the number of ways to reach this step is not already in the memoization table, calculate it by recursively calling the function for steps `n-1` and `n-2`, and then store this result in the memoization table.\n",
    "4. **Return solution**: Once the number of ways to reach step `n` is calculated (either from memoization or recursion), return it as a solution."
   ]
  },
  {
   "cell_type": "markdown",
   "id": "4567fbf0",
   "metadata": {},
   "source": [
    "### 2.3 Code Implementation "
   ]
  },
  {
   "cell_type": "code",
   "execution_count": 3,
   "id": "55f5fb0e",
   "metadata": {},
   "outputs": [],
   "source": [
    "class Solution:\n",
    "    def climbStairs2(self, n: int) -> int:\n",
    "        memo = {}\n",
    "        \n",
    "        def climb(n):\n",
    "            # Base cases\n",
    "            if n <= 2:\n",
    "                return n\n",
    "            \n",
    "            # check if the result for this step is already computed\n",
    "            if n in memo:\n",
    "                return memo[n]\n",
    "            \n",
    "            # compute the number of ways recursively and store in memo\n",
    "            memo[n] = climb(n - 1) + climb(n - 2)\n",
    "            return memo[n]\n",
    "        \n",
    "        # Start the recursion with the target step\n",
    "        return climb(n)"
   ]
  },
  {
   "cell_type": "markdown",
   "id": "f018307a",
   "metadata": {},
   "source": [
    "### Complexity Analysis\n",
    "- #### Time Complexity: $O(n)$ \n",
    "    - Each step from 1 to `n` is calculated only once due to memoization.\n",
    "    - Subsequent calls to these steps return the pre-computed value from the memo table.\n",
    "- #### Space Complexity: $O(1)$\n",
    "    - The memoization table stores the number of ways for each step up to `n`, and the max depth of the recursion call stack is `n`.\n",
    "***"
   ]
  }
 ],
 "metadata": {
  "kernelspec": {
   "display_name": "Python 3 (ipykernel)",
   "language": "python",
   "name": "python3"
  },
  "language_info": {
   "codemirror_mode": {
    "name": "ipython",
    "version": 3
   },
   "file_extension": ".py",
   "mimetype": "text/x-python",
   "name": "python",
   "nbconvert_exporter": "python",
   "pygments_lexer": "ipython3",
   "version": "3.10.4"
  }
 },
 "nbformat": 4,
 "nbformat_minor": 5
}

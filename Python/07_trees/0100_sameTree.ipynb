{
 "cells": [
  {
   "cell_type": "markdown",
   "id": "82b831ff",
   "metadata": {},
   "source": [
    "#### [Python <img src=\"../../assets/pythonLogo.png\" alt=\"py logo\" style=\"height: 1em; vertical-align: sub;\">](../README.md) | Easy 🟢 | [Trees](README.md) | [<img src=\"../../assets/blind75Logo.png\" style=\"height: 1em; vertical-align: sub;\">](../../blind75.md)\n",
    "# [100. Same Tree](https://leetcode.com/problems/maximum-depth-of-binary-tree/description/)"
   ]
  },
  {
   "cell_type": "markdown",
   "id": "5f69a482",
   "metadata": {},
   "source": [
    "Given the roots of two binary trees `p` and `q`, write a function to check if they are the same or not.\n",
    "\n",
    "Two binary trees are considered the same if they are structurally identical, and the nodes have the same value\n",
    "\n",
    "**Example 1:**\n",
    "![Example 1](https://assets.leetcode.com/uploads/2020/12/20/ex1.jpg)\n",
    "> **Input:** `p = [1,2,3], q = [1,2,3]`  \n",
    "> **Output:** `true`  \n",
    "\n",
    "**Example 2:**\n",
    "![Example 1](https://assets.leetcode.com/uploads/2020/12/20/ex2.jpg)\n",
    "> **Input:** `p = [1,2], q = [1,null,2]`   \n",
    "> **Output:** `false`\n",
    "\n",
    "**Example 3:**\n",
    "![Example 3](https://assets.leetcode.com/uploads/2020/12/20/ex3.jpg)\n",
    "> **Input:** `p = [1,2,1], q = p[1,1,2]`  \n",
    "> **Output:** `false`\n",
    "\n",
    "#### Constraints\n",
    "- The number of nodes in both trees is in range `[0,100]`.\n",
    "- $-10^4 \\leq$ `Node.val` $\\leq 10^4$"
   ]
  },
  {
   "cell_type": "markdown",
   "id": "10cc0284",
   "metadata": {},
   "source": [
    "### Problem Explanation\n",
    "This problem requires us to determine whether two binary trees are structurally identical and have identical values in corresponding nodes. Essentially, the task is to check if the trees `p` and `q` are exact mirros of each in terms of structure and node values.\n",
    "\n",
    "***"
   ]
  },
  {
   "cell_type": "markdown",
   "id": "45a08d97",
   "metadata": {},
   "source": [
    "# Approach: Recursion\n",
    "Using recursion is the most natural and straightforward approach to tackling this problem. We can compare corresponding nodes of both trees simulataneously and recursively check their subtrees.\n",
    "\n",
    "### Intuition\n",
    "- The base case is when both nodes are `null`, which would mean that the trees are identical up to that point.\n",
    "- When checking two nodes, there are three conditions to consider:\n",
    "    1. Both nodes are `null` (trees are identical up to this point.)\n",
    "    2. Both nodes are not `null`, and their values are equal (proceed to check their left and right children).\n",
    "    3. One node is `null` and the other is not, or their values are different (trees are not the same).\n",
    "- If at any point the trees fail to meet these criteria, we can conclude that the trees are not the same.\n",
    "\n",
    "### Algorithm\n",
    "1. **Check for Base Case**: If both nodes `p` and `q` are `null`, return `True`.\n",
    "2. **Check for Node Equality:** If both nodes are not `null` and their values are equal, recursively check:\n",
    "    - If `p.left` is the same as `q.left`.\n",
    "    - If `p.right` is the same as `q.right`.\n",
    "3. **Return False Otherwise**: If the nodes don't meet the above criteria, return `False`.\n",
    "4. **Combine Checks**: The trees are the same if both the left and right subtrees are the same."
   ]
  },
  {
   "cell_type": "markdown",
   "id": "2cfa25ee",
   "metadata": {},
   "source": [
    "### Code Implementation: Recursion Approach"
   ]
  },
  {
   "cell_type": "code",
   "execution_count": 1,
   "id": "6d6970e8",
   "metadata": {},
   "outputs": [],
   "source": [
    "from typing import Optional\n",
    "\n",
    "# Definition for a binary tree node.\n",
    "class TreeNode:\n",
    "    def __init__(self, val=0, left=None, right=None):\n",
    "        self.val = val\n",
    "        self.left = left\n",
    "        self.right = right\n",
    "        \n",
    "class Solution:\n",
    "    def isSameTree(self, p: Optional[TreeNode], q: Optional[TreeNode]) -> bool:\n",
    "        # Base case: both nodes are NOne\n",
    "        if not p and not q:\n",
    "            return True\n",
    "        \n",
    "        # Check if both nodes are not None and have the same value\n",
    "        if p and q and p.val == q.val:\n",
    "            # Recursively check left and right subtrees\n",
    "            return self.isSameTree(p.left, q.left) and self.isSameTree(p.right, q.right)\n",
    "        \n",
    "        # Trees are not the same\n",
    "        return False"
   ]
  },
  {
   "cell_type": "markdown",
   "id": "1bfe5711",
   "metadata": {},
   "source": [
    "### Testing"
   ]
  },
  {
   "cell_type": "code",
   "execution_count": 2,
   "id": "a1caa67b",
   "metadata": {},
   "outputs": [
    {
     "name": "stdout",
     "output_type": "stream",
     "text": [
      "Test with Trees [1, 2, 3] and [1, 2, 3] - Expected: True, Actual: True - Passed\n",
      "Test with Trees [1, 2] and [1, None, 2] - Expected: False, Actual: False - Passed\n",
      "Test with Trees [1, 2, 3] and [1, 3, 2] - Expected: False, Actual: False - Passed\n"
     ]
    }
   ],
   "source": [
    "# Helper function to construct a binary tree from a list of values\n",
    "def constructTree(values):\n",
    "    if not values:\n",
    "        return None\n",
    "    nodes = [None if val is None else TreeNode(val) for val in values]\n",
    "    kids = nodes[::-1]\n",
    "    root = kids.pop()\n",
    "    for node in nodes:\n",
    "        if node:\n",
    "            if kids: node.left = kids.pop()\n",
    "            if kids: node.right = kids.pop()\n",
    "    return root\n",
    "\n",
    "def test_isSameTree(test_cases, solution):\n",
    "    for case1, case2, expected in test_cases:\n",
    "        tree1 = constructTree(case1)\n",
    "        tree2 = constructTree(case2)\n",
    "        actual = solution.isSameTree(tree1, tree2)\n",
    "        status = \"Passed\" if actual == expected else \"Failed\"\n",
    "        print(f\"Test with Trees {case1} and {case2} - Expected: {expected}, Actual: {actual} - {status}\")\n",
    "\n",
    "# Define test cases as tuples of (tree1, tree2, expected_result)\n",
    "test_cases = [\n",
    "    ([1, 2, 3], [1, 2, 3], True),  # Test Case 1\n",
    "    ([1, 2], [1, None, 2], False),  # Test Case 2\n",
    "    ([1, 2, 3], [1, 3, 2], False)   # Test Case 3\n",
    "]\n",
    "\n",
    "# Solution instance\n",
    "sol = Solution()\n",
    "\n",
    "# Run the tests\n",
    "test_isSameTree(test_cases, sol)\n"
   ]
  },
  {
   "cell_type": "markdown",
   "id": "8b50f3ff",
   "metadata": {},
   "source": [
    "### Complexity Analysis\n",
    "- #### Time Complexity: $O(n)$ \n",
    "    - $n$ is the minimum number of nodes in the two trees.\n",
    "    - In the worst case, we might have to visit each node.\n",
    "\n",
    "- #### Space Complexity: $O(h) \\approx O(n)$\n",
    "    - $h$ is the height of the tree.\n",
    "    - The space is used by the recursion call stack.\n",
    "    - In the worst case (a skewed tree), the space complexity can become $O(n)$.\n",
    "***"
   ]
  },
  {
   "cell_type": "markdown",
   "id": "5511c25f",
   "metadata": {},
   "source": [
    "# Approach 2: Iteration (todo)"
   ]
  }
 ],
 "metadata": {
  "kernelspec": {
   "display_name": "Python 3 (ipykernel)",
   "language": "python",
   "name": "python3"
  },
  "language_info": {
   "codemirror_mode": {
    "name": "ipython",
    "version": 3
   },
   "file_extension": ".py",
   "mimetype": "text/x-python",
   "name": "python",
   "nbconvert_exporter": "python",
   "pygments_lexer": "ipython3",
   "version": "3.10.4"
  }
 },
 "nbformat": 4,
 "nbformat_minor": 5
}

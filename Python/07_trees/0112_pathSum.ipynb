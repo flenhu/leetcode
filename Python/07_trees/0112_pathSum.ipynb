{
 "cells": [
  {
   "cell_type": "markdown",
   "id": "835c632c",
   "metadata": {},
   "source": [
    "#### [Python <img src=\"../../assets/pythonLogo.png\" alt=\"py logo\" style=\"height: 1em; vertical-align: sub;\">](../README.md) | Easy 🟢 | [Trees](README.md)\n",
    "# [112. Path Sum](https://leetcode.com/problems/path-sum/description/) (not started 😕)"
   ]
  },
  {
   "cell_type": "markdown",
   "id": "b9441082",
   "metadata": {},
   "source": [
    "Given the root of a binary tree and an integer `targetSum`, return `true` if the tree has a **root-to-leaf** path such that adding up all the values along the path equals `targetSum`.\n",
    "\n",
    "A leaf is a node with no children.\n",
    "\n",
    "#### Example 1:\n",
    "![ex1](https://assets.leetcode.com/uploads/2021/01/18/pathsum1.jpg)\n",
    "> **Input:** `root = [5,4,8,11,null,13,4,7,2,null,null,null,1], targetSum = 22`  \n",
    "> **Output:** `true`  \n",
    "> **Explanation:** The root-to-leaf path with the target sum is shown.\n",
    "\n",
    "#### Example 2:\n",
    "![ex2](https://assets.leetcode.com/uploads/2021/01/18/pathsum2.jpg)\n",
    "> **Input:** `root = [1,2,3], targetSum = 5`  \n",
    "> **Output:** `false`  \n",
    "> **Explanation:** There two root-to-leaf paths in the tree:  \n",
    "> `(1 --> 2)`: The sum is 3.  \n",
    "> `(1 --> 3)`: The sum is 4.  \n",
    "> There is no root-to-leaf path with sum = 5.\n",
    "\n",
    "#### Example 3:\n",
    "> **Input:** `root = [], targetSum = 0`  \n",
    "> **Output:** `false`  \n",
    "> **Explanation:** Since the tree is empty, there are no root-to-leaf paths.\n",
    "\n",
    "#### Constraints:\n",
    "- The number of nodes in the tree is in the range `[0, 5000]`.\n",
    "- `-1000 <= Node.val <= 1000`\n",
    "- `-1000 <= targetSum <= 1000`\n"
   ]
  },
  {
   "cell_type": "markdown",
   "id": "5a871415",
   "metadata": {},
   "source": [
    "## Problem Explanation\n",
    "- \n",
    "\n",
    "***"
   ]
  },
  {
   "cell_type": "markdown",
   "id": "66c83cb9",
   "metadata": {},
   "source": [
    "# Approach: \n",
    "\n",
    "\n",
    "## Intuition\n",
    "\n",
    "\n",
    "## Algorithm\n"
   ]
  },
  {
   "cell_type": "markdown",
   "id": "7888762a",
   "metadata": {},
   "source": [
    "## Code Implementation"
   ]
  },
  {
   "cell_type": "code",
   "execution_count": null,
   "id": "e1d254e7",
   "metadata": {},
   "outputs": [],
   "source": []
  },
  {
   "cell_type": "markdown",
   "id": "ce05a3cf",
   "metadata": {},
   "source": [
    "### Testing"
   ]
  },
  {
   "cell_type": "code",
   "execution_count": null,
   "id": "4c5194cc",
   "metadata": {},
   "outputs": [],
   "source": []
  },
  {
   "cell_type": "markdown",
   "id": "8a5df28b",
   "metadata": {},
   "source": [
    "## Complexity Analysis\n",
    "- ### Time Complexity: $O()$\n",
    "\n",
    "- ### Space Complexity: $O()$\n",
    "***"
   ]
  },
  {
   "cell_type": "markdown",
   "id": "32c95f2b",
   "metadata": {},
   "source": [
    "# Approach 2:\n",
    "\n",
    "\n",
    "## Intuition\n",
    "\n",
    "\n",
    "## Algorithm\n"
   ]
  },
  {
   "cell_type": "markdown",
   "id": "4ec10b6f",
   "metadata": {},
   "source": [
    "## Code Implemenation"
   ]
  },
  {
   "cell_type": "code",
   "execution_count": null,
   "id": "4bc5adb0",
   "metadata": {},
   "outputs": [],
   "source": []
  },
  {
   "cell_type": "markdown",
   "id": "9380e7fb",
   "metadata": {},
   "source": [
    "### Testing"
   ]
  },
  {
   "cell_type": "code",
   "execution_count": null,
   "id": "968ee2e3",
   "metadata": {},
   "outputs": [],
   "source": []
  },
  {
   "cell_type": "markdown",
   "id": "46790c54",
   "metadata": {},
   "source": [
    "## Complexity Analysis\n",
    "- ### Time Complexity: $O()$\n",
    "\n",
    "- ### Space Complexity: $O()$\n",
    "***"
   ]
  }
 ],
 "metadata": {
  "kernelspec": {
   "display_name": "Python 3 (ipykernel)",
   "language": "python",
   "name": "python3"
  },
  "language_info": {
   "codemirror_mode": {
    "name": "ipython",
    "version": 3
   },
   "file_extension": ".py",
   "mimetype": "text/x-python",
   "name": "python",
   "nbconvert_exporter": "python",
   "pygments_lexer": "ipython3",
   "version": "3.10.4"
  }
 },
 "nbformat": 4,
 "nbformat_minor": 5
}

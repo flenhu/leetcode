{
 "cells": [
  {
   "cell_type": "markdown",
   "id": "82b831ff",
   "metadata": {},
   "source": [
    "#### Python | Easy | Trees\n",
    "# [226. Invert Binary Tree](https://leetcode.com/problems/reverse-linked-list/)"
   ]
  },
  {
   "cell_type": "markdown",
   "id": "5f69a482",
   "metadata": {},
   "source": [
    "Given the `root` of a binary tree, invert the tree, and return its root.\n",
    "\n",
    "**Example 1:**\n",
    "![Example 1](https://assets.leetcode.com/uploads/2021/03/14/invert1-tree.jpg)\n",
    "> **Input:** `root = [4,2,7,1,3,6,9]`  \n",
    "> **Output:** `[4,7,2,9,6,3,1]`  \n",
    "> **Explanation:** The left and right children of all nodes are swapped. For example, the left child of the root (2) and the right child (7) are swapped.\n",
    "\n",
    "**Example 2:**\n",
    "![Example 2](https://assets.leetcode.com/uploads/2021/03/14/invert2-tree.jpg)\n",
    "> **Input:** `root = [2,1,3]`  \n",
    "> **Output:** `[2,3,1]`\n",
    "> **Explanation:** The left child (1) and the right child (3) are swapped.\n",
    "\n",
    "**Example 3:**\n",
    "> **Input**: `root = []`\n",
    "> **Output**: `[]`\n",
    "> **Explanation**: An empty tree remains unchanged.\n",
    "\n",
    "\n",
    "#### Constraints\n",
    "- The number of nodes in the tree is in the range `[0, 100]`\n",
    "- `-100 <= Node.val <= 100`"
   ]
  },
  {
   "cell_type": "markdown",
   "id": "5fa26e25",
   "metadata": {},
   "source": [
    "### Problem Explanation\n",
    "- This problem requires that we invert a binary tree, meaning that for every node in the tree, its left and right child are swapped. \n",
    "- The task is to return the root of the newly inverted tree."
   ]
  },
  {
   "cell_type": "markdown",
   "id": "c1445384",
   "metadata": {},
   "source": [
    "## Approach 1: Recursive\n",
    "### Intuition\n",
    "- The main idea behind this problem is to change the direction of the `next` pointers in the linked list.\n",
    "- We iterate through the list and, for each node, change its `next` pointer to point to the previous node instead of the next node.\n",
    "\n",
    "### Algorithm\n",
    "1. **Base Case**: If the current node (`root`) is `None`, then return `None`.\n",
    "2. **Swap Children**: Swap the left and right children of the current node.\n",
    "3. **Recursive Inversion:** Recursively invert the left and right subtrees.\n",
    "4. **Return Root**: After inverting both subtrees, return the root of the inverted tree."
   ]
  },
  {
   "cell_type": "markdown",
   "id": "f9f32a8c",
   "metadata": {},
   "source": [
    "### Code Implementation: Recursive"
   ]
  },
  {
   "cell_type": "code",
   "execution_count": 1,
   "id": "63ccba96",
   "metadata": {},
   "outputs": [],
   "source": [
    "from typing import Optional\n",
    "\n",
    "# Definition for a binary tree node.\n",
    "class TreeNode:\n",
    "    def __init__(self, val=0, left=None, right=None):\n",
    "        self.val = val\n",
    "        self.left = left\n",
    "        self.right = right\n",
    "        \n",
    "class Solution:\n",
    "    def invertTree(self, root:Optional[TreeNode]) -> Optional[TreeNode]:\n",
    "        # Base case: if the current node is None, then return None\n",
    "        if not root:\n",
    "            return None\n",
    "        \n",
    "        # Swap the left and right children of the current node\n",
    "        root.left, root.right = root.right, root.left\n",
    "        \n",
    "        # Recursively invert the left subtree\n",
    "        self.invertTree(root.left)\n",
    "        \n",
    "        # Recursively invert the right subtree\n",
    "        self.invertTree(root.right)\n",
    "        \n",
    "        # Return the root of the inverted tree\n",
    "        return Root"
   ]
  },
  {
   "cell_type": "markdown",
   "id": "d2b6885c",
   "metadata": {},
   "source": [
    "### Complexity Analysis\n",
    "- #### Time Complexity: $O(n)$ \n",
    "    - $n$ is the number of nodes in the tree. Each node is only visited once.\n",
    "\n",
    "- #### Space Complexity: $O(h) \\approx O(n)$\n",
    "    - $h$ is the height of the tree. That is because of the recursive call stack. In the worst case scenario (a skewed tree), the space complexity can become $O(n)$."
   ]
  }
 ],
 "metadata": {
  "kernelspec": {
   "display_name": "Python 3 (ipykernel)",
   "language": "python",
   "name": "python3"
  },
  "language_info": {
   "codemirror_mode": {
    "name": "ipython",
    "version": 3
   },
   "file_extension": ".py",
   "mimetype": "text/x-python",
   "name": "python",
   "nbconvert_exporter": "python",
   "pygments_lexer": "ipython3",
   "version": "3.10.4"
  }
 },
 "nbformat": 4,
 "nbformat_minor": 5
}

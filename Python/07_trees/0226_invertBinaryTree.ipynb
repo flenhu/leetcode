{
 "cells": [
  {
   "cell_type": "markdown",
   "id": "82b831ff",
   "metadata": {},
   "source": [
    "#### Python | Easy | Trees\n",
    "# [226. Invert Binary Tree](https://leetcode.com/problems/reverse-linked-list/)"
   ]
  },
  {
   "cell_type": "markdown",
   "id": "5f69a482",
   "metadata": {},
   "source": [
    "Given the `root` of a binary tree, invert the tree, and return its root.\n",
    "\n",
    "**Example 1:**\n",
    "![Example 1](https://assets.leetcode.com/uploads/2021/03/14/invert1-tree.jpg)\n",
    "> **Input:** `head = [1,2,3,4,5]`  \n",
    "> **Output:** `[5,4,3,2,1]`\n",
    "> **Explanation:** The elements of the list are reversed from `[1,2,3,4,5]` to `[5,4,3,2,1]`"
   ]
  }
 ],
 "metadata": {
  "kernelspec": {
   "display_name": "Python 3 (ipykernel)",
   "language": "python",
   "name": "python3"
  },
  "language_info": {
   "codemirror_mode": {
    "name": "ipython",
    "version": 3
   },
   "file_extension": ".py",
   "mimetype": "text/x-python",
   "name": "python",
   "nbconvert_exporter": "python",
   "pygments_lexer": "ipython3",
   "version": "3.10.4"
  }
 },
 "nbformat": 4,
 "nbformat_minor": 5
}

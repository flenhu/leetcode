{
 "cells": [
  {
   "cell_type": "markdown",
   "id": "82b831ff",
   "metadata": {},
   "source": [
    "#### [Python <img src=\"../../assets/pythonLogo.png\" alt=\"py logo\" style=\"height: 1em; vertical-align: sub;\">](../README.md) | Easy 🟢 | [Trees](README.md) | [<img src=\"../../assets/blind75Logo.png\" style=\"height: 1em; vertical-align: sub;\">](../../blind75.md)\n",
    "# [572. Subtree of Another Tree](https://leetcode.com/problems/subtree-of-another-tree/description/)"
   ]
  },
  {
   "cell_type": "markdown",
   "id": "5f69a482",
   "metadata": {},
   "source": [
    "Given the roots of two binary trees `root` and `subRoot`, return `true` if there is a subtree of `root` with the same structure and node values of `subroot` and `false` otherwise.\n",
    "\n",
    "A subtree of a binary tree `tree` is a tree that consists of a node in `tree` and all of this node's descendants. The tree `tree` could also be considered as a subtree of itself.\n",
    "\n",
    "**Example 1:**\n",
    "![Example 1](https://assets.leetcode.com/uploads/2021/04/28/subtree1-tree.jpg)\n",
    "> **Input:** `root = [3,4,5,1,2], subRoot = [4,1,2]`\n",
    "> **Output:** `true`  \n",
    "\n",
    "**Example 2:**\n",
    "![Example 2](https://assets.leetcode.com/uploads/2021/04/28/subtree2-tree.jpg)\n",
    "> **Input:** `root = [3,4,5,1,2,null,null,null,null,0], subRoot = [4,1,2]`  \n",
    "> **Output:** `false`\n",
    "\n",
    "#### Constraints\n",
    "- The number of nodes in the `root` tree is in the range `[1, 2000]`\n",
    "- The number of nodes in the `subRoot` tree is in the range `[1, 1000]`\n",
    "- $-10^{4} \\leq$ `root.val` $\\leq 10^4$\n",
    "- $-10^{4} \\leq$ `subRoot.val` $\\leq 10^4$"
   ]
  },
  {
   "cell_type": "markdown",
   "id": "10cc0284",
   "metadata": {},
   "source": [
    "### Problem Explanation\n",
    "- This problems asks us to determine whether one binary tree `subRoot` is a subtree of another binary tree `root`. \n",
    "- A subtree means a node in `root` and all of its descendants are identical in structure and node values to `subRoot`. \n",
    "- This problem essentially tests whether `subRoot` appears exactly somewhere within `root`.\n",
    "***"
   ]
  },
  {
   "cell_type": "markdown",
   "id": "45a08d97",
   "metadata": {},
   "source": [
    "# Approach 1: Recursive Tree Comparison\n",
    "This approach involves recursively checking each node in the `root` tree to see if the subtree starting from that node matches the `subtree` tree.\n",
    "\n",
    "### Intuition\n",
    "- Start by comparing the `root` tree with `subRoot`. If they match, return `True`\n",
    "- If they don't match, recursively check whether `subRoot` is a subtree of either the left or right child of the `root`.\n",
    "- We'll then implement a helper function to compare two trees for equality. (We can apply sameTree from another problem)\n",
    "\n",
    "### Algorithm\n",
    "1. **Check for Null Trees**:\n",
    "    - If `subRoot` is `null`, it's trivially a subtree of any tree, so we can return `True`\n",
    "    - If `root` is `null` but `subRoot` isn't, then `subRoot` can't be a subtree, so we return `False`.\n",
    "2. **Compare Trees**:\n",
    "    - We can then implement a helper function **`sameTree`** to check if the tree rooted at `s` is the same as the tree `t`.\n",
    "    - If `sameTree` returns `True`, then `subRoot` is a subtree of `root`.\n",
    "3. **Recursive Check**:\n",
    "    - Recursively check if `subRoot` is a subtree of `root.left` or `root.right`.\n",
    "3. **Return Result**:\n",
    "    - Return `True` if any of the checks succeed."
   ]
  },
  {
   "cell_type": "markdown",
   "id": "2cfa25ee",
   "metadata": {},
   "source": [
    "### Code Implementation: Recursive Tree Comparison"
   ]
  },
  {
   "cell_type": "code",
   "execution_count": 5,
   "id": "6d6970e8",
   "metadata": {},
   "outputs": [],
   "source": [
    "from typing import Optional\n",
    "\n",
    "# Definition for a binary tree node.\n",
    "class TreeNode:\n",
    "    def __init__(self, val=0, left=None, right=None):\n",
    "        self.val = val\n",
    "        self.left = left\n",
    "        self.right = right\n",
    "\n",
    "class Solution:\n",
    "    def isSubtree(self, s: TreeNode, t: TreeNode) -> bool:\n",
    "        if not t: \n",
    "            return True  # A null tree is a subtree of any tree.\n",
    "        if not s: \n",
    "            return False  # Non-null tree cannot be a subtree of a null tree.\n",
    "\n",
    "        # Check if trees rooted at s and t are the same.\n",
    "        if self.sameTree(s, t): \n",
    "            return True\n",
    "\n",
    "        # Check for subtree in left or right child of s.\n",
    "        return self.isSubtree(s.left, t) or self.isSubtree(s.right, t)\n",
    "\n",
    "    def sameTree(self, s, t):\n",
    "        if not s and not t: \n",
    "            return True  # Both trees are null.\n",
    "        if s and t and s.val == t.val: \n",
    "            # Check if left and right subtrees are also the same.\n",
    "            return self.sameTree(s.left, t.left) and self.sameTree(s.right, t.right)\n",
    "        \n",
    "        return False  # Trees are not the same.\n"
   ]
  },
  {
   "cell_type": "markdown",
   "id": "1bfe5711",
   "metadata": {},
   "source": [
    "### Testing"
   ]
  },
  {
   "cell_type": "code",
   "execution_count": 6,
   "id": "fd7d22d3",
   "metadata": {},
   "outputs": [
    {
     "name": "stdout",
     "output_type": "stream",
     "text": [
      "Test with Trees [3, 4, 5, 1, 2] and [4, 1, 2] - Expected: True, Actual: True - Passed\n",
      "Test with Trees [3, 4, 5, 1, 2, None, None, None, None, 0] and [4, 1, 2] - Expected: False, Actual: False - Passed\n",
      "Test with Trees [1, 2, 3] and [2] - Expected: True, Actual: True - Passed\n"
     ]
    }
   ],
   "source": [
    "# Helper function to construct a binary tree from a list of values\n",
    "def constructTree(values):\n",
    "    if not values:\n",
    "        return None\n",
    "    nodes = [None if val is None else TreeNode(val) for val in values]\n",
    "    kids = nodes[::-1]\n",
    "    root = kids.pop()\n",
    "    for node in nodes:\n",
    "        if node:\n",
    "            if kids: node.left = kids.pop()\n",
    "            if kids: node.right = kids.pop()\n",
    "    return root\n",
    "\n",
    "# Test cases\n",
    "test_cases = [\n",
    "    ([3, 4, 5, 1, 2], [4, 1, 2], True),       # Test Case 1\n",
    "    ([3, 4, 5, 1, 2, None, None, None, None, 0], [4, 1, 2], False),  # Test Case 2\n",
    "    ([1, 2, 3], [2], True)                    # Test Case 3\n",
    "]\n",
    "\n",
    "# Solution instance\n",
    "sol = Solution()\n",
    "\n",
    "# Run the tests\n",
    "for s, t, expected in test_cases:\n",
    "    s_tree = constructTree(s)\n",
    "    t_tree = constructTree(t)\n",
    "    result = sol.isSubtree(s_tree, t_tree)\n",
    "    status = \"Passed\" if result == expected else \"Failed\"\n",
    "    print(f\"Test with Trees {s} and {t} - Expected: {expected}, Actual: {result} - {status}\")\n"
   ]
  },
  {
   "cell_type": "markdown",
   "id": "8b50f3ff",
   "metadata": {},
   "source": [
    "### Complexity Analysis\n",
    "- #### Time Complexity: $O(s \\cdot t)$ \n",
    "    - where $s$ is the number of nodes in tree `s` and $t$ is the number of nodes in subtree `t`.\n",
    "    - Eacj node in `s` is checked against `t` for subtree equality\n",
    "\n",
    "- #### Space Complexity: $O(h) \\approx O(n)$\n",
    "    - $h$ is the height of the `root` tree because of the recursive call stack.\n",
    "    - In the worst case, the space complexity can become $O(n)$ for a skewed tree\n",
    "***"
   ]
  },
  {
   "cell_type": "markdown",
   "id": "65774b41",
   "metadata": {},
   "source": [
    "# Approach 2: todo"
   ]
  }
 ],
 "metadata": {
  "kernelspec": {
   "display_name": "Python 3 (ipykernel)",
   "language": "python",
   "name": "python3"
  },
  "language_info": {
   "codemirror_mode": {
    "name": "ipython",
    "version": 3
   },
   "file_extension": ".py",
   "mimetype": "text/x-python",
   "name": "python",
   "nbconvert_exporter": "python",
   "pygments_lexer": "ipython3",
   "version": "3.10.4"
  }
 },
 "nbformat": 4,
 "nbformat_minor": 5
}

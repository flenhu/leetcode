{
 "cells": [
  {
   "cell_type": "markdown",
   "id": "82b831ff",
   "metadata": {},
   "source": [
    "#### [Python <img src=\"../../assets/pythonLogo.png\" alt=\"py logo\" style=\"height: 1em; vertical-align: sub;\">](../README.md) | Easy 🟢 | [Trees](README.md) |   ⭐️\n",
    "# [543. Diameter of Binary Tree](https://leetcode.com/problems/diameter-of-binary-tree/description/)"
   ]
  },
  {
   "cell_type": "markdown",
   "id": "5f69a482",
   "metadata": {},
   "source": [
    "Given the `root` of a binary tree, return the length of the **diameter** of the tree.\n",
    "\n",
    "The **diameter** of a binary tree is the **length** of the longest path between any two ndoes in a tree. This path may or may not pass through the `root`\n",
    "\n",
    "The **length** of a path between two nodes is represented by the number of edges between them.\n",
    "\n",
    "\n",
    "**Example 1:**\n",
    "![Example 1](https://assets.leetcode.com/uploads/2021/03/06/diamtree.jpg)\n",
    "> **Input:** `root = [1,2,3,4,5]`\n",
    "> **Output:** `3`  \n",
    "> **Explanation:** `3` is the length of the path `[4,2,1,3]` or `[5,2,1,3]`  \n",
    "\n",
    "**Example 2:**\n",
    "> **Input:** `root = [1,2]`  \n",
    "> **Output:** `1`\n",
    "\n",
    "#### Constraints\n",
    "- The number of nodes in the tree is in the range $[1, 10^{4}]$\n",
    "- `-100 <= Node.val <= 100`"
   ]
  },
  {
   "cell_type": "markdown",
   "id": "10cc0284",
   "metadata": {},
   "source": [
    "### Problem Explanation\n",
    "- This problem requires us to find the length of the longest path between any two nodes in a given binary tree.\n",
    "- The path does not necessarily have to pass through the root. The length is measured in terms of the number of edges,\n",
    "***"
   ]
  },
  {
   "cell_type": "markdown",
   "id": "45a08d97",
   "metadata": {},
   "source": [
    "# Approach 1: Depth-First Search\n",
    "The approach involves using DFS to compute the depth of each node recursively. While doing so, we calculate the longest path through each node (sum of depths of left and right subtrees)\n",
    "\n",
    "\n",
    "### Intuition\n",
    "- The diameter at any node is the sum of the maximum depths of its left and right subtrees.\n",
    "- By traversing the tree and calculating the diameter at each node, we can find the maximum diameter of the entire tree.\n",
    "\n",
    "### Algorithm\n",
    "1. **Initialize a Global Variable**: Use a variable to keep track of the maximum diameter found. \n",
    "2. **Depth-First Search Function**:\n",
    "    - If the current node is `null`, return 0 (height)\n",
    "    - Recursively calculate the height of the left and right subtrees,\n",
    "    - Update the maximum diameter by considering the sums of the left and right subtrees.\n",
    "    - Return the height of the current node.\n",
    "3. **Return the Maximum Diameter**: After traversing the entire tree, return the maximum diameter found."
   ]
  },
  {
   "cell_type": "markdown",
   "id": "2cfa25ee",
   "metadata": {},
   "source": [
    "### Code Implementation: Depth-First Search (DFS)"
   ]
  },
  {
   "cell_type": "code",
   "execution_count": 3,
   "id": "6d6970e8",
   "metadata": {},
   "outputs": [],
   "source": [
    "# from typing import Optional\n",
    "\n",
    "# Definition for a binary tree node.\n",
    "class TreeNode:\n",
    "    def __init__(self, val=0, left=None, right=None):\n",
    "        self.val = val\n",
    "        self.left = left\n",
    "        self.right = right\n",
    "\n",
    "class Solution:\n",
    "    def diameterOfBinaryTree(self, root: TreeNode) -> int:\n",
    "        self.max_diameter = 0   # Initialize the max diameter\n",
    "\n",
    "        def dfs(node):\n",
    "            if not node:\n",
    "                return -1       # Return -1 if the node is None\n",
    "            \n",
    "            # Recursively find the depth of the left and right subtrees\n",
    "            left_height = dfs(node.left) + 1\n",
    "            right_height = dfs(node.right) + 1\n",
    "\n",
    "            # Update the max diameter if the sum of the left and right subtrees is greater\n",
    "            self.max_diameter = max(self.max_diameter, left_height + right_height)\n",
    "\n",
    "            # Return the height of the current node\n",
    "            return max(left_height, right_height)\n",
    "        \n",
    "        dfs(root) # Start DFS from the root node\n",
    "        return self.max_diameter"
   ]
  },
  {
   "cell_type": "markdown",
   "id": "1bfe5711",
   "metadata": {},
   "source": [
    "### Testing"
   ]
  },
  {
   "cell_type": "code",
   "execution_count": 4,
   "id": "fd7d22d3",
   "metadata": {},
   "outputs": [
    {
     "name": "stdout",
     "output_type": "stream",
     "text": [
      "Test passed for tree [1, 2, 3, 4, 5]: expected 3, got 3\n",
      "Test passed for tree [1, 2]: expected 1, got 1\n",
      "Test passed for tree [1]: expected 0, got 0\n"
     ]
    }
   ],
   "source": [
    "# Helper function to construct a binary tree from a list of values\n",
    "def constructTree(values):\n",
    "    if not values:\n",
    "        return None\n",
    "    nodes = [None if val is None else TreeNode(val) for val in values]\n",
    "    kids = nodes[::-1]\n",
    "    root = kids.pop()\n",
    "    for node in nodes:\n",
    "        if node:\n",
    "            if kids: node.left = kids.pop()\n",
    "            if kids: node.right = kids.pop()\n",
    "    return root\n",
    "\n",
    "# Test cases\n",
    "test_cases = [\n",
    "    ([3, 4, 5, 1, 2], [4, 1, 2], True),       # Test Case 1\n",
    "    ([3, 4, 5, 1, 2, None, None, None, None, 0], [4, 1, 2], False),  # Test Case 2\n",
    "    ([1, 2, 3], [2], True)                    # Test Case 3\n",
    "]\n",
    "\n",
    "# Testing the diameterOfBinaryTree method\n",
    "sol = Solution()\n",
    "\n",
    "# Test cases\n",
    "test_cases = [\n",
    "    ([1, 2, 3, 4, 5], 3),\n",
    "    ([1, 2], 1),\n",
    "    ([1], 0)\n",
    "]\n",
    "\n",
    "# Run the tests\n",
    "for values, expected in test_cases:\n",
    "    root = constructTree(values)\n",
    "    result = sol.diameterOfBinaryTree(root)\n",
    "    assert result == expected, f\"Test failed for tree {values}: expected {expected}, got {result}\"\n",
    "    print(f\"Test passed for tree {values}: expected {expected}, got {result}\")"
   ]
  },
  {
   "cell_type": "markdown",
   "id": "8b50f3ff",
   "metadata": {},
   "source": [
    "### Complexity Analysis\n",
    "- #### Time Complexity: $O(N)$ \n",
    "    - $N$ is the number of nodes in the tree. The algorithm traverses each node exactly once.\n",
    "\n",
    "- #### Space Complexity: $O(H) \\approx O(N)$\n",
    "    - $H$ is the height of the tree.\n",
    "    - This is because the space used by the recursion call stack.\n",
    "    - In the worst case (a skewed tree), it can become $O(N)$\n",
    "***"
   ]
  }
 ],
 "metadata": {
  "kernelspec": {
   "display_name": "Python 3 (ipykernel)",
   "language": "python",
   "name": "python3"
  },
  "language_info": {
   "codemirror_mode": {
    "name": "ipython",
    "version": 3
   },
   "file_extension": ".py",
   "mimetype": "text/x-python",
   "name": "python",
   "nbconvert_exporter": "python",
   "pygments_lexer": "ipython3",
   "version": "3.11.5"
  }
 },
 "nbformat": 4,
 "nbformat_minor": 5
}

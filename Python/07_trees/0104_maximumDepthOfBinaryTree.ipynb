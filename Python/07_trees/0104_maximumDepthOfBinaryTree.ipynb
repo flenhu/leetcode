{
 "cells": [
  {
   "cell_type": "markdown",
   "id": "82b831ff",
   "metadata": {},
   "source": [
    "#### [Python <img src=\"../../assets/pythonLogo.png\" alt=\"py logo\" style=\"height: 1em; vertical-align: sub;\">](../README.md) | Easy 🟢 | [Trees](README.md) | [<img src=\"../../assets/blind75Logo.png\" style=\"height: 1em; vertical-align: sub;\">](../../blind75.md)\n",
    "# [104. Maximum Depth of Binary Tree](https://leetcode.com/problems/maximum-depth-of-binary-tree/description/)"
   ]
  },
  {
   "cell_type": "markdown",
   "id": "5f69a482",
   "metadata": {},
   "source": [
    "Given the `root` of a binary tree, return its maximum depth.\n",
    "\n",
    "A binary tree's **maximum depth** is the number of nodes along the longest path from the root node down to the farthest lear ndoe.\n",
    "\n",
    "**Example 1:**\n",
    "![Example 1](https://assets.leetcode.com/uploads/2020/11/26/tmp-tree.jpg)\n",
    "> **Input:** `root = [3,9,20,null,null,15,7]`  \n",
    "> **Output:** `3`  \n",
    "\n",
    "**Example 2:**\n",
    "> **Input:** `root = [1,null,2]`  \n",
    "> **Output:** `2`\n",
    "\n",
    "#### Constraints\n",
    "- The number of nodes in the tree is in the range `[0, 10^4]`\n",
    "- `-100 <= Node.val <= 100`"
   ]
  },
  {
   "cell_type": "markdown",
   "id": "10cc0284",
   "metadata": {},
   "source": [
    "### Problem Explanation\n",
    "This problem requires us to find the maximum depth (or height) of a binary tree. The depth of a binary tree is the number of node along the longest path from the root node down to the farthest leaf node. We can traverse a tree in a couple manners either by Depth-First Search (DFS) or Breadth-First Search (BFS.)"
   ]
  },
  {
   "cell_type": "markdown",
   "id": "45a08d97",
   "metadata": {},
   "source": [
    "## Approach 1: Recursive DFS\n",
    "- Let's start with Depth-First Search, which explores as far as possible along each branch before backtracking.\n",
    "- In a recursive DFS approach, we use the call stack to explore each path down the tree.\n",
    "\n",
    "### Intuition\n",
    "- The depth of a binary tree is the maximum depth of its left and right subtrees plus one (for the root node itself).\n",
    "- If a node is `null`, it contributes a depth of 0.\n",
    "- By recursively calculating the depth of a node as the maximum depth of its left and right children plus one, we can then figure out the maximum depth of the entire tree.\n",
    "\n",
    "### Algorithm\n",
    "1. **Base Case**: If the current node(`root`) is `null`, return a depth of 0.\n",
    "2. **Recursive Calls**: Recursively find the depth of the left and right subtrees.\n",
    "3. **Calculate Depth:** The depth at the current node is 1 (for the current node) plus the maximum depths of the left and right subtrees\n",
    "4. **Return Depth**: Return the calculated depth"
   ]
  },
  {
   "cell_type": "markdown",
   "id": "2cfa25ee",
   "metadata": {},
   "source": [
    "### Code Implementation: Recursive DFS"
   ]
  },
  {
   "cell_type": "code",
   "execution_count": 1,
   "id": "6d6970e8",
   "metadata": {},
   "outputs": [],
   "source": [
    "from typing import Optional\n",
    "\n",
    "# Definition for a binary tree node.\n",
    "class TreeNode:\n",
    "    def __init__(self, val=0, left=None, right=None):\n",
    "        self.val = val\n",
    "        self.left = left\n",
    "        self.right = right\n",
    "        \n",
    "class Solution:\n",
    "    def maxDepth(self, root: TreeNode) -> int:\n",
    "        if not root:\n",
    "            return 0    # Base case: if the node is null: return 0\n",
    "        \n",
    "        # Recursively calculate the depth of the left and right subtree(s)\n",
    "        left_depth = self.maxDepth(root.left)\n",
    "        right_depth = self.maxDepth(root.right)\n",
    "        \n",
    "        # The depth of the current node is 1 + the maximum of left and right depths\n",
    "        return 1 + max(left_depth, right_depth)"
   ]
  },
  {
   "cell_type": "markdown",
   "id": "8b50f3ff",
   "metadata": {},
   "source": [
    "### Complexity Analysis\n",
    "- #### Time Complexity: $O(n)$ \n",
    "    - $n$ is the number of nodes in the tree.\n",
    "    - Each node is only visited once.\n",
    "\n",
    "- #### Space Complexity: $O(h) \\approx O(n)$\n",
    "    - $h$ is the height of the tree.\n",
    "    - The space is used by the recursive call stack.\n",
    "    - In the worst case (a skewed tree), the height can become $n$, which leads to a space complexity of $O(n)$"
   ]
  },
  {
   "cell_type": "markdown",
   "id": "65774b41",
   "metadata": {},
   "source": [
    "## Approach 2: Iterative DFS [todo]"
   ]
  },
  {
   "cell_type": "markdown",
   "id": "0862a607",
   "metadata": {},
   "source": []
  },
  {
   "cell_type": "markdown",
   "id": "5511c25f",
   "metadata": {},
   "source": [
    "## Approach 3: BFS [todo]"
   ]
  }
 ],
 "metadata": {
  "kernelspec": {
   "display_name": "Python 3 (ipykernel)",
   "language": "python",
   "name": "python3"
  },
  "language_info": {
   "codemirror_mode": {
    "name": "ipython",
    "version": 3
   },
   "file_extension": ".py",
   "mimetype": "text/x-python",
   "name": "python",
   "nbconvert_exporter": "python",
   "pygments_lexer": "ipython3",
   "version": "3.10.4"
  }
 },
 "nbformat": 4,
 "nbformat_minor": 5
}

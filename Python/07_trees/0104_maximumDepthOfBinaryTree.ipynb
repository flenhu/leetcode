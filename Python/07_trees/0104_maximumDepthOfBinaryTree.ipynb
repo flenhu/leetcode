{
 "cells": [
  {
   "cell_type": "markdown",
   "id": "82b831ff",
   "metadata": {},
   "source": [
    "#### [Python <img src=\"../../assets/pythonLogo.png\" alt=\"py logo\" style=\"height: 1em; vertical-align: sub;\">](../README.md) | Easy 🟢 | [Trees](README.md) | [<img src=\"../../assets/blind75Logo.png\" style=\"height: 1em; vertical-align: sub;\">](../../blind75.md)\n",
    "# [104. Maximum Depth of Binary Tree](https://leetcode.com/problems/maximum-depth-of-binary-tree/description/)"
   ]
  },
  {
   "cell_type": "markdown",
   "id": "5f69a482",
   "metadata": {},
   "source": [
    "Given the `root` of a binary tree, return its maximum depth.\n",
    "\n",
    "A binary tree's **maximum depth** is the number of nodes along the longest path from the root node down to the farthest lear ndoe.\n",
    "\n",
    "**Example 1:**\n",
    "![Example 1](https://assets.leetcode.com/uploads/2020/11/26/tmp-tree.jpg)\n",
    "> **Input:** `root = [3,9,20,null,null,15,7]`  \n",
    "> **Output:** `3`  \n",
    "\n",
    "**Example 2:**\n",
    "> **Input:** `root = [1,null,2]`  \n",
    "> **Output:** `2`\n",
    "\n",
    "#### Constraints\n",
    "- The number of nodes in the tree is in the range `[0, 10^4]`\n",
    "- `-100 <= Node.val <= 100`"
   ]
  },
  {
   "cell_type": "markdown",
   "id": "10cc0284",
   "metadata": {},
   "source": [
    "### Problem Explanation\n",
    "This problem requires us to find the maximum depth (or height) of a binary tree. The depth of a binary tree is the number of node along the longest path from the root node down to the farthest leaf node. We can traverse a tree in a couple manners either by Depth-First Search (DFS) or Breadth-First Search (BFS.)\n",
    "***"
   ]
  },
  {
   "cell_type": "markdown",
   "id": "45a08d97",
   "metadata": {},
   "source": [
    "## Approach 1: Recursive DFS\n",
    "- Let's start with Depth-First Search, which explores as far as possible along each branch before backtracking.\n",
    "- In a recursive DFS approach, we use the call stack to explore each path down the tree.\n",
    "\n",
    "### Intuition\n",
    "- The depth of a binary tree is the maximum depth of its left and right subtrees plus one (for the root node itself).\n",
    "- If a node is `null`, it contributes a depth of 0.\n",
    "- By recursively calculating the depth of a node as the maximum depth of its left and right children plus one, we can then figure out the maximum depth of the entire tree.\n",
    "\n",
    "### Algorithm\n",
    "1. **Base Case**: If the current node(`root`) is `null`, return a depth of 0.\n",
    "2. **Recursive Calls**: Recursively find the depth of the left and right subtrees.\n",
    "3. **Calculate Depth:** The depth at the current node is 1 (for the current node) plus the maximum depths of the left and right subtrees\n",
    "4. **Return Depth**: Return the calculated depth"
   ]
  },
  {
   "cell_type": "markdown",
   "id": "2cfa25ee",
   "metadata": {},
   "source": [
    "### Code Implementation: Recursive DFS"
   ]
  },
  {
   "cell_type": "code",
   "execution_count": 9,
   "id": "6d6970e8",
   "metadata": {},
   "outputs": [],
   "source": [
    "from typing import Optional\n",
    "\n",
    "# Definition for a binary tree node.\n",
    "class TreeNode:\n",
    "    def __init__(self, val=0, left=None, right=None):\n",
    "        self.val = val\n",
    "        self.left = left\n",
    "        self.right = right\n",
    "        \n",
    "class Solution1:\n",
    "    def maxDepth(self, root: TreeNode) -> int:\n",
    "        if not root:\n",
    "            return 0    # Base case: if the node is null: return 0\n",
    "        \n",
    "        # Recursively calculate the depth of the left and right subtree(s)\n",
    "        left_depth = self.maxDepth(root.left)\n",
    "        right_depth = self.maxDepth(root.right)\n",
    "        \n",
    "        # The depth of the current node is 1 + the maximum of left and right depths\n",
    "        return 1 + max(left_depth, right_depth)"
   ]
  },
  {
   "cell_type": "markdown",
   "id": "2643bacd",
   "metadata": {},
   "source": [
    "### Testing"
   ]
  },
  {
   "cell_type": "code",
   "execution_count": 10,
   "id": "d5edcf43",
   "metadata": {},
   "outputs": [
    {
     "name": "stdout",
     "output_type": "stream",
     "text": [
      "Testing Recursive DFS Approach:\n",
      "Max depth of tree [3, 9, 20, None, None, 15, 7]: 3 (Expected: 3) - Passed\n",
      "Max depth of tree [1, None, 2]: 2 (Expected: 2) - Passed\n",
      "Max depth of tree []: 0 (Expected: 0) - Passed\n"
     ]
    }
   ],
   "source": [
    "def test_maxDepth(test_cases, solution):\n",
    "    for case, expected in test_cases:\n",
    "        tree = constructTree(case)\n",
    "        depth = solution.maxDepth(tree)\n",
    "        status = \"Passed\" if depth == expected else \"Failed\"\n",
    "        print(f\"Max depth of tree {case}: {depth} (Expected: {expected}) - {status}\")\n",
    "\n",
    "# Test cases with expected results\n",
    "test_cases_with_expected = [\n",
    "    ([3, 9, 20, None, None, 15, 7], 3),  # Example 1\n",
    "    ([1, None, 2], 2),                   # Example 2\n",
    "    ([], 0)                              # Empty tree\n",
    "]\n",
    "\n",
    "print(\"Testing Recursive DFS Approach:\")\n",
    "test_maxDepth(test_cases_with_expected, Solution1())"
   ]
  },
  {
   "cell_type": "markdown",
   "id": "8b50f3ff",
   "metadata": {},
   "source": [
    "### Complexity Analysis\n",
    "- #### Time Complexity: $O(n)$ \n",
    "    - $n$ is the number of nodes in the tree.\n",
    "    - Each node is only visited once.\n",
    "\n",
    "- #### Space Complexity: $O(h) \\approx O(n)$\n",
    "    - $h$ is the height of the tree.\n",
    "    - The space is used by the recursive call stack.\n",
    "    - In the worst case (a skewed tree), the height can become $n$, which leads to a space complexity of $O(n)$\n",
    "***"
   ]
  },
  {
   "cell_type": "markdown",
   "id": "65774b41",
   "metadata": {},
   "source": [
    "## Approach 2: Iterative DFS \n",
    "- While the recursive DFS approach uses a call stack to explore the depth of the tree, iterative DFS uses an explicit stack to achieve the same goal of finding the tree depth/height.\n",
    "- This approach mimics the recursion process but gives slightly more control of the traversal process.\n",
    "\n",
    "### Intuition\n",
    "- Just like in recursive DFS, we need to explore as deep as possible along each branch of the tree before backtracking.\n",
    "- However, instead of relying on function calls, we explicitly maintain a stack to keep track of the nodes and their corresponding depths.\n",
    "- By visiting each node and tracking the depth at each point, we can determine the maximum depth encountered during the traversal.\n",
    "\n",
    "### Algorithm\n",
    "1. **Initialize a Stack**: Start with a stack that contains the root node and its depth (1).\n",
    "2. **Iterative Traversal**:\n",
    "    - While the stack is not empty, pop the top element (node and it's depth)\n",
    "    - If the node is not null, update the maximum depth encountered so far.\n",
    "    - Push the left and right children of the node onto the stack, incrementing the depth by 1.\n",
    "3. **Return Maximum Depth**: After the stack is exhausted, return the maxmimum depth encountered."
   ]
  },
  {
   "cell_type": "markdown",
   "id": "0862a607",
   "metadata": {},
   "source": [
    "### Code Implementation: Iterative DFS"
   ]
  },
  {
   "cell_type": "code",
   "execution_count": 3,
   "id": "7ad8eb66",
   "metadata": {},
   "outputs": [],
   "source": [
    "class Solution2:\n",
    "    def maxDepth(self, root: TreeNode) -> int:\n",
    "        if not root:\n",
    "            return 0\n",
    "        \n",
    "        stack = [[root, 1]] # Initialize the stack with root node and depth 1\n",
    "        res = 0  # Variable to track the maximum depth\n",
    "        \n",
    "        while stack:\n",
    "            node, depth = stack.pop()  # Get the current node and its depth\n",
    "            \n",
    "            if node:\n",
    "                res = max(res, depth)  # Update the maximum depth\n",
    "                # Push the children of the current node onto the stack\n",
    "                stack.append([node.left, depth + 1])\n",
    "                stack.append([node.right, depth + 1])\n",
    "                \n",
    "            return res  # Return the maximum depth encountered"
   ]
  },
  {
   "cell_type": "markdown",
   "id": "4c3b6f3b",
   "metadata": {},
   "source": [
    "### Testing"
   ]
  },
  {
   "cell_type": "code",
   "execution_count": 11,
   "id": "e6c832f7",
   "metadata": {},
   "outputs": [
    {
     "name": "stdout",
     "output_type": "stream",
     "text": [
      "Testing Iterative DFS Approach:\n",
      "Max depth of tree [3, 9, 20, None, None, 15, 7]: 1 (Expected: 3) - Failed\n",
      "Max depth of tree [1, None, 2]: 1 (Expected: 2) - Failed\n",
      "Max depth of tree []: 0 (Expected: 0) - Passed\n"
     ]
    }
   ],
   "source": [
    "print(\"Testing Iterative DFS Approach:\")\n",
    "test_maxDepth(test_cases_with_expected, Solution2())"
   ]
  },
  {
   "cell_type": "markdown",
   "id": "73a6a782",
   "metadata": {},
   "source": [
    "### Complexity Analysis\n",
    "- #### Time Complexity: $O(n)$ \n",
    "    - $n$ is the number of nodes in the tree.\n",
    "    - Each node is only visited once.\n",
    "\n",
    "- #### Space Complexity: $O(h) \\approx O(n)$\n",
    "    - In the worst case (for a completely unbalanced tree) the space complexity is $O(n)$\n",
    "    - In the best case (a completely balanced tree), the space complexity is $O(\\log n)$, corresponding to the height of the tree.\n",
    "    \n",
    "***"
   ]
  },
  {
   "cell_type": "markdown",
   "id": "5511c25f",
   "metadata": {},
   "source": [
    "## Approach 3: BFS [todo]"
   ]
  }
 ],
 "metadata": {
  "kernelspec": {
   "display_name": "Python 3 (ipykernel)",
   "language": "python",
   "name": "python3"
  },
  "language_info": {
   "codemirror_mode": {
    "name": "ipython",
    "version": 3
   },
   "file_extension": ".py",
   "mimetype": "text/x-python",
   "name": "python",
   "nbconvert_exporter": "python",
   "pygments_lexer": "ipython3",
   "version": "3.10.4"
  }
 },
 "nbformat": 4,
 "nbformat_minor": 5
}

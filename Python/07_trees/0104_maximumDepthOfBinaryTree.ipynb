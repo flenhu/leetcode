{
 "cells": [
  {
   "cell_type": "markdown",
   "id": "82b831ff",
   "metadata": {},
   "source": [
    "#### [Python <img src=\"../../assets/pythonLogo.png\" alt=\"py logo\" style=\"height: 1em; vertical-align: sub;\">](../README.md) | Easy 🟢 | [Trees](README.md) | [<img src=\"../../assets/blind75Logo.png\" style=\"height: 1em; vertical-align: sub;\">](../../blind75.md)\n",
    "# [104. Maximum Depth of Binary Tree](https://leetcode.com/problems/maximum-depth-of-binary-tree/description/)"
   ]
  },
  {
   "cell_type": "markdown",
   "id": "5f69a482",
   "metadata": {},
   "source": [
    "Given the `root` of a binary tree, return its maximum depth.\n",
    "\n",
    "A binary tree's **maximum depth** is the number of nodes along the longest path from the root node down to the farthest lear ndoe.\n",
    "\n",
    "**Example 1:**\n",
    "![Example 1](https://assets.leetcode.com/uploads/2020/11/26/tmp-tree.jpg)\n",
    "> **Input:** `root = [3,9,20,null,null,15,7]`  \n",
    "> **Output:** `3`  \n",
    "\n",
    "**Example 2:**\n",
    "> **Input:** `root = [1,null,2]`  \n",
    "> **Output:** `2`\n",
    "\n",
    "#### Constraints\n",
    "- The number of nodes in the tree is in the range `[0, 10^4]`\n",
    "- `-100 <= Node.val <= 100`"
   ]
  },
  {
   "cell_type": "markdown",
   "id": "10cc0284",
   "metadata": {},
   "source": [
    "### Problem Explanation\n",
    "This problem requires us to find the maximum depth (or height) of a binary tree. The depth of a binary tree is the number of node along the longest path from the root node down to the farthest leaf node. We can traverse a tree in a couple manners either by Depth-First Search (DFS) or Breadth-First Search (BFS.)\n",
    "***"
   ]
  },
  {
   "cell_type": "markdown",
   "id": "45a08d97",
   "metadata": {},
   "source": [
    "# Approach 1: Recursive DFS\n",
    "- Let's start with Depth-First Search, which explores as far as possible along each branch before backtracking.\n",
    "- In a recursive DFS approach, we use the call stack to explore each path down the tree.\n",
    "\n",
    "### Intuition\n",
    "- The depth of a binary tree is the maximum depth of its left and right subtrees plus one (for the root node itself).\n",
    "- If a node is `null`, it contributes a depth of 0.\n",
    "- By recursively calculating the depth of a node as the maximum depth of its left and right children plus one, we can then figure out the maximum depth of the entire tree.\n",
    "\n",
    "### Algorithm\n",
    "1. **Base Case**: If the current node(`root`) is `null`, return a depth of 0.\n",
    "2. **Recursive Calls**: Recursively find the depth of the left and right subtrees.\n",
    "3. **Calculate Depth:** The depth at the current node is 1 (for the current node) plus the maximum depths of the left and right subtrees\n",
    "4. **Return Depth**: Return the calculated depth"
   ]
  },
  {
   "cell_type": "markdown",
   "id": "2cfa25ee",
   "metadata": {},
   "source": [
    "### Code Implementation: Recursive DFS"
   ]
  },
  {
   "cell_type": "code",
   "execution_count": 1,
   "id": "6d6970e8",
   "metadata": {},
   "outputs": [],
   "source": [
    "from typing import Optional\n",
    "\n",
    "# Definition for a binary tree node.\n",
    "class TreeNode:\n",
    "    def __init__(self, val=0, left=None, right=None):\n",
    "        self.val = val\n",
    "        self.left = left\n",
    "        self.right = right\n",
    "        \n",
    "class Solution1:\n",
    "    def maxDepth(self, root: TreeNode) -> int:\n",
    "        if not root:\n",
    "            return 0    # Base case: if the node is null: return 0\n",
    "        \n",
    "        # Recursively calculate the depth of the left and right subtree(s)\n",
    "        left_depth = self.maxDepth(root.left)\n",
    "        right_depth = self.maxDepth(root.right)\n",
    "        \n",
    "        # The depth of the current node is 1 + the maximum of left and right depths\n",
    "        return 1 + max(left_depth, right_depth)"
   ]
  },
  {
   "cell_type": "markdown",
   "id": "1bfe5711",
   "metadata": {},
   "source": [
    "### Testing"
   ]
  },
  {
   "cell_type": "code",
   "execution_count": 2,
   "id": "fd7d22d3",
   "metadata": {},
   "outputs": [
    {
     "name": "stdout",
     "output_type": "stream",
     "text": [
      "Testing Recursive DFS Approach:\n"
     ]
    },
    {
     "ename": "NameError",
     "evalue": "name 'constructTree' is not defined",
     "output_type": "error",
     "traceback": [
      "\u001b[0;31m---------------------------------------------------------------------------\u001b[0m",
      "\u001b[0;31mNameError\u001b[0m                                 Traceback (most recent call last)",
      "Input \u001b[0;32mIn [2]\u001b[0m, in \u001b[0;36m<cell line: 16>\u001b[0;34m()\u001b[0m\n\u001b[1;32m      9\u001b[0m test_cases_with_expected \u001b[38;5;241m=\u001b[39m [\n\u001b[1;32m     10\u001b[0m     ([\u001b[38;5;241m3\u001b[39m, \u001b[38;5;241m9\u001b[39m, \u001b[38;5;241m20\u001b[39m, \u001b[38;5;28;01mNone\u001b[39;00m, \u001b[38;5;28;01mNone\u001b[39;00m, \u001b[38;5;241m15\u001b[39m, \u001b[38;5;241m7\u001b[39m], \u001b[38;5;241m3\u001b[39m),  \u001b[38;5;66;03m# Example 1\u001b[39;00m\n\u001b[1;32m     11\u001b[0m     ([\u001b[38;5;241m1\u001b[39m, \u001b[38;5;28;01mNone\u001b[39;00m, \u001b[38;5;241m2\u001b[39m], \u001b[38;5;241m2\u001b[39m),                   \u001b[38;5;66;03m# Example 2\u001b[39;00m\n\u001b[1;32m     12\u001b[0m     ([], \u001b[38;5;241m0\u001b[39m)                              \u001b[38;5;66;03m# Empty tree\u001b[39;00m\n\u001b[1;32m     13\u001b[0m ]\n\u001b[1;32m     15\u001b[0m \u001b[38;5;28mprint\u001b[39m(\u001b[38;5;124m\"\u001b[39m\u001b[38;5;124mTesting Recursive DFS Approach:\u001b[39m\u001b[38;5;124m\"\u001b[39m)\n\u001b[0;32m---> 16\u001b[0m \u001b[43mtest_maxDepth\u001b[49m\u001b[43m(\u001b[49m\u001b[43mtest_cases_with_expected\u001b[49m\u001b[43m,\u001b[49m\u001b[43m \u001b[49m\u001b[43mSolution1\u001b[49m\u001b[43m(\u001b[49m\u001b[43m)\u001b[49m\u001b[43m)\u001b[49m\n",
      "Input \u001b[0;32mIn [2]\u001b[0m, in \u001b[0;36mtest_maxDepth\u001b[0;34m(test_cases, solution)\u001b[0m\n\u001b[1;32m      1\u001b[0m \u001b[38;5;28;01mdef\u001b[39;00m \u001b[38;5;21mtest_maxDepth\u001b[39m(test_cases, solution):\n\u001b[1;32m      2\u001b[0m     \u001b[38;5;28;01mfor\u001b[39;00m case, expected \u001b[38;5;129;01min\u001b[39;00m test_cases:\n\u001b[0;32m----> 3\u001b[0m         tree \u001b[38;5;241m=\u001b[39m \u001b[43mconstructTree\u001b[49m(case)\n\u001b[1;32m      4\u001b[0m         depth \u001b[38;5;241m=\u001b[39m solution\u001b[38;5;241m.\u001b[39mmaxDepth(tree)\n\u001b[1;32m      5\u001b[0m         status \u001b[38;5;241m=\u001b[39m \u001b[38;5;124m\"\u001b[39m\u001b[38;5;124mPassed\u001b[39m\u001b[38;5;124m\"\u001b[39m \u001b[38;5;28;01mif\u001b[39;00m depth \u001b[38;5;241m==\u001b[39m expected \u001b[38;5;28;01melse\u001b[39;00m \u001b[38;5;124m\"\u001b[39m\u001b[38;5;124mFailed\u001b[39m\u001b[38;5;124m\"\u001b[39m\n",
      "\u001b[0;31mNameError\u001b[0m: name 'constructTree' is not defined"
     ]
    }
   ],
   "source": [
    "def test_maxDepth(test_cases, solution):\n",
    "    for case, expected in test_cases:\n",
    "        tree = constructTree(case)\n",
    "        depth = solution.maxDepth(tree)\n",
    "        status = \"Passed\" if depth == expected else \"Failed\"\n",
    "        print(f\"Max depth of tree {case}: {depth} (Expected: {expected}) - {status}\")\n",
    "\n",
    "# Test cases with expected results\n",
    "test_cases_with_expected = [\n",
    "    ([3, 9, 20, None, None, 15, 7], 3),  # Example 1\n",
    "    ([1, None, 2], 2),                   # Example 2\n",
    "    ([], 0)                              # Empty tree\n",
    "]\n",
    "\n",
    "print(\"Testing Recursive DFS Approach:\")\n",
    "test_maxDepth(test_cases_with_expected, Solution1())"
   ]
  },
  {
   "cell_type": "markdown",
   "id": "8b50f3ff",
   "metadata": {},
   "source": [
    "### Complexity Analysis\n",
    "- #### Time Complexity: $O(n)$ \n",
    "    - $n$ is the number of nodes in the tree.\n",
    "    - Each node is only visited once.\n",
    "\n",
    "- #### Space Complexity: $O(h) \\approx O(n)$\n",
    "    - $h$ is the height of the tree.\n",
    "    - The space is used by the recursive call stack.\n",
    "    - In the worst case (a skewed tree), the height can become $n$, which leads to a space complexity of $O(n)$\n",
    "***"
   ]
  },
  {
   "cell_type": "markdown",
   "id": "65774b41",
   "metadata": {},
   "source": [
    "# Approach 2: Iterative DFS \n",
    "- While the recursive DFS approach uses a call stack to explore the depth of the tree, iterative DFS uses an explicit stack to achieve the same goal of finding the tree depth/height.\n",
    "- This approach mimics the recursion process but gives slightly more control of the traversal process.\n",
    "\n",
    "### Intuition\n",
    "- Just like in recursive DFS, we need to explore as deep as possible along each branch of the tree before backtracking.\n",
    "- However, instead of relying on function calls, we explicitly maintain a stack to keep track of the nodes and their corresponding depths.\n",
    "- By visiting each node and tracking the depth at each point, we can determine the maximum depth encountered during the traversal.\n",
    "\n",
    "### Algorithm\n",
    "1. **Initialize a Stack**: Start with a stack that contains the root node and its depth (1).\n",
    "2. **Iterative Traversal**:\n",
    "    - While the stack is not empty, pop the top element (node and it's depth)\n",
    "    - If the node is not null, update the maximum depth encountered so far.\n",
    "    - Push the left and right children of the node onto the stack, incrementing the depth by 1.\n",
    "3. **Return Maximum Depth**: After the stack is exhausted, return the maxmimum depth encountered."
   ]
  },
  {
   "cell_type": "markdown",
   "id": "0862a607",
   "metadata": {},
   "source": [
    "### Code Implementation: Iterative DFS"
   ]
  },
  {
   "cell_type": "code",
   "execution_count": null,
   "id": "1d2b1979",
   "metadata": {},
   "outputs": [],
   "source": [
    "class Solution2:\n",
    "    def maxDepth(self, root: TreeNode) -> int:\n",
    "        if not root:\n",
    "            return 0\n",
    "        \n",
    "        stack = [[root, 1]] # Initialize the stack with root node and depth 1\n",
    "        res = 0  # Variable to track the maximum depth\n",
    "        \n",
    "        while stack:\n",
    "            node, depth = stack.pop()  # Get the current node and its depth\n",
    "            \n",
    "            if node:\n",
    "                res = max(res, depth)  # Update the maximum depth\n",
    "                # Push the children of the current node onto the stack\n",
    "                stack.append([node.left, depth + 1])\n",
    "                stack.append([node.right, depth + 1])\n",
    "                \n",
    "        return res  # Return the maximum depth encountered"
   ]
  },
  {
   "cell_type": "markdown",
   "id": "5acb1162",
   "metadata": {},
   "source": [
    "### Testing"
   ]
  },
  {
   "cell_type": "code",
   "execution_count": null,
   "id": "5796ef76",
   "metadata": {},
   "outputs": [],
   "source": [
    "print(\"Testing Iterative DFS Approach:\")\n",
    "test_maxDepth(test_cases_with_expected, Solution2())"
   ]
  },
  {
   "cell_type": "markdown",
   "id": "10be37c8",
   "metadata": {},
   "source": [
    "### Complexity Analysis\n",
    "- #### Time Complexity: $O(n)$ \n",
    "    - $n$ is the number of nodes in the tree.\n",
    "    - Each node is only visited once.\n",
    "\n",
    "- #### Space Complexity: $O(h) \\approx O(n)$\n",
    "    - In the worst case (for a completely unbalanced tree) the space complexity is $O(n)$\n",
    "    - In the best case (a completely balanced tree), the space complexity is $O(\\log n)$, corresponding to the height of the tree.\n",
    "    \n",
    "***"
   ]
  },
  {
   "cell_type": "markdown",
   "id": "5511c25f",
   "metadata": {},
   "source": [
    "# Approach 3: BFS (Breadth-First Search)\n",
    "- Finally, we have BFS which traverses a tree level by level.\n",
    "- This approach is particularly useful for finding the shortest path or minimum number of steps required to reach a node from a given source node.\n",
    "\n",
    "### Intuition\n",
    "- In BFS, nodes are visited level by level, starting from the root.\n",
    "- By keeping track of how many levels we have visited, we can determine the depth of the tree.\n",
    "- The depth of the tree is the number of levels it has.\n",
    "\n",
    "### Problem Algorithm\n",
    "1. Initialize a Queue:** Use a queue to keep track of nodes to visit. Start with the root node in the queue.\n",
    "2. **Traverse Level by Level**:\n",
    "    - While the queue is not empty, process each level of the tree.\n",
    "    - For each level, iterate over the number of elements in the queue (which represents all nodes at that level.)\n",
    "    - For each node, remove it from the queue and add its children to the queue.\n",
    "3. **Count Levels**: Increment a level counter for each level processed.\n",
    "4. **Return Level Count**: After traversing all levels, the level counter represents the maximum depth of the tree."
   ]
  },
  {
   "cell_type": "code",
   "execution_count": null,
   "id": "7933fd93",
   "metadata": {},
   "outputs": [],
   "source": [
    "from collections import deque\n",
    "\n",
    "class Solution3:\n",
    "    def maxDepth(self, root: TreeNode) -> int:\n",
    "        if not root:\n",
    "            return 0\n",
    "        \n",
    "        q = deque([root])  # Initialize the queue with the root node\n",
    "        level = 0  # Initialize level counter\n",
    "        \n",
    "        while q:\n",
    "            level_size = len(q)  # Number of nodes at the current level\n",
    "            \n",
    "            # Process each node of the current level \n",
    "            for i in range(level_size):\n",
    "                node = q.popleft() # Get the next node in the queue\n",
    "                \n",
    "                # Add the children of the current node to the queue\n",
    "                if node.left:\n",
    "                    q.append(node.left)\n",
    "                if node.right:\n",
    "                    q.append(node.right)\n",
    "                    \n",
    "            level += 1  # Increment level counter after processing each level\n",
    "            \n",
    "        return level  # The level counter is the maximum depth of the tree."
   ]
  },
  {
   "cell_type": "markdown",
   "id": "dcb2afaf",
   "metadata": {},
   "source": [
    "### Testing"
   ]
  },
  {
   "cell_type": "code",
   "execution_count": null,
   "id": "70e177b2",
   "metadata": {},
   "outputs": [],
   "source": [
    "print(\"Testing BFS Approach:\")\n",
    "test_maxDepth(test_cases_with_expected, Solution2())"
   ]
  },
  {
   "cell_type": "markdown",
   "id": "6aaa61a3",
   "metadata": {},
   "source": [
    "### Complexity Analysis\n",
    "- #### Time Complexity: $O(n)$ \n",
    "    - $n$ is the number of nodes in the tree.\n",
    "    - Each node is only visited once.\n",
    "\n",
    "- #### Space Complexity: $O(n)$\n",
    "    - In the worst case (for a completely unbalanced tree) the space complexity is $O(n)$\n",
    "        - This is because the last level of the tree contains approximately $\\frac{n}{2}$ nodes, and they could all be in the queue at the same time.\n",
    "    - In general, the space complexity is the maximum width of the tree.\n",
    "***"
   ]
  },
  {
   "cell_type": "markdown",
   "id": "bbf75046",
   "metadata": {},
   "source": [
    "## Last word - Comparison of Approaches\n",
    "For this problem, we covered 3 ways to tackle the problem: Recursive DFS, Iterative DFS, and BFS. Each approach successfully calculates the max depth/height of a binary tree, but have different characteristics in terms of their implementation and performance.\n",
    "\n",
    "### Recursive DFS\n",
    "- **Nature**: Pretty intuitive and straightforward.\n",
    "- **How It Works**: Recursively traverses down the tree, adding one for each level fo depth until it reaches a leaf node, then backtracks.\n",
    "- **Pros**: Simple and concise code\n",
    "- **Cons**: Uses system call stack for recursion, which can be a limitation for very deep trees (risk of stack overflow)\n",
    "- **Complexity Analysis**: Time: $O(n)$, Space: $O(h)$ where $h$ is the height of the tree.\n",
    "\n",
    "### Iterative DFS\n",
    "- **Nature**: Similar to the recursive DFS approach but uses an explicit stack.\n",
    "- **How It Works**: Manually manages a stack to traverse the tree, tracking the depth of each node.\n",
    "- **Pros**: Avoids the potential stack overflow issues of recursive DFS, more control over the traversal process\n",
    "- **Cons**: Slightly more complex to implement\n",
    "- **Complexity Analysis**: Time: $O(n)$, Space: $O(h)$ where $h$ is the height of the tree in the worst case.\n",
    "\n",
    "### BFS (Breadth-First Search)\n",
    "- **Nature**: Level-order traversal.\n",
    "- **How It Works**: Uses a queue to explore each level of the tree before going deeper.\n",
    "- **Pros**: Naturally suited for problems related to levels or depth, since it processes one level at a time.\n",
    "- **Cons**: Can consume more memory than DFS when the tree is side since it stores all nodes at a given in the queue.\n",
    "- **Complexity Analysis**: Time: $O(n)$, Space: $O(n)$ in the worst case when the tree is a complete binary tree\n",
    "\n",
    "### Optimal Approach\n",
    "- **In most scenarios**: Any of the approaches shuold be fine for most binary trees, since they share the same time complexity of $O(n)$\n",
    "- **Very Deep Trees**: Iterative DFS or Breadth-First Search (BFS) are preferable to avoid stack overflow issues\n",
    "- **Very Wide Trees**: Recursive or Iterative DFS might be more space efficient than BFS.\n",
    "\n",
    "### Conclusion\n",
    "- Each method has its unique advantages, they all efficiently acomplish the task of finding the maximum depth/height of a binary tree. \n",
    "- The choice ultimately depends on the specific characteristics of the tree in question and the limitations (like stack size) of the environment in which the algorithm is run in."
   ]
  }
 ],
 "metadata": {
  "kernelspec": {
   "display_name": "Python 3 (ipykernel)",
   "language": "python",
   "name": "python3"
  },
  "language_info": {
   "codemirror_mode": {
    "name": "ipython",
    "version": 3
   },
   "file_extension": ".py",
   "mimetype": "text/x-python",
   "name": "python",
   "nbconvert_exporter": "python",
   "pygments_lexer": "ipython3",
   "version": "3.10.4"
  }
 },
 "nbformat": 4,
 "nbformat_minor": 5
}

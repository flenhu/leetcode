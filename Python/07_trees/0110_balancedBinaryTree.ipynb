{
 "cells": [
  {
   "cell_type": "markdown",
   "id": "82b831ff",
   "metadata": {},
   "source": [
    "#### [Python <img src=\"../../assets/pythonLogo.png\" alt=\"py logo\" style=\"height: 1em; vertical-align: sub;\">](../README.md) | Easy 🟢 | [Trees](README.md) |   ⭐️\n",
    "# [110.  Balanced Binary Tree](https://leetcode.com/problems/balanced-binary-tree/editorial/)"
   ]
  },
  {
   "cell_type": "markdown",
   "id": "5f69a482",
   "metadata": {},
   "source": [
    "Given a binary tree, determine if it is **height-balanced**.\n",
    "\n",
    "In a height-balanced tree:\n",
    "- For every node, the height of the left subtree and the height of the right subtree differ by at most one.\n",
    "- This condition must be true for all nodes in the tree, not just the root.\n",
    "\n",
    "**Example 1:**\n",
    "![Example 1](https://assets.leetcode.com/uploads/2020/10/06/balance_1.jpg)  \n",
    "> **Input:** `root = [3,9,20,null,null,15,7]`  \n",
    "> **Output:** `true`  \n",
    "\n",
    "\n",
    "**Example 2:**\n",
    "![Example 2](https://assets.leetcode.com/uploads/2020/10/06/balance_2.jpg)\n",
    "> **Input:** `root = [1,2,2,3,3,null,null,4,4]`  \n",
    "> **Output:** `false`\n",
    "\n",
    "**Example 3:**\n",
    "> **Input:** `root = []`  \n",
    "> **Output:** `true`\n",
    "\n",
    "#### Constraints\n",
    "- The number of nodes in the tree is in the range `[0, 5000]`\n",
    "- $-10^4 \\leq$ `Node.val` $\\leq 10^4$"
   ]
  },
  {
   "cell_type": "markdown",
   "id": "10cc0284",
   "metadata": {},
   "source": [
    "### Problem Explanation\n",
    "- This problem requires us to determine if a given binary tree is height-balanced.\n",
    "- To reiterate, a tree is considered height-balanced if, for every node in the tree, the height difference between its left and right subtree is at most one."
   ]
  },
  {
   "cell_type": "markdown",
   "id": "45a08d97",
   "metadata": {},
   "source": [
    "# Approach 1: Bottom-Up\n",
    "- The bottom-up approach involves recursively checking the height of each subtree from the leaves upwards while ensuring the balance condition is met at every node.\n",
    "\n",
    "### Intuition\n",
    "- Start from the leaf nodes and move upwards, calculating the height of each subtree.\n",
    "- At each node, check if the left and right subtrees are balanced and that their height difference is no more than one.\n",
    "- Use a helper function that returns both the balance status and height of each subtree.\n",
    "\n",
    "### Algorithm\n",
    "1. **DFS Helper Function**:\n",
    "    - If the node is `null` return `[True, 0]` (tree is balanced with a height of 0)\n",
    "    - Recursively get balance status and height for the left and right subtrees.\n",
    "    - Check if the current node is balanced: both subtrees are balanced and their height different is not greater than one\n",
    "    - Return a pair `[balanced, height`] for the current node.\n",
    "    "
   ]
  },
  {
   "cell_type": "markdown",
   "id": "2cfa25ee",
   "metadata": {},
   "source": [
    "### Code Implementation: Depth-First Search (DFS)"
   ]
  },
  {
   "cell_type": "code",
   "execution_count": 1,
   "id": "6d6970e8",
   "metadata": {},
   "outputs": [],
   "source": [
    "from typing import Optional\n",
    "\n",
    "# Definition for a binary tree node.\n",
    "class TreeNode:\n",
    "    def __init__(self, val=0, left=None, right=None):\n",
    "        self.val = val\n",
    "        self.left = left\n",
    "        self.right = right\n",
    "\n",
    "class Solution1:\n",
    "    def isBalanced(self, root: Optional[TreeNode]) -> bool:\n",
    "        def dfs(node):\n",
    "            if not node:\n",
    "                return True, 0  # Return True for balance and 0 for height if node is null\n",
    "            \n",
    "            left_balance, left_height = dfs(node.left) # Check left subtree\n",
    "            right_balance, right_height = dfs(node.right) # Check right subtree\n",
    "\n",
    "            # Check if current node is balanced\n",
    "            balanced = left_balance and right_balance and abs(left_height - right_height) <= 1\n",
    "            height = max(left_height, right_height) + 1 # height of current node\n",
    "\n",
    "            return balanced, height  # Return balance and height of current node\n",
    "        \n",
    "        return dfs(root)[0] # Return balance of root node"
   ]
  },
  {
   "cell_type": "markdown",
   "id": "1bfe5711",
   "metadata": {},
   "source": [
    "### Testing"
   ]
  },
  {
   "cell_type": "code",
   "execution_count": 2,
   "id": "fd7d22d3",
   "metadata": {},
   "outputs": [
    {
     "name": "stdout",
     "output_type": "stream",
     "text": [
      "Test passed for tree [3, 9, 20, None, None, 15, 7]: expected True, got True\n",
      "Test passed for tree [1, 2, 2, 3, 3, None, None, 4, 4]: expected False, got False\n",
      "Test passed for tree []: expected True, got True\n"
     ]
    }
   ],
   "source": [
    "# Helper function to construct a binary tree from a list of values\n",
    "def constructTree(values):\n",
    "    if not values:\n",
    "        return None\n",
    "    nodes = [None if val is None else TreeNode(val) for val in values]\n",
    "    kids = nodes[::-1]\n",
    "    root = kids.pop()\n",
    "    for node in nodes:\n",
    "        if node:\n",
    "            if kids: node.left = kids.pop()\n",
    "            if kids: node.right = kids.pop()\n",
    "    return root\n",
    "\n",
    "sol = Solution1()\n",
    "\n",
    "# Test cases\n",
    "test_cases = [\n",
    "    ([3, 9, 20, None, None, 15, 7], True),\n",
    "    ([1, 2, 2, 3, 3, None, None, 4, 4], False),\n",
    "    ([], True)\n",
    "]\n",
    "\n",
    "# Run the tests\n",
    "for values, expected in test_cases:\n",
    "    root = constructTree(values)\n",
    "    result = sol.isBalanced(root)\n",
    "    assert result == expected, f\"Test failed for tree {values}: expected {expected}, got {result}\"\n",
    "    print(f\"Test passed for tree {values}: expected {expected}, got {result}\")"
   ]
  },
  {
   "cell_type": "markdown",
   "id": "8b50f3ff",
   "metadata": {},
   "source": [
    "### Complexity Analysis\n",
    "- #### Time Complexity: $O(N)$ \n",
    "    - $N$ is the number of nodes in the tree. Each node is only visited once.\n",
    "- #### Space Complexity: $O(H) \\approx O(N)$\n",
    "    - $H$ is the height of the tree.\n",
    "    - This is because the space used by the recursion call stack.\n",
    "    - In the worst case (a skewed tree), it can become $O(N)$\n",
    "***"
   ]
  },
  {
   "cell_type": "markdown",
   "id": "65ea7d01",
   "metadata": {},
   "source": [
    "# Approach 2: Top-down\n",
    "- The top-down approach is pretty intuitive since it mirrors the definition of a balanced binary tree. It involves a recursive strategy that checks the balance condition at every node from the root down. Although, the top-down approach is slightly less efficient compared to bottom-up since it involves repeated calculations for the heights of the same nodes.\n",
    "\n",
    "### Intuition\n",
    "- The hieght of a node is the number of edges on the longest downward path between that node and a leaf. The height of a leaf node is `0`, and the height of a null node is considered `-1` for this implementation.\n",
    "- For each node during the traversal, we then calculate the hieghts of the left and right subtrees. If the height difference is more than one, than the tree is not balanced at that node.\n",
    "- The recursion checks each node in the tree. This is a top-down approach because it starts at the root and works its way down to the leaves by checking the balance condition at each step.\n",
    "\n",
    "### Algorithm\n",
    "1. **Define a Height Function**:\n",
    "    - A helper function that calculates the height of a subtree rooted at a given node.\n",
    "    - If the node is `null`, return `0`.\n",
    "    - Recursively calcualte the height of the left and right subtrees and return the maximum height plus one.\n",
    "2. **Check Balance at Each Node**:\n",
    "    - If the root is `null` the tree is balanced. (base case)\n",
    "    - Calculate the height of the left and right subtrees.\n",
    "    - Check if the hieght difference is more than one. If so, return `False`/\n",
    "    - Recursively check if the left and right subtrees are balanced.\n",
    "    - Return `True` if both subtrees are balanced."
   ]
  },
  {
   "cell_type": "markdown",
   "id": "10335085",
   "metadata": {},
   "source": [
    "### Code Implementation: Top-down recursion"
   ]
  },
  {
   "cell_type": "code",
   "execution_count": 3,
   "id": "27ac23e7",
   "metadata": {},
   "outputs": [],
   "source": [
    "class Solution2:\n",
    "    def isBalanced(self, root: Optional[TreeNode]) -> bool:\n",
    "        \n",
    "        # Helper function to calculate the height of a node\n",
    "        def height(node):\n",
    "            # Base case: if node is null, return 0\n",
    "            if not node:\n",
    "                return 0\n",
    "            \n",
    "            \n",
    "            # Recursively calculate the height of the left and right subtrees\n",
    "            # and return the max of the two subtrees plus one\n",
    "            return 1 + max(height(node.left), height(node.right))\n",
    "        \n",
    "        # Base case: if the root is null, the tree is balanced\n",
    "        if not root:\n",
    "            return True\n",
    "        \n",
    "        # Calcualte the height of the left and right subtrees of the root\n",
    "        left_height = height(root.left)\n",
    "        right_height = height(root.right)\n",
    "        \n",
    "        # Check if the height difference between left and right subtrees is more than 1\n",
    "        # If so, the tree is not balanced at this node\n",
    "        if abs(left_height - right_height) > 1:\n",
    "            return False\n",
    "        \n",
    "        # Recursively check if the left and right subtrees are balanced\n",
    "        # The tree is balanced if both subtrees are balanced\n",
    "        return self.isBalanced(root.left) and self.isBalanced(root.right)\n",
    "    "
   ]
  },
  {
   "cell_type": "markdown",
   "id": "b0c1b595",
   "metadata": {},
   "source": [
    "### Testing"
   ]
  },
  {
   "cell_type": "code",
   "execution_count": 4,
   "id": "87a9586d",
   "metadata": {},
   "outputs": [
    {
     "name": "stdout",
     "output_type": "stream",
     "text": [
      "Test passed for tree [3, 9, 20, None, None, 15, 7]: expected True, got True\n",
      "Test passed for tree [1, 2, 2, 3, 3, None, None, 4, 4]: expected False, got False\n",
      "Test passed for tree []: expected True, got True\n"
     ]
    }
   ],
   "source": [
    "sol = Solution2()\n",
    "\n",
    "# Test cases\n",
    "test_cases = [\n",
    "    ([3, 9, 20, None, None, 15, 7], True),\n",
    "    ([1, 2, 2, 3, 3, None, None, 4, 4], False),\n",
    "    ([], True)\n",
    "]\n",
    "\n",
    "# Run the tests\n",
    "for values, expected in test_cases:\n",
    "    root = constructTree(values)\n",
    "    result = sol.isBalanced(root)\n",
    "    assert result == expected, f\"Test failed for tree {values}: expected {expected}, got {result}\"\n",
    "    print(f\"Test passed for tree {values}: expected {expected}, got {result}\")"
   ]
  },
  {
   "cell_type": "markdown",
   "id": "1d4a51cb",
   "metadata": {},
   "source": [
    "### Complexity Analysis\n",
    "- #### Time Complexity: $O(N)$ \n",
    "    - **Height Calculation**: The height calculation for a single node is $O(h)$, where $h$ is the height of the tree. This is because, in the worst case, we might have to traverse down to the leaf nodes.\n",
    "    - **Each Node's Check**: For each node, we perform the height calculation twice (once for the left subtree and once for the right subtree), so this part is $O(2h) = O(h)$ per node.\n",
    "    - **Total Nodes**: There are $n$ total nodes in the tree.\n",
    "    - **Combining the Two**: However, the crucial aspect here is that not all nodes require traversing the entire height of the tree. For a balanced binary tree, the number of nodes at each level doubles as we go down, while the height to traverse decreases. This leads to a $\\log n$ factor (since a balanced binary tree has a height of $\\log n$).\n",
    "    - **Overall Complexity**: Combining these factors, the time complexity becomes $O(n \\log n)$. This is because, for each node (n nodes in total), we are performing a height calculation that, on average, considers about half the height of the tree due to the binary tree's nature.\n",
    "- #### Space Complexity: $O(H) \\approx O(N)$\n",
    "    - $H$ is the height of the tree.\n",
    "    - This is because the space used by the recursion call stack.\n",
    "    - In the worst case (a skewed tree), it can become $O(N)$\n",
    "***"
   ]
  }
 ],
 "metadata": {
  "kernelspec": {
   "display_name": "Python 3 (ipykernel)",
   "language": "python",
   "name": "python3"
  },
  "language_info": {
   "codemirror_mode": {
    "name": "ipython",
    "version": 3
   },
   "file_extension": ".py",
   "mimetype": "text/x-python",
   "name": "python",
   "nbconvert_exporter": "python",
   "pygments_lexer": "ipython3",
   "version": "3.10.4"
  }
 },
 "nbformat": 4,
 "nbformat_minor": 5
}

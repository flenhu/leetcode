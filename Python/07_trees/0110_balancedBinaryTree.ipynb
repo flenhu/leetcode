{
 "cells": [
  {
   "cell_type": "markdown",
   "id": "82b831ff",
   "metadata": {},
   "source": [
    "#### [Python <img src=\"../../assets/pythonLogo.png\" alt=\"py logo\" style=\"height: 1em; vertical-align: sub;\">](../README.md) | Easy 🟢 | [Trees](README.md) |   ⭐️\n",
    "# [110.  Balanced Binary Tree](https://leetcode.com/problems/balanced-binary-tree/editorial/)"
   ]
  },
  {
   "cell_type": "markdown",
   "id": "5f69a482",
   "metadata": {},
   "source": [
    "Given a binary tree, determine if it is **height-balanced**.\n",
    "\n",
    "In a height-balanced tree:\n",
    "- For every node, the height of the left subtree and the height of the right subtree differ by at most one.\n",
    "- This condition must be true for all nodes in the tree, not just the root.\n",
    "\n",
    "**Example 1:**\n",
    "![Example 1](https://assets.leetcode.com/uploads/2020/10/06/balance_1.jpg)\n",
    "> **Input:** `root = [3,9,20,null,null,15,7]`\n",
    "> **Output:** `true`  \n",
    "\n",
    "\n",
    "**Example 2:**\n",
    "![Example 2](https://assets.leetcode.com/uploads/2020/10/06/balance_2.jpg)\n",
    "> **Input:** `root = [1,2,2,3,3,null,null,4,4]`  \n",
    "> **Output:** `false`\n",
    "\n",
    "**Example 3:**\n",
    "> **Input:** `root = []`  \n",
    "> **Output:** `true`\n",
    "\n",
    "#### Constraints\n",
    "- The number of nodes in the tree is in the range `[0, 5000]`\n",
    "- $-10^4 \\leq$ `Node.val` $\\leq 10^4$"
   ]
  },
  {
   "cell_type": "markdown",
   "id": "10cc0284",
   "metadata": {},
   "source": [
    "### Problem Explanation\n",
    "- This problem requires us to determine if a given binary tree is height-balanced.\n",
    "- To reiterate, a tree is considered height-balanced if, for every node in the tree, the height difference between its left and right subtree is at most one."
   ]
  },
  {
   "cell_type": "markdown",
   "id": "45a08d97",
   "metadata": {},
   "source": [
    "# Approach 1: Bottom-Up\n",
    "- The bottom-up approach involves recursively checking the height of each subtree from the leaves upwards while ensuring the balance condition is met at every node.\n",
    "\n",
    "### Intuition\n",
    "- Start from the leaf nodes and move upwards, calculating the height of each subtree.\n",
    "- At each node, check if the left and right subtrees are balanced and that their height difference is no more than one.\n",
    "- Use a helper function that returns both the balance status and height of each subtree.\n",
    "\n",
    "### Algorithm\n",
    "1. **DFS Helper Function**:\n",
    "    - If the node is `null` return `[True, 0]` (tree is balanced with a height of 0)\n",
    "    - Recursively get balance status and height for the left and right subtrees.\n",
    "    - Check if the current node is balanced: both subtrees are balanced and their height different is not greater than one\n",
    "    - Return a pair `[balanced, height`] for the current node.\n",
    "    "
   ]
  },
  {
   "cell_type": "markdown",
   "id": "2cfa25ee",
   "metadata": {},
   "source": [
    "### Code Implementation: Depth-First Search (DFS)"
   ]
  },
  {
   "cell_type": "code",
   "execution_count": 4,
   "id": "6d6970e8",
   "metadata": {},
   "outputs": [],
   "source": [
    "from typing import Optional\n",
    "\n",
    "# Definition for a binary tree node.\n",
    "class TreeNode:\n",
    "    def __init__(self, val=0, left=None, right=None):\n",
    "        self.val = val\n",
    "        self.left = left\n",
    "        self.right = right\n",
    "\n",
    "class Solution1:\n",
    "    def isBalanced(self, root: Optional[TreeNode]) -> bool:\n",
    "        def dfs(node):\n",
    "            if not node:\n",
    "                return True, 0  # Return True for balance and 0 for height if node is null\n",
    "            \n",
    "            left_balance, left_height = dfs(node.left) # Check left subtree\n",
    "            right_balance, right_height = dfs(node.right) # Check right subtree\n",
    "\n",
    "            # Check if current node is balanced\n",
    "            balanced = left_balance and right_balance and abs(left_height - right_height) <= 1\n",
    "            height = max(left_height, right_height) + 1 # height of current node\n",
    "\n",
    "            return balanced, height  # Return balance and height of current node\n",
    "        \n",
    "        return dfs(root)[0] # Return balance of root node"
   ]
  },
  {
   "cell_type": "markdown",
   "id": "1bfe5711",
   "metadata": {},
   "source": [
    "### Testing"
   ]
  },
  {
   "cell_type": "code",
   "execution_count": 5,
   "id": "fd7d22d3",
   "metadata": {},
   "outputs": [
    {
     "name": "stdout",
     "output_type": "stream",
     "text": [
      "Test passed for tree [3, 9, 20, None, None, 15, 7]: expected True, got True\n",
      "Test passed for tree [1, 2, 2, 3, 3, None, None, 4, 4]: expected False, got False\n",
      "Test passed for tree []: expected True, got True\n"
     ]
    }
   ],
   "source": [
    "# Helper function to construct a binary tree from a list of values\n",
    "def constructTree(values):\n",
    "    if not values:\n",
    "        return None\n",
    "    nodes = [None if val is None else TreeNode(val) for val in values]\n",
    "    kids = nodes[::-1]\n",
    "    root = kids.pop()\n",
    "    for node in nodes:\n",
    "        if node:\n",
    "            if kids: node.left = kids.pop()\n",
    "            if kids: node.right = kids.pop()\n",
    "    return root\n",
    "\n",
    "# Test cases\n",
    "test_cases = [\n",
    "    ([3, 4, 5, 1, 2], [4, 1, 2], True),       # Test Case 1\n",
    "    ([3, 4, 5, 1, 2, None, None, None, None, 0], [4, 1, 2], False),  # Test Case 2\n",
    "    ([1, 2, 3], [2], True)                    # Test Case 3\n",
    "]\n",
    "\n",
    "# Testing the diameterOfBinaryTree method\n",
    "sol = Solution1()\n",
    "\n",
    "# Test cases\n",
    "test_cases = [\n",
    "    ([3, 9, 20, None, None, 15, 7], True),\n",
    "    ([1, 2, 2, 3, 3, None, None, 4, 4], False),\n",
    "    ([], True)\n",
    "]\n",
    "\n",
    "# Run the tests\n",
    "for values, expected in test_cases:\n",
    "    root = constructTree(values)\n",
    "    result = sol.isBalanced(root)\n",
    "    assert result == expected, f\"Test failed for tree {values}: expected {expected}, got {result}\"\n",
    "    print(f\"Test passed for tree {values}: expected {expected}, got {result}\")"
   ]
  },
  {
   "cell_type": "markdown",
   "id": "8b50f3ff",
   "metadata": {},
   "source": [
    "### Complexity Analysis\n",
    "- #### Time Complexity: $O(N)$ \n",
    "    - $N$ is the number of nodes in the tree. Each node is only visited once.\n",
    "- #### Space Complexity: $O(H) \\approx O(N)$\n",
    "    - $H$ is the height of the tree.\n",
    "    - This is because the space used by the recursion call stack.\n",
    "    - In the worst case (a skewed tree), it can become $O(N)$\n",
    "***"
   ]
  },
  {
   "cell_type": "markdown",
   "id": "65ea7d01",
   "metadata": {},
   "source": [
    "# Approach 2: Top-down"
   ]
  },
  {
   "cell_type": "markdown",
   "id": "10335085",
   "metadata": {},
   "source": []
  }
 ],
 "metadata": {
  "kernelspec": {
   "display_name": "Python 3 (ipykernel)",
   "language": "python",
   "name": "python3"
  },
  "language_info": {
   "codemirror_mode": {
    "name": "ipython",
    "version": 3
   },
   "file_extension": ".py",
   "mimetype": "text/x-python",
   "name": "python",
   "nbconvert_exporter": "python",
   "pygments_lexer": "ipython3",
   "version": "3.11.5"
  }
 },
 "nbformat": 4,
 "nbformat_minor": 5
}

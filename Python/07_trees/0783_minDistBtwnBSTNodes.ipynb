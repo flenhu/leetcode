{
 "cells": [
  {
   "cell_type": "markdown",
   "id": "835c632c",
   "metadata": {},
   "source": [
    "#### [Python <img src=\"../../assets/pythonLogo.png\" alt=\"py logo\" style=\"height: 1em; vertical-align: sub;\">](../README.md) | Easy 🟢 | [Trees](README.md)\n",
    "# [783. Minimum Distance Between BST Nodes](https://leetcode.com/problems/minimum-distance-between-bst-nodes/description/) (not started 😕)"
   ]
  },
  {
   "cell_type": "markdown",
   "id": "b9441082",
   "metadata": {},
   "source": [
    "Given the root of a Binary Search Tree (BST), return the minimum difference between the values of any two different nodes in the tree.\n",
    "\n",
    "#### Example 1:\n",
    "![ex1](https://assets.leetcode.com/uploads/2021/02/05/bst1.jpg)\n",
    "> **Input:** `root = [4,2,6,1,3]`  \n",
    "> **Output:** `1`\n",
    "\n",
    "#### Example 2:\n",
    "![ex2](https://assets.leetcode.com/uploads/2021/02/05/bst2.jpg)\n",
    "> **Input:** `root = [1,0,48,null,null,12,49]`  \n",
    "> **Output:** `1`\n",
    "\n",
    "#### Constraints:\n",
    "- The number of nodes in the tree is in the range `[2, 100]`.\n",
    "- `0 <= Node.val <= 10^5`\n"
   ]
  },
  {
   "cell_type": "markdown",
   "id": "5a871415",
   "metadata": {},
   "source": [
    "## Problem Explanation\n",
    "- \n",
    "\n",
    "***"
   ]
  },
  {
   "cell_type": "markdown",
   "id": "66c83cb9",
   "metadata": {},
   "source": [
    "# Approach: \n",
    "\n",
    "\n",
    "## Intuition\n",
    "\n",
    "\n",
    "## Algorithm\n"
   ]
  },
  {
   "cell_type": "markdown",
   "id": "7888762a",
   "metadata": {},
   "source": [
    "## Code Implementation"
   ]
  },
  {
   "cell_type": "code",
   "execution_count": null,
   "id": "e1d254e7",
   "metadata": {},
   "outputs": [],
   "source": []
  },
  {
   "cell_type": "markdown",
   "id": "ce05a3cf",
   "metadata": {},
   "source": [
    "### Testing"
   ]
  },
  {
   "cell_type": "code",
   "execution_count": null,
   "id": "4c5194cc",
   "metadata": {},
   "outputs": [],
   "source": []
  },
  {
   "cell_type": "markdown",
   "id": "8a5df28b",
   "metadata": {},
   "source": [
    "## Complexity Analysis\n",
    "- ### Time Complexity: $O()$\n",
    "\n",
    "- ### Space Complexity: $O()$\n",
    "***"
   ]
  },
  {
   "cell_type": "markdown",
   "id": "32c95f2b",
   "metadata": {},
   "source": [
    "# Approach 2:\n",
    "\n",
    "\n",
    "## Intuition\n",
    "\n",
    "\n",
    "## Algorithm\n"
   ]
  },
  {
   "cell_type": "markdown",
   "id": "f78c77bb",
   "metadata": {},
   "source": [
    "## Code Implementation"
   ]
  },
  {
   "cell_type": "code",
   "execution_count": null,
   "id": "f6b2d9a0",
   "metadata": {},
   "outputs": [],
   "source": []
  },
  {
   "cell_type": "markdown",
   "id": "6ca9e0cb",
   "metadata": {},
   "source": [
    "### Testing"
   ]
  },
  {
   "cell_type": "code",
   "execution_count": null,
   "id": "d9c41848",
   "metadata": {},
   "outputs": [],
   "source": []
  },
  {
   "cell_type": "markdown",
   "id": "cbee5ad8",
   "metadata": {},
   "source": [
    "## Complexity Analysis\n",
    "- ### Time Complexity: $O()$\n",
    "\n",
    "- ### Space Complexity: $O()$\n",
    "***"
   ]
  }
 ],
 "metadata": {
  "kernelspec": {
   "display_name": "Python 3 (ipykernel)",
   "language": "python",
   "name": "python3"
  },
  "language_info": {
   "codemirror_mode": {
    "name": "ipython",
    "version": 3
   },
   "file_extension": ".py",
   "mimetype": "text/x-python",
   "name": "python",
   "nbconvert_exporter": "python",
   "pygments_lexer": "ipython3",
   "version": "3.10.4"
  }
 },
 "nbformat": 4,
 "nbformat_minor": 5
}

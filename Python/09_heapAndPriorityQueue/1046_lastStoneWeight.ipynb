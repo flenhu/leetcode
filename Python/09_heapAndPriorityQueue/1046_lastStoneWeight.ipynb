{
 "cells": [
  {
   "cell_type": "markdown",
   "id": "835c632c",
   "metadata": {},
   "source": [
    "#### [Python <img src=\"../../assets/pythonLogo.png\" alt=\"py logo\" style=\"height: 1em; vertical-align: sub;\">](../README.md) | Easy 🟢 | [Heaps & Priority Queue](README.md)\n",
    "# [1046. Last Stone Weight](https://leetcode.com/problems/last-stone-weight/description/) (not started 😕)"
   ]
  },
  {
   "cell_type": "markdown",
   "id": "b9441082",
   "metadata": {},
   "source": [
    "You are given an array of integers `stones` where `stones[i]` is the weight of the `i-th` stone.\n",
    "\n",
    "We are playing a game with the stones. On each turn, we choose the **heaviest two stones** and smash them together. Suppose the heaviest two stones have weights `x` and `y` with `x <= y`. The result of this smash is:\n",
    "- If `x == y`, both stones are destroyed, and\n",
    "- If `x != y`, the stone of weight `x` is destroyed, and the stone of weight `y` has new weight `y - x`.\n",
    "\n",
    "At the end of the game, there is **at most one** stone left.\n",
    "\n",
    "Return the weight of the last remaining stone. If there are no stones left, return `0`.\n",
    "\n",
    "#### Example 1:\n",
    "> **Input:** `stones = [2,7,4,1,8,1]`  \n",
    "> **Output:** `1`  \n",
    "> **Explanation:**  \n",
    "> We combine 7 and 8 to get 1 so the array converts to `[2,4,1,1,1]` then,  \n",
    "> we combine 2 and 4 to get 2 so the array converts to `[2,1,1,1]` then,  \n",
    "> we combine 2 and 1 to get 1 so the array converts to `[1,1,1]` then,  \n",
    "> we combine 1 and 1 to get 0 so the array converts to `[1]` then that's the value of the last stone.\n",
    "\n",
    "#### Example 2:\n",
    "> **Input:** `stones = [1]`  \n",
    "> **Output:** `1`\n",
    "\n",
    "#### Constraints:\n",
    "- `1 <= stones.length <= 30`\n",
    "- `1 <= stones[i] <= 1000`\n"
   ]
  },
  {
   "cell_type": "markdown",
   "id": "5a871415",
   "metadata": {},
   "source": [
    "### Problem Explanation\n",
    "- \n",
    "\n",
    "***"
   ]
  },
  {
   "cell_type": "markdown",
   "id": "66c83cb9",
   "metadata": {},
   "source": [
    "# Approach: \n",
    "\n",
    "\n",
    "### Intuition\n",
    "\n",
    "\n",
    "### Algorithm\n"
   ]
  },
  {
   "cell_type": "markdown",
   "id": "7888762a",
   "metadata": {},
   "source": [
    "### Code Implementation"
   ]
  },
  {
   "cell_type": "code",
   "execution_count": null,
   "id": "e1d254e7",
   "metadata": {},
   "outputs": [],
   "source": []
  },
  {
   "cell_type": "markdown",
   "id": "ce05a3cf",
   "metadata": {},
   "source": [
    "### Testing"
   ]
  },
  {
   "cell_type": "code",
   "execution_count": null,
   "id": "4c5194cc",
   "metadata": {},
   "outputs": [],
   "source": []
  },
  {
   "cell_type": "markdown",
   "id": "8a5df28b",
   "metadata": {},
   "source": [
    "### Complexity Analysis\n",
    "- #### Time Complexity: \n",
    "    - \n",
    "- #### Space Complexity: \n",
    "    - \n",
    "***"
   ]
  },
  {
   "cell_type": "markdown",
   "id": "32c95f2b",
   "metadata": {},
   "source": [
    "# Approach 2:\n",
    "\n",
    "\n",
    "### Intuition\n",
    "\n",
    "\n",
    "### Algorithm\n"
   ]
  }
 ],
 "metadata": {
  "kernelspec": {
   "display_name": "Python 3 (ipykernel)",
   "language": "python",
   "name": "python3"
  },
  "language_info": {
   "codemirror_mode": {
    "name": "ipython",
    "version": 3
   },
   "file_extension": ".py",
   "mimetype": "text/x-python",
   "name": "python",
   "nbconvert_exporter": "python",
   "pygments_lexer": "ipython3",
   "version": "3.10.4"
  }
 },
 "nbformat": 4,
 "nbformat_minor": 5
}

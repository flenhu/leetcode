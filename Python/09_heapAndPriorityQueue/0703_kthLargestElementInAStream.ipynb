{
 "cells": [
  {
   "cell_type": "markdown",
   "id": "5fe865d9",
   "metadata": {},
   "source": [
    "#### [Python <img src=\"../../assets/pythonLogo.png\" alt=\"py logo\" style=\"height: 1em; vertical-align: sub;\">](../README.md) | Easy 🟢 | [Trees](README.md) | \n",
    "# [703. Kth Largest Element in a Stream](https://leetcode.com/problems/kth-largest-element-in-a-stream/description/)"
   ]
  },
  {
   "cell_type": "markdown",
   "id": "c093c99c",
   "metadata": {},
   "source": [
    "Design a class to find the $k^{th}$ largest element in a stream. Note that it is the $k^{th}$ largest element in the sorted order, not the $k^{th}$ distinct element.\n",
    "\n",
    "Implement `KthLargest` class:\n",
    "\n",
    "- `KthLargest(int k, int[] nums)` Initializes the object with the integer `k` and the stream of integers `nums`.\n",
    "- `int add(int val)` Appends the integer `val` to the stream and returns the element representing the $k^{th}$ largest element in the stream.\n"
   ]
  },
  {
   "cell_type": "markdown",
   "id": "7a559b04",
   "metadata": {},
   "source": [
    "**Example 1:**\n",
    "> **Input:**  \n",
    "> `[\"KthLargest\", \"add\", \"add\", \"add\", \"add\", \"add\"]`  \n",
    "> `[[3, [4, 5, 8, 2]], [3], [5], [10], [9], [4]]`  \n",
    ">\n",
    "> **Output:**  \n",
    "> `[null, 4, 5, 5, 8, 8]`\n",
    ">\n",
    "> **Explanation:**  \n",
    "> `KthLargest kthLargest = new KthLargest(3, [4, 5, 8, 2]);`  \n",
    "> `kthLargest.add(3);   // return 4`  \n",
    "> `kthLargest.add(5);   // return 5`  \n",
    "> `kthLargest.add(10);  // return 5`  \n",
    "> `kthLargest.add(9);   // return 8`  \n",
    "> `kthLargest.add(4);   // return 8`  \n",
    "\n",
    "#### Constraints\n",
    "- $1 \\leq $ `k` $ \\leq  10^4$ \n",
    "- $0 \\leq$ nums.length $ \\leq 10^4$ \n",
    "- $-10^4 \\leq $ `nums[i]` $ \\leq 10^4$ \n",
    "- $-10^4 \\leq $ `val` $ \\leq 10^4$ \n",
    "- At most $10^4$  calls will be made to `add`.\n",
    "- It is guaranteed that there will be at least `k` elements in the array when you search for the $k^{th}$ element.\n",
    "***"
   ]
  },
  {
   "cell_type": "markdown",
   "id": "258f6dfc",
   "metadata": {},
   "source": [
    "### Problem Explanation\n",
    "- In this problem, we need to design a class to consistently find the kth largest element ina continiously updating stream of numbers. This can be best done with a heap.\n",
    "***\n",
    "\n",
    "### Problem Intuition\n",
    "- The key intuition is to maintain a heap of size `k` to store the `k` largest elements seen so far.\n",
    "- A min-heap would be ideal since the k-th largest element will always be at the top, which allows for constant-time access.\n",
    "\n",
    "***\n",
    "<h1 style=\"text-align: center;\">Approach: Heap</h1>\n",
    "\n",
    "- Utilize a min-heap to keep track of the top `k` elements. This way, the heap root always represents the $k^{th}$ largest element. \n",
    "- When a new element is added, insert it into the heap.\n",
    "- If the heap size exceeds `k`, remove the smallest element (heap root) to maintain the heap size.\n",
    "- The top of the heap will always be the $k^{th}$ largest element in the stream.\n",
    "***\n",
    "\n",
    "### 1.1  Algorithm\n",
    "1. Initialization:\n",
    "    - Store `k` and initialize a min-heap with the given `nums` array.\n",
    "    - Convert `nums` into a heap in-place and pop elements until its size is `k`/\n",
    "2. Adding a New Element:\n",
    "    - Push the new element (`val`) into the heap.\n",
    "    - If the heap size exceeds `k`, pop the smallest element."
   ]
  },
  {
   "cell_type": "markdown",
   "id": "40dae8af",
   "metadata": {},
   "source": [
    "### 1.2 Code Implementation"
   ]
  },
  {
   "cell_type": "code",
   "execution_count": 2,
   "id": "2f6494a2",
   "metadata": {},
   "outputs": [],
   "source": [
    "import heapq\n",
    "from typing import List\n",
    "\n",
    "class KthLargest:\n",
    "    def __init__(self, k: int, nums: List[int]):\n",
    "        # Initialize the min heap with the given numbers and store k\n",
    "        self.minHeap, self.k = nums, k\n",
    "        heapq,heapify(self.minHeap) # Convert the list into a min-heap in-place\n",
    "        \n",
    "        # If the heap size is greater than k, pop the smallest elements\n",
    "        while len(self.minHeap) > k:\n",
    "            heapq.heappop(self.minHeap)\n",
    "    \n",
    "    def add(self, val: int) -> int:\n",
    "        # Add the new value to the heap\n",
    "        heapq.heappush(self.minHeap, val)\n",
    "        \n",
    "        # if the heap size exceeds k, remove the smallest element\n",
    "        if len(self.minHeap) > self.k:\n",
    "            heapq.heappop(self.minHeap)\n",
    "            \n",
    "        # The root of the heap is the kth largest element\n",
    "        return self.minHeap[0]"
   ]
  },
  {
   "cell_type": "markdown",
   "id": "6dfe2fee",
   "metadata": {},
   "source": [
    "### 1.3 Complexity Analysis\n",
    "- #### Time Complexity: $O(n \\log n)$ \n",
    "    - The time complexity has two main components: the complexity of initializing the `KthLargest` class and the complexity of the `add` method.\n",
    "        1. Initializing the `KthLargest` Class:\n",
    "            - **Heapifying the Array**:\n",
    "                - The initial heapification of the array `nums` takes $O(n)$ time, where N is the length of nums. \n",
    "                - This operation is what transforms the array into a heap.\n",
    "            - **Reducing the Heap to Size k**:\n",
    "                - After heapification, we need to ensure the heap size is exactly `k`. This involves popping elements from the heap until its size is `k`.\n",
    "                - In the worst case, this would require popping $n - k$ elements.\n",
    "                - Popping an element from a heap has a time complexity of $O(\\log n)$ (since after removing the top element, the heap needs to reorder itself.\n",
    "                - Therefore, doing this $n -k$ times results in a time complexity of $O((n-k)logn)$.\n",
    "                - However, since $k$ can be as small as 1, we consider the worst scenario, which roughly balances out to a complexity of $O(n \\log n)$\n",
    "                - Combining these, the total time complexity of the `KthLargest` class is $O(n +n \\log n) = o(n \\log n)$\n",
    "        2. Adding an Element (`add` method):\n",
    "            - **Adding and Potentially Removing an Element**:\n",
    "                - Each call to `add` may involve adding one element to the heap and potentially removing one element (to maintain the heap size at k). Both adding and removing an elment in a heap of size k have a time complexity of $O(\\log k)$.\n",
    "            - **Multiple adds**:\n",
    "                - If there are M calls to the `add` method, the total time complexity for all `add` operations combined is $O(m \\log k)$\n",
    "    - #### Overall Time Complexity:\n",
    "        - Combining the time complexity of the `Kthlargest` constructor and the `add` method, the overall time complexity becomes $`O(n \\log n + m \\log k)$, where:\n",
    "            - $n$ is the size of the initial array `nums`\n",
    "            - $m$ is the number of calls to the `add` method.\n",
    "            - $k$ is the specified rank for the kth largest element.\n",
    "            \n",
    "\n",
    "- #### Space Complexity: $O(k) \\approx O(n)$\n",
    "    - The space complexity is basically $O(k)$ since the heap is maintained with at most $k$ elements."
   ]
  },
  {
   "cell_type": "code",
   "execution_count": null,
   "id": "5b9b49d2",
   "metadata": {},
   "outputs": [],
   "source": []
  }
 ],
 "metadata": {
  "kernelspec": {
   "display_name": "Python 3 (ipykernel)",
   "language": "python",
   "name": "python3"
  },
  "language_info": {
   "codemirror_mode": {
    "name": "ipython",
    "version": 3
   },
   "file_extension": ".py",
   "mimetype": "text/x-python",
   "name": "python",
   "nbconvert_exporter": "python",
   "pygments_lexer": "ipython3",
   "version": "3.10.4"
  }
 },
 "nbformat": 4,
 "nbformat_minor": 5
}

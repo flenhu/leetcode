{
 "cells": [
  {
   "cell_type": "markdown",
   "id": "835c632c",
   "metadata": {},
   "source": [
    "#### [Python <img src=\"../../assets/pythonLogo.png\" alt=\"py logo\" style=\"height: 1em; vertical-align: sub;\">](../README.md) | Easy 🟢 | [Two Pointers](README.md)\n",
    "# [1984. Minimum Difference Between Highest and Lowest of K Scores]() (not started 😕)"
   ]
  },
  {
   "cell_type": "markdown",
   "id": "b9441082",
   "metadata": {},
   "source": [
    "You are given a **0-indexed** integer array `nums`, where `nums[i]` represents the score of the ith student. You are also given an integer `k`.\n",
    "\n",
    "Pick the scores of any `k` students from the array so that the **difference** between the **highest** and the **lowest** of the `k` scores is **minimized**.\n",
    "\n",
    "Return the **minimum** possible difference.\n",
    "\n",
    "#### Example 1:\n",
    "> **Input:** `nums = [90], k = 1`  \n",
    "> **Output:** `0`  \n",
    "> **Explanation:** There is one way to pick score(s) of one student:  \n",
    "> - `[90]`. The difference between the highest and lowest score is $90 - 90 = \\bf{0}$. \n",
    ">\n",
    "> The **minimum possible difference** is $\\bf{0}$.\n",
    "\n",
    "#### Example 2:\n",
    "> **Input:** `nums = [9,4,1,7], k = 2`  \n",
    "> **Output:** `2`  \n",
    "> **Explanation:** There are six ways to pick score(s) of two students:  \n",
    "> - [<strong><u>9</u></strong>, <strong><u>4</u></strong>, 1, 7]. The difference between the highest and lowest score is $9 - 4 = \\bf{5}$.  \n",
    "> - [<strong><u>9</u></strong>, 4, <strong><u>1</u></strong>, 7]. The difference between the highest and lowest score is $9 - 1 = \\bf{8}$.  \n",
    "> - [<strong><u>9</u></strong>, 4, 1, <strong><u>7</u></strong>]. The difference between the highest and lowest score is $9 - 7 = \\bf{2}$. \n",
    "> - [9, <strong><u>4</u></strong>, <strong><u>1</u></strong>, 7]. The difference between the highest and lowest score is $4 - 1 = \\bf{3}$.  \n",
    "> - [9, <strong><u>4</u></strong>, 1, <strong><u>7</u></strong>]. The difference between the highest and lowest score is $7 - 4 = \\bf{3}$. \n",
    "> - [9, 4, <strong><u>1</u></strong>, <strong><u>7</u></strong>]. The difference between the highest and lowest score is $7 - 1 = \\bf{6}$.  \n",
    ">\n",
    "> The **minimum possible difference** is $\\bf{2}$.\n",
    "\n",
    "#### Constraints:\n",
    "- `1 <= k <= nums.length <= 1000`\n",
    "- `0 <= nums[i] <= 10^5`\n"
   ]
  },
  {
   "cell_type": "markdown",
   "id": "5a871415",
   "metadata": {},
   "source": [
    "### Problem Explanation\n",
    "- \n",
    "\n",
    "***"
   ]
  },
  {
   "cell_type": "markdown",
   "id": "66c83cb9",
   "metadata": {},
   "source": [
    "# Approach: \n",
    "\n",
    "\n",
    "### Intuition\n",
    "\n",
    "\n",
    "### Algorithm\n"
   ]
  },
  {
   "cell_type": "markdown",
   "id": "7888762a",
   "metadata": {},
   "source": [
    "### Code Implementation"
   ]
  },
  {
   "cell_type": "code",
   "execution_count": null,
   "id": "e1d254e7",
   "metadata": {},
   "outputs": [],
   "source": []
  },
  {
   "cell_type": "markdown",
   "id": "ce05a3cf",
   "metadata": {},
   "source": [
    "### Testing"
   ]
  },
  {
   "cell_type": "code",
   "execution_count": null,
   "id": "4c5194cc",
   "metadata": {},
   "outputs": [],
   "source": []
  },
  {
   "cell_type": "markdown",
   "id": "8a5df28b",
   "metadata": {},
   "source": [
    "### Complexity Analysis\n",
    "- #### Time Complexity: \n",
    "    - \n",
    "- #### Space Complexity: \n",
    "    - \n",
    "***"
   ]
  },
  {
   "cell_type": "markdown",
   "id": "32c95f2b",
   "metadata": {},
   "source": [
    "# Approach 2:\n",
    "\n",
    "\n",
    "### Intuition\n",
    "\n",
    "\n",
    "### Algorithm\n"
   ]
  }
 ],
 "metadata": {
  "kernelspec": {
   "display_name": "Python 3 (ipykernel)",
   "language": "python",
   "name": "python3"
  },
  "language_info": {
   "codemirror_mode": {
    "name": "ipython",
    "version": 3
   },
   "file_extension": ".py",
   "mimetype": "text/x-python",
   "name": "python",
   "nbconvert_exporter": "python",
   "pygments_lexer": "ipython3",
   "version": "3.10.4"
  }
 },
 "nbformat": 4,
 "nbformat_minor": 5
}

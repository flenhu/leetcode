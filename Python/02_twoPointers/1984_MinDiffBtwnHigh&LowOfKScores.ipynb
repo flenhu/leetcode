{
 "cells": [
  {
   "cell_type": "markdown",
   "id": "835c632c",
   "metadata": {},
   "source": [
    "#### [Python <img src=\"../../assets/pythonLogo.png\" alt=\"py logo\" style=\"height: 1em; vertical-align: sub;\">](../README.md) | Easy 🟢 | [Two Pointers](README.md)\n",
    "# [1984. Minimum Difference Between Highest and Lowest of K Scores](https://leetcode.com/problems/minimum-difference-between-highest-and-lowest-of-k-scores/description/) "
   ]
  },
  {
   "cell_type": "markdown",
   "id": "b9441082",
   "metadata": {},
   "source": [
    "You are given a **0-indexed** integer array `nums`, where `nums[i]` represents the score of the ith student. You are also given an integer `k`.\n",
    "\n",
    "Pick the scores of any `k` students from the array so that the **difference** between the **highest** and the **lowest** of the `k` scores is **minimized**.\n",
    "\n",
    "Return the **minimum** possible difference.\n",
    "\n",
    "#### Example 1:\n",
    "> **Input:** `nums = [90], k = 1`  \n",
    "> **Output:** `0`  \n",
    "> **Explanation:** There is one way to pick score(s) of one student:  \n",
    "> - `[90]`. The difference between the highest and lowest score is $90 - 90 = \\bf{0}$. \n",
    ">\n",
    "> The **minimum possible difference** is $\\bf{0}$.\n",
    "\n",
    "#### Example 2:\n",
    "> **Input:** `nums = [9,4,1,7], k = 2`  \n",
    "> **Output:** `2`  \n",
    "> **Explanation:** There are six ways to pick score(s) of two students:  \n",
    "> - [<strong><u>9</u></strong>, <strong><u>4</u></strong>, 1, 7]. The difference between the highest and lowest score is $9 - 4 = \\bf{5}$.  \n",
    "> - [<strong><u>9</u></strong>, 4, <strong><u>1</u></strong>, 7]. The difference between the highest and lowest score is $9 - 1 = \\bf{8}$.  \n",
    "> - [<strong><u>9</u></strong>, 4, 1, <strong><u>7</u></strong>]. The difference between the highest and lowest score is $9 - 7 = \\bf{2}$. \n",
    "> - [9, <strong><u>4</u></strong>, <strong><u>1</u></strong>, 7]. The difference between the highest and lowest score is $4 - 1 = \\bf{3}$.  \n",
    "> - [9, <strong><u>4</u></strong>, 1, <strong><u>7</u></strong>]. The difference between the highest and lowest score is $7 - 4 = \\bf{3}$. \n",
    "> - [9, 4, <strong><u>1</u></strong>, <strong><u>7</u></strong>]. The difference between the highest and lowest score is $7 - 1 = \\bf{6}$.  \n",
    ">\n",
    "> The **minimum possible difference** is $\\bf{2}$.\n",
    "\n",
    "#### Constraints:\n",
    "- `1 <= k <= nums.length <= 1000`\n",
    "- `0 <= nums[i] <= 10^5`\n"
   ]
  },
  {
   "cell_type": "markdown",
   "id": "5a871415",
   "metadata": {},
   "source": [
    "## Problem Explanation\n",
    "- For this problem we are asked to find the smallest possible difference between the highest and lowest scores within any subgroup of `k` students from a given array of scores. \n",
    "- Moreover, we want to identify a pattern to minimize a specific range within a subset of the array.\n",
    "\n",
    "***"
   ]
  },
  {
   "cell_type": "markdown",
   "id": "66c83cb9",
   "metadata": {},
   "source": [
    "# Approach: Sliding Window\n",
    "For this problem, using a sliding window approach works best since we want to sort the array and then slide a window of size `k` across the array to find the minimum difference between the max and min values within that window.\n",
    "\n",
    "## Intuition\n",
    "- By sorting the array, we ensure that the scores are in ascending order.\n",
    "- This arrangement allows us to only consider contiguous segments of `k` scores to find the minimum difference.\n",
    "- The sorted order guarantees that the difference between the first and last elements in any `k`-sized segment will be the smallest possible for that segment.\n",
    "\n",
    "\n",
    "## Algorithm\n",
    "1. Sort the array in non-decreasing order.\n",
    "2. Initialize two pointers (or indices) to represent the window's start and end (`l=0` and `r=k-1`).\n",
    "3. Initialize a variable `res` to store the minimum difference found, setting it to a large value initially.\n",
    "4. Iterate over the array with the window:\n",
    "    - Update `res` with the minimum values between its current value and the difference `nums[r] - nums[l]`.\n",
    "    - Slide the window by incrementing both `l` and `r` by 1.\n",
    "5. Continue until `r` reaches the end of the array.\n",
    "6. Return the minimum difference found by `res`.\n"
   ]
  },
  {
   "cell_type": "markdown",
   "id": "7888762a",
   "metadata": {},
   "source": [
    "## Code Implementation"
   ]
  },
  {
   "cell_type": "code",
   "execution_count": 1,
   "id": "e1d254e7",
   "metadata": {},
   "outputs": [],
   "source": [
    "from typing import List\n",
    "\n",
    "class Solution:\n",
    "    def minimumDifference(self, nums: List[int], k: int) -> int:\n",
    "        # Step 1: Sort the array\n",
    "        nums.sort()\n",
    "        # Initialize the sliding window's pointers\n",
    "        l, r = 0, k - 1\n",
    "        # Initialize the result with infinity\n",
    "        res = float(\"inf\")\n",
    "        \n",
    "        # Step 4: Iterate over the array with the window\n",
    "        while r < len(nums):\n",
    "            # Update the result with the new minimum difference\n",
    "            res = min(res, nums[r] - nums[l])\n",
    "            # Slide the window\n",
    "            l += 1\n",
    "            r += 1\n",
    "        \n",
    "        # Step 6: Return the minimum difference found\n",
    "        return res"
   ]
  },
  {
   "cell_type": "markdown",
   "id": "ce05a3cf",
   "metadata": {},
   "source": [
    "### Testing"
   ]
  },
  {
   "cell_type": "code",
   "execution_count": 4,
   "id": "4c5194cc",
   "metadata": {},
   "outputs": [
    {
     "name": "stdout",
     "output_type": "stream",
     "text": [
      "nums = [90], k = 1\n",
      "Expected: 0, Got: 0\n",
      "Test passed ✅\n",
      "\n",
      "nums = [1, 4, 7, 9], k = 2\n",
      "Expected: 2, Got: 2\n",
      "Test passed ✅\n",
      "\n",
      "nums = [1, 5, 6, 14, 15], k = 2\n",
      "Expected: 1, Got: 1\n",
      "Test passed ✅\n",
      "\n"
     ]
    }
   ],
   "source": [
    "def test_minimum_difference(nums, k, expected):\n",
    "    sol = Solution()\n",
    "    result = sol.minimumDifference(nums, k)\n",
    "    print(f\"nums = {nums}, k = {k}\")\n",
    "    print(f\"Expected: {expected}, Got: {result}\")\n",
    "    assert result == expected, f\"Test failed. Expected {expected} but got {result}.\"\n",
    "    print(\"Test passed ✅\\n\")\n",
    "\n",
    "# Test cases\n",
    "test_minimum_difference([90], 1, 0)  # Example 1\n",
    "test_minimum_difference([9,4,1,7], 2, 2)  # Example 2\n",
    "test_minimum_difference([1,5,6,14,15], 2, 1)  # Additional case"
   ]
  },
  {
   "cell_type": "markdown",
   "id": "8a5df28b",
   "metadata": {},
   "source": [
    "## Complexity Analysis\n",
    "- ### Time Complexity: $O(n\\log{n})$ \n",
    "    -  The dominant factor is the sorting of the array, where $n$ is the number of elements in nums. \n",
    "    - The sliding window operation itself only takes $O(n)$ time, as it iterates through the array once.\n",
    "\n",
    "\n",
    "- ### Space Complexity: $O(1)$\n",
    "    -  No additional space is required beyond the input array (assuming the sort is done in-place), and a fixed number of variables are used, making the space complexity constant.\n",
    "***"
   ]
  }
 ],
 "metadata": {
  "kernelspec": {
   "display_name": "Python 3 (ipykernel)",
   "language": "python",
   "name": "python3"
  },
  "language_info": {
   "codemirror_mode": {
    "name": "ipython",
    "version": 3
   },
   "file_extension": ".py",
   "mimetype": "text/x-python",
   "name": "python",
   "nbconvert_exporter": "python",
   "pygments_lexer": "ipython3",
   "version": "3.10.4"
  }
 },
 "nbformat": 4,
 "nbformat_minor": 5
}

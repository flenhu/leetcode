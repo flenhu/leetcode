{
 "cells": [
  {
   "cell_type": "markdown",
   "id": "835c632c",
   "metadata": {},
   "source": [
    "#### [Python <img src=\"../../assets/pythonLogo.png\" alt=\"py logo\" style=\"height: 1em; vertical-align: sub;\">](../README.md) | Easy 🟢 | [Two Pointers](README.md)\n",
    "# [680. Valid Palindrome II](https://leetcode.com/problems/valid-palindrome-ii/)"
   ]
  },
  {
   "cell_type": "markdown",
   "id": "b9441082",
   "metadata": {},
   "source": [
    "Given a string `s`, return true if the `s` can be palindrome after deleting **at most one** character from it.\n",
    "\n",
    "#### Example 1:\n",
    "> **Input:** `s = \"aba\"`  \n",
    "> **Output:** `true`\n",
    "\n",
    "#### Example 2:\n",
    "> **Input:** `s = \"abca\"`  \n",
    "> **Output:** `true`  \n",
    "> **Explanation:** You could delete the character 'c'.\n",
    "\n",
    "#### Example 3:\n",
    "> **Input:** `s = \"abc\"`  \n",
    "> **Output:** `false`\n",
    "\n",
    "#### Constraints:\n",
    "- $1 \\leq$ `s.length` $\\leq 10^5$\n",
    "- `s` consists of lowercase English letters.\n"
   ]
  },
  {
   "cell_type": "markdown",
   "id": "5a871415",
   "metadata": {},
   "source": [
    "## Problem Explanation\n",
    "For this problem we are asked to determine if a string can be considered a palindrome if we are allowed to remove at most one character. This a continuation of the original problem but focused on edge cases where a single discrepancy can be corrected by removing a character.\n",
    "\n",
    "***"
   ]
  },
  {
   "cell_type": "markdown",
   "id": "66c83cb9",
   "metadata": {},
   "source": [
    "# Approach: Two Pointers\n",
    "\n",
    "## Intuition\n",
    "- The two pointer approach is ideal for problems involving sequences and arrays, where we want to compare elements from opposite ends moving towards the center.\n",
    "- For this problem, the intuition is to start comparing characters from both ends of the string.\n",
    "- If the characters match, move both pointers closer to the center.\n",
    "- If they don't match, check if the removing one character (either from the left or right side) makes the rest of the string a palindrome.\n",
    "\n",
    "## Algorithm\n",
    "1. Initialize two pointers, `i` and `j` at the start and end of the string, respectively.\n",
    "2. While `i < j`:\n",
    "    - If the characters match `s[i] == s[j], move `i` forward and `j` backward.\n",
    "    - If the characters don't match `s[i] != s[j], check for two possibilities:\n",
    "        - Removing the character at `i` makes the rest a palindrome.\n",
    "        - Removing the character at `j` makes the rest a palindrome.\n",
    "    - If neither case results in a palindrome, return `False`.\n",
    "3. If we're able to iterate the entire string without finding a non-removable discrepancy, return `True`."
   ]
  },
  {
   "cell_type": "markdown",
   "id": "7888762a",
   "metadata": {},
   "source": [
    "## Code Implementation"
   ]
  },
  {
   "cell_type": "code",
   "execution_count": 8,
   "id": "e1d254e7",
   "metadata": {},
   "outputs": [],
   "source": [
    "class Solution:\n",
    "    def validPalindrome(self, s: str) -> bool:\n",
    "        # Two-pointer approach\n",
    "        i, j = 0, len(s) - 1\n",
    "        \n",
    "        while i < j:        # Check until i and j meet\n",
    "            if s[i] == s[j]:    # If characters are same, move both pointers\n",
    "                i += 1          # Move left pointer to right\n",
    "                j -= 1          # Move right pointer to left\n",
    "            else:\n",
    "                # Check by removing one character (either left or right)\n",
    "                return self.isPalindrome(s, i + 1, j) or self.isPalindrome(s, i, j - 1)\n",
    "        return True\n",
    "    \n",
    "    # Helper function to check palindrome\n",
    "    def isPalindrome(self, s, i, j):\n",
    "        while i < j:    \n",
    "            if s[i] == s[j]:        # If characters are same, move both pointers\n",
    "                i += 1\n",
    "                j -= 1\n",
    "            else:            # If characters are different, return False\n",
    "                return False\n",
    "        return True       # If all characters are same, return True"
   ]
  },
  {
   "cell_type": "markdown",
   "id": "ce05a3cf",
   "metadata": {},
   "source": [
    "### Testing"
   ]
  },
  {
   "cell_type": "code",
   "execution_count": 9,
   "id": "4c5194cc",
   "metadata": {},
   "outputs": [
    {
     "name": "stdout",
     "output_type": "stream",
     "text": [
      "Input: s = 'aba'\n",
      "Expected: True, Got: True\n",
      "Test passed!\n",
      "\n",
      "Input: s = 'abca'\n",
      "Expected: True, Got: True\n",
      "Test passed!\n",
      "\n",
      "Input: s = 'abc'\n",
      "Expected: False, Got: False\n",
      "Test passed!\n",
      "\n"
     ]
    }
   ],
   "source": [
    "# Test function\n",
    "def test_valid_palindrome(s, expected):\n",
    "    sol = Solution()\n",
    "    result = sol.validPalindrome(s)\n",
    "    print(f\"Input: s = '{s}'\")\n",
    "    print(f\"Expected: {expected}, Got: {result}\")\n",
    "    assert result == expected, f\"Test with input '{s}' failed.\"\n",
    "    print(\"Test passed!\\n\")\n",
    "\n",
    "# Test cases\n",
    "test_valid_palindrome(\"aba\", True)  # Example 1\n",
    "test_valid_palindrome(\"abca\", True) # Example 2\n",
    "test_valid_palindrome(\"abc\", False) # Example 3"
   ]
  },
  {
   "cell_type": "markdown",
   "id": "8a5df28b",
   "metadata": {},
   "source": [
    "## Complexity Analysis\n",
    "- ### Time Complexity: $O(n)$ \n",
    "    -  In the worst case, we might need to check each character once when the characters match and potentially another $O(n)$ operation if we find a mismatch and attempt to remove a character.\n",
    "    - However, the second check is only done once, keeping the overall time complexity linear.\n",
    "- ### Space Complexity: $O(1)$\n",
    "    - The space used does not depend on the size of the input string, as we only use a few variables for indices and do not create additional data structures that scale with input size.\n",
    "***"
   ]
  }
 ],
 "metadata": {
  "kernelspec": {
   "display_name": "Python 3 (ipykernel)",
   "language": "python",
   "name": "python3"
  },
  "language_info": {
   "codemirror_mode": {
    "name": "ipython",
    "version": 3
   },
   "file_extension": ".py",
   "mimetype": "text/x-python",
   "name": "python",
   "nbconvert_exporter": "python",
   "pygments_lexer": "ipython3",
   "version": "3.10.4"
  }
 },
 "nbformat": 4,
 "nbformat_minor": 5
}

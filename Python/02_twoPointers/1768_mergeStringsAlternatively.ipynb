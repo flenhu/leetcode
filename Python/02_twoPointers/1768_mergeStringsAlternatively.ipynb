{
 "cells": [
  {
   "cell_type": "markdown",
   "id": "835c632c",
   "metadata": {},
   "source": [
    "#### [Python <img src=\"../../assets/pythonLogo.png\" alt=\"py logo\" style=\"height: 1em; vertical-align: sub;\">](../README.md) | Easy 🟢 | [Two Pointers](README.md)\n",
    "# [1768. Merge Strings Alternately](https://leetcode.com/problems/merge-strings-alternately/description/) (not started 😕)"
   ]
  },
  {
   "cell_type": "markdown",
   "id": "b9441082",
   "metadata": {},
   "source": [
    "You are given two strings `word1` and `word2`. Merge the strings by adding letters in alternating order, starting with `word1`. If a string is longer than the other, append the additional letters onto the end of the merged string.\n",
    "\n",
    "Return the `merged` string.\n",
    "\n",
    "#### Example 1:\n",
    "> **Input:** `word1 = \"abc\", word2 = \"pqr\"`  \n",
    "> **Output:** `\"apbqcr\"`  \n",
    "> **Explanation:** The merged string will be merged as so:  \n",
    "> `word1:  a   b   c`  \n",
    "> `word2:    p   q   r`  \n",
    "> `merged: a p b q c r`\n",
    "\n",
    "#### Example 2:\n",
    "> **Input:** `word1 = \"ab\", word2 = \"pqrs\"`  \n",
    "> **Output:** `\"apbqrs\"`  \n",
    "> **Explanation:** Notice that as `word2` is longer, \"rs\" is appended to the end.  \n",
    "> `word1:  a   b`   \n",
    "> `word2:    p   q   r   s`  \n",
    "> `merged: a p b q   r   s`\n",
    "\n",
    "#### Example 3:\n",
    "> **Input:** `word1 = \"abcd\", word2 = \"pq\"`  \n",
    "> **Output:** `\"apbqcd\"`  \n",
    "> **Explanation:** Notice that as `word1` is longer, \"cd\" is appended to the end.  \n",
    "> `word1:  a   b   c   d`  \n",
    "> `word2:    p   q`   \n",
    "> `merged: a p b q c   d`\n",
    "\n",
    "#### Constraints:\n",
    "- `1 <= word1.length, word2.length <= 100`\n",
    "- `word1` and `word2` consist of lowercase English letters.\n"
   ]
  },
  {
   "cell_type": "markdown",
   "id": "5a871415",
   "metadata": {},
   "source": [
    "### Problem Explanation\n",
    "- \n",
    "\n",
    "***"
   ]
  },
  {
   "cell_type": "markdown",
   "id": "66c83cb9",
   "metadata": {},
   "source": [
    "# Approach: \n",
    "\n",
    "\n",
    "### Intuition\n",
    "\n",
    "\n",
    "### Algorithm\n"
   ]
  },
  {
   "cell_type": "markdown",
   "id": "7888762a",
   "metadata": {},
   "source": [
    "### Code Implementation"
   ]
  },
  {
   "cell_type": "code",
   "execution_count": null,
   "id": "e1d254e7",
   "metadata": {},
   "outputs": [],
   "source": []
  },
  {
   "cell_type": "markdown",
   "id": "ce05a3cf",
   "metadata": {},
   "source": [
    "### Testing"
   ]
  },
  {
   "cell_type": "code",
   "execution_count": null,
   "id": "4c5194cc",
   "metadata": {},
   "outputs": [],
   "source": []
  },
  {
   "cell_type": "markdown",
   "id": "8a5df28b",
   "metadata": {},
   "source": [
    "### Complexity Analysis\n",
    "- #### Time Complexity: \n",
    "    - \n",
    "- #### Space Complexity: \n",
    "    - \n",
    "***"
   ]
  },
  {
   "cell_type": "markdown",
   "id": "32c95f2b",
   "metadata": {},
   "source": [
    "# Approach 2:\n",
    "\n",
    "\n",
    "### Intuition\n",
    "\n",
    "\n",
    "### Algorithm\n"
   ]
  }
 ],
 "metadata": {
  "kernelspec": {
   "display_name": "Python 3 (ipykernel)",
   "language": "python",
   "name": "python3"
  },
  "language_info": {
   "codemirror_mode": {
    "name": "ipython",
    "version": 3
   },
   "file_extension": ".py",
   "mimetype": "text/x-python",
   "name": "python",
   "nbconvert_exporter": "python",
   "pygments_lexer": "ipython3",
   "version": "3.10.4"
  }
 },
 "nbformat": 4,
 "nbformat_minor": 5
}

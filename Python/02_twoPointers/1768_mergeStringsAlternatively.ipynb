{
 "cells": [
  {
   "cell_type": "markdown",
   "id": "835c632c",
   "metadata": {},
   "source": [
    "#### [Python <img src=\"../../assets/pythonLogo.png\" alt=\"py logo\" style=\"height: 1em; vertical-align: sub;\">](../README.md) | Easy 🟢 | [Two Pointers](README.md)\n",
    "# [1768. Merge Strings Alternately](https://leetcode.com/problems/merge-strings-alternately/description/)"
   ]
  },
  {
   "cell_type": "markdown",
   "id": "b9441082",
   "metadata": {},
   "source": [
    "You are given two strings `word1` and `word2`. Merge the strings by adding letters in alternating order, starting with `word1`. If a string is longer than the other, append the additional letters onto the end of the merged string.\n",
    "\n",
    "Return the `merged` string.\n",
    "\n",
    "#### Example 1:\n",
    "> **Input:** `word1 = \"abc\", word2 = \"pqr\"`  \n",
    "> **Output:** `\"apbqcr\"`  \n",
    "> **Explanation:** The merged string will be merged as so:  \n",
    "> `word1:  a   b   c`  \n",
    "> `word2:    p   q   r`  \n",
    "> `merged: a p b q c r`\n",
    "\n",
    "#### Example 2:\n",
    "> **Input:** `word1 = \"ab\", word2 = \"pqrs\"`  \n",
    "> **Output:** `\"apbqrs\"`  \n",
    "> **Explanation:** Notice that as `word2` is longer, \"rs\" is appended to the end.  \n",
    "> `word1:  a   b`   \n",
    "> `word2:    p   q   r   s`  \n",
    "> `merged: a p b q   r   s`\n",
    "\n",
    "#### Example 3:\n",
    "> **Input:** `word1 = \"abcd\", word2 = \"pq\"`  \n",
    "> **Output:** `\"apbqcd\"`  \n",
    "> **Explanation:** Notice that as `word1` is longer, \"cd\" is appended to the end.  \n",
    "> `word1:  a   b   c   d`  \n",
    "> `word2:    p   q`   \n",
    "> `merged: a p b q c   d`\n",
    "\n",
    "#### Constraints:\n",
    "- `1 <= word1.length, word2.length <= 100`\n",
    "- `word1` and `word2` consist of lowercase English letters.\n"
   ]
  },
  {
   "cell_type": "markdown",
   "id": "5a871415",
   "metadata": {},
   "source": [
    "## Problem Explanation\n",
    "- For this problem we are given a scenario where we have two strings, `word1` and `word2`, and are given the task to merge these strings into a new string by alternating characters from each.\n",
    "- If one string is longer than the other, the remaining characteres of the longer string are appended to the end of the newly merged string.\n",
    "\n",
    "***"
   ]
  },
  {
   "cell_type": "markdown",
   "id": "66c83cb9",
   "metadata": {},
   "source": [
    "# Approach: Two Pointers\n",
    "\n",
    "## Intuition\n",
    "- The two pointer approach is suitable for this problem because it lets us simultaneously traverse both of the strings `word1` and `word2`.\n",
    "- By using a pointer for each string, we can alternate between appending characters from each string to the result, effectively merging them in the desired pattern.\n",
    "## Algorithm\n",
    "1. Initialize two pointers, `i` and `j`, at the start of `word1` and `word2` respectively.\n",
    "2. Create an empty list, `res`, to store the characters of the merged string.\n",
    "3. Iterate over `word1` and `word2` as long as both pointers `i` and `j` are within the bounds of their respective strings:\n",
    "    - Append `word1[i]` to `res`.\n",
    "    - Append `word2[i]` to `res`.\n",
    "    - Increment both `i` and `j`.\n",
    "4. After the loop, append the remaining characters of `word1` (if any) and `word2` (if any) to `res`.\n",
    "5. Convert res to a string and return it."
   ]
  },
  {
   "cell_type": "markdown",
   "id": "7888762a",
   "metadata": {},
   "source": [
    "## Code Implementation"
   ]
  },
  {
   "cell_type": "code",
   "execution_count": 1,
   "id": "e1d254e7",
   "metadata": {},
   "outputs": [],
   "source": [
    "class Solution:\n",
    "    def mergeAlternately(self, word1: str, word2: str) -> str:\n",
    "        # Initialize two pointers for traversing both strings\n",
    "        i, j = 0, 0\n",
    "        # Initialize a list to collect the merged characters\n",
    "        res = []\n",
    "\n",
    "        # Traverse both strings until one is fully traversed\n",
    "        while i < len(word1) and j < len(word2):\n",
    "            # Alternate between appending characters from each string\n",
    "            res.append(word1[i])\n",
    "            res.append(word2[j])\n",
    "            i += 1\n",
    "            j += 1\n",
    "        \n",
    "        # Append the remaining characters of the longer string, if any\n",
    "        res.append(word1[i:])\n",
    "        res.append(word2[j:])\n",
    "        \n",
    "        # Convert the list of characters back into a string\n",
    "        return ''.join(res)\n"
   ]
  },
  {
   "cell_type": "markdown",
   "id": "ce05a3cf",
   "metadata": {},
   "source": [
    "## Testing"
   ]
  },
  {
   "cell_type": "code",
   "execution_count": 3,
   "id": "4c5194cc",
   "metadata": {},
   "outputs": [
    {
     "name": "stdout",
     "output_type": "stream",
     "text": [
      "word1 = 'abc', word2 = 'pqr'\n",
      "Expected: 'apbqcr', Got: 'apbqcr'\n",
      "Test case passed✅\n",
      "\n",
      "word1 = 'ab', word2 = 'pqrs'\n",
      "Expected: 'apbqrs', Got: 'apbqrs'\n",
      "Test case passed✅\n",
      "\n",
      "word1 = 'abcd', word2 = 'pq'\n",
      "Expected: 'apbqcd', Got: 'apbqcd'\n",
      "Test case passed✅\n",
      "\n"
     ]
    }
   ],
   "source": [
    "def test_merge_alternately(word1, word2, expected):\n",
    "    sol = Solution()\n",
    "    result = sol.mergeAlternately(word1, word2)\n",
    "    print(f\"word1 = '{word1}', word2 = '{word2}'\")\n",
    "    print(f\"Expected: '{expected}', Got: '{result}'\")\n",
    "    assert result == expected, \"Test case failed.\"\n",
    "    print(\"Test case passed✅\\n\")\n",
    "\n",
    "# Test cases\n",
    "test_merge_alternately(\"abc\", \"pqr\", \"apbqcr\")  # Example 1\n",
    "test_merge_alternately(\"ab\", \"pqrs\", \"apbqrs\")  # Example 2\n",
    "test_merge_alternately(\"abcd\", \"pq\", \"apbqcd\")  # Example 3\n"
   ]
  },
  {
   "cell_type": "markdown",
   "id": "8a5df28b",
   "metadata": {},
   "source": [
    "## Complexity Analysis\n",
    "- ### Time Complexity: $O(n+m)$\n",
    "    - The algorithm iterates through both strings once, where $n$ is the length of `word1` and $m$ is the length of `word2`. \n",
    "    - The complexity is linear in the size of the input strings.\n",
    "- ### Space Complexity: $O(n+m)$\n",
    "    - The space used is proportional to the combined length of `word1` and `word2` due to storing the result in a list before converting it back to a string.\n",
    "***"
   ]
  }
 ],
 "metadata": {
  "kernelspec": {
   "display_name": "Python 3 (ipykernel)",
   "language": "python",
   "name": "python3"
  },
  "language_info": {
   "codemirror_mode": {
    "name": "ipython",
    "version": 3
   },
   "file_extension": ".py",
   "mimetype": "text/x-python",
   "name": "python",
   "nbconvert_exporter": "python",
   "pygments_lexer": "ipython3",
   "version": "3.10.4"
  }
 },
 "nbformat": 4,
 "nbformat_minor": 5
}

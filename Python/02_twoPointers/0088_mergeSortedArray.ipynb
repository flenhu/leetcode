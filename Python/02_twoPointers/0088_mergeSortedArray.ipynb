{
 "cells": [
  {
   "cell_type": "markdown",
   "id": "835c632c",
   "metadata": {},
   "source": [
    "#### [Python <img src=\"../../assets/pythonLogo.png\" alt=\"py logo\" style=\"height: 1em; vertical-align: sub;\">](../README.md) | Easy 🟢 | [Two Pointers](README.md)\n",
    "# [88. Merge Sorted Array](https://leetcode.com/problems/merge-sorted-array/description/) (not started 😕)"
   ]
  },
  {
   "cell_type": "markdown",
   "id": "b9441082",
   "metadata": {},
   "source": [
    "You are given two integer arrays `nums1` and `nums2`, sorted in **non-decreasing order**, and two integers `m` and `n`, representing the number of elements in `nums1` and `nums2` respectively.\n",
    "\n",
    "**Merge** `nums1` and `nums2` into a single array sorted in **non-decreasing order**.\n",
    "\n",
    "The final sorted array should not be returned by the function, but instead be stored inside the array `nums1`. To accommodate this, `nums1` has a length of `m` + `n`, where the first `m` elements denote the elements that should be merged, and the last `n` elements are set to 0 and should be ignored. `nums2` has a length of `n`.\n",
    "\n",
    "#### Example 1:\n",
    "> **Input:** `nums1 = [1,2,3,0,0,0], m = 3, nums2 = [2,5,6], n = 3`  \n",
    "> **Output:** `[1,2,2,3,5,6]`  \n",
    "> **Explanation:** The arrays we are merging are `[1,2,3]` and `[2,5,6]`.  \n",
    "> The result of the merge is `[1,2,2,3,5,6]` with the underlined elements coming from `nums1`.\n",
    "\n",
    "#### Example 2:\n",
    "> **Input:** `nums1 = [1], m = 1, nums2 = [], n = 0`  \n",
    "> **Output:** `[1]`  \n",
    "> **Explanation:** The arrays we are merging are `[1]` and `[]`.  \n",
    "> The result of the merge is `[1]`.\n",
    "\n",
    "#### Example 3:\n",
    "> **Input:** `nums1 = [0], m = 0, nums2 = [1], n = 1`  \n",
    "> **Output:** `[1]`  \n",
    "> **Explanation:** The arrays we are merging are `[]` and `[1]`.   \n",
    "> The result of the merge is `[1]`.  \n",
    "> Note that because `m = 0`, there are no elements in `nums1`. \n",
    "> The 0 is only there to ensure the merge result can fit in `nums1`.\n",
    "\n",
    "#### Constraints:\n",
    "- `nums1.length == m + n`\n",
    "- `nums2.length == n`\n",
    "- `0 <= m, n <= 200`\n",
    "- `1 <= m + n <= 200`\n",
    "- $-10^9 \\leq$ `nums1[i], nums2[j]`$\\leq 10^9$\n"
   ]
  },
  {
   "cell_type": "markdown",
   "id": "5a871415",
   "metadata": {},
   "source": [
    "### Problem Explanation\n",
    "- \n",
    "\n",
    "***"
   ]
  },
  {
   "cell_type": "markdown",
   "id": "66c83cb9",
   "metadata": {},
   "source": [
    "# Approach: \n",
    "\n",
    "\n",
    "### Intuition\n",
    "\n",
    "\n",
    "### Algorithm\n"
   ]
  },
  {
   "cell_type": "markdown",
   "id": "7888762a",
   "metadata": {},
   "source": [
    "### Code Implementation"
   ]
  },
  {
   "cell_type": "code",
   "execution_count": null,
   "id": "e1d254e7",
   "metadata": {},
   "outputs": [],
   "source": []
  },
  {
   "cell_type": "markdown",
   "id": "ce05a3cf",
   "metadata": {},
   "source": [
    "### Testing"
   ]
  },
  {
   "cell_type": "code",
   "execution_count": null,
   "id": "4c5194cc",
   "metadata": {},
   "outputs": [],
   "source": []
  },
  {
   "cell_type": "markdown",
   "id": "8a5df28b",
   "metadata": {},
   "source": [
    "### Complexity Analysis\n",
    "- #### Time Complexity: \n",
    "    - \n",
    "- #### Space Complexity: \n",
    "    - \n",
    "***"
   ]
  },
  {
   "cell_type": "markdown",
   "id": "32c95f2b",
   "metadata": {},
   "source": [
    "# Approach 2:\n",
    "\n",
    "\n",
    "### Intuition\n",
    "\n",
    "\n",
    "### Algorithm\n"
   ]
  }
 ],
 "metadata": {
  "kernelspec": {
   "display_name": "Python 3 (ipykernel)",
   "language": "python",
   "name": "python3"
  },
  "language_info": {
   "codemirror_mode": {
    "name": "ipython",
    "version": 3
   },
   "file_extension": ".py",
   "mimetype": "text/x-python",
   "name": "python",
   "nbconvert_exporter": "python",
   "pygments_lexer": "ipython3",
   "version": "3.10.4"
  }
 },
 "nbformat": 4,
 "nbformat_minor": 5
}

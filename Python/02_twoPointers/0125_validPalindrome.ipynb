{
 "cells": [
  {
   "cell_type": "markdown",
   "id": "205ec912",
   "metadata": {},
   "source": [
    "#### [Python <img src=\"../../assets/pythonLogo.png\" alt=\"py logo\" style=\"height: 1em; vertical-align: sub;\">](../README.md) | Easy 🟢 | [Two Pointers](README.md) \n",
    "# [125. Valid Palindrome](https://leetcode.com/problems/valid-palindrome/)"
   ]
  },
  {
   "cell_type": "markdown",
   "id": "d14a51ef",
   "metadata": {},
   "source": [
    "A phrase is a palindrome if, after converting all uppercase letters into lowercase letters and removing all non-alphanumeric characters, it reads the same forward and backward. Alphanumeric characters include letters and numbers.\n",
    "\n",
    "Given a string `s`, return true if it is a palindrome, or false otherwise.\n",
    "\n",
    "## Examples\n",
    "\n",
    "**Example 1:**   \n",
    "\n",
    "> **Input:** `s = \"A man, a plan, a canal: Panama\"`   \n",
    "> **Output:** `true`   \n",
    "> **Explanation:** \"amanaplanacanalpanama\" is a palindrome.   \n",
    "\n",
    "**Example 2:**  \n",
    "\n",
    "> **Input:** `s = \"race a car\"`   \n",
    "> **Output:** `false`    \n",
    "> **Explanation:** \"raceacar\" is not a palindrome.    \n",
    "\n",
    "**Example 3:**  \n",
    "\n",
    "> **Input:** `s = \" \"`    \n",
    "> **Output:** `true`   \n",
    "> **Explanation:** `s` is an empty string `\"\"` after removing non-alphanumeric characters.   \n",
    "  Since an empty string reads the same forward and backward, it is a palindrome.  \n",
    "\n",
    "#### Constraints\n",
    "\n",
    "- <code>1 &lt;= s.length &lt;= 2 * 10<sup>5</sup></code>   \n",
    "- `s` consists only of printable ASCII characters.   \n"
   ]
  },
  {
   "cell_type": "markdown",
   "id": "2399ad5e",
   "metadata": {},
   "source": [
    "_________________\n",
    "##  <u>Approach: Two Pointer</u>\n",
    "- Use two pointers: one starting at the beginning of the string called `left` and other at the end called `right`.\n",
    "- Move the `left` pointer forward and the `right` pointer backward, skipping alpha-numeric characters.\n",
    "- Compare the characters at the `left` and `right` pointers. If they are not the same, then it's not a palindrome.\n",
    "- Continue until `left` and `right` pointers meet or cross each other."
   ]
  },
  {
   "cell_type": "markdown",
   "id": "d6dee756",
   "metadata": {},
   "source": [
    "### <u>Algorithm:</u>\n",
    "\n",
    "1. Initialize `left` to the start of the string and `right` to the end.\n",
    "2. Iterate while `left` is less than `right`:\n",
    "    - Increment `left` if the character at `left` is not alphanumeric.\n",
    "    - Decrement `right` if the character at `right` is not alphanumeric.\n",
    "    - If both characters are alphanumeric and not equal, return `'false'`.\n",
    "3. Return `'true'` if the entire string is check without mismatches."
   ]
  },
  {
   "cell_type": "markdown",
   "id": "f53ee493",
   "metadata": {},
   "source": [
    "### <u> Psuedocode </u>\n",
    "    FUNCTION isPalindrome(string s)\n",
    "        SET left = 0\n",
    "        SET right = length of s - 1\n",
    "        \n",
    "        WHILE left < right\n",
    "            IF s[left] is not alphanumeric\n",
    "                INCREMENT left\n",
    "                CONTINUE\n",
    "            IF s[right] is not alphanumeroc\n",
    "                DECREMENT right\n",
    "                CONTINUE\n",
    "            IF toLowerCase(s[left]) is not equal toLowerCase(s[right])\n",
    "                RETURN false\n",
    "            INCREMENT left\n",
    "            INCREMENT right\n",
    "        END WHILE\n",
    "        \n",
    "        RETURN true\n",
    "    END FUNCTIOn"
   ]
  },
  {
   "cell_type": "markdown",
   "id": "3f4050a8",
   "metadata": {},
   "source": [
    "### <u> Two Pointer Approach - Python Implementation</u>"
   ]
  },
  {
   "cell_type": "code",
   "execution_count": 1,
   "id": "8948b66d",
   "metadata": {},
   "outputs": [],
   "source": [
    "def isPalindrome(s: str) -> bool:\n",
    "    # initialize two pointers, left & right at opposite ends of the string\n",
    "    left, right = 0, len(s) - 1\n",
    "    \n",
    "    # Loop until the two pointers meet or cross each other\n",
    "    while left < right:\n",
    "        # If the char at 'left' pointer is not alphanumeric, increment the 'left' pointer to move to.. \n",
    "        # ..the next char and continue the loop\n",
    "        if not s[left].isalnum():\n",
    "            left += 1\n",
    "            continue\n",
    "        \n",
    "        # If the char at 'right' pointer is not alphanumeric, decrement the 'right' pointer to move to.. \n",
    "        # ..the prev char and continue the loop\n",
    "        if not s[right].isalnum():\n",
    "            right -= 1\n",
    "            continue\n",
    "        \n",
    "        # if both chars at 'left' and 'right' pointers are alphanumeric:\n",
    "        # Convert them to lowercase and compare them.\n",
    "        # if they are not the same, then the string is not a palindrome.\n",
    "        if s[left].lower() != s[right].lower():\n",
    "            return False\n",
    "        \n",
    "        # Move the 'left' pointer to the right (forward) and \n",
    "        # the 'right' pointer to the left (backward) to continue checking\n",
    "        left += 1\n",
    "        right -= 1\n",
    "\n",
    "    # If the loop completes without finding a mismatch, the string is a palindrome.\n",
    "    return True"
   ]
  },
  {
   "cell_type": "markdown",
   "id": "7b919600",
   "metadata": {},
   "source": [
    "#### Tests / Example Usage"
   ]
  },
  {
   "cell_type": "code",
   "execution_count": 2,
   "id": "ff40cdc9",
   "metadata": {},
   "outputs": [
    {
     "name": "stdout",
     "output_type": "stream",
     "text": [
      "True\n",
      "False\n",
      "True\n"
     ]
    }
   ],
   "source": [
    "print(isPalindrome(\"A man, a plan, a canal: Panama\"))  # Output: True\n",
    "print(isPalindrome(\"race a car\"))                      # Output: False\n",
    "print(isPalindrome(\" \"))                               # Output: True"
   ]
  },
  {
   "cell_type": "markdown",
   "id": "28d01993",
   "metadata": {},
   "source": [
    "### <u>Complexity Analysis</u>\n",
    "- ### Time Complexity: $O(n)$\n",
    "    - Each character in the string is visited at most twice, once by each pointer. \n",
    "- ### Space Complexity: $O(1)$\n",
    "    - No additional space is required since the pointers only use constant extra space.\n",
    "\n",
    "--------"
   ]
  },
  {
   "cell_type": "markdown",
   "id": "1364e2b1",
   "metadata": {},
   "source": [
    "##  <u>Approach: Two Pointer w/ implemented Alphanumeric check</u>\n",
    "This approach still uses the \"Two-pointer\" approach but this time we're adding a custom method for alphanumeric checks.\n",
    "#### Intuition\n",
    "- **Two Pointers for Efficiency**: Like the previous approach, we're also going to be using two pointers `l` and `r` to compare the characters from both ends of the string to minimize the number of comparisons needed.\n",
    "- **Custom Alphanumeric check**: Instead of using Python's built-in `isalnum()` method, we might be asked to implement a function during a interview, so let's call it `alphanum` to determine if a character is alphanumeric."
   ]
  },
  {
   "cell_type": "markdown",
   "id": "beff7d62",
   "metadata": {},
   "source": [
    "### <u>Algorithm:</u>\n",
    "\n",
    "1. Initialize the two pointers `l` (left) and `r` (right), at the start and the end of the string, respectively.\n",
    "2. Move `l` to the right until it points to an alphanumeric character.\n",
    "3. Move `r` to the left until it points to an alphanumeric character.\n",
    "4. Compare the characters at `l` and `r` for equality (ignoring case). \n",
    "    - If they are not equal, return `'False'`\n",
    "5. Increment `l` and decrement `r`, and continue the process\n",
    "6. If the entire string is scanned without mismatches, we can then return `'True'`"
   ]
  },
  {
   "cell_type": "markdown",
   "id": "d3311ed0",
   "metadata": {},
   "source": [
    "### <u> Psuedocode </u>\n",
    "\n",
    "    FUNCTION isPalindrome(s)\n",
    "        SET l = 0\n",
    "        SET r = length of s - 1\n",
    "\n",
    "        WHILE l < r\n",
    "            WHILE l < r AND NOT alphanum(s[l])\n",
    "                INCREMENT l\n",
    "            WHILE l < r AND NOT alphanum(s[r])\n",
    "                DECREMENT r\n",
    "            IF toLowerCase(s[l]) NOT EQUAL to toLowerCase(s[r])\n",
    "                RETURN False\n",
    "            INCREMENT l\n",
    "            DECREMENT r\n",
    "        END WHILE\n",
    "\n",
    "        RETURN TRUE\n",
    "    \n",
    "    FUNCTION alphanum(c)\n",
    "        RETURN (ord(\"A\") <= ord(c) <= ord(\"Z\")) OR\n",
    "               (ord(\"a\") <= ord(c) <= ord(\"z\")) OR\n",
    "               (ord(\"0\") <= ord(c) <= ord(\"9\"))\n",
    "    "
   ]
  },
  {
   "cell_type": "markdown",
   "id": "63e7f030",
   "metadata": {},
   "source": [
    "###  <u>Two Pointer w/ implemented Alphanumeric check - Python Implementation</u>"
   ]
  },
  {
   "cell_type": "code",
   "execution_count": 3,
   "id": "c11c68cc",
   "metadata": {},
   "outputs": [],
   "source": [
    "def isPalindrome2(s: str) -> bool:\n",
    "    # Initialize the two pointers\n",
    "    l, r = 0, len(s) - 1\n",
    "    \n",
    "    while l < r:\n",
    "        # Increment the left pointer until an alphanumeric char is found\n",
    "        while l < r and not alphanum(s[l]):\n",
    "            l += 1\n",
    "        \n",
    "        # Decrement the right pointer until a alphanumeric char is found\n",
    "        while l < r and not alphanum(s[r]):\n",
    "            r -= 1\n",
    "        \n",
    "        if s[l].lower() != s[r].lower():\n",
    "            return False\n",
    "        \n",
    "        l += 1\n",
    "        r -= 1\n",
    "        \n",
    "    return True\n",
    "        \n",
    "        \n",
    "def alphanum(c):\n",
    "    \"\"\"\n",
    "    Check if a character is alphanumeric.\n",
    "\n",
    "    The function uses ASCII values to determine if a character is alphanumeric.\n",
    "    - 'A' to 'Z' correspond to ASCII values 65 to 90.\n",
    "    - 'a' to 'z' correspond to ASCII values 97 to 122.\n",
    "    - '0' to '9' correspond to ASCII values 48 to 57.\n",
    "\n",
    "    Args:\n",
    "    c (str): The character to check.\n",
    "\n",
    "    Returns:\n",
    "    bool: True if the character is alphanumeric, False otherwise.\n",
    "    \"\"\"\n",
    "    return (\n",
    "        ord(\"A\") <= ord(c) <= ord(\"Z\")  # Check if 'c' is an uppercase letter\n",
    "        or ord(\"a\") <= ord(c) <= ord(\"z\")  # Check if 'c' is a lowercase letter\n",
    "        or ord(\"0\") <= ord(c) <= ord(\"9\")  # Check if 'c' is a digit\n",
    "    )"
   ]
  },
  {
   "cell_type": "markdown",
   "id": "4bd5bd3e",
   "metadata": {},
   "source": [
    "#### Tests / Example Usage"
   ]
  },
  {
   "cell_type": "code",
   "execution_count": 4,
   "id": "1b3e0107",
   "metadata": {},
   "outputs": [
    {
     "name": "stdout",
     "output_type": "stream",
     "text": [
      "True\n",
      "False\n"
     ]
    }
   ],
   "source": [
    "print(isPalindrome2(\"A man, a plan, a canal: Panama\"))  # Output: True\n",
    "print(isPalindrome2(\"race a car\"))                      # Output: False"
   ]
  },
  {
   "cell_type": "markdown",
   "id": "d3d8364a",
   "metadata": {},
   "source": [
    "### <u>Complexity Analysis</u>\n",
    "- ### Time Complexity: $O(n)$ \n",
    "    - The time complexity is still $O(n)$ since each character ist still only checked at most twice (once by each pointer). The custom alphanumeric check is also a constant-time operation\n",
    "- ### Space Complexity: $O(1)$ \n",
    "    - The space complexity also remains $O(1)$ as the solution only uses a constant amount of additional space (pointers and temporary variables).    "
   ]
  }
 ],
 "metadata": {
  "kernelspec": {
   "display_name": "Python 3 (ipykernel)",
   "language": "python",
   "name": "python3"
  },
  "language_info": {
   "codemirror_mode": {
    "name": "ipython",
    "version": 3
   },
   "file_extension": ".py",
   "mimetype": "text/x-python",
   "name": "python",
   "nbconvert_exporter": "python",
   "pygments_lexer": "ipython3",
   "version": "3.9.12"
  }
 },
 "nbformat": 4,
 "nbformat_minor": 5
}

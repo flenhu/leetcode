{
 "cells": [
  {
   "cell_type": "markdown",
   "id": "835c632c",
   "metadata": {},
   "source": [
    "#### [Python <img src=\"../../assets/pythonLogo.png\" alt=\"py logo\" style=\"height: 1em; vertical-align: sub;\">](../README.md) | Easy 🟢 | [Two Pointers](README.md)\n",
    "# [283. Move Zeroes](https://leetcode.com/problems/move-zeroes/description/)"
   ]
  },
  {
   "cell_type": "markdown",
   "id": "b9441082",
   "metadata": {},
   "source": [
    "Given an integer array `nums`, move all `0`'s to the end of it while maintaining the relative order of the non-zero elements.\n",
    "\n",
    "**Note** that you must do this in-place without making a copy of the array.\n",
    "\n",
    "#### Example 1:\n",
    "> **Input:** `nums = [0,1,0,3,12]`  \n",
    "> **Output:** `[1,3,12,0,0]`\n",
    "\n",
    "#### Example 2:\n",
    "> **Input:** `nums = [0]`  \n",
    "> **Output:** `[0]`\n",
    "\n",
    "#### Constraints:\n",
    "- $1 \\leq$ `nums.length` $\\leq 10^4$\n",
    "- $-2^{31} \\leq$ `nums[i]` $\\leq 2^{31} - 1$"
   ]
  },
  {
   "cell_type": "markdown",
   "id": "5a871415",
   "metadata": {},
   "source": [
    "## Problem Explanation\n",
    "- This problem asks for an in-place operation to shift all zero elements in an integer array to the end to preserve the order of non-zero elements.\n",
    "- The challenge here is to be effcient and maintain element order without creating a separate array copy.\n",
    "\n",
    "***"
   ]
  },
  {
   "cell_type": "markdown",
   "id": "66c83cb9",
   "metadata": {},
   "source": [
    "# Approach 1: Fast and Slow Pointer \n",
    "- This approach is a variation of the two pointer technique as it uses two pointers to traverse the array:\n",
    "    - a fast pointer that explores the array to find non-zero elements\n",
    "    - a slow pointer that tracks the position of where the next non-zero element should be moved.\n",
    "- This approach ensures that all non-zero elements are shifted to the beginning of the array in their original order, with zeros moved to the end.\n",
    "\n",
    "## Intuition\n",
    "- The intuition behind this approach is that by using two pointers, we can efficiently separate non-zero elements from zeros without needing additional space for storage.\n",
    "- The slow pointer indicates the position ready to recieve a non-zero element, ensuring non-zero elements are staying in order relative to each other, while the fast pointer searches for the non-zero elements.\n",
    "\n",
    "## Algorithm\n",
    "1. Initalize a slow pointer at the start of the array to indicate the position for a non-zero element.\n",
    "2. Iterate through the array with a fast pointer:\n",
    "    - When the fast pointer encounters a non-zero element and the slow pointer is at zero, swap their values.\n",
    "    - If the element at the slow pointer is non-zero, increment the slow pointer to find the next zero.\n",
    "3. Continue this process until the fast pointer has examined each element."
   ]
  },
  {
   "cell_type": "markdown",
   "id": "7888762a",
   "metadata": {},
   "source": [
    "## Code Implementation"
   ]
  },
  {
   "cell_type": "code",
   "execution_count": 4,
   "id": "e1d254e7",
   "metadata": {},
   "outputs": [],
   "source": [
    "from typing import List\n",
    "\n",
    "class Solution:\n",
    "    def moveZeroes(self, nums: List[int]) -> None:\n",
    "        \"\"\"\n",
    "        Moves zeros to the end of the array while keeping the order of non-zero elements.\n",
    "        \"\"\"\n",
    "        slow = 0  # Initialize the slow pointer.\n",
    "        for fast in range(len(nums)):  # Fast pointer to traverse the array.\n",
    "            # Swap if fast is on a non-zero and slow is on a zero.\n",
    "            if nums[fast] != 0:\n",
    "                nums[slow], nums[fast] = nums[fast], nums[slow]\n",
    "                slow += 1  # Move slow pointer to the next potential zero position."
   ]
  },
  {
   "cell_type": "markdown",
   "id": "ce05a3cf",
   "metadata": {},
   "source": [
    "## Testing"
   ]
  },
  {
   "cell_type": "code",
   "execution_count": 5,
   "id": "4c5194cc",
   "metadata": {},
   "outputs": [
    {
     "name": "stdout",
     "output_type": "stream",
     "text": [
      "Input: [1, 3, 12, 0, 0]\n",
      "Expected: [1, 3, 12, 0, 0], Got: [1, 3, 12, 0, 0]\n",
      "✅ Test case passed!\n",
      "\n",
      "Input: [0]\n",
      "Expected: [0], Got: [0]\n",
      "✅ Test case passed!\n",
      "\n",
      "Input: [4, 2, 4, 3, 5, 1, 0, 0, 0, 0]\n",
      "Expected: [4, 2, 4, 3, 5, 1, 0, 0, 0, 0], Got: [4, 2, 4, 3, 5, 1, 0, 0, 0, 0]\n",
      "✅ Test case passed!\n",
      "\n"
     ]
    }
   ],
   "source": [
    "def test_move_zeroes(solution, nums, expected):\n",
    "    solution.moveZeroes(nums)\n",
    "    result = nums\n",
    "    print(f\"Input: {nums}\")\n",
    "    print(f\"Expected: {expected}, Got: {result}\")\n",
    "    assert result == expected, \"Test case failed.\"\n",
    "    print(\"✅ Test case passed!\\n\")\n",
    "\n",
    "# Instance of the solution\n",
    "sol = Solution()\n",
    "\n",
    "# Test cases\n",
    "test_move_zeroes(sol, [0,1,0,3,12], [1,3,12,0,0])\n",
    "test_move_zeroes(sol, [0], [0])\n",
    "test_move_zeroes(sol, [4,2,4,0,0,3,0,5,1,0], [4,2,4,3,5,1,0,0,0,0])\n"
   ]
  },
  {
   "cell_type": "markdown",
   "id": "8a5df28b",
   "metadata": {},
   "source": [
    "## Complexity Analysis\n",
    "- ### Time Complexity: $O(n)$\n",
    "    - Each element in the array is visited once by the fast pointer, making the time complexity linear in the size of the input array.\n",
    "\n",
    "- ### Space Complexity: $O(1)$\n",
    "    - The operation is done in-place, using a constant amount of space regardless of the input size, as it only requires two pointers.\n",
    "***"
   ]
  },
  {
   "cell_type": "markdown",
   "id": "32c95f2b",
   "metadata": {},
   "source": [
    "# Approach 2:\n",
    "\n",
    "\n",
    "## Intuition\n",
    "\n",
    "\n",
    "## Algorithm\n"
   ]
  },
  {
   "cell_type": "markdown",
   "id": "57532b3d",
   "metadata": {},
   "source": [
    "## Code Implementation"
   ]
  },
  {
   "cell_type": "code",
   "execution_count": null,
   "id": "f1d6ffe0",
   "metadata": {},
   "outputs": [],
   "source": []
  },
  {
   "cell_type": "markdown",
   "id": "d0eb01d6",
   "metadata": {},
   "source": [
    "## Testing"
   ]
  },
  {
   "cell_type": "code",
   "execution_count": null,
   "id": "7e3d404a",
   "metadata": {},
   "outputs": [],
   "source": []
  },
  {
   "cell_type": "markdown",
   "id": "6d41eade",
   "metadata": {},
   "source": [
    "## Complexity Analysis\n",
    "- ### Time Complexity: $O()$\n",
    "\n",
    "- ### Space Complexity: $O()$\n",
    "***"
   ]
  }
 ],
 "metadata": {
  "kernelspec": {
   "display_name": "Python 3 (ipykernel)",
   "language": "python",
   "name": "python3"
  },
  "language_info": {
   "codemirror_mode": {
    "name": "ipython",
    "version": 3
   },
   "file_extension": ".py",
   "mimetype": "text/x-python",
   "name": "python",
   "nbconvert_exporter": "python",
   "pygments_lexer": "ipython3",
   "version": "3.10.4"
  }
 },
 "nbformat": 4,
 "nbformat_minor": 5
}

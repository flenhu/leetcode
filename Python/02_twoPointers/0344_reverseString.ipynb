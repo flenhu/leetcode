{
 "cells": [
  {
   "cell_type": "markdown",
   "id": "835c632c",
   "metadata": {},
   "source": [
    "#### [Python <img src=\"../../assets/pythonLogo.png\" alt=\"py logo\" style=\"height: 1em; vertical-align: sub;\">](../README.md) | Easy 🟢 | [Two Pointers](README.md)\n",
    "# [344. Reverse String](https://leetcode.com/problems/reverse-string/description/) "
   ]
  },
  {
   "cell_type": "markdown",
   "id": "b9441082",
   "metadata": {},
   "source": [
    "Write a function that reverses a string. The input string is given as an array of characters `s`.\n",
    "\n",
    "You must do this by modifying the input array **in-place** with $O(1)$ extra memory.\n",
    "\n",
    "#### Example 1:\n",
    "> **Input:** `s = [\"h\",\"e\",\"l\",\"l\",\"o\"]`  \n",
    "> **Output:** `[\"o\",\"l\",\"l\",\"e\",\"h\"]`\n",
    "\n",
    "#### Example 2:\n",
    "> **Input:** `s = [\"H\",\"a\",\"n\",\"n\",\"a\",\"h\"]`  \n",
    "> **Output:** `[\"h\",\"a\",\"n\",\"n\",\"a\",\"H\"]`\n",
    "\n",
    "#### Constraints:\n",
    "- `1 <= s.length <= 10^5`\n",
    "- `s[i]` is a **printable ascii character**.\n"
   ]
  },
  {
   "cell_type": "markdown",
   "id": "5a871415",
   "metadata": {},
   "source": [
    "## Problem Explanation\n",
    "For this problem we are required to make a function that reverses an array of characters in-place, adhering to $O(1)$ memory usage. This is a pretty classic and standard problem where we want to manipulate array elements directly and focus on the in-place operations in a situation where minimizing memory usage is crucial.\n",
    "***"
   ]
  },
  {
   "cell_type": "markdown",
   "id": "66c83cb9",
   "metadata": {},
   "source": [
    "# Approach 1: Two Pointers\n",
    "## Intuition\n",
    "- The two-pointer approach is effective for this problem because it allows for simultaneous manipulation of the array from both ends, and then finally meeting in the middle.\n",
    "- This approach eliminates. the need for additional space that would be required if were to create a new array or use a stack/queue for the reversal.\n",
    "\n",
    "## Algorithm\n",
    "1. Initialize two pointers, `left` at the beginning of the array and `right` at the end.\n",
    "2. While `left < right`:\n",
    "    - Swap the elements at `left` and `right`.\n",
    "    - Move `left` one step forward (increment).\n",
    "    - Move `right` one step backward (decrement).\n",
    "3. Continue this process until `left` and `right` meet or cross, which indicates that the entire array has been reversed."
   ]
  },
  {
   "cell_type": "markdown",
   "id": "7888762a",
   "metadata": {},
   "source": [
    "## Code Implementation"
   ]
  },
  {
   "cell_type": "code",
   "execution_count": 1,
   "id": "e1d254e7",
   "metadata": {},
   "outputs": [],
   "source": [
    "from typing import List\n",
    "\n",
    "class Solution:\n",
    "    def reverseString(self, s: List[str]) -> None:\n",
    "        \"\"\"\n",
    "        Reverses the array of characters in-place.\n",
    "        \"\"\"\n",
    "\n",
    "        left = 0\n",
    "        right = len(s) - 1\n",
    "\n",
    "        # Iterate until the two pointers meet\n",
    "        while left < right:\n",
    "            # Swap the elements at the left and right pointers\n",
    "            s[left], s[right] = s[right], s[left]\n",
    "            # move the pointers towards the center\n",
    "            left += 1\n",
    "            right -= 1"
   ]
  },
  {
   "cell_type": "markdown",
   "id": "ce05a3cf",
   "metadata": {},
   "source": [
    "## Testing"
   ]
  },
  {
   "cell_type": "code",
   "execution_count": 3,
   "id": "4c5194cc",
   "metadata": {},
   "outputs": [
    {
     "name": "stdout",
     "output_type": "stream",
     "text": [
      "Input: ['o', 'l', 'l', 'e', 'h']\n",
      "Expected: ['o', 'l', 'l', 'e', 'h'], Got: ['o', 'l', 'l', 'e', 'h']\n",
      "✅Test case passed!\n",
      "\n",
      "Input: ['h', 'a', 'n', 'n', 'a', 'H']\n",
      "Expected: ['h', 'a', 'n', 'n', 'a', 'H'], Got: ['h', 'a', 'n', 'n', 'a', 'H']\n",
      "✅Test case passed!\n",
      "\n",
      "Input: ['e', 'd', 'c', 'b', 'a']\n",
      "Expected: ['e', 'd', 'c', 'b', 'a'], Got: ['e', 'd', 'c', 'b', 'a']\n",
      "✅Test case passed!\n",
      "\n"
     ]
    }
   ],
   "source": [
    "def test_reverse_string(solution_class, s, expected):\n",
    "    solution = solution_class()\n",
    "    solution.reverseString(s)  # The function modifies s in-place\n",
    "    result = s\n",
    "    print(f\"Input: {s}\")\n",
    "    print(f\"Expected: {expected}, Got: {result}\")\n",
    "    assert result == expected, \"❌ Test case failed.\"\n",
    "    print(\"✅Test case passed!\\n\")\n",
    "\n",
    "# Test with Solution class\n",
    "test_reverse_string(Solution, [\"h\",\"e\",\"l\",\"l\",\"o\"], [\"o\",\"l\",\"l\",\"e\",\"h\"])  # Example 1\n",
    "test_reverse_string(Solution, [\"H\",\"a\",\"n\",\"n\",\"a\",\"h\"], [\"h\",\"a\",\"n\",\"n\",\"a\",\"H\"])  # Example 2\n",
    "test_reverse_string(Solution, [\"a\",\"b\",\"c\",\"d\",\"e\"], [\"e\",\"d\",\"c\",\"b\",\"a\"])  # Additional case"
   ]
  },
  {
   "cell_type": "markdown",
   "id": "8a5df28b",
   "metadata": {},
   "source": [
    "## Complexity Analysis\n",
    "- ### Time Complexity: $O(n)$\n",
    "    - Each element in the array is visited once, where `n` is the length of the array.\n",
    "    - The operation is linear since the two pointers move towards each other and cover the entire array.\n",
    "- ### Space Complexity: $O(1)$\n",
    "    - The reversal is done in-place, with no additional memory required beyond the use of a few variables for the pointers, making the space complexity constant.\n",
    "\n",
    "***"
   ]
  },
  {
   "cell_type": "markdown",
   "id": "32c95f2b",
   "metadata": {},
   "source": [
    "# Approach 2: Recursion\n",
    "\n",
    "## Intuition\n",
    "- The next way to approach this problem is using recursion to reverse the string which leverages the call stack in a natural manner which \"unwinds\" the string reversal process, effectively simulating the two-pointer technique but with a function a call. \n",
    "- The intuition here is to swap the outermost characters and then recursively call the function to handle the \"inner\" string, progressively moving towards the center\n",
    "\n",
    "## Algorithm\n",
    "1. **Base Case:** The recursion stops when the two pointers meet or cross each other, which indicates that the entire string has been reversed.\n",
    "2. **Recursive step:** For each recursive call, swap the characters at the current `left` and `right` indices, then call the function again with `left + 1` and `right - 1` to move towards the center of the string.\n",
    "3. Start the recursion by calling the helper function with the initial indices at `0` (start of the string) and `len(s) - 1` (end of the string)"
   ]
  },
  {
   "cell_type": "markdown",
   "id": "bf0aa402",
   "metadata": {},
   "source": [
    "## Code Implementation"
   ]
  },
  {
   "cell_type": "code",
   "execution_count": 7,
   "id": "5ba8fcb2",
   "metadata": {},
   "outputs": [],
   "source": [
    "class Solution2:\n",
    "    def reverseString(self, s: List[str]) -> None:\n",
    "        def helper(left, right):\n",
    "            # Base case: stop when left meets or crosses right\n",
    "            if left < right:\n",
    "                # Swap the characters at the left and right positions\n",
    "                s[left], s[right] = s[right], s[left]\n",
    "                # Recursive call to move towards the center\n",
    "                helper(left + 1, right - 1)\n",
    "\n",
    "        # Initial call to the recursive helper function\n",
    "        helper(0, len(s) - 1)"
   ]
  },
  {
   "cell_type": "markdown",
   "id": "4f86a5fb",
   "metadata": {},
   "source": [
    "## Testing"
   ]
  },
  {
   "cell_type": "code",
   "execution_count": 8,
   "id": "3e4660a5",
   "metadata": {},
   "outputs": [
    {
     "name": "stdout",
     "output_type": "stream",
     "text": [
      "Input: ['o', 'l', 'l', 'e', 'h']\n",
      "Expected: ['o', 'l', 'l', 'e', 'h'], Got: ['o', 'l', 'l', 'e', 'h']\n",
      "✅Test case passed!\n",
      "\n",
      "Input: ['h', 'a', 'n', 'n', 'a', 'H']\n",
      "Expected: ['h', 'a', 'n', 'n', 'a', 'H'], Got: ['h', 'a', 'n', 'n', 'a', 'H']\n",
      "✅Test case passed!\n",
      "\n",
      "Input: ['e', 'd', 'c', 'b', 'a']\n",
      "Expected: ['e', 'd', 'c', 'b', 'a'], Got: ['e', 'd', 'c', 'b', 'a']\n",
      "✅Test case passed!\n",
      "\n"
     ]
    }
   ],
   "source": [
    "# Test with Solution2 class - recursive approach\n",
    "test_reverse_string(Solution2, [\"h\",\"e\",\"l\",\"l\",\"o\"], [\"o\",\"l\",\"l\",\"e\",\"h\"])  # Example 1\n",
    "test_reverse_string(Solution2, [\"H\",\"a\",\"n\",\"n\",\"a\",\"h\"], [\"h\",\"a\",\"n\",\"n\",\"a\",\"H\"])  # Example 2\n",
    "test_reverse_string(Solution2, [\"a\",\"b\",\"c\",\"d\",\"e\"], [\"e\",\"d\",\"c\",\"b\",\"a\"])  # Additional case"
   ]
  },
  {
   "cell_type": "markdown",
   "id": "bb0e6138",
   "metadata": {},
   "source": [
    "## Complexity Analysis\n",
    "- ### Time Complexity: $O(n)$\n",
    "    - Even though the function is recursive, each character in the string is swapped exactly once, where `n` is the length of the string.\n",
    "    - The recursion depth is $O(n/2)$, which simplifies to $O(n)$.\n",
    "\n",
    "- ### Space Complexity: $O(n)$\n",
    "    - The space complexity is also $O(n)$ for the recursion call stack.\n",
    "    - Although the problem asks for modifying the input array in-place with $O(1)$ extra memory, the recursive approach doesn't strictly adhere to this requirement since it implicitly uses a stack space for function calls.\n",
    "    - The space complexity is proportional to the depth of the recursion, which is $O(n/2)$ in the worst case, and eventually simplifies down to $O(n)$.\n",
    "    - This is pretty significant consideration, especially for strings that are large enough to cause stack overflow.\n",
    "***"
   ]
  },
  {
   "cell_type": "markdown",
   "id": "d81dce1d",
   "metadata": {},
   "source": [
    "# Approach 3: Python Built-in Method\n",
    "\n",
    "## Intuition\n",
    "- Python's built in methods are designed to make reversing an array or list pretty straightforward.\n",
    "- The `.reverse()` method directly modifies the list its called on and then reverses the elements in place.\n",
    "\n",
    "## Algorithm\n",
    "1. Simply call the `reverse()` method on the input list `s`."
   ]
  },
  {
   "cell_type": "markdown",
   "id": "db74547c",
   "metadata": {},
   "source": [
    "## Code Implementation"
   ]
  },
  {
   "cell_type": "code",
   "execution_count": 9,
   "id": "bf2393ae",
   "metadata": {},
   "outputs": [],
   "source": [
    "class Solution3:\n",
    "    def reverseString(self, s):\n",
    "        # Reverse the list in-place using Python's built-in method\n",
    "        s.reverse()"
   ]
  },
  {
   "cell_type": "markdown",
   "id": "21752e89",
   "metadata": {},
   "source": [
    "## Testing"
   ]
  },
  {
   "cell_type": "code",
   "execution_count": 10,
   "id": "dc5a8357",
   "metadata": {},
   "outputs": [
    {
     "name": "stdout",
     "output_type": "stream",
     "text": [
      "Input: ['o', 'l', 'l', 'e', 'h']\n",
      "Expected: ['o', 'l', 'l', 'e', 'h'], Got: ['o', 'l', 'l', 'e', 'h']\n",
      "✅Test case passed!\n",
      "\n",
      "Input: ['h', 'a', 'n', 'n', 'a', 'H']\n",
      "Expected: ['h', 'a', 'n', 'n', 'a', 'H'], Got: ['h', 'a', 'n', 'n', 'a', 'H']\n",
      "✅Test case passed!\n",
      "\n",
      "Input: ['e', 'd', 'c', 'b', 'a']\n",
      "Expected: ['e', 'd', 'c', 'b', 'a'], Got: ['e', 'd', 'c', 'b', 'a']\n",
      "✅Test case passed!\n",
      "\n"
     ]
    }
   ],
   "source": [
    "# Test with Solution2 class - Python's built in reverse() approach\n",
    "test_reverse_string(Solution3, [\"h\",\"e\",\"l\",\"l\",\"o\"], [\"o\",\"l\",\"l\",\"e\",\"h\"])  # Example 1\n",
    "test_reverse_string(Solution3, [\"H\",\"a\",\"n\",\"n\",\"a\",\"h\"], [\"h\",\"a\",\"n\",\"n\",\"a\",\"H\"])  # Example 2\n",
    "test_reverse_string(Solution3, [\"a\",\"b\",\"c\",\"d\",\"e\"], [\"e\",\"d\",\"c\",\"b\",\"a\"])  # Additional case"
   ]
  },
  {
   "cell_type": "markdown",
   "id": "2b10dd38",
   "metadata": {},
   "source": [
    "## Complexity Analysis\n",
    "- ### Time Complexity: $O(n)$\n",
    "    - The `.reverse()` method interally iterates over the list to swap the elements, resulting in a linear time complexity relative to the length of the list.\n",
    "- ### Space Complexity: $O(1)$\n",
    "    - The reversal is done in-place, with no additional space required beyond the input list itself.\n",
    "    - The method does not use extra space for list manipulation which adheres to the problem's $O(1)$ extra memory requirement.\n",
    "***"
   ]
  },
  {
   "cell_type": "markdown",
   "id": "da2ac9f0",
   "metadata": {},
   "source": [
    "# Conclusion"
   ]
  }
 ],
 "metadata": {
  "kernelspec": {
   "display_name": "Python 3 (ipykernel)",
   "language": "python",
   "name": "python3"
  },
  "language_info": {
   "codemirror_mode": {
    "name": "ipython",
    "version": 3
   },
   "file_extension": ".py",
   "mimetype": "text/x-python",
   "name": "python",
   "nbconvert_exporter": "python",
   "pygments_lexer": "ipython3",
   "version": "3.10.4"
  }
 },
 "nbformat": 4,
 "nbformat_minor": 5
}

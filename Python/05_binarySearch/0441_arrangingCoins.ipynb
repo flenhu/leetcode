{
 "cells": [
  {
   "cell_type": "markdown",
   "id": "835c632c",
   "metadata": {},
   "source": [
    "#### [Python <img src=\"../../assets/pythonLogo.png\" alt=\"py logo\" style=\"height: 1em; vertical-align: sub;\">](../README.md) | Easy 🟢 | [Binary Search](README.md)\n",
    "# [441. Arranging Coins](https://leetcode.com/problems/arranging-coins/description/) (not started 😕)"
   ]
  },
  {
   "cell_type": "markdown",
   "id": "b9441082",
   "metadata": {},
   "source": [
    "You have `n` coins and you want to build a staircase with these coins. The staircase consists of `k` rows where the `i-th` row has exactly `i` coins. The last row of the staircase may be incomplete.\n",
    "\n",
    "Given the integer `n`, return the number of complete rows of the staircase you will build.\n",
    "\n",
    "#### Example 1:\n",
    "![example 1](https://assets.leetcode.com/uploads/2021/04/09/arrangecoins1-grid.jpg)\n",
    "> **Input:** `n = 5`  \n",
    "> **Output:** `2`  \n",
    "> **Explanation:** Because the 3rd row is incomplete, we return 2.\n",
    "\n",
    "#### Example 2:\n",
    "![example 2](https://assets.leetcode.com/uploads/2021/04/09/arrangecoins2-grid.jpg)\n",
    "> **Input:** `n = 8`  \n",
    "> **Output:** `3`  \n",
    "> **Explanation:** Because the 4th row is incomplete, we return 3.\n",
    "\n",
    "#### Constraints:\n",
    "- $1 \\leq$  `n` $\\leq 2^{31} - 1$\n"
   ]
  },
  {
   "cell_type": "markdown",
   "id": "5a871415",
   "metadata": {},
   "source": [
    "## Problem Explanation\n",
    "- This problem \"Arranging Coins\" is a classic example of a problem where we are trying to find a specific threshold within a given constraint (_ideal for binary search_)\n",
    "- We are given `n` coins and our task is to form a complete staircase where each level `i` contains `i` coins. \n",
    "- The challenge here is to find the max number of complete rows/levels that can be formed with `n` coins.\n",
    "- The essence of the problems lies in understanding how the total number of coins required scales with the number of complete rows, and finding the point where adding another row would exceed the amount of available coins\n",
    "***"
   ]
  },
  {
   "cell_type": "markdown",
   "id": "66c83cb9",
   "metadata": {},
   "source": [
    "# Approach 1: Binary Search \n",
    "- Binary search is ideal for this situation because we are trying to find an item in a sorted structure and also trying to determine where that item (_in this case a coin_), should be inserted.\n",
    "- We apply binary search not directly on a collection of elements, but on the possible range of complete rows that can be formed which is `[1,n]`.\n",
    "- The concept behind is that if a certain number of rows `k` requires more than `n` coins, then any number greater than `k` won't fit, so we can safely remove that half of the search space.\n",
    "\n",
    "## Intuition\n",
    "- The intuition is that using binary search for this problem comes from the pattern of the total coins needed as we increase the number of rows. \n",
    "- More specifically, the total number of coins needed to form `k` complete rows is given by the sum of the first `k` natural numbers which is $\\frac{k(k+1)}{2}$.\n",
    "- Also since we know that we can guess a middle point `mid` in our search range, we can calculate the coins needed up to that point, and then adjust our search range whether we have too many or too few coins to reach that `mid` point.\n",
    "\n",
    "## Algorithm\n",
    "1. **Initialize** two pointers `l` and `r` to represent the search range, starting form `1` to `n` respectively.\n",
    "2. **Binary Search loop:** loop until `l` is less than or equal to `r`.\n",
    "    - Calculate `mid` as the average of `l` and `r`.\n",
    "    - Calculate the total coins needed to form `mid` rows via the formula `(mid * (mid+1) / 2)`.\n",
    "    - If the total coins needed is more than `n`, we need fewer rows, so we can adjust `r` to `mid - 1`.\n",
    "    - Else, we need to form more rows, so adjust `l` to `mid+1` and also update `res` to be the maximum of `mid` and the current `res`.\n",
    "3. **Return** `res` as the max number of complete rows.\n"
   ]
  },
  {
   "cell_type": "markdown",
   "id": "7888762a",
   "metadata": {},
   "source": [
    "## Code Implementation"
   ]
  },
  {
   "cell_type": "code",
   "execution_count": 1,
   "id": "e1d254e7",
   "metadata": {},
   "outputs": [],
   "source": [
    "class Solution:\n",
    "    def arrangeCoins(self, n: int) -> int:\n",
    "        left, right = 1, n\n",
    "        while left <= right:\n",
    "            mid = (left + right) // 2\n",
    "            # Use integer division for coins calculation to avoid floating-point issues\n",
    "            coins = mid * (mid + 1) // 2\n",
    "            if coins == n:\n",
    "                return mid\n",
    "            elif coins > n:\n",
    "                right = mid - 1\n",
    "            else:\n",
    "                left = mid + 1\n",
    "        # If we exit the loop, 'right' points to the largest value where the total coins don't exceed 'n'\n",
    "        return right"
   ]
  },
  {
   "cell_type": "markdown",
   "id": "ce05a3cf",
   "metadata": {},
   "source": [
    "### Testing"
   ]
  },
  {
   "cell_type": "code",
   "execution_count": 2,
   "id": "4c5194cc",
   "metadata": {},
   "outputs": [
    {
     "name": "stdout",
     "output_type": "stream",
     "text": [
      "Input: 5, Expected: 2, Result: 2, Passed!\n",
      "Input: 8, Expected: 3, Result: 3, Passed!\n",
      "Input: 1, Expected: 1, Result: 1, Passed!\n"
     ]
    }
   ],
   "source": [
    "def test_coins(sol_class, test_cases):\n",
    "    sol = sol_class()\n",
    "    for n, expected in test_cases:\n",
    "        result = sol.arrangeCoins(n)\n",
    "        outcome = \"Passed!\" if result == expected else \"Failed\"\n",
    "        print(f\"Input: {n}, Expected: {expected}, Result: {result}, {outcome}\")\n",
    "\n",
    "# Test cases\n",
    "test_cases = [\n",
    "    (5, 2),  # Example 1\n",
    "    (8, 3),  # Example 2\n",
    "    (1, 1)   # Edge case: only one coin\n",
    "]\n",
    "\n",
    "# Testing with Solution class\n",
    "test_coins(Solution, test_cases)"
   ]
  },
  {
   "cell_type": "markdown",
   "id": "8a5df28b",
   "metadata": {},
   "source": [
    "## Complexity Analysis\n",
    "- ### Time Complexity: $O(\\log{n})$\n",
    "    - Binary search cuts the search space in half each iteration, thus we have logarithmic time complexity.\n",
    "- ### Space Complexity: $O(1)$\n",
    "    - We use a constant amount of extra space regardless of the input size.\n",
    "***"
   ]
  },
  {
   "cell_type": "markdown",
   "id": "32c95f2b",
   "metadata": {},
   "source": [
    "# Approach 2: Math\n",
    "\n",
    "## Intuition\n",
    "- Another way we can solve this problem is by using the formula for the sum of an arithmetic series.\n",
    "- The total number of coins used to build `k` complete rows can be derived by the formula: $\\frac{k(k+1)}{2}$.\n",
    "- To find `k` given `n` coins, we can rearrange the formula to solve for `k` and then apply the quadratic formula since $n =\\frac{k(k+1)}{2}$ can be written as a quadratic equation.\n",
    "\n",
    "## Algorithm\n",
    "1. We start by setting up the equation as $\\frac{k(k+1)}{2} = n$. This can then be simplified to $k^2 +k -2n=0$\n",
    "2. By applying the quadratic formula, we get: $k = (-b \\pm \\frac{\\sqrt{b^2 - 4ac}}{2a})$, where we know $a=1$, $b=1$ and $c=-2n$. We also only consider the positive solution since `k` can't be negative.\n",
    "3. After simplifying, we get $k= \\sqrt{2n +0.25} -0.5$\n",
    "4. We can then use the floor of `k` which gives us the largest integer `k` such that $\\frac{k(k+1)}{2} \\leq n$, which is equal to the number complete of rows that can be built with `n` coins."
   ]
  },
  {
   "cell_type": "markdown",
   "id": "24419d47",
   "metadata": {},
   "source": [
    "## Code Implementation"
   ]
  },
  {
   "cell_type": "code",
   "execution_count": 3,
   "id": "575c2562",
   "metadata": {},
   "outputs": [],
   "source": [
    "class Solution2:\n",
    "    def arrangeCoins(self, n: int) -> int:\n",
    "        # Apply the derived formula to find the largest k for which k*(k+1)/2 <= n\n",
    "        return int((2 * n + 0.25)**(0.5) - 0.5)\n"
   ]
  },
  {
   "cell_type": "markdown",
   "id": "533692df",
   "metadata": {},
   "source": [
    "### Testing"
   ]
  },
  {
   "cell_type": "code",
   "execution_count": 4,
   "id": "27158988",
   "metadata": {},
   "outputs": [
    {
     "name": "stdout",
     "output_type": "stream",
     "text": [
      "Input: 5, Expected: 2, Result: 2, Passed!\n",
      "Input: 8, Expected: 3, Result: 3, Passed!\n",
      "Input: 1, Expected: 1, Result: 1, Passed!\n"
     ]
    }
   ],
   "source": [
    "# Testing with Solution via math approach from derived formula\n",
    "test_coins(Solution2, test_cases)"
   ]
  },
  {
   "cell_type": "markdown",
   "id": "0b46eda3",
   "metadata": {},
   "source": [
    "## Complexity Analysis\n",
    "- ### Time Complexity: $O(1)$\n",
    "    - The solution uses a constant number of operations regardless of the input size.\n",
    "\n",
    "- ### Space Complexity: $O(1)$\n",
    "    - The solution also uses a fixed amount of space.\n",
    "***"
   ]
  }
 ],
 "metadata": {
  "kernelspec": {
   "display_name": "Python 3 (ipykernel)",
   "language": "python",
   "name": "python3"
  },
  "language_info": {
   "codemirror_mode": {
    "name": "ipython",
    "version": 3
   },
   "file_extension": ".py",
   "mimetype": "text/x-python",
   "name": "python",
   "nbconvert_exporter": "python",
   "pygments_lexer": "ipython3",
   "version": "3.10.4"
  }
 },
 "nbformat": 4,
 "nbformat_minor": 5
}

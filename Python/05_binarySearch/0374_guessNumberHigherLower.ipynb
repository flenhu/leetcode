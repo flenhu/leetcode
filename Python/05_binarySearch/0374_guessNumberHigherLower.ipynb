{
 "cells": [
  {
   "cell_type": "markdown",
   "id": "835c632c",
   "metadata": {},
   "source": [
    "#### [Python <img src=\"../../assets/pythonLogo.png\" alt=\"py logo\" style=\"height: 1em; vertical-align: sub;\">](../README.md) | Easy 🟢 | [Binary Search](README.md)\n",
    "# [374. Guess Number Higher or Lower](https://leetcode.com/problems/guess-number-higher-or-lower/description/)"
   ]
  },
  {
   "cell_type": "markdown",
   "id": "b9441082",
   "metadata": {},
   "source": [
    "We are playing the Guess Game. The game is as follows:\n",
    "\n",
    "I pick a number from `1` to `n`. You have to guess which number I picked.\n",
    "\n",
    "Every time you guess wrong, I will tell you whether the number I picked is higher or lower than your guess.\n",
    "\n",
    "You call a pre-defined API `int guess(int num)`, which returns three possible results:\n",
    "- `-1`: Your guess is higher than the number I picked (i.e. `num > pick`).\n",
    "- `1`: Your guess is lower than the number I picked (i.e. `num < pick`).\n",
    "- `0`: your guess is equal to the number I picked (i.e. `num == pick`).\n",
    "\n",
    "Return the number that I picked.\n",
    "\n",
    "#### Example 1:\n",
    "> **Input:** `n = 10, pick = 6`  \n",
    "> **Output:** `6`\n",
    "\n",
    "#### Example 2:\n",
    "> **Input:** `n = 1, pick = 1`  \n",
    "> **Output:** `1`\n",
    "\n",
    "#### Example 3:\n",
    "> **Input:** `n = 2, pick = 1`  \n",
    "> **Output:** `1`\n",
    "\n",
    "#### Constraints:\n",
    "- $1 \\leq$ `n` $ \\leq 2^{31} - 1$\n",
    "- `1 <= pick <= n`\n"
   ]
  },
  {
   "cell_type": "markdown",
   "id": "5a871415",
   "metadata": {},
   "source": [
    "## Problem Explanation\n",
    "- For this problem, we are given a scenario of a guessing game where an \"opponent\" (the system) selects a number between 1 and `n`, and we must guess the number.\n",
    "- Each time we make a guess, the adversary will indicate whether we are guessing too high, too low, or correct. \n",
    "- The feedback should help us narrow the possible number until we guess the correct number. This is essentially a binary search problem in disguise, since the feedback is asking us to adjust our search.\n",
    "***"
   ]
  },
  {
   "cell_type": "markdown",
   "id": "66c83cb9",
   "metadata": {},
   "source": [
    "# Approach: Binary Search\n",
    "\n",
    "## Intuition\n",
    "- The intuition behind using search for this problems lies in the way the feedback is provided for each guess. Since the response does tell us if a number is higher or lower, we can effectively eliminate half the search space each time we make a guess.\n",
    "- This problem follows the essence of binary search: dividing the search space in half repeatedly until we reach our desired target/guess.\n",
    "\n",
    "## Algorithm\n",
    "1. **Initialize:** Start with two pointers, `low` (set to 1) and `high` (set to `n`), which defines the range of possible numbers.\n",
    "2. **Binary Search Loop:**\n",
    "    - First calculate the midpoint `mid` as the average of `low` and `high` to make a guess.\n",
    "    - We'll use the `guess(mid)` API to check our guess:\n",
    "        - If `guess(mid)` returns `0`, we've guessed correctly, and `mid` is the number.\n",
    "        - If `guess(mid)` returns `-1`, the target number is lower than `mid`, so we'll adjust the high boundary to be `mid - 1`.\n",
    "        - If `guess(mid)` returns `1`, the target number is higher than `mid`, so we'll adjust `low` boundary to `mid + 1`\n",
    "    - Repeat this process until we find the number."
   ]
  },
  {
   "cell_type": "markdown",
   "id": "7888762a",
   "metadata": {},
   "source": [
    "## Code Implementation"
   ]
  },
  {
   "cell_type": "code",
   "execution_count": 3,
   "id": "e1d254e7",
   "metadata": {},
   "outputs": [],
   "source": [
    "class Solution:\n",
    "    def guessNumber(self, n: int) -> int:\n",
    "        low, high = 1, n\n",
    "        while low <= high:\n",
    "            mid = low + (high - low) // 2  # To prevent potential overflow\n",
    "            myGuess = guess(mid)\n",
    "            if myGuess == 0:\n",
    "                return mid  # Found the number\n",
    "            elif myGuess == -1:\n",
    "                high = mid - 1  # Adjust the high boundary\n",
    "            else:\n",
    "                low = mid + 1  # Adjust the low boundary"
   ]
  },
  {
   "cell_type": "markdown",
   "id": "ce05a3cf",
   "metadata": {},
   "source": [
    "### Testing"
   ]
  },
  {
   "cell_type": "code",
   "execution_count": 4,
   "id": "4c5194cc",
   "metadata": {},
   "outputs": [
    {
     "name": "stdout",
     "output_type": "stream",
     "text": [
      "Test Case 1: Input: n=10, pick=6 | Expected: 6 | Result: 6 | Passed: True\n",
      "Test Case 2: Input: n=1, pick=1 | Expected: 1 | Result: 1 | Passed: True\n",
      "Test Case 3: Input: n=2, pick=1 | Expected: 1 | Result: 1 | Passed: True\n"
     ]
    }
   ],
   "source": [
    "def test_solution(sol_class, test_cases):\n",
    "    sol = sol_class()\n",
    "    for i, (n, pick, expected) in enumerate(test_cases):\n",
    "        # Mocking the guess API for the current pick\n",
    "        global guess\n",
    "        guess = lambda x, pick=pick: (0 if x == pick else -1 if x > pick else 1)\n",
    "        result = sol.guessNumber(n)\n",
    "        print(f\"Test Case {i+1}: Input: n={n}, pick={pick} | Expected: {expected} | Result: {result} | Passed: {result == expected}\")\n",
    "\n",
    "# Test cases\n",
    "test_cases = [\n",
    "    (10, 6, 6),  # Example 1\n",
    "    (1, 1, 1),   # Example 2\n",
    "    (2, 1, 1)    # Example 3\n",
    "]\n",
    "# Testing the Solution class\n",
    "test_solution(Solution, test_cases)"
   ]
  },
  {
   "cell_type": "markdown",
   "id": "8a5df28b",
   "metadata": {},
   "source": [
    "## Complexity Analysis\n",
    "- ### Time Complexity: $O(\\log{n})$\n",
    "    - $n$ is the upper bound of the search space. Each guess effectively halves the search space, thus binary search leads us to a logarithmic run time.\n",
    "\n",
    "- ### Space Complexity: $O(1)$\n",
    "    - The solution uses a constant amount of space, only using a few variables for the search boundaries and the current guess.\n",
    "***"
   ]
  }
 ],
 "metadata": {
  "kernelspec": {
   "display_name": "Python 3 (ipykernel)",
   "language": "python",
   "name": "python3"
  },
  "language_info": {
   "codemirror_mode": {
    "name": "ipython",
    "version": 3
   },
   "file_extension": ".py",
   "mimetype": "text/x-python",
   "name": "python",
   "nbconvert_exporter": "python",
   "pygments_lexer": "ipython3",
   "version": "3.10.4"
  }
 },
 "nbformat": 4,
 "nbformat_minor": 5
}

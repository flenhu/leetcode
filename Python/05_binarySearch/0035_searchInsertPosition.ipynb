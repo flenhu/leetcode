{
 "cells": [
  {
   "cell_type": "markdown",
   "id": "835c632c",
   "metadata": {},
   "source": [
    "#### [Python <img src=\"../../assets/pythonLogo.png\" alt=\"py logo\" style=\"height: 1em; vertical-align: sub;\">](../README.md) | Easy 🟢 | [Binary Search](README.md)\n",
    "# [35. Search Insert Position](https://leetcode.com/problems/search-insert-position/description/) "
   ]
  },
  {
   "cell_type": "markdown",
   "id": "b9441082",
   "metadata": {},
   "source": [
    "Given a sorted array of distinct integers and a target value, return the index if the target is found. If not, return the index where it would be if it were inserted in order.\n",
    "\n",
    "You must write an algorithm with O(log n) runtime complexity.\n",
    "\n",
    "#### Example 1:\n",
    "> **Input:** `nums = [1,3,5,6], target = 5`  \n",
    "> **Output:** `2`\n",
    "\n",
    "#### Example 2:\n",
    "> **Input:** `nums = [1,3,5,6], target = 2`  \n",
    "> **Output:** `1`\n",
    "\n",
    "#### Example 3:\n",
    "> **Input:** `nums = [1,3,5,6], target = 7`  \n",
    "> **Output:** `4`\n",
    "\n",
    "#### Constraints:\n",
    "- $1 \\leq$ `nums.length` $ \\leq 10^4$\n",
    "- $-10^4 \\leq$ `nums[i]` $ \\leq 10^4$\n",
    "- `nums` contains **distinct** values sorted in **ascending** order.\n",
    "- $-10^4 \\leq$ `target` $ \\leq 10^4$\n"
   ]
  },
  {
   "cell_type": "markdown",
   "id": "5a871415",
   "metadata": {},
   "source": [
    "## Problem Explanation\n",
    "For this problem we are asked to find the index of a target value that's in a sorted array or the position where it should be inserted to maintain the array's order. Since this problem is asking for a time complexity of $O(\\log{n})$ runtime, it's essentially hinting for us to use binary search.\n",
    "***"
   ]
  },
  {
   "cell_type": "markdown",
   "id": "66c83cb9",
   "metadata": {},
   "source": [
    "# Approach: Binary Search \n",
    "Binary search is ideal for this problem since we are trying to find an item in a sorted list. We are able to get that $O\\log{n}$ since binary search works by repeatedly dividing half of the search space that could contain item.\n",
    "\n",
    "## Intuition\n",
    "The essence of binary search in this problem is to compare the target value with the middle element of the array. If the target is less than the middle element, you search the left half of the array; if it's more, you search the right half. This halves the search space with each iteration, leading to $O(\\log{n})$ complexity.\n",
    "\n",
    "## Algorithm\n"
   ]
  },
  {
   "cell_type": "markdown",
   "id": "7888762a",
   "metadata": {},
   "source": [
    "## Code Implementation"
   ]
  },
  {
   "cell_type": "code",
   "execution_count": 1,
   "id": "e1d254e7",
   "metadata": {},
   "outputs": [],
   "source": [
    "from typing import List\n",
    "\n",
    "class Solution:\n",
    "    def searchInsert(self, nums: List[int], target: int) -> int:\n",
    "        low, high = 0, len(nums) - 1  # Initialize the search range\n",
    "        while low <= high:  \n",
    "            mid = (low + high) // 2     # Calculate the middle point\n",
    "            if target == nums[mid]:         # If the target is at the middle\n",
    "                return mid\n",
    "            elif target > nums[mid]:        # If the target is greater than the middle\n",
    "                low = mid + 1\n",
    "            else:                           # If the target is less than the middle \n",
    "                high = mid - 1\n",
    "        return low  # Return `low`, the insertion point"
   ]
  },
  {
   "cell_type": "markdown",
   "id": "ce05a3cf",
   "metadata": {},
   "source": [
    "### Testing"
   ]
  },
  {
   "cell_type": "code",
   "execution_count": 6,
   "id": "4c5194cc",
   "metadata": {},
   "outputs": [
    {
     "name": "stdout",
     "output_type": "stream",
     "text": [
      "✅ Passed: Input ([1, 3, 5, 6], 5). Expected 2, got 2.\n",
      "✅ Passed: Input ([1, 3, 5, 6], 2). Expected 1, got 1.\n",
      "✅ Passed: Input ([1, 3, 5, 6], 7). Expected 4, got 4.\n",
      "✅ Passed: Input ([1, 3, 5, 6], 0). Expected 0, got 0.\n"
     ]
    }
   ],
   "source": [
    "def test_searchInsert(SolutionClass):\n",
    "    # Instantiate the solution class\n",
    "    sol = SolutionClass()\n",
    "    \n",
    "    # Define test cases: list of tuples containing (nums, target, expected_output)\n",
    "    test_cases = [\n",
    "        ([1, 3, 5, 6], 5, 2),\n",
    "        ([1, 3, 5, 6], 2, 1),\n",
    "        ([1, 3, 5, 6], 7, 4),\n",
    "        ([1, 3, 5, 6], 0, 0),  # Additional test case\n",
    "    ]\n",
    "    \n",
    "    # Iterate through test cases and check if the solution meets the expectation\n",
    "    for nums, target, expected in test_cases:\n",
    "        result = sol.searchInsert(nums, target)\n",
    "        assert result == expected, f\"Failed on input ({nums}, {target}). Expected {expected}, got {result}.\"\n",
    "        print(f\"✅ Passed: Input ({nums}, {target}). Expected {expected}, got {result}.\")\n",
    "\n",
    "\n",
    "# Testing different solution classes\n",
    "test_searchInsert(Solution) "
   ]
  },
  {
   "cell_type": "markdown",
   "id": "8a5df28b",
   "metadata": {},
   "source": [
    "## Complexity Analysis\n",
    "- ### Time Complexity: $O(\\log{n})$\n",
    "    - Binary search cuts the search space in half on each iteration, so thus we have logarithmic time complexity.\n",
    "\n",
    "- ### Space Complexity: $O(1)$\n",
    "    - The algorithm uses a constant amount of space regardless of the input size.\n",
    "***"
   ]
  }
 ],
 "metadata": {
  "kernelspec": {
   "display_name": "Python 3 (ipykernel)",
   "language": "python",
   "name": "python3"
  },
  "language_info": {
   "codemirror_mode": {
    "name": "ipython",
    "version": 3
   },
   "file_extension": ".py",
   "mimetype": "text/x-python",
   "name": "python",
   "nbconvert_exporter": "python",
   "pygments_lexer": "ipython3",
   "version": "3.10.4"
  }
 },
 "nbformat": 4,
 "nbformat_minor": 5
}

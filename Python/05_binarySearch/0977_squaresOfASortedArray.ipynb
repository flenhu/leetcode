{
 "cells": [
  {
   "cell_type": "markdown",
   "id": "835c632c",
   "metadata": {},
   "source": [
    "#### [Python <img src=\"../../assets/pythonLogo.png\" alt=\"py logo\" style=\"height: 1em; vertical-align: sub;\">](../README.md) | Easy 🟢 | [Binary Search](README.md)\n",
    "# [977. Squares of a Sorted Array](https://leetcode.com/problems/squares-of-a-sorted-array/description/)"
   ]
  },
  {
   "cell_type": "markdown",
   "id": "b9441082",
   "metadata": {},
   "source": [
    "Given an integer array `nums` sorted in **non-decreasing order**, return an array of the **squares of each number** sorted in non-decreasing order.\n",
    "\n",
    "#### Example 1:\n",
    "> **Input:** `nums = [-4,-1,0,3,10]`  \n",
    "> **Output:** `[0,1,9,16,100]`  \n",
    "> **Explanation:** After squaring, the array becomes `[16,1,0,9,100]` .  \n",
    "> After sorting, it becomes `[0,1,9,16,100]` .\n",
    "\n",
    "#### Example 2:\n",
    "> **Input:** `nums = [-7,-3,2,3,11]`  \n",
    "> **Output:** `[4,9,9,49,121]`\n",
    "\n",
    "#### Constraints:\n",
    "- $1 \\leq$ `nums.length` $ \\leq 10^4 $\n",
    "- $ -10^4 \\leq$ `nums[i]` $ \\leq 10^4 $\n",
    "- `nums` is sorted in **non-decreasing order**."
   ]
  },
  {
   "cell_type": "markdown",
   "id": "5a871415",
   "metadata": {},
   "source": [
    "## Problem Explanation\n",
    "For this problem we are asked to take a sorted arrat of integers and square each element in the array. Then after squaring the elements, the resulting array of squared values should also be in sorted in non-decreasing order, so basically increasing order.\n",
    "\n",
    "Some things to note before tackling this problem are:\n",
    "1. **Sorting:** The input array is already sorted in non-decreasing order which means that the elements are arranged from smallest to largest already.\n",
    "2. **Squares:** We need to square each element in the array which means we need to also note that squaring negative numbers will also result in a positive number, so we should probably account for using an absolute value.\n",
    "3. **Ordering:** After squaring the elements, we then need to sort the resulting array of squared values from smallest to largest.\n",
    "\n",
    "***"
   ]
  },
  {
   "cell_type": "markdown",
   "id": "66c83cb9",
   "metadata": {},
   "source": [
    "# Approach: Two Pointers \n",
    "The two pointer approach is an efficient way to solve this problem since we know that the input array is already sorted. Additionally, using two pointers is ideal since the largest squared values can come from either end of the array, since we need to account for squaring negative numbers.\n",
    "\n",
    "## Intuition\n",
    "- We know the array is sorted from smallest to largest, thus the smallest numbers likely to be at the beginning and the largest numbers at the end. \n",
    "- Though after squaring, the smallest numbers could become the largest.\n",
    "- So to maintain a sorted order after squating, we can compare the squares of numbers from both ends of the array, and insert the larger square into the result array from the end to the beginning.\n",
    "\n",
    "## Algorithm\n",
    "1. Initialize two pointers `l` (left) and `r` (right), at the start and end of the array, respectively.\n",
    "2. Create a result array `res` of the same length as `nums` to stored the squared values.\n",
    "3. Iterate until `l` becomes greater than `r`.\n",
    "    - Calculate the absolute values of the elements at the `l` and `r` pointers\n",
    "    - Compare the `l` and `r` pointers\n",
    "        - If `l` is greater than `r`, square the left `l` pointer and place it in the correct position from the end of `res`. Then move the left pointer `l` one step to the right.\n",
    "        - If `r` is greater than or equal to `l`, square the right value and place it in the correct position from the end of `res`. Move the right pointer `r` one step from the left.\n",
    "4. Return the result array `res`."
   ]
  },
  {
   "cell_type": "markdown",
   "id": "7888762a",
   "metadata": {},
   "source": [
    "## Code Implementation"
   ]
  },
  {
   "cell_type": "code",
   "execution_count": 1,
   "id": "e1d254e7",
   "metadata": {},
   "outputs": [],
   "source": [
    "from typing import List\n",
    "\n",
    "class Solution:\n",
    "    def sortedSquares(self, nums: List[int]) -> List[int]:\n",
    "        n = len(nums)\n",
    "        res = [0] * n  # Create a result array of the same length as input\n",
    "\n",
    "        # Initialize the left and right pointers\n",
    "        l, r = 0, n - 1\n",
    "\n",
    "        # Iterate until the left pointer crosses the right pointer\n",
    "        while l <= r:\n",
    "            left, right = abs(nums[l]), abs(nums[r])\n",
    "\n",
    "            # If the absolute value at the left pointer is larger\n",
    "            if left > right:\n",
    "                res[r - l] = left * left  \n",
    "                l += 1  # Move the left pointer one step to the right\n",
    "            else:\n",
    "                res[r - l] = right * right  # Square and move position\n",
    "                r -= 1  # Move the right pointer one step to the left\n",
    "\n",
    "        return res"
   ]
  },
  {
   "cell_type": "markdown",
   "id": "ce05a3cf",
   "metadata": {},
   "source": [
    "### Testing"
   ]
  },
  {
   "cell_type": "code",
   "execution_count": 2,
   "id": "4c5194cc",
   "metadata": {},
   "outputs": [
    {
     "name": "stdout",
     "output_type": "stream",
     "text": [
      "Input: [-4, -1, 0, 3, 10], Expected: [0, 1, 9, 16, 100], Result: [0, 1, 9, 16, 100], Passed: Passed!\n",
      "Input: [-7, -3, 2, 3, 11], Expected: [4, 9, 9, 49, 121], Result: [4, 9, 9, 49, 121], Passed: Passed!\n",
      "Input: [0, 2, 3], Expected: [0, 4, 9], Result: [0, 4, 9], Passed: Passed!\n"
     ]
    }
   ],
   "source": [
    "def test_squares(sol_class, test_cases):\n",
    "    sol = sol_class()\n",
    "    for nums, expected in test_cases:\n",
    "        result = sol.sortedSquares(nums)\n",
    "        print(f\"Input: {nums}, Expected: {expected}, Result: {result}, Passed: {'Passed!' if result == expected else 'Failed'}\")\n",
    "\n",
    "# Test cases\n",
    "test_cases = [\n",
    "    ([-4, -1, 0, 3, 10], [0, 1, 9, 16, 100]),  # Example 1\n",
    "    ([-7, -3, 2, 3, 11], [4, 9, 9, 49, 121]),  # Example 2\n",
    "    ([0, 2, 3], [0, 4, 9])  # Additional case\n",
    "]\n",
    "\n",
    "# Testing the Solution class with the two pointers approach\n",
    "test_squares(Solution, test_cases)"
   ]
  },
  {
   "cell_type": "markdown",
   "id": "8a5df28b",
   "metadata": {},
   "source": [
    "## Complexity Analysis\n",
    "- ### Time Complexity: $O(n)$\n",
    "    - We have a linear time solution, where $n$ is the length of the input array of nums because the algorithm iterates through the array once via the two pointers moving towards each other.\n",
    "\n",
    "- ### Space Complexity: $O(1)$\n",
    "    - The solution uses a constant amount of extra space to store the two pointers, as well as the variables `left` and `right` which were used to compare the squared values.\n",
    "***"
   ]
  },
  {
   "cell_type": "markdown",
   "id": "32c95f2b",
   "metadata": {},
   "source": [
    "# Approach 2: Sort\n",
    "This approach is a pretty staightforward solution where we square each element in the array and then just sort the resulting array.\n",
    "\n",
    "## Intuition\n",
    "Since the problem requires us to return the squared values in non-decreasing order, we can first square each element in the input array and then sort the resulting array of squared values. This approach does not take advantage of the fact that the input array is already sorted, but it provides a straightforward solution.\n",
    "\n",
    "## Algorithm\n",
    "1. **Square Each Element:** Iterate through the array, squaring each element. This can be done by using a list comprehension.\n",
    "2. **Sort the result array:** Use a sorting function to sort the now squared elements of the input array. Since squaring the input array is likely to distrupt the sorted order, sorting once again ensures the result array is sorted in non-decreasing order."
   ]
  },
  {
   "cell_type": "markdown",
   "id": "a84bd3be",
   "metadata": {},
   "source": [
    "## Code Implementation"
   ]
  },
  {
   "cell_type": "code",
   "execution_count": 3,
   "id": "5eed6782",
   "metadata": {},
   "outputs": [],
   "source": [
    "class Solution2:\n",
    "    def sortedSquares(self, nums: List[int]) -> List[int]:\n",
    "        # Square each element in the input array and sort the resulting list\n",
    "        return sorted(x * x for x in nums)\n"
   ]
  },
  {
   "cell_type": "markdown",
   "id": "72037cd9",
   "metadata": {},
   "source": [
    "### Testing"
   ]
  },
  {
   "cell_type": "code",
   "execution_count": 4,
   "id": "19b8bc7b",
   "metadata": {},
   "outputs": [
    {
     "name": "stdout",
     "output_type": "stream",
     "text": [
      "Input: [-4, -1, 0, 3, 10], Expected: [0, 1, 9, 16, 100], Result: [0, 1, 9, 16, 100], Passed: Passed!\n",
      "Input: [-7, -3, 2, 3, 11], Expected: [4, 9, 9, 49, 121], Result: [4, 9, 9, 49, 121], Passed: Passed!\n",
      "Input: [0, 2, 3], Expected: [0, 4, 9], Result: [0, 4, 9], Passed: Passed!\n"
     ]
    }
   ],
   "source": [
    "test_squares(Solution2, test_cases)"
   ]
  },
  {
   "cell_type": "markdown",
   "id": "8d844cc5",
   "metadata": {},
   "source": [
    "## Complexity Analysis\n",
    "- ### Time Complexity: $O(N \\log{N})$\n",
    "    - $N$ is the number of elements in the input array.\n",
    "    - Squaring each element is a linear opereation, but since the dominant factor is the sorting step, we have a time complexity of $O(N \\log{N})$.\n",
    "\n",
    "- ### Space Complexity: $O(N)$\n",
    "    - The space we need is linear since we need to create a new list to store the squared values before sorting. \n",
    "***"
   ]
  },
  {
   "cell_type": "markdown",
   "id": "df8da3c0",
   "metadata": {},
   "source": [
    "# Conclusion\n",
    "\n",
    "### Two-Pointer Approach\n",
    "\n",
    "- **Intuition:** This approach takes advantage of the fact that the input array is already sorted. By using two pointers, one at the start and one at the end of the array, and comparing the absolute values of the elements at these pointers, we can efficiently construct the sorted array of squared values.\n",
    "- **Time Complexity:** $O(n)$, where $n$ is the length of the input array. This is because the algorithm performs a single pass through the array, moving the pointers inwards.\n",
    "- **Space Complexity:** $O(1)$, as the algorithm uses a constant amount of extra space, not considering the output array.\n",
    "- **Pros:** This approach is efficient in terms of both time and space complexity, and it takes advantage of the sorted nature of the input array.\n",
    "- **Cons:** The implementation is slightly more complex compared to the Sort approach, as it requires careful pointer management and handling of edge cases.\n",
    "\n",
    "### Sort Approach\n",
    "\n",
    "- **Intuition:** This approach is a straightforward solution that squares each element in the input array and then sorts the resulting array of squared values.\n",
    "- **Time Complexity:** $O(n \\log n)$, where n is the length of the input array. This is because the squaring operation takes $O(n)$ time, and the sorting operation takes $O(n \\log n)$ time in the average case.\n",
    "- **Space Complexity:** $O(n)$, as the algorithm needs to create a new list to store the squared values before sorting.\n",
    "- **Pros:** The implementation is simple and easy to understand, as it leverages Python's built-in sorting function.\n",
    "- **Cons:** This approach does not take advantage of the sorted nature of the input array, and it has a higher time complexity compared to the Two-Pointer approach for large input arrays.\n",
    "\n",
    "### Verdict\n",
    "\n",
    "In general, the Two-Pointer approach is better for this problem, as it provides a more efficient solution in terms of both time and space complexity. However, if the input array is small or if simplicity of implementation is a higher priority, the Sort approach can be a viable alternative."
   ]
  }
 ],
 "metadata": {
  "kernelspec": {
   "display_name": "Python 3 (ipykernel)",
   "language": "python",
   "name": "python3"
  },
  "language_info": {
   "codemirror_mode": {
    "name": "ipython",
    "version": 3
   },
   "file_extension": ".py",
   "mimetype": "text/x-python",
   "name": "python",
   "nbconvert_exporter": "python",
   "pygments_lexer": "ipython3",
   "version": "3.10.4"
  }
 },
 "nbformat": 4,
 "nbformat_minor": 5
}

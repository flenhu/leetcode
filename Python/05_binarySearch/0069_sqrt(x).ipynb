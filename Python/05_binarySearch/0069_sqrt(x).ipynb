{
 "cells": [
  {
   "cell_type": "markdown",
   "id": "835c632c",
   "metadata": {},
   "source": [
    "#### [Python <img src=\"../../assets/pythonLogo.png\" alt=\"py logo\" style=\"height: 1em; vertical-align: sub;\">](../README.md) | Easy 🟢 | [Binary Search](README.md)\n",
    "# [69. Sqrt(x)](https://leetcode.com/problems/sqrtx/description/)"
   ]
  },
  {
   "cell_type": "markdown",
   "id": "b9441082",
   "metadata": {},
   "source": [
    "Given a non-negative integer `x`, return the square root of `x` rounded down to the nearest integer. The returned integer should be **non-negative** as well.\n",
    "\n",
    "You must not use any built-in exponent function or operator.\n",
    "- For example, do not use `pow(x, 0.5)` in c++ or `x ** 0.5` in python.\n",
    "\n",
    "#### Example 1:\n",
    "> **Input:** `x = 4`  \n",
    "> **Output:** `2`  \n",
    "> **Explanation:** The square root of $4$ is $2$, so we return $\\bf{2}$.\n",
    "\n",
    "#### Example 2:\n",
    "> **Input:** `x = 8`  \n",
    "> **Output:** `2`  \n",
    "> **Explanation:** The square root of $8$ is $2.82842...$, and since we round it down to the nearest integer, $\\bf{2}$ is returned.\n",
    "\n",
    "#### Constraints:\n",
    "- $0 \\leq$ `num` $ \\leq 2^{31} - 1$\n"
   ]
  },
  {
   "cell_type": "markdown",
   "id": "5a871415",
   "metadata": {},
   "source": [
    "## Problem Explanation\n",
    "This problem asks us to find the square root of a given non-negative integer `x`, rounded down to the nearest integer. This function/operation is typically known as the floor operation of a square root.\n",
    "\n",
    "***"
   ]
  },
  {
   "cell_type": "markdown",
   "id": "32c95f2b",
   "metadata": {},
   "source": [
    "# Approach 1: Binary Search\n",
    "- Approaching the problem with binary search is viable because it leverages the fact that the square root of `x` must be between `0` and `x`. \n",
    "- By systematically narrowing down this range, we are able to find the largest integer `y` such that `y*y` is less than or equal to `x`.\n",
    "\n",
    "## Intuition\n",
    "- Since the function of `f(y) = y*y` is monotonically increasing (_meaning that each subsequent value of `y` results in a larger or equal value of `f(y)`), we can use binary search to efficiently find the point at which `f(y)` transitions from being less than or equal to `x` t0 being greater than `x`.\n",
    "- This transition point, adjusted with integer division rounding, gives us the floor of the square root of `x`.\n",
    "\n",
    "## Algorithm\n",
    "1. Initialize two pointers `l` and `r` to represent the left and right boundaries of the search range, respectively. Initally, these values are going to be `l=0` and `r=x`/\n",
    "2. While `l` is less than equal to `r`:\n",
    "    - Calculate the midpoint `mid` as `(l + r) // 2`.\n",
    "    - If `mid * mid == x`, return `mid` as the square root.\n",
    "    - If `mid * mid` is less than `x`, the square root must be greater than `mid`, so we update `l = mid + 1` and search the right half.\n",
    "    - If `mid * mid` is less than `x`, the square root must be greater than `mid`, so we update `l = mid + 1` and search the right half."
   ]
  },
  {
   "cell_type": "markdown",
   "id": "7888762a",
   "metadata": {},
   "source": [
    "## Code Implementation"
   ]
  },
  {
   "cell_type": "code",
   "execution_count": 1,
   "id": "e1d254e7",
   "metadata": {},
   "outputs": [],
   "source": [
    "class Solution:\n",
    "    def mySqrt(self, x: int) -> int:\n",
    "        l, r = 0, x     # Set the initial search range\n",
    "        while l <= r:   # Binary search\n",
    "            mid = (l + r) // 2   # Find the midpoint\n",
    "            if mid * mid == x:\n",
    "                return mid\n",
    "            elif mid * mid < x:     # If the square of the midpoint is less than x\n",
    "                l = mid + 1         # search the right half\n",
    "            else:                   # The square of the midpoint is greater than x\n",
    "                r = mid - 1\n",
    "        return r    # Return the floor of the square root"
   ]
  },
  {
   "cell_type": "markdown",
   "id": "ce05a3cf",
   "metadata": {},
   "source": [
    "### Testing"
   ]
  },
  {
   "cell_type": "code",
   "execution_count": 4,
   "id": "4c5194cc",
   "metadata": {},
   "outputs": [
    {
     "name": "stdout",
     "output_type": "stream",
     "text": [
      "Test case 1: Input: 4, Expected Output: 2, Result: 2 ✓ Passed\n",
      "Test case 2: Input: 8, Expected Output: 2, Result: 2 ✓ Passed\n",
      "Test case 3: Input: 16, Expected Output: 4, Result: 4 ✓ Passed\n",
      "Test case 4: Input: 0, Expected Output: 0, Result: 0 ✓ Passed\n",
      "Test case 5: Input: 1, Expected Output: 1, Result: 1 ✓ Passed\n",
      "Test case 6: Input: 100, Expected Output: 10, Result: 10 ✓ Passed\n",
      "All tests passed 😊\n"
     ]
    }
   ],
   "source": [
    "def test_sqrt(solution_class):\n",
    "    test_cases = [\n",
    "        (4, 2),\n",
    "        (8, 2),\n",
    "        (16, 4),\n",
    "        (0, 0),\n",
    "        (1, 1),\n",
    "        (100, 10),  \n",
    "    ]\n",
    "\n",
    "    all_tests_passed = True\n",
    "\n",
    "    for i, (x, expected_output) in enumerate(test_cases, start=1):\n",
    "        solution = solution_class()\n",
    "        result = solution.mySqrt(x)\n",
    "        print(f\"Test case {i}: Input: {x}, Expected Output: {expected_output}, Result: {result}\", end=\" \")\n",
    "        if result == expected_output:\n",
    "            print(\"✓ Passed\")\n",
    "        else:\n",
    "            print(\"✗ Failed\")\n",
    "            all_tests_passed = False\n",
    "\n",
    "    if all_tests_passed:\n",
    "        print(\"All tests passed 😊\")\n",
    "\n",
    "# Testing Solution w/ Binary Search implementation\n",
    "test_sqrt(Solution)"
   ]
  },
  {
   "cell_type": "markdown",
   "id": "8a5df28b",
   "metadata": {},
   "source": [
    "## Complexity Analysis\n",
    "- ### Time Complexity: $O(\\log n)$\n",
    "    - $n$ is the value of `x`.\n",
    "    - With binary search, each iteration the search range is reduced in half, so thus we have a logarithmic time complexity.\n",
    "\n",
    "- ### Space Complexity: $O(1)$\n",
    "    - The solution only uses a few extra variables to store the left and right boundaries of the searh range, as well as the midpoint, so thus we have a constant amount of extra space.\n",
    "***"
   ]
  },
  {
   "cell_type": "markdown",
   "id": "a152cbc3",
   "metadata": {},
   "source": [
    "# Approach 2: Recursion with Bit Shifting\n",
    "Another approach we can use is to combine recursion with bit shifting to find the square root. This approach uses the properties of binary arithmetic by focusing on how shifting the bits 2 positions to the right (_equivalent to dividing by 4_) and then shifting the bits back by 1 position (_equivalent to multiplying by 2_)  can be used to approximate finding a square root.\n",
    "\n",
    "## Intuition\n",
    "The key intuition behind this approach is to leverage the properties of bit shifts and recursion to narrow down the search space for the square root. By shifting the bits of the input number to the right by two positions (`x >> 2`), we essentially divide the number by 4. This operation allows us to quickly find an approximate square root value by recursively computing the square root of the shifted value and then doubling the result.\n",
    "\n",
    "## Algorithm\n",
    "1. **Base Case:** If `x` is less than 2, return `x` (_since the square root of 0 is 0, and the square root of 1 is 1_).\n",
    "2. **Recursive step:** \n",
    "    - Compute `left` by recursively calling the square root function on `x >> 2` (_which is roughly `x/4`_) and then shift this result to the left by 1 bit (_left << 1_), effectively multiplying by 2.\n",
    "    - Set `right` as `left + 1`, which represents the next integer.\n",
    "    - If the square of `right` is greater than `x`, return `left`; otherwise, return `right`."
   ]
  },
  {
   "cell_type": "markdown",
   "id": "accf54b3",
   "metadata": {},
   "source": [
    "## Code Implementation"
   ]
  },
  {
   "cell_type": "code",
   "execution_count": 3,
   "id": "79bec7aa",
   "metadata": {},
   "outputs": [],
   "source": [
    "class Solution2:\n",
    "    def mySqrt(self, x: int) -> int:\n",
    "        # Base case: if x is less than 2, return x\n",
    "        if x < 2:\n",
    "            return x\n",
    "\n",
    "        # Recursive case:\n",
    "        # Shift the bits of x to the right by two positions (effectively dividing x by 4)\n",
    "        # Recursively compute the square root of the shifted value\n",
    "        # Double the result by shifting it to the left by one position\n",
    "        left = self.mySqrt(x >> 2) << 1\n",
    "\n",
    "        # Calculate the value of right as left + 1\n",
    "        right = left + 1\n",
    "\n",
    "        # Check if right * right is greater than x\n",
    "        # If it is, return left as the floor of the square root\n",
    "        # Otherwise, return right\n",
    "        return left if right * right > x else right"
   ]
  },
  {
   "cell_type": "markdown",
   "id": "ff0cf232",
   "metadata": {},
   "source": [
    "### Testing"
   ]
  },
  {
   "cell_type": "code",
   "execution_count": 5,
   "id": "43f7d496",
   "metadata": {},
   "outputs": [
    {
     "name": "stdout",
     "output_type": "stream",
     "text": [
      "Test case 1: Input: 4, Expected Output: 2, Result: 2 ✓ Passed\n",
      "Test case 2: Input: 8, Expected Output: 2, Result: 2 ✓ Passed\n",
      "Test case 3: Input: 16, Expected Output: 4, Result: 4 ✓ Passed\n",
      "Test case 4: Input: 0, Expected Output: 0, Result: 0 ✓ Passed\n",
      "Test case 5: Input: 1, Expected Output: 1, Result: 1 ✓ Passed\n",
      "Test case 6: Input: 100, Expected Output: 10, Result: 10 ✓ Passed\n",
      "All tests passed 😊\n"
     ]
    }
   ],
   "source": [
    "# Testing Solution w/ Recursion w/ bit shifting implementation\n",
    "test_sqrt(Solution2)"
   ]
  },
  {
   "cell_type": "markdown",
   "id": "af234fcb",
   "metadata": {},
   "source": [
    "## Complexity Analysis\n",
    "- **Variables:**\n",
    "     - $n$ is the value of `x`. \n",
    "- ### Time Complexity: $O(\\log n)$\n",
    "    - The runtime is logarithmic because the recursion depth is proportional to the number of bits in the binary representation of `x`.\n",
    "    - Each recursive call processes a value that is approximately one quarter of the previous value, leading to a logarithmic number of levels of recursion.\n",
    "- ### Space Complexity: $O(\\log n)$\n",
    "    - The recursion stack needs to store intermediate results proportional to the number of bits in the binary representation of `x`. \n",
    "    - In the worst case, when `x` is a power of 4, the recursion depth will be logarithmic with respect to `x`.\n",
    "***"
   ]
  },
  {
   "cell_type": "markdown",
   "id": "ea748db0",
   "metadata": {},
   "source": [
    "# Approach 3: Newton's Method\n",
    "Lastly, another approach where we can find the square root of `x` is via Newton's Method, which is a iterative root-finding algorithm used on real-value functions. It works by repeatedly improving an initial guess for the square root until a sufficiently accurate approximation is obtained.\n",
    "\n",
    "## Intuition\n",
    "Newton's Method is based on the formula:\n",
    "$$x_{k+1} = \\frac{1}{2} (x_k + \\frac{x}{x_k}) $$\n",
    "This formula is derived from the general Newton's iteration for finding a zero of the function $f(x) = x^2 -a$ where $a$ is the number of the square root we want to find. This method uses an initial guess $x_0$ and iteratively imrpoves the guess in the direction where $f(x)$ gets closer to zero. \n",
    "\n",
    "## Algorithm\n",
    "1. **Base Case:** If `x` is less than 2, return `x` (_since the square root of 0 is 0, and the square root of 1 is 1_).\n",
    "2. **Initial guess:** Initialize $x_0$ with the value of `x` as an initial guess.\n",
    "3. Compute the **first guess** `x1` by using the formula: x1 = `(x0 + x / x0) / 2`.\n",
    "4. Iterate until the absolute difference between x0 and x1 is less than 1 (or any desired precision):\n",
    "    -  Update `x0` to the previous estimate `x1`.\n",
    "    - Compute the new estimate `x1` using the formula: `x1 = (x0 + x / x0) / 2`.\n",
    "5. Return `x1` rounded down to the nearest integer, as the problem requires the square root rounded down to the nearest integer."
   ]
  },
  {
   "cell_type": "markdown",
   "id": "fe0aba94",
   "metadata": {},
   "source": [
    "## Code Implementation"
   ]
  },
  {
   "cell_type": "code",
   "execution_count": 6,
   "id": "3322a6b0",
   "metadata": {},
   "outputs": [],
   "source": [
    "class Solution3:\n",
    "    def mySqrt(self, x: int) -> int:\n",
    "        if x < 2:   # base case\n",
    "            return x  \n",
    "        \n",
    "        x0 = x      # Initial guess for the square root\n",
    "        x1 = (x0 + x / x0) / 2  # First update based on the formula\n",
    "        \n",
    "        while abs(x0 - x1) >= 1:        # Repeat until the estimates converge sufficiently\n",
    "            x0 = x1\n",
    "            x1 = (x0 + x / x0) / 2\n",
    "        \n",
    "        return int(x1)      # Return the floor of the square root approximation"
   ]
  },
  {
   "cell_type": "markdown",
   "id": "9322b32f",
   "metadata": {},
   "source": [
    "### Testing"
   ]
  },
  {
   "cell_type": "code",
   "execution_count": 7,
   "id": "068d3978",
   "metadata": {},
   "outputs": [
    {
     "name": "stdout",
     "output_type": "stream",
     "text": [
      "Test case 1: Input: 4, Expected Output: 2, Result: 2 ✓ Passed\n",
      "Test case 2: Input: 8, Expected Output: 2, Result: 2 ✓ Passed\n",
      "Test case 3: Input: 16, Expected Output: 4, Result: 4 ✓ Passed\n",
      "Test case 4: Input: 0, Expected Output: 0, Result: 0 ✓ Passed\n",
      "Test case 5: Input: 1, Expected Output: 1, Result: 1 ✓ Passed\n",
      "Test case 6: Input: 100, Expected Output: 10, Result: 10 ✓ Passed\n",
      "All tests passed 😊\n"
     ]
    }
   ],
   "source": [
    "# Testing Solution w/ Newton's Method implementation\n",
    "test_sqrt(Solution3)"
   ]
  },
  {
   "cell_type": "markdown",
   "id": "e4b77db3",
   "metadata": {},
   "source": [
    "## Complexity Analysis\n",
    "- **Variables:**\n",
    "     - $n$ is the value of `x`. \n",
    "- ### Time Complexity: $O(\\log n)$\n",
    "    - Newton's Method converges quadratically, meaning that the number of correct digits in the approximation roughly doubles with each iteration. \n",
    "    - Thus, the number of iterations required to achieve a sufficient approximation is logarithmic relative to the input size.\n",
    "- ### Space Complexity: $O(\\log n)$\n",
    "    - the algorithm uses a constant amount of extra space to store a few variables, regardless of the input size.\n",
    "***"
   ]
  },
  {
   "cell_type": "markdown",
   "id": "57b9b355",
   "metadata": {},
   "source": [
    "# Conclusion\n",
    "\n",
    "We have covered three different approaches to solve the sqrt(x) problem:\n",
    "\n",
    "### Approach 1: Binary Search\n",
    "- This approach uses a binary search algorithm to find the largest integer `y` such that `y * y <= x`.\n",
    "- It has a time complexity of $O(\\log n)$ and a space complexity of $O(1)$.\n",
    "\n",
    "### Approach 2: Recursion with Bit Shifting\n",
    "- This approach leverages recursion combined with bit shifts to narrow down the search space for the square root.\n",
    "- It has a time complexity of $O(log n)$ and a space complexity of $O(\\log n)$ due to the recursive calls on the stack.\n",
    "- While efficient in terms of time complexity, it has a higher space complexity compared to the other approaches.\n",
    "\n",
    "### Approach 3: Newton's Method\n",
    "- This approach uses an iterative root-finding algorithm based on Newton's Method to approximate the square root.\n",
    "- It has a time complexity of $O(\\log n)$ and a space complexity of $O(1)$.\n",
    "- Newton's Method is known for its rapid convergence, making it an accurate and efficient solution for this problem.\n",
    "\n",
    "Among the three approaches, **Newton's Method** is arguably the most optimal because:\n",
    "- **Rapid Convergence:** It typically requires fewer iterations to converge to a sufficient approximation of the square root compared to binary search.\n",
    "- **Accuracy:** It directly computes the square root without needing to discretely search the solution space, making it more adaptable to variations where higher precision might be required.\n",
    "\n",
    "Overall, all three approaches have a time complexity of $O(\\log n)$, which is optimal for this problem. Though, binary search and Newton's Method are slightly more optimal since they are able to maintain constant space complexity."
   ]
  }
 ],
 "metadata": {
  "kernelspec": {
   "display_name": "Python 3 (ipykernel)",
   "language": "python",
   "name": "python3"
  },
  "language_info": {
   "codemirror_mode": {
    "name": "ipython",
    "version": 3
   },
   "file_extension": ".py",
   "mimetype": "text/x-python",
   "name": "python",
   "nbconvert_exporter": "python",
   "pygments_lexer": "ipython3",
   "version": "3.10.4"
  }
 },
 "nbformat": 4,
 "nbformat_minor": 5
}

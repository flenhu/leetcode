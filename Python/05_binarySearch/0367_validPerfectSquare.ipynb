{
 "cells": [
  {
   "cell_type": "markdown",
   "id": "835c632c",
   "metadata": {},
   "source": [
    "#### [Python <img src=\"../../assets/pythonLogo.png\" alt=\"py logo\" style=\"height: 1em; vertical-align: sub;\">](../README.md) | Easy 🟢 | [Binary Search](README.md)\n",
    "# [367. Valid Perfect Square](https://leetcode.com/problems/valid-perfect-square/description/)"
   ]
  },
  {
   "cell_type": "markdown",
   "id": "b9441082",
   "metadata": {},
   "source": [
    "Given a positive integer `num`, return `true` if `num` is a perfect square or `false` otherwise.\n",
    "\n",
    "A **perfect square** is an integer that is the square of an integer. In other words, it is the product of some integer with itself.\n",
    "\n",
    "You must not use any built-in library function, such as `sqrt`.\n",
    "\n",
    "#### Example 1:\n",
    "> **Input:** `num = 16`  \n",
    "> **Output:** `true`  \n",
    "> **Explanation:** We return `true` because $4 * 4 = 16$ and $4$ is an integer.\n",
    "\n",
    "#### Example 2:\n",
    "> **Input:** `num = 14`  \n",
    "> **Output:** `false`  \n",
    "> **Explanation:** We return `false` because $3.742 \\times 3.742 = 14$ and $3.742$ is not an integer.\n",
    "\n",
    "#### Constraints:\n",
    "- $1 \\leq$ `num` $ \\leq 2^{31} - 1$\n"
   ]
  },
  {
   "cell_type": "markdown",
   "id": "5a871415",
   "metadata": {},
   "source": [
    "## Problem Explanation\n",
    "- For this problem we are ared to determine whether a given positive integer `nums` is a perfect square or not. \n",
    "- For some background, a perfect square is defined as the product of an integer with itself.\n",
    "- A key constraint of this problem is that we can't use any built-in functions like `sqrt()`.\n",
    "\n",
    "***"
   ]
  },
  {
   "cell_type": "markdown",
   "id": "b805ba03",
   "metadata": {},
   "source": [
    "# Approach 1: Binary Search \n",
    "Using binary search for this problem is ideal since we can divide the search space in half. Since we are looking for a specific integer `x` such that `x * x = num`, we can use binary search to narrow down the range of possible values for `x`.\n",
    "\n",
    "## Intuition\n",
    "- The intuition for using binary search comes from the ordered nature of perfect squares. s numbers increase, their squares also increase, and this relationship is strictly monotonic.\n",
    "- Thus, if we can compare the square of a middle number in our search range with the target number `num`, we can narrow our search to the left (for smaller numbers) or to the right (for larger numbers) to narrow down the target.\n",
    "\n",
    "## Algorithm\n",
    "1. Initialize two pointers, `l` (left) and `r` (right), to represent the range of possible squares.\n",
    "2. While `l` is than or equal to `r`:\n",
    "    - Compute the midpoint `mid` of the current range.\n",
    "    - Calculate `mid * mid` and compare it to `num`.\n",
    "    - If `mid * mid` is greater than `num`, move the right pointer `r` to `mid-1` (_square root is smaller_)\n",
    "    - If `mid * mid` is less than num, move the left pointer `l` to `mid+1` (_square root is larger)\n",
    "    - If `mid * mid` is equal to `num`, return `True`, indicating that `num` is a perfect square.\n",
    "3. If the loop completes without finding a perfect square, return `False`."
   ]
  },
  {
   "cell_type": "markdown",
   "id": "7888762a",
   "metadata": {},
   "source": [
    "## Code Implementation"
   ]
  },
  {
   "cell_type": "code",
   "execution_count": 2,
   "id": "e1d254e7",
   "metadata": {},
   "outputs": [],
   "source": [
    "class Solution:\n",
    "    def isPerfectSquare(self, num: int) -> bool:\n",
    "        l, r = 1, num  # Define search boundaries\n",
    "        while l <= r:\n",
    "            mid = (l + r) // 2      # calculate mid point\n",
    "            square = mid * mid      # calculate square of mid point\n",
    "            if square == num:       # if square of mid point is equal to num, return True\n",
    "                return True\n",
    "            elif square < num:      # if square of mid point is less than num, search right half\n",
    "                l = mid + 1\n",
    "            else:                   # else square of mid point is greater than num, search left half\n",
    "                r = mid - 1\n",
    "        return False  # num is not a perfect square"
   ]
  },
  {
   "cell_type": "markdown",
   "id": "ce05a3cf",
   "metadata": {},
   "source": [
    "### Testing"
   ]
  },
  {
   "cell_type": "code",
   "execution_count": 4,
   "id": "4c5194cc",
   "metadata": {},
   "outputs": [
    {
     "name": "stdout",
     "output_type": "stream",
     "text": [
      "Input: 16, Expected: True, Result: True, Test passed✅\n",
      "Input: 14, Expected: False, Result: False, Test passed✅\n",
      "Input: 25, Expected: True, Result: True, Test passed✅\n",
      "All test cases passed✅\n"
     ]
    }
   ],
   "source": [
    "def test_squares(approach):\n",
    "    test_cases = [\n",
    "        (16, True),\n",
    "        (14, False),\n",
    "        (25, True),  # Additional test case\n",
    "    ]\n",
    "    \n",
    "    all_passed = True\n",
    "    \n",
    "    for nums, expected in test_cases:\n",
    "        result = approach(nums)\n",
    "        if result == expected:\n",
    "            print(f\"Input: {nums}, Expected: {expected}, Result: {result}, Test passed✅\")\n",
    "        else:\n",
    "            print(f\"Input: {nums}, Expected: {expected}, Result: {result}, Test failed❌\")\n",
    "            all_passed = False\n",
    "    \n",
    "    if all_passed:\n",
    "        print(\"All test cases passed✅\")\n",
    "    else:\n",
    "        print(\"Some test cases failed❌\")\n",
    "\n",
    "# Example usage\n",
    "test_squares(Solution().isPerfectSquare)\n"
   ]
  },
  {
   "cell_type": "markdown",
   "id": "8a5df28b",
   "metadata": {},
   "source": [
    "## Complexity Analysis\n",
    "- ### Time Complexity: $O(\\log N)$\n",
    "    - $N$ is the value of `num` which is the target/square.\n",
    "    - Binary search divides the search interval in half each iteration so we have logarithmic time complexity.\n",
    "\n",
    "- ### Space Complexity: $O(1)$\n",
    "    - The algorithm uses a fixed amount of space for variables.\n",
    "***"
   ]
  },
  {
   "cell_type": "markdown",
   "id": "32c95f2b",
   "metadata": {},
   "source": [
    "# Approach 2: Newton's Method\n",
    "Another approach to the problem is by using Newton's Method which is an iterative method that's used to find approximations of the roots of real-valued functions. In our case, we're going to use it to approximate the square root of the the given number `num`.\n",
    "\n",
    "## Intuition\n",
    "- The core concept behind using Newton's Method is to start with an initial guess and iteratively improve the guess by moving closer to the actual root.\n",
    "- For the square root, each iteration aims to find a value `x` such that $x^2$ is as close to `num` as possible, without surpassing it. \n",
    "- The method will then converge quickly to an accurate approximation of the square root even if the number is large.\n",
    "\n",
    "## Math Background \n",
    "Newton's Method is used for finding increasingly accurate approximations to the roots (or zeroes) of a real-valued function. The method is based on the idea that a function can be locally approximated as a straight line. If you have an initial guess $x_0$ for a root of the function $f(x)$, you can use the tangent line at $f(x_0)$ to get a better approximation $x_1$ of the root. The process is iterative, with each step defined by the formula:\n",
    "\n",
    "$$x_{n+1} = x_n - \\frac{f(x_n)}{f'(x_n)}$$\n",
    "\n",
    "where:\n",
    "- $x_n$ is the current guess,\n",
    "- $f'(x_n)$ is the derivative of $f$ at $x_n$,\n",
    "- $x_{n+1}$ is the next guess.\n",
    "For finding a square root of a number $a$, we want to solve $f(x) = x^2 - a = 0$. Applying Newton's formula gives:\n",
    "\n",
    "$$x_{n+1} = x_n - \\frac{x_n^2 - a}{2x_n} = \\frac{1}{2}(x_n + \\frac{a}{x_n})$$\n",
    "\n",
    "This is the formula used in the algorithm, where each iteration updates the guess $x_n$ to get closer to the square root of $a$.\n",
    "\n",
    "## Algorithm\n",
    "1. **Base cases:** Check if num is less than `2`. If so, return `True` since `1` is a perfect square.\n",
    "2. Initialize `x` with `num // 2`, which is a decent guess since its the mid point.\n",
    "3. **Iterate with Newton's approximation**:\n",
    "    - Update `x` to `(x + num // x) // 2`. This formula is derived from the Newton-Raphson method for finding square roots.\n",
    "4. **Repeat the iteration** until `x * x` is not greater than `num`. This means that `x` is now a close approximation of the square root `num`.\n",
    "5. After exiting the loop, check if `x*x == num` to determine if `num` is a perfect square."
   ]
  },
  {
   "cell_type": "markdown",
   "id": "41face35",
   "metadata": {},
   "source": [
    "## Code Implementation"
   ]
  },
  {
   "cell_type": "code",
   "execution_count": 6,
   "id": "0237c026",
   "metadata": {},
   "outputs": [],
   "source": [
    "class Solution2:\n",
    "    def isPerfectSquare(self, num: int) -> bool:\n",
    "        if num < 2:\n",
    "            return True  # 0 and 1 are perfect squares\n",
    "        \n",
    "        x = num // 2  # Initial guess for the square root\n",
    "        while x * x > num:\n",
    "            x = (x + num // x) // 2  # Newton's method formula\n",
    "        \n",
    "        return x * x == num  # Check if x is the square root of num"
   ]
  },
  {
   "cell_type": "markdown",
   "id": "60cb709d",
   "metadata": {},
   "source": [
    "### Testing"
   ]
  },
  {
   "cell_type": "code",
   "execution_count": 7,
   "id": "92342d54",
   "metadata": {},
   "outputs": [
    {
     "name": "stdout",
     "output_type": "stream",
     "text": [
      "Input: 16, Expected: True, Result: True, Test passed✅\n",
      "Input: 14, Expected: False, Result: False, Test passed✅\n",
      "Input: 25, Expected: True, Result: True, Test passed✅\n",
      "All test cases passed✅\n"
     ]
    }
   ],
   "source": [
    "test_squares(Solution2().isPerfectSquare)"
   ]
  },
  {
   "cell_type": "markdown",
   "id": "6a78370f",
   "metadata": {},
   "source": [
    "## Complexity Analysis\n",
    "- ### Time Complexity: $O(\\log n)$\n",
    "    - The time complexity of Newton's method for finding a square root is $O(\\log n)$, where $n$ is the value of the input integer `num`. \n",
    "    - The time complexity is logarithmic since the number of correct digits roughly doubles each iteration, and then the method converges quadratically to the square root.\n",
    "\n",
    "- ### Space Complexity: $O(1)$\n",
    "    - The space complexity is constant since the algorithm uses a constant amount of space to store the temporary variable `x`.\n",
    "***"
   ]
  }
 ],
 "metadata": {
  "kernelspec": {
   "display_name": "Python 3 (ipykernel)",
   "language": "python",
   "name": "python3"
  },
  "language_info": {
   "codemirror_mode": {
    "name": "ipython",
    "version": 3
   },
   "file_extension": ".py",
   "mimetype": "text/x-python",
   "name": "python",
   "nbconvert_exporter": "python",
   "pygments_lexer": "ipython3",
   "version": "3.10.4"
  }
 },
 "nbformat": 4,
 "nbformat_minor": 5
}

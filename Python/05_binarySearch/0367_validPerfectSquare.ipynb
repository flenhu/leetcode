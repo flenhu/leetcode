{
 "cells": [
  {
   "cell_type": "markdown",
   "id": "835c632c",
   "metadata": {},
   "source": [
    "#### [Python <img src=\"../../assets/pythonLogo.png\" alt=\"py logo\" style=\"height: 1em; vertical-align: sub;\">](../README.md) | Easy 🟢 | [Binary Search](README.md)\n",
    "# [367. Valid Perfect Square](https://leetcode.com/problems/valid-perfect-square/description/)"
   ]
  },
  {
   "cell_type": "markdown",
   "id": "b9441082",
   "metadata": {},
   "source": [
    "Given a positive integer `num`, return `true` if `num` is a perfect square or `false` otherwise.\n",
    "\n",
    "A **perfect square** is an integer that is the square of an integer. In other words, it is the product of some integer with itself.\n",
    "\n",
    "You must not use any built-in library function, such as `sqrt`.\n",
    "\n",
    "#### Example 1:\n",
    "> **Input:** `num = 16`  \n",
    "> **Output:** `true`  \n",
    "> **Explanation:** We return `true` because $4 * 4 = 16$ and $4$ is an integer.\n",
    "\n",
    "#### Example 2:\n",
    "> **Input:** `num = 14`  \n",
    "> **Output:** `false`  \n",
    "> **Explanation:** We return `false` because $3.742 \\times 3.742 = 14$ and $3.742$ is not an integer.\n",
    "\n",
    "#### Constraints:\n",
    "- $1 \\leq$ `num` $ \\leq 2^{31} - 1$\n"
   ]
  },
  {
   "cell_type": "markdown",
   "id": "5a871415",
   "metadata": {},
   "source": [
    "## Problem Explanation\n",
    "- For this problem we are ared to determine whether a given positive integer `nums` is a perfect square or not. \n",
    "- For some background, a perfect square is defined as the product of an integer with itself.\n",
    "- A key constraint of this problem is that we can't use any built-in functions like `sqrt()`.\n",
    "\n",
    "***"
   ]
  },
  {
   "cell_type": "markdown",
   "id": "50d023d7",
   "metadata": {},
   "source": [
    "# Approach 1: Binary Search \n",
    "Using binary search for this problem is ideal since we can divide the search space in half. Since we are looking for a specific integer `x` such that `x * x = num`, we can use binary search to narrow down the range of possible values for `x`.\n",
    "\n",
    "## Intuition\n",
    "- The intuition for using binary search comes from the ordered nature of perfect squares. s numbers increase, their squares also increase, and this relationship is strictly monotonic.\n",
    "- Thus, if we can compare the square of a middle number in our search range with the target number `num`, we can narrow our search to the left (for smaller numbers) or to the right (for larger numbers) to narrow down the target.\n",
    "\n",
    "## Algorithm\n",
    "1. Initialize two pointers, `l` (left) and `r` (right), to represent the range of possible squares.\n",
    "2. While `l` is than or equal to `r`:\n",
    "    - Compute the midpoint `mid` of the current range.\n",
    "    - Calculate `mid * mid` and compare it to `num`.\n",
    "    - If `mid * mid` is greater than `num`, move the right pointer `r` to `mid-1` (_square root is smaller_)\n",
    "    - If `mid * mid` is less than num, move the left pointer to `mid+1` \n",
    "    \n"
   ]
  },
  {
   "cell_type": "markdown",
   "id": "7888762a",
   "metadata": {},
   "source": [
    "## Code Implementation"
   ]
  },
  {
   "cell_type": "code",
   "execution_count": null,
   "id": "e1d254e7",
   "metadata": {},
   "outputs": [],
   "source": []
  },
  {
   "cell_type": "markdown",
   "id": "ce05a3cf",
   "metadata": {},
   "source": [
    "### Testing"
   ]
  },
  {
   "cell_type": "code",
   "execution_count": null,
   "id": "4c5194cc",
   "metadata": {},
   "outputs": [],
   "source": []
  },
  {
   "cell_type": "markdown",
   "id": "8a5df28b",
   "metadata": {},
   "source": [
    "## Complexity Analysis\n",
    "- ### Time Complexity: $O()$\n",
    "\n",
    "- ### Space Complexity: $O()$\n",
    "***"
   ]
  },
  {
   "cell_type": "markdown",
   "id": "32c95f2b",
   "metadata": {},
   "source": [
    "# Approach 2:\n",
    "\n",
    "\n",
    "## Intuition\n",
    "\n",
    "\n",
    "## Algorithm\n"
   ]
  },
  {
   "cell_type": "markdown",
   "id": "41face35",
   "metadata": {},
   "source": [
    "## Code Implementation"
   ]
  },
  {
   "cell_type": "code",
   "execution_count": null,
   "id": "0237c026",
   "metadata": {},
   "outputs": [],
   "source": []
  },
  {
   "cell_type": "markdown",
   "id": "60cb709d",
   "metadata": {},
   "source": [
    "### Testing"
   ]
  },
  {
   "cell_type": "code",
   "execution_count": null,
   "id": "92342d54",
   "metadata": {},
   "outputs": [],
   "source": []
  },
  {
   "cell_type": "markdown",
   "id": "6a78370f",
   "metadata": {},
   "source": [
    "## Complexity Analysis\n",
    "- ### Time Complexity: $O()$\n",
    "\n",
    "- ### Space Complexity: $O()$\n",
    "***"
   ]
  }
 ],
 "metadata": {
  "kernelspec": {
   "display_name": "Python 3 (ipykernel)",
   "language": "python",
   "name": "python3"
  },
  "language_info": {
   "codemirror_mode": {
    "name": "ipython",
    "version": 3
   },
   "file_extension": ".py",
   "mimetype": "text/x-python",
   "name": "python",
   "nbconvert_exporter": "python",
   "pygments_lexer": "ipython3",
   "version": "3.10.4"
  }
 },
 "nbformat": 4,
 "nbformat_minor": 5
}

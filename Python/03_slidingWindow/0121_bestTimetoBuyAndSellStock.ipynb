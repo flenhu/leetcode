{
 "cells": [
  {
   "cell_type": "markdown",
   "id": "6be5fd4f",
   "metadata": {},
   "source": [
    "#### [Python](../README.md) | Easy 🟢 | [Sliding Window](README.md) \n",
    "# [121. Best Time to Buy and Sell Stock](https://leetcode.com/problems/best-time-to-buy-and-sell-stock/)"
   ]
  },
  {
   "cell_type": "markdown",
   "id": "be5d4955",
   "metadata": {},
   "source": [
    "You are given an array `prices` where `prices[i]` is the price of a given stock on the ith day.\n",
    "\n",
    "You want to maximize your profit by choosing a single day to buy one stock and choosing a different day in the future to sell that stock.\n",
    "\n",
    "Return the maximum profit you can achieve from this transaction. If you cannot achieve any profit, return 0.\n",
    "\n",
    "## Examples\n",
    "\n",
    "**Example 1:**\n",
    "\n",
    "- Input: `prices = [7,1,5,3,6,4]`\n",
    "- Output: `5`\n",
    "- Explanation: Buy on day 2 (price = 1) and sell on day 5 (price = 6), profit = 6-1 = 5.\n",
    "  Note that buying on day 2 and selling on day 1 is not allowed because you must buy before you sell.\n",
    "\n",
    "**Example 2:**\n",
    "\n",
    "- Input: `prices = [7,6,4,3,1]`\n",
    "- Output: `0`\n",
    "- Explanation: In this case, no transactions are done and the max profit = 0.\n",
    "\n",
    "#### Constraints\n",
    "\n",
    "- <code>1 &lt;= prices.length &lt;= 10<sup>5</sup></code>\n",
    "- <code>0 &lt;= prices[i] &lt;= 10<sup>4</sup></code>"
   ]
  },
  {
   "cell_type": "markdown",
   "id": "9d64dd2d",
   "metadata": {},
   "source": [
    "### <u>Intuition</u>\n",
    "The idea is to traverse the `prices` array while also keeping track of the lowest price seen so far and the maximum profit that can be made at each step.\n",
    "- **Lowest Price**: We need to keep track of the lowest price encountered as we iterate through the array. This repesents the best day to buy the stock up to that point.\n",
    "- **Maximum Profit**: At each day, we need to calculate the potential profit by subtracting the current lowest price from the actual current price. We then need to update the maximum profit if this potential profit is higher than the current maximum."
   ]
  },
  {
   "cell_type": "markdown",
   "id": "8d5d0797",
   "metadata": {},
   "source": [
    "##  Approach 1: One Pass Min-Max\n",
    "The key intuition for this approach is to solve the problem in a single pass through the `prices` array, by focusing on two main aspects:\n",
    "1. Tracking the lowest buying price:\n",
    "    - As we go through each day, we aim to find the lowest price seen so far. This lowest price represents the best window to buy the stock up to that point.\n",
    "2. Calculating the max profit at each step:\n",
    "    - For each day, after updating the lowest price, we then want to calculate the potential profit that could be made if we were to sell the stock on that day. \n",
    "    - The idea is to continually assess: \"If I had bought the stock at the lowest price so far and sold it today, would I be maximizing by bag?\"\n",
    "    - Then we want to update the max  profit if it indeed higher than the max profit we've seen so far.\n",
    "\n",
    "In general this approach ensures we are aware of the best time to buy (lowest price so far) and also the best time to sell (maximum of profit so far). Essentially, this is a single pass through the array and we are constantly updating these two variables to find the best window/profit."
   ]
  },
  {
   "cell_type": "markdown",
   "id": "73bbe8e1",
   "metadata": {},
   "source": [
    "### <u>Algorithm:</u>\n",
    "\n",
    "1. Initialize `res` to 0, this will indicate the maximum profit.\n",
    "2. Set `lowest` to the price of the stock on the first day.\n",
    "3. Iterate through each price in `prices`.\n",
    "    - Update `lowest` if the current price is lower than the current `lowest`\n",
    "    - Calculate the profit by subtracting `lowest` from the current price.\n",
    "        - Update `res` if this profit is greater than the max profit.\n",
    "4. Return `res`, which holds the maximum profit achievable."
   ]
  },
  {
   "cell_type": "markdown",
   "id": "176c1d46",
   "metadata": {},
   "source": [
    "### <u>Python Implementation</u>"
   ]
  },
  {
   "cell_type": "code",
   "execution_count": 3,
   "id": "fa5cb148",
   "metadata": {},
   "outputs": [],
   "source": [
    "from typing import List\n",
    "\n",
    "class Solution:\n",
    "    def maxProfit(self, prices: List[int]) -> int:\n",
    "        res = 0 # store the max profit\n",
    "        lowest = prices[0] #Initialize the lowest to be the first day price\n",
    "        \n",
    "        for price in prices:\n",
    "            if price < lowest:  # Update the loewst price if a lower price is found\n",
    "                lowest = price\n",
    "                \n",
    "            # Calculate the profit if stock is sold today & update res if the current profit is greater\n",
    "            res = max(res, price - lowest)\n",
    "        \n",
    "        return res"
   ]
  },
  {
   "cell_type": "markdown",
   "id": "cf428c30",
   "metadata": {},
   "source": [
    "#### Test cases / Example usage"
   ]
  },
  {
   "cell_type": "code",
   "execution_count": 5,
   "id": "be601da6",
   "metadata": {},
   "outputs": [
    {
     "name": "stdout",
     "output_type": "stream",
     "text": [
      "5\n",
      "0\n",
      "4\n"
     ]
    }
   ],
   "source": [
    "# Initialize an instance of Solution\n",
    "sol = Solution()\n",
    "\n",
    "# Test Case 1: Should return 5\n",
    "print(sol.maxProfit([7, 1, 5, 3, 6, 4]))  # Expected output: 5\n",
    "\n",
    "# Test Case 2: Should return 0 (no profit possible)\n",
    "print(sol.maxProfit([7, 6, 4, 3, 1]))  # Expected output: 0\n",
    "\n",
    "# Test Case 3: Increasing prices - Should return 4"
   ]
  },
  {
   "cell_type": "markdown",
   "id": "2b3c806d",
   "metadata": {},
   "source": [
    "### <u>Complexity Analysis</u>\n",
    "- ### Time Complexity: $O(n)$ \n",
    "    - The time complexity is $O(n)$, where $n$ is the number of days (length of the `prices` array). This solution involves a single pass through the array, thus we have linear time.\n",
    "- ### Space Complexity: $O(1)$ \n",
    "    - The space complexity is $O(1)$ since we only use a few variables."
   ]
  },
  {
   "cell_type": "code",
   "execution_count": null,
   "id": "7bb232ee",
   "metadata": {},
   "outputs": [],
   "source": []
  }
 ],
 "metadata": {
  "kernelspec": {
   "display_name": "Python 3 (ipykernel)",
   "language": "python",
   "name": "python3"
  },
  "language_info": {
   "codemirror_mode": {
    "name": "ipython",
    "version": 3
   },
   "file_extension": ".py",
   "mimetype": "text/x-python",
   "name": "python",
   "nbconvert_exporter": "python",
   "pygments_lexer": "ipython3",
   "version": "3.9.12"
  }
 },
 "nbformat": 4,
 "nbformat_minor": 5
}

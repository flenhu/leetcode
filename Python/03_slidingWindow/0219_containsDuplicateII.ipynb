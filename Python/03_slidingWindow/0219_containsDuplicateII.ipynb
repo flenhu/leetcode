{
 "cells": [
  {
   "cell_type": "markdown",
   "id": "835c632c",
   "metadata": {},
   "source": [
    "#### [Python <img src=\"../../assets/pythonLogo.png\" alt=\"py logo\" style=\"height: 1em; vertical-align: sub;\">](../README.md) | Easy 🟢 | [Sliding Window](README.md)\n",
    "# [219. Contains Duplicate II](https://leetcode.com/problems/contains-duplicate-ii/description/)"
   ]
  },
  {
   "cell_type": "markdown",
   "id": "b9441082",
   "metadata": {},
   "source": [
    "Given an integer array `nums` and an integer `k`, return `true` if there are two **distinct indices** `i` and `j` in the array such that `nums[i] == nums[j]` and `abs(i - j) <= k`.\n",
    "\n",
    "#### Example 1:\n",
    "> **Input:** `nums = [1,2,3,1], k = 3`  \n",
    "> **Output:** `true`\n",
    "\n",
    "#### Example 2:\n",
    "> **Input:** `nums = [1,0,1,1], k = 1`  \n",
    "> **Output:** `true`\n",
    "\n",
    "#### Example 3:\n",
    "> **Input:** `nums = [1,2,3,1,2,3], k = 2`  \n",
    "> **Output:** `false`\n",
    "\n",
    "#### Constraints:\n",
    "- $1 \\leq$ `nums.length` $\\leq 10^5$\n",
    "- $-10^9 $ `nums[i]` $\\leq 10^9$\n",
    "- $0 \\leq $ `k` $ \\leq 10^5$"
   ]
  },
  {
   "cell_type": "markdown",
   "id": "5a871415",
   "metadata": {},
   "source": [
    "## Problem Explanation\n",
    "- This problem is asking us to determine whether if an array contains at least two identical elements within a maximum distance `k` from each other.\n",
    "- This problem is a varaint of the classic **contains duplicate** problem but now adding the constraint on proximity of the duplicates in regards to their indices.\n",
    "***"
   ]
  },
  {
   "cell_type": "markdown",
   "id": "66c83cb9",
   "metadata": {},
   "source": [
    "# Approach 1: Hash table\n",
    "- We can utilize hash tables in our approach since we can leverage using a dynamic set to keep track of a sliding window of elements that can be up to size $k$. \n",
    "- This window then moves through the array, and we can maintain a record of the elements within the distance constraint at a given time.\n",
    "\n",
    "## Intuition\n",
    "- The intuition behind using a hash table (or a set) is its ability to quickly check for the existence of an element.\n",
    "- By maintaining a set of elements that are within $k$ distance from the current element, we can efficiently query whether a duplicate exists within the specified range.\n",
    "\n",
    "## Algorithm\n",
    "1. **Initialize an empty set**, let's call it `window`, to represent the sliding wundow of elements within distance `k`.\n",
    "2. **Iterate** through `nums` using a **pointer** `R`:\n",
    "    - If the size of the window exceeds `k`, remove the leftmost element from the window (the one at index `L`) and move `L` to the right.\n",
    "    - Check if the current element `nums[R]` is in the `window`:\n",
    "        - If it is in the window, return `True` as a duplicate within the required distance is found.\n",
    "        - Otherwise if its not in the window, add `nums[R]` to the window.\n",
    "3. Return `False` if no such duplicate is found by the of iterating through the array."
   ]
  },
  {
   "cell_type": "markdown",
   "id": "7888762a",
   "metadata": {},
   "source": [
    "## Code Implementation"
   ]
  },
  {
   "cell_type": "code",
   "execution_count": 1,
   "id": "e1d254e7",
   "metadata": {},
   "outputs": [],
   "source": [
    "from typing import List\n",
    "\n",
    "class Solution:\n",
    "    def containsNearbyDuplicate(self, nums: List[int], k: int) -> bool:\n",
    "        window = set()\n",
    "        L = 0   # Initialize the left boundary of the window\n",
    "\n",
    "        for R in range (len(nums)):     # Iterate through the array with the right boundary\n",
    "            if R - L > k:                   # Check the window size is no larger than k \n",
    "                window.remove(nums[L])          # Remove the leftmost element from the window\n",
    "                L += 1                          # Move the left boundary to the right\n",
    "            if nums[R] in window:           # If the current element is already in the window\n",
    "                return True                     # We found a duplicate\n",
    "            window.add(nums[R])             # Add the current element to the window\n",
    "\n",
    "        return False            # No duplicate found"
   ]
  },
  {
   "cell_type": "markdown",
   "id": "ce05a3cf",
   "metadata": {},
   "source": [
    "## Testing"
   ]
  },
  {
   "cell_type": "code",
   "execution_count": 2,
   "id": "4c5194cc",
   "metadata": {},
   "outputs": [
    {
     "name": "stdout",
     "output_type": "stream",
     "text": [
      "nums: [1, 2, 3, 1], k: 3, Expected: True, Got: True\n",
      "✅ Test passed!\n",
      "nums: [1, 0, 1, 1], k: 1, Expected: True, Got: True\n",
      "✅ Test passed!\n",
      "nums: [1, 2, 3, 1, 2, 3], k: 2, Expected: False, Got: False\n",
      "✅ Test passed!\n"
     ]
    }
   ],
   "source": [
    "def test_containsNearbyDuplicate(solution, nums, k, expected):\n",
    "    result = solution.containsNearbyDuplicate(nums, k)\n",
    "    print(f\"nums: {nums}, k: {k}, Expected: {expected}, Got: {result}\")\n",
    "    assert result == expected, \"Test failed.\"\n",
    "    print(\"✅ Test passed!\")\n",
    "\n",
    "# Instance of the solution\n",
    "sol = Solution()\n",
    "\n",
    "# Test cases\n",
    "test_containsNearbyDuplicate(sol, [1,2,3,1], 3, True)\n",
    "test_containsNearbyDuplicate(sol, [1,0,1,1], 1, True)\n",
    "test_containsNearbyDuplicate(sol, [1,2,3,1,2,3], 2, False)"
   ]
  },
  {
   "cell_type": "markdown",
   "id": "8a5df28b",
   "metadata": {},
   "source": [
    "## Complexity Analysis\n",
    "- **Variables**:\n",
    "    - $n$ is the total number of elements in the input array `nums`.\n",
    "    - $k$ is the specified distance between the indices of the array.\n",
    "\n",
    "- ### Time Complexity: $O(n)$\n",
    "    - Each element in the array only visited once.\n",
    "    - The operations within the sliding window (_adding and removing elements_) are $O(1)$, thus making the time complexity linear.\n",
    "\n",
    "- ### Space Complexity: $O(\\min(n,k))$\n",
    "    - The size of the set `window` is capped at `k` elements, but it could be smaller if the array has fewer than `k` elements.\n",
    "    - Thus, the space complexity dpeends on the smaller of the two values, $n$ or $k$.\n",
    "***"
   ]
  },
  {
   "cell_type": "markdown",
   "id": "32c95f2b",
   "metadata": {},
   "source": [
    "# Approach 1.1: Optimized Dictionary\n",
    "- This variation of the hash table approach optimizes for both time and space by tracking the last seen index of each element in the array.\n",
    "- By mapping each value to its most recent index, we can efficiently check the condition for nearby duplicates\n",
    "\n",
    "## Intuition\n",
    "- The core idea here is that we only need to remember the last index at which each number appeared.\n",
    "- If the same number appears again, you can check if the current index and the last index of this number are within the distance `k`.\n",
    "- This modification significantly speeds up the search for duplicates by eliminating the need to compare each element with its subsequent elements directly.\n",
    "\n",
    "## Algorithm\n",
    "1. Initialize an empty dictionary `dict` to store the number as the key and its last seen value as the index.\n",
    "2. Iterate through `nums`, using `i` to track the current index.\n",
    "    - If the current number `nums[i]` is already in the dictionary `n`, calculate the difference between `i` and the last seen index of `nums[i]`.\n",
    "        - If the difference is less than or equal to `k`, return `True` because a nearby duplicate is found.\n",
    "    - Update the dictionary with the current index `i` for `nums[i]`.\n",
    "3. If the iteration completes without finding any nearby duplicates, return `False`."
   ]
  },
  {
   "cell_type": "markdown",
   "id": "93a857d6",
   "metadata": {},
   "source": [
    "## Code Implementation"
   ]
  },
  {
   "cell_type": "code",
   "execution_count": 3,
   "id": "74f1aa67",
   "metadata": {},
   "outputs": [],
   "source": [
    "class Solution1:\n",
    "    def containsNearbyDuplicate(self, nums: List[int], k: int) -> bool:\n",
    "        dict = {}   # Create a dictionary to store the index of each element\n",
    "        for i in range(len(nums)):  # Iterate through the array\n",
    "            if nums[i] in dict:    # Check if the current number has been seen before\n",
    "                # if the diff btwn the curr index and the prev index of the number is less than or equal to k\n",
    "                if abs(dict[nums[i]] - i) <= k:\n",
    "                    return True         # We found a duplicate\n",
    "            dict[nums[i]] = i       # Update the index of the current number\n",
    "        return False            # No duplicate found"
   ]
  },
  {
   "cell_type": "markdown",
   "id": "4b9a41e7",
   "metadata": {},
   "source": [
    "### Testing"
   ]
  },
  {
   "cell_type": "code",
   "execution_count": 4,
   "id": "b3cab2b2",
   "metadata": {},
   "outputs": [
    {
     "name": "stdout",
     "output_type": "stream",
     "text": [
      "nums: [1, 2, 3, 1], k: 3, Expected: True, Got: True\n",
      "✅ Test passed!\n",
      "nums: [1, 0, 1, 1], k: 1, Expected: True, Got: True\n",
      "✅ Test passed!\n",
      "nums: [1, 2, 3, 1, 2, 3], k: 2, Expected: False, Got: False\n",
      "✅ Test passed!\n"
     ]
    }
   ],
   "source": [
    "# Testing optimized hash approach\n",
    "sol1 = Solution1()\n",
    "\n",
    "# Test cases\n",
    "test_containsNearbyDuplicate(sol, [1,2,3,1], 3, True)\n",
    "test_containsNearbyDuplicate(sol, [1,0,1,1], 1, True)\n",
    "test_containsNearbyDuplicate(sol, [1,2,3,1,2,3], 2, False)"
   ]
  },
  {
   "cell_type": "markdown",
   "id": "a1833dbc",
   "metadata": {},
   "source": [
    "## Complexity Analysis\n",
    "- ### Time Complexity: $O(n)$\n",
    "    - Each element in the array is visited exactly once. \n",
    "    - Checking for the existence of a key in the hash table and updating the hash table are both $O(1)$ operations, leading to a linear time complexity relative to the size of the input array.\n",
    "- ### Space Complexity: $O(\\min{(n,k)})$\n",
    "    - The space complexity depends on the number of unique elements stored in the hash table, as mentioned previously.\n",
    "    - In the worst case, it is bounded by the smaller number between the total number of elements $n$ and the window size $k$, since the algorithm only needs to keep track of the last seen index for each unique number within the latest window of size $k$.\n",
    "***"
   ]
  },
  {
   "cell_type": "markdown",
   "id": "d2640c1b",
   "metadata": {},
   "source": [
    "# Approach 2: Brute force/Naive Linear Search\n",
    "- Another way of approaching this problem is doing a Naive Linear Search where we check each element against all other elements within the distance `k` to find any duplicates.\n",
    "- This approach doesn't use any advanced data structures/algorithms and relies on simple iteration and comparison.\n",
    "\n",
    "## Intuition\n",
    "The main idea for this approach is relatively trivial, we basically compare every element in the array with its subsequent elements up to `k` positions away.\n",
    "\n",
    "### Disclaimer\n",
    "- While the Naive Linear Search approach is intuitive and ensures that no potential duplicates are missed, it is not the most efficient, especially for large arrays or large values of k. \n",
    "- This approach can lead to significant performance degradation due to its potentially high computational cost.\n",
    "\n",
    "\n",
    "## Algorithm\n",
    "1. Iterate through the array with an outer loop, using an index `i` to track the current position.\n",
    "2. For each element at index `i`, use another loop to compare this element with the next `k` elements, or until the end of the array is reached. We'll use `j` to keep track of the inner loop.\n",
    "3. If a duplicate is found within `k` positions (i.e. `nums[i] == nums[j]` where `abs(i-j) <= k`), return `True`.\n",
    "4. If the end of the array is reached without finding any duplicates within the allowed distance, return `False."
   ]
  },
  {
   "cell_type": "markdown",
   "id": "f384cf38",
   "metadata": {},
   "source": [
    "## Code Implementation"
   ]
  },
  {
   "cell_type": "code",
   "execution_count": 5,
   "id": "2eebdddd",
   "metadata": {},
   "outputs": [],
   "source": [
    "class Solution2:\n",
    "    def containsNearbyDuplicate(self, nums: List[int], k: int) -> bool:\n",
    "        n = len(nums)   # length of the array\n",
    "        for i in range(n):      # Iterate through the array\n",
    "            for j in range(i+1, min(i + k + 1, n)): # Check up to k positions ahead\n",
    "                if nums[i] == nums[j]:      \n",
    "                    return True         # We found a duplicate\n",
    "        return False        # else we didn't find a duplicate"
   ]
  },
  {
   "cell_type": "markdown",
   "id": "9ff23196",
   "metadata": {},
   "source": [
    "### Testing"
   ]
  },
  {
   "cell_type": "code",
   "execution_count": 6,
   "id": "22fa783d",
   "metadata": {},
   "outputs": [
    {
     "name": "stdout",
     "output_type": "stream",
     "text": [
      "nums: [1, 2, 3, 1], k: 3, Expected: True, Got: True\n",
      "✅ Test passed!\n",
      "nums: [1, 0, 1, 1], k: 1, Expected: True, Got: True\n",
      "✅ Test passed!\n",
      "nums: [1, 2, 3, 1, 2, 3], k: 2, Expected: False, Got: False\n",
      "✅ Test passed!\n"
     ]
    }
   ],
   "source": [
    "# Testing naive linear search approach\n",
    "sol2 = Solution2()\n",
    "\n",
    "# Test cases\n",
    "test_containsNearbyDuplicate(sol2, [1,2,3,1], 3, True)\n",
    "test_containsNearbyDuplicate(sol2, [1,0,1,1], 1, True)\n",
    "test_containsNearbyDuplicate(sol2, [1,2,3,1,2,3], 2, False)"
   ]
  },
  {
   "cell_type": "markdown",
   "id": "8a0a8251",
   "metadata": {},
   "source": [
    "## Complexity Analysis\n",
    "- ### Time Complexity: $O(n\\min{(k,n)})$\n",
    "    - In the worst casem for each element of the array (`n` elements), the algorithm checks the next `k` elements for a duplicate, thus the time complexity becomes linearly dependent on the product of the array's size and the distance.\n",
    "    - It takes about $O(\\min{(k,n)})$ for every linear search and we do at most $n$ comparisons, this we have $O(n\\min{(k,n)})$.\n",
    "- ### Space Complexity: $O(\\min{(n,k)})$\n",
    "    - The algorithm uses a constant amount of space regardless of the input size. \n",
    "    - The only additional memory used is for the loop counters and temporary variables, which do not scale with the size of the input array.\n",
    "***"
   ]
  },
  {
   "cell_type": "markdown",
   "id": "714a4254",
   "metadata": {},
   "source": [
    "# Conclusion\n",
    "For this problem, we can go about approaching it in several ways:\n",
    "1. **Brute Force/Naive Linear Search:** Check each element against the otheres within the distance `k`, which leads to a potentially high computational cost, especially for large arrays and values of `k`.\n",
    "2. **Hash Table:** We can use a hash table/dictionary to keep track of the last seen indices of elements, which allows for efficient checks/lookups for nearby duplicates.\n",
    "3. **Binary Search Tree (BST):** While a BST could be used to maintain a sorted structure of the last `k` elements, allowing for $O(\\log{k})$ insertions and deletions, its complexity in handling duplicates and the overhead of maintaining tree balance make it less practical than a hash table.\n",
    "### Why using a hash table/dictionary is the way\n",
    "- **Effiency:** Using a hash table significantly reduces the time complexity $O(n)$ from the $O(n\\min{(k,n)})$ we get with the naive linear search approach or even using a BST. This effiency comes from the fact that a hash table is able to perform constant-time lookups and updates, which enables faster checks for duplicates within the require range of `k`.\n",
    "- **Scalability:** Hash tables are suited for scaling large data sets. Unlike naive linear search which slows down dramatically when the data size increases or BSTs which require more overhead management, hash tables are able to maintain consistent performance."
   ]
  }
 ],
 "metadata": {
  "kernelspec": {
   "display_name": "Python 3 (ipykernel)",
   "language": "python",
   "name": "python3"
  },
  "language_info": {
   "codemirror_mode": {
    "name": "ipython",
    "version": 3
   },
   "file_extension": ".py",
   "mimetype": "text/x-python",
   "name": "python",
   "nbconvert_exporter": "python",
   "pygments_lexer": "ipython3",
   "version": "3.10.4"
  }
 },
 "nbformat": 4,
 "nbformat_minor": 5
}

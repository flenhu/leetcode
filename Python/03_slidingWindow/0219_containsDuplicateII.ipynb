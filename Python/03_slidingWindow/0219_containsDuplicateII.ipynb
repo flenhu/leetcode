{
 "cells": [
  {
   "cell_type": "markdown",
   "id": "835c632c",
   "metadata": {},
   "source": [
    "#### [Python <img src=\"../../assets/pythonLogo.png\" alt=\"py logo\" style=\"height: 1em; vertical-align: sub;\">](../README.md) | Easy 🟢 | [Sliding Window](README.md)\n",
    "# [219. Contains Duplicate II](https://leetcode.com/problems/contains-duplicate-ii/description/)"
   ]
  },
  {
   "cell_type": "markdown",
   "id": "b9441082",
   "metadata": {},
   "source": [
    "Given an integer array `nums` and an integer `k`, return `true` if there are two **distinct indices** `i` and `j` in the array such that `nums[i] == nums[j]` and `abs(i - j) <= k`.\n",
    "\n",
    "#### Example 1:\n",
    "> **Input:** `nums = [1,2,3,1], k = 3`  \n",
    "> **Output:** `true`\n",
    "\n",
    "#### Example 2:\n",
    "> **Input:** `nums = [1,0,1,1], k = 1`  \n",
    "> **Output:** `true`\n",
    "\n",
    "#### Example 3:\n",
    "> **Input:** `nums = [1,2,3,1,2,3], k = 2`  \n",
    "> **Output:** `false`\n",
    "\n",
    "#### Constraints:\n",
    "- $1 \\leq$ `nums.length` $\\leq 10^5$\n",
    "- $-10^9 $ `nums[i]` $\\leq 10^9$\n",
    "- $0 \\leq $ `k` $ \\leq 10^5$"
   ]
  },
  {
   "cell_type": "markdown",
   "id": "5a871415",
   "metadata": {},
   "source": [
    "## Problem Explanation\n",
    "- This problem is asking us to determine whether if an array contains at least two identical elements within a maximum distance `k` from each other.\n",
    "- This problem is a varaint of the classic **contains duplicate** problem but now adding the constraint on proximity of the duplicates in regards to their indices.\n",
    "***"
   ]
  },
  {
   "cell_type": "markdown",
   "id": "66c83cb9",
   "metadata": {},
   "source": [
    "# Approach 1: Hash table\n",
    "- We can utilize hash tables in our approach since we can leverage using a dynamic set to keep track of a sliding window of elements that can be up to size $k$. \n",
    "- This window then moves through the array, and we can maintain a record of the elements within the distance constraint at a given time.\n",
    "\n",
    "## Intuition\n",
    "- The intuition behind using a hash table (or a set) is its ability to quickly check for the existence of an element.\n",
    "- By maintaining a set of elements that are within $k$ distance from the current element, we can efficiently query whether a duplicate exists within the specified range.\n",
    "\n",
    "## Algorithm\n",
    "1. **Initialize an empty set**, let's call it `window`, to represent the sliding wundow of elements within distance `k`.\n",
    "2. **Iterate** through `nums` using a **pointer** `R`:\n",
    "    - If the size of the window exceeds `k`, remove the leftmost element from the window (the one at index `L`) and move `L` to the right.\n",
    "    - Check if the current element `nums[R]` is in the `window`:\n",
    "        - If it is in the window, return `True` as a duplicate within the required distance is found.\n",
    "        - Otherwise if its not in the window, add `nums[R]` to the window.\n",
    "3. Return `False` if no such duplicate is found by the of iterating through the array."
   ]
  },
  {
   "cell_type": "markdown",
   "id": "7888762a",
   "metadata": {},
   "source": [
    "## Code Implementation"
   ]
  },
  {
   "cell_type": "code",
   "execution_count": null,
   "id": "e1d254e7",
   "metadata": {},
   "outputs": [],
   "source": []
  },
  {
   "cell_type": "markdown",
   "id": "ce05a3cf",
   "metadata": {},
   "source": [
    "## Testing"
   ]
  },
  {
   "cell_type": "code",
   "execution_count": null,
   "id": "4c5194cc",
   "metadata": {},
   "outputs": [],
   "source": []
  },
  {
   "cell_type": "markdown",
   "id": "8a5df28b",
   "metadata": {},
   "source": [
    "## Complexity Analysis\n",
    "- ### Time Complexity: $O()$\n",
    "\n",
    "- ### Space Complexity: $O()$\n",
    "***"
   ]
  },
  {
   "cell_type": "markdown",
   "id": "32c95f2b",
   "metadata": {},
   "source": [
    "# Approach 2:\n",
    "\n",
    "\n",
    "## Intuition\n",
    "\n",
    "\n",
    "## Algorithm\n"
   ]
  },
  {
   "cell_type": "markdown",
   "id": "93a857d6",
   "metadata": {},
   "source": [
    "## Code Implementation"
   ]
  },
  {
   "cell_type": "code",
   "execution_count": null,
   "id": "74f1aa67",
   "metadata": {},
   "outputs": [],
   "source": []
  },
  {
   "cell_type": "markdown",
   "id": "4b9a41e7",
   "metadata": {},
   "source": [
    "### Testing"
   ]
  },
  {
   "cell_type": "code",
   "execution_count": null,
   "id": "b3cab2b2",
   "metadata": {},
   "outputs": [],
   "source": []
  },
  {
   "cell_type": "markdown",
   "id": "a1833dbc",
   "metadata": {},
   "source": [
    "## Complexity Analysis\n",
    "- ### Time Complexity: $O()$\n",
    "\n",
    "- ### Space Complexity: $O()$\n",
    "***"
   ]
  }
 ],
 "metadata": {
  "kernelspec": {
   "display_name": "Python 3 (ipykernel)",
   "language": "python",
   "name": "python3"
  },
  "language_info": {
   "codemirror_mode": {
    "name": "ipython",
    "version": 3
   },
   "file_extension": ".py",
   "mimetype": "text/x-python",
   "name": "python",
   "nbconvert_exporter": "python",
   "pygments_lexer": "ipython3",
   "version": "3.10.4"
  }
 },
 "nbformat": 4,
 "nbformat_minor": 5
}

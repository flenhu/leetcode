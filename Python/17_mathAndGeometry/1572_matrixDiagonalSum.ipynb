{
 "cells": [
  {
   "cell_type": "markdown",
   "id": "835c632c",
   "metadata": {},
   "source": [
    "#### [Python <img src=\"../../assets/pythonLogo.png\" alt=\"py logo\" style=\"height: 1em; vertical-align: sub;\">](../README.md) | Easy 🟢 | [Math & Geometry](README.md)\n",
    "# [1572. Matrix Diagonal Sum](https://leetcode.com/problems/matrix-diagonal-sum/description/) (not started 😕)"
   ]
  },
  {
   "cell_type": "markdown",
   "id": "b9441082",
   "metadata": {},
   "source": [
    "Given a square matrix `mat`, return the sum of the matrix diagonals.\n",
    "\n",
    "Only include the sum of all the elements on the primary diagonal and all the elements on the secondary diagonal that are not part of the primary diagonal.\n",
    "\n",
    "#### Example 1:\n",
    "![ex1](https://assets.leetcode.com/uploads/2020/08/14/sample_1911.png)\n",
    "> **Input:**  \n",
    "> `mat =`  \n",
    "> `[[1,2,3],`  \n",
    "> ` [4,5,6],`  \n",
    "> ` [7,8,9]]`  \n",
    "> **Output:** `25`  \n",
    "> **Explanation:** Diagonals sum: $1 + 5 + 9 + 3 + 7 = 25 $  \n",
    "> Notice that element `mat[1][1] = 5` is counted only once.\n",
    "\n",
    "#### Example 2:\n",
    "> **Input:**  \n",
    "> `mat = `  \n",
    "> `[[1,1,1,1],`  \n",
    "> ` [1,1,1,1],`  \n",
    "> ` [1,1,1,1],`  \n",
    "> ` [1,1,1,1]]`  \n",
    "> **Output:** `8`\n",
    "\n",
    "#### Example 3:\n",
    "> **Input:**  `mat = [[5]]`  \n",
    "> **Output:** `5`\n",
    "\n",
    "#### Constraints:\n",
    "- `n == mat.length == mat[i].length`\n",
    "- `1 <= n <= 100`\n",
    "- `1 <= mat[i][j] <= 100`\n"
   ]
  },
  {
   "cell_type": "markdown",
   "id": "5a871415",
   "metadata": {},
   "source": [
    "### Problem Explanation\n",
    "- \n",
    "\n",
    "***"
   ]
  },
  {
   "cell_type": "markdown",
   "id": "66c83cb9",
   "metadata": {},
   "source": [
    "# Approach: \n",
    "\n",
    "\n",
    "### Intuition\n",
    "\n",
    "\n",
    "### Algorithm\n"
   ]
  },
  {
   "cell_type": "markdown",
   "id": "7888762a",
   "metadata": {},
   "source": [
    "### Code Implementation"
   ]
  },
  {
   "cell_type": "code",
   "execution_count": null,
   "id": "e1d254e7",
   "metadata": {},
   "outputs": [],
   "source": []
  },
  {
   "cell_type": "markdown",
   "id": "ce05a3cf",
   "metadata": {},
   "source": [
    "### Testing"
   ]
  },
  {
   "cell_type": "code",
   "execution_count": null,
   "id": "4c5194cc",
   "metadata": {},
   "outputs": [],
   "source": []
  },
  {
   "cell_type": "markdown",
   "id": "8a5df28b",
   "metadata": {},
   "source": [
    "### Complexity Analysis\n",
    "- #### Time Complexity: \n",
    "    - \n",
    "- #### Space Complexity: \n",
    "    - \n",
    "***"
   ]
  },
  {
   "cell_type": "markdown",
   "id": "32c95f2b",
   "metadata": {},
   "source": [
    "# Approach 2:\n",
    "\n",
    "\n",
    "### Intuition\n",
    "\n",
    "\n",
    "### Algorithm\n"
   ]
  }
 ],
 "metadata": {
  "kernelspec": {
   "display_name": "Python 3 (ipykernel)",
   "language": "python",
   "name": "python3"
  },
  "language_info": {
   "codemirror_mode": {
    "name": "ipython",
    "version": 3
   },
   "file_extension": ".py",
   "mimetype": "text/x-python",
   "name": "python",
   "nbconvert_exporter": "python",
   "pygments_lexer": "ipython3",
   "version": "3.10.4"
  }
 },
 "nbformat": 4,
 "nbformat_minor": 5
}

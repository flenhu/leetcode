{
 "cells": [
  {
   "cell_type": "markdown",
   "id": "835c632c",
   "metadata": {},
   "source": [
    "#### [Python <img src=\"../../assets/pythonLogo.png\" alt=\"py logo\" style=\"height: 1em; vertical-align: sub;\">](../README.md) | Easy 🟢 | [Math & Geometry](README.md)\n",
    "# [66. Plus One ](https://leetcode.com/problems/plus-one/description/) (not started 😕)"
   ]
  },
  {
   "cell_type": "markdown",
   "id": "b9441082",
   "metadata": {},
   "source": [
    "You are given a **large integer** represented as an integer array `digits`, where each `digits[i]` is the `i-th` digit of the integer. The digits are ordered from most significant to least significant in left-to-right order. The large integer does not contain any leading `0`'s.\n",
    "\n",
    "Increment the large integer by one and return the resulting array of digits.\n",
    "\n",
    "#### Example 1:\n",
    "> **Input:** `digits = [1,2,3]`  \n",
    "> **Output:** `[1,2,4]`  \n",
    "> **Explanation:** The array represents the integer 123.  \n",
    "> Incrementing by one gives 123 + 1 = 124.  \n",
    "> Thus, the result should be [1,2,4].\n",
    "\n",
    "#### Example 2:\n",
    "> **Input:** `digits = [4,3,2,1]`  \n",
    "> **Output:** `[4,3,2,2]`  \n",
    "> **Explanation:** The array represents the integer 4321.  \n",
    "> Incrementing by one gives 4321 + 1 = 4322.  \n",
    "> Thus, the result should be [4,3,2,2].\n",
    "\n",
    "#### Example 3:\n",
    "> **Input:** `digits = [9]`  \n",
    "> **Output:** `[1,0]`  \n",
    "> **Explanation:** The array represents the integer 9.  \n",
    "> Incrementing by one gives 9 + 1 = 10.  \n",
    "> Thus, the result should be [1,0].\n",
    "\n",
    "#### Constraints:\n",
    "- `1 <= digits.length <= 100`\n",
    "- `0 <= digits[i] <= 9`\n",
    "- `digits` does not contain any leading `0`'s.\n"
   ]
  },
  {
   "cell_type": "markdown",
   "id": "5a871415",
   "metadata": {},
   "source": [
    "### Problem Explanation\n",
    "- \n",
    "\n",
    "***"
   ]
  },
  {
   "cell_type": "markdown",
   "id": "66c83cb9",
   "metadata": {},
   "source": [
    "# Approach: \n",
    "\n",
    "\n",
    "### Intuition\n",
    "\n",
    "\n",
    "### Algorithm\n"
   ]
  },
  {
   "cell_type": "markdown",
   "id": "7888762a",
   "metadata": {},
   "source": [
    "### Code Implementation"
   ]
  },
  {
   "cell_type": "code",
   "execution_count": null,
   "id": "e1d254e7",
   "metadata": {},
   "outputs": [],
   "source": []
  },
  {
   "cell_type": "markdown",
   "id": "ce05a3cf",
   "metadata": {},
   "source": [
    "### Testing"
   ]
  },
  {
   "cell_type": "code",
   "execution_count": null,
   "id": "4c5194cc",
   "metadata": {},
   "outputs": [],
   "source": []
  },
  {
   "cell_type": "markdown",
   "id": "8a5df28b",
   "metadata": {},
   "source": [
    "### Complexity Analysis\n",
    "- #### Time Complexity: \n",
    "    - \n",
    "- #### Space Complexity: \n",
    "    - \n",
    "***"
   ]
  },
  {
   "cell_type": "markdown",
   "id": "32c95f2b",
   "metadata": {},
   "source": [
    "# Approach 2:\n",
    "\n",
    "\n",
    "### Intuition\n",
    "\n",
    "\n",
    "### Algorithm\n"
   ]
  }
 ],
 "metadata": {
  "kernelspec": {
   "display_name": "Python 3 (ipykernel)",
   "language": "python",
   "name": "python3"
  },
  "language_info": {
   "codemirror_mode": {
    "name": "ipython",
    "version": 3
   },
   "file_extension": ".py",
   "mimetype": "text/x-python",
   "name": "python",
   "nbconvert_exporter": "python",
   "pygments_lexer": "ipython3",
   "version": "3.10.4"
  }
 },
 "nbformat": 4,
 "nbformat_minor": 5
}

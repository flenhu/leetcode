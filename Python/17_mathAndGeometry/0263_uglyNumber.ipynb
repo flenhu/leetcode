{
 "cells": [
  {
   "cell_type": "markdown",
   "id": "835c632c",
   "metadata": {},
   "source": [
    "#### [Python <img src=\"../../assets/pythonLogo.png\" alt=\"py logo\" style=\"height: 1em; vertical-align: sub;\">](../README.md) | Easy 🟢 | [Math & Geometry](README.md)\n",
    "# [263. Ugly Number](https://leetcode.com/problems/ugly-number/description/) (not started 😕)"
   ]
  },
  {
   "cell_type": "markdown",
   "id": "b9441082",
   "metadata": {},
   "source": [
    "An **ugly number** is a positive integer whose prime factors are limited to `2`, `3`, and `5`.\n",
    "\n",
    "Given an integer `n`, return `true` if `n` is an **ugly number**.\n",
    "\n",
    "#### Example 1:\n",
    "> **Input:** `n = 6`  \n",
    "> **Output:** `true`  \n",
    "> **Explanation:** $6 = 2 \\cdot 3$\n",
    "\n",
    "#### Example 2:\n",
    "> **Input:** `n = 1`  \n",
    "> **Output:** `true`  \n",
    "> **Explanation:** $1$ has no prime factors, therefore all of its prime factors are limited to $2$, $3$, and $5$.\n",
    "\n",
    "#### Example 3:\n",
    "> **Input:** `n = 14`  \n",
    "> **Output:** `false`  \n",
    "> **Explanation:** $14$ is not ugly since it includes the prime factor $7$.\n",
    "\n",
    "#### Constraints:\n",
    "- $-2^{31} \\leq$ `n` $\\leq 2^{31} - 1$\n"
   ]
  },
  {
   "cell_type": "markdown",
   "id": "5a871415",
   "metadata": {},
   "source": [
    "### Problem Explanation\n",
    "- \n",
    "\n",
    "***"
   ]
  },
  {
   "cell_type": "markdown",
   "id": "66c83cb9",
   "metadata": {},
   "source": [
    "# Approach: \n",
    "\n",
    "\n",
    "### Intuition\n",
    "\n",
    "\n",
    "### Algorithm\n"
   ]
  },
  {
   "cell_type": "markdown",
   "id": "7888762a",
   "metadata": {},
   "source": [
    "### Code Implementation"
   ]
  },
  {
   "cell_type": "code",
   "execution_count": null,
   "id": "e1d254e7",
   "metadata": {},
   "outputs": [],
   "source": []
  },
  {
   "cell_type": "markdown",
   "id": "ce05a3cf",
   "metadata": {},
   "source": [
    "### Testing"
   ]
  },
  {
   "cell_type": "code",
   "execution_count": null,
   "id": "4c5194cc",
   "metadata": {},
   "outputs": [],
   "source": []
  },
  {
   "cell_type": "markdown",
   "id": "8a5df28b",
   "metadata": {},
   "source": [
    "### Complexity Analysis\n",
    "- #### Time Complexity: \n",
    "    - \n",
    "- #### Space Complexity: \n",
    "    - \n",
    "***"
   ]
  },
  {
   "cell_type": "markdown",
   "id": "32c95f2b",
   "metadata": {},
   "source": [
    "# Approach 2:\n",
    "\n",
    "\n",
    "### Intuition\n",
    "\n",
    "\n",
    "### Algorithm\n"
   ]
  }
 ],
 "metadata": {
  "kernelspec": {
   "display_name": "Python 3 (ipykernel)",
   "language": "python",
   "name": "python3"
  },
  "language_info": {
   "codemirror_mode": {
    "name": "ipython",
    "version": 3
   },
   "file_extension": ".py",
   "mimetype": "text/x-python",
   "name": "python",
   "nbconvert_exporter": "python",
   "pygments_lexer": "ipython3",
   "version": "3.10.4"
  }
 },
 "nbformat": 4,
 "nbformat_minor": 5
}

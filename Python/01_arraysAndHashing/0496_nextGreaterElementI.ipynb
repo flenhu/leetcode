{
 "cells": [
  {
   "cell_type": "markdown",
   "id": "835c632c",
   "metadata": {},
   "source": [
    "#### [Python <img src=\"../../assets/pythonLogo.png\" alt=\"py logo\" style=\"height: 1em; vertical-align: sub;\">](../README.md) | Easy 🟢 | [Arrays & Hashing](README.md)\n",
    "# [496. Next Greater Element I](https://leetcode.com/problems/next-greater-element-i/description/) (in prog)"
   ]
  },
  {
   "cell_type": "markdown",
   "id": "7f10f1eb",
   "metadata": {},
   "source": [
    "The **next greater element** of some element `x` in an array is the **first greater** element that is **to the right** of `x` in the same array.\n",
    "\n",
    "You are given two **distinct 0-indexed** integer arrays `nums1` and `nums2`, where `nums1` is a subset of `nums2`.\n",
    "\n",
    "For each `0 <= i < nums1.length`, find the index `j` such that `nums1[i] == nums2[j]` and determine **the next greater element of `nums2[j]` in `nums2`. If there is no next greater element, then the answer for this query is `-1`.\n",
    "\n",
    "Return an array `ans` of length `nums1.length` such that `ans[i]` is the **next greater element** as described above.\n",
    "\n",
    "#### Example 1:  \n",
    "> **Input**: `nums1 = [4,1,2], nums2 = [1,3,4,2]`  \n",
    "> **Output**: `[-1,3,-1]`  \n",
    "> **Explanation**: The next greater element for each value of `nums1` is as follows:  \n",
    "> - `4` is underlined in `nums2 = [1,3,4,2]`. There is no next greater element, so the answer is `-1`.  \n",
    "> - `1` is underlined in `nums2 = [1,3,4,2]`. The next greater element is `3`.  \n",
    "> - `2` is underlined in `nums2 = [1,3,4,2]`. There is no next greater element, so the answer is `-1`.\n",
    "\n",
    "#### Example 2:\n",
    "> **Input**: `nums1 = [2,4]`, `nums2 = [1,2,3,4]`  \n",
    "> **Output**: `[3,-1]`  \n",
    "> **Explanation**: The next greater element for each value of `nums1` is as follows:  \n",
    "> - `2` is underlined in `nums2 = [1,2,3,4]`. The next greater element is `3`.  \n",
    "> - `4` is underlined in `nums2 = [1,2,3,4]`. There is no next greater element, so the answer is `-1`.\n",
    "\n",
    "#### Constraints:\n",
    "\n",
    "- $1 \\leq$ nums1.length $\\leq$ `nums2.length` $\\leq 1000$\n",
    "- $0 \\leq$ `nums1[i]`, `nums2[i]` $\\leq 10^4$\n",
    "- All integers in `nums1` and `nums2` are unique.\n",
    "- All the integers of `nums1` also appear in `nums2`.\n"
   ]
  },
  {
   "cell_type": "markdown",
   "id": "5a871415",
   "metadata": {},
   "source": [
    "### Problem Explanation\n",
    "- So we are given two arrays `nums1` and `nums2`.\n",
    "- `nums1` is a subset of `nums2`, and both arrays contain unique elements.\n",
    "- The goal is to find the **next greater element** for each element in `nums1` based on their positions on `nums2`. \n",
    "- The **next greater element** for an element `x` is the first element that is greater than `x` and is located to the right of `x` in `nums2`.\n",
    "    - If no such element exists, the results is `-1`. \n",
    "- Essentially, the task is to return an array of these next greater elements corresponding to the elements of `nums1` as they appear in `nums2`.\n",
    "***"
   ]
  },
  {
   "cell_type": "markdown",
   "id": "66c83cb9",
   "metadata": {},
   "source": [
    "# Approach 1: Stack\n",
    "\n",
    "### Intuition\n",
    "- A stack can be used to efficient track elements in `nums2` for which we have not yet found the next greater element.\n",
    "- As we traverse `nums2`, we use the stack to store elements until we a greater element. Once we find find a greater element, we resolve the next greater element for all elements in the stack that are smaller than the current element.\n",
    "\n",
    "### Algorithm\n",
    "1. Create a mapping of each element in `nums1` to its index.\n",
    "2. Initialize a result array with `-1` for each element in `nums1`.\n",
    "3. Use a stack to keep track of elements whose next greater element hasn't been found yet.\n",
    "4. Traverse through each element in `nums2`. For each element:\n",
    "    - Continuously pop element from the stack if the current element is greater than the element at the top of the stack. Then update the corresponding indices in the result array.\n",
    "    - If the current element is in `nums1`, puhs it onto the stack.\n",
    "5. Return the result array"
   ]
  },
  {
   "cell_type": "markdown",
   "id": "7888762a",
   "metadata": {},
   "source": [
    "## Code Implementation"
   ]
  },
  {
   "cell_type": "code",
   "execution_count": 1,
   "id": "e1d254e7",
   "metadata": {},
   "outputs": [],
   "source": [
    "from typing import List\n",
    "\n",
    "class Solution:\n",
    "    def nextGreaterElement(self, nums1: List[int], nums2: List[int]) -> List[int]:\n",
    "\n",
    "        \n",
    "        # Create a dictionary to store the index of each element in nums1\n",
    "        nums1_index = {value: index for index, value in enumerate(nums1)}\n",
    "        result = [-1] * len(nums1)  # Initialize the result list with -1\n",
    "        stack = []  # Create a stack to store the elements of nums2\n",
    "\n",
    "        for num in nums2:  # Iterate through the elements of nums2\n",
    "            while stack and num > stack[-1]:  # If the current element is greater than the top of the stack\n",
    "                top = stack.pop()  # Pop the top of the stack\n",
    "                result[nums1_index[top]] = num  # Set the result at the index of the top of the stack to the current element\n",
    "\n",
    "            # If the current element is in nums1, add it to the stack\n",
    "            if num in nums1:  \n",
    "                stack.append(num)  # Add the current element to the stack\n",
    "    \n",
    "        return result"
   ]
  },
  {
   "cell_type": "markdown",
   "id": "ce05a3cf",
   "metadata": {},
   "source": [
    "## Testing"
   ]
  },
  {
   "cell_type": "code",
   "execution_count": 2,
   "id": "4c5194cc",
   "metadata": {},
   "outputs": [
    {
     "name": "stdout",
     "output_type": "stream",
     "text": [
      "Test Case 1:\n",
      "nums1: [4, 1, 2]\n",
      "nums2: [1, 3, 4, 2]\n",
      "Expected Output: [-1, 3, -1]\n",
      "Actual Output: [-1, 3, -1]\n",
      "------------------------------\n",
      "Test Case 2:\n",
      "nums1: [2, 4]\n",
      "nums2: [1, 2, 3, 4]\n",
      "Expected Output: [3, -1]\n",
      "Actual Output: [3, -1]\n",
      "------------------------------\n",
      "Test Case 3:\n",
      "nums1: [1, 3]\n",
      "nums2: [4, 1, 2, 3]\n",
      "Expected Output: [2, -1]\n",
      "Actual Output: [2, -1]\n",
      "------------------------------\n"
     ]
    }
   ],
   "source": [
    "# Test Cases\n",
    "test_cases = [\n",
    "    ([4,1,2], [1,3,4,2], [-1,3,-1]),  # Test Case 1\n",
    "    ([2,4], [1,2,3,4], [3,-1]),        # Test Case 2\n",
    "    ([1,3], [4,1,2,3], [2,-1])         # Test Case 3\n",
    "]\n",
    "\n",
    "# Testing\n",
    "sol = Solution()\n",
    "for i, (nums1, nums2, expected) in enumerate(test_cases, 1):\n",
    "    result = sol.nextGreaterElement(nums1, nums2)\n",
    "    print(f\"Test Case {i}:\")\n",
    "    print(f\"nums1: {nums1}\")\n",
    "    print(f\"nums2: {nums2}\")\n",
    "    print(f\"Expected Output: {expected}\")\n",
    "    print(f\"Actual Output: {result}\")\n",
    "    print(\"---\" * 10)"
   ]
  },
  {
   "cell_type": "markdown",
   "id": "8a5df28b",
   "metadata": {},
   "source": [
    "## Complexity Analysis  \n",
    "\n",
    "- **Variables**:\n",
    "    - $n$ is the length of `nums1`\n",
    "    - $m$ is the length of `nums2`\n",
    "\n",
    "### Time Complexity:  $O(n + m)$\n",
    " -  Each element in both arrays is processed at most twice - once when added to the stack and once when popped.   \n",
    "### Space Complexity:  $O(n)$\n",
    " - This is because the algorithm uses a stack, a result array, and a hashmap, each of which can store up to n unique elements from nums1.\n",
    "***"
   ]
  },
  {
   "cell_type": "markdown",
   "id": "32c95f2b",
   "metadata": {},
   "source": [
    "# Approach 2: Brute Force\n",
    "\n",
    "## Intuition\n",
    "- The brute force method involves examining each element of `nums1` and then searching for its next greater lement in `nums2` by checking every subsequent element in `nums2`.\n",
    "\n",
    "\n",
    "## Algorithm\n",
    "1. Iterate through each element in `nums1`.\n",
    "2. For each element in `nums1`, find its position in `nums2`.\n",
    "3. Starting from this position in `nums2`, we look forward in nums2` for an element that is greater than the current element of `nums1`.\n",
    "4. If such an element is found, then it is the next greater element. If not, the result is `-1` for this element."
   ]
  },
  {
   "cell_type": "markdown",
   "id": "100b2038",
   "metadata": {},
   "source": [
    "## Code Implementation - Brute Force"
   ]
  },
  {
   "cell_type": "code",
   "execution_count": 3,
   "id": "158db1fc",
   "metadata": {},
   "outputs": [],
   "source": [
    "# brute force solution\n",
    "class Solution2:\n",
    "    def nextGreaterElement(self, nums1: List[int], nums2: List[int]) -> List[int]:\n",
    "        result = []  # Initialize the result list\n",
    "\n",
    "        # Iterate through the elements of nums1\n",
    "        for num1 in nums1:\n",
    "            found = False  # Initialize a flag to check if the next greater element is found\n",
    "            idx = nums2.index(num1)  # Get the index of the current element in nums2\n",
    "\n",
    "            # Iterate through the elements of nums2 starting from the index of the current element\n",
    "            for num2 in nums2[idx:]:\n",
    "                if num2 > num1:  # If the current element is greater than the current element in nums1\n",
    "                    result.append(num2)  # Add the current element to the result list\n",
    "                    found = True  # Set the flag to True\n",
    "                    break\n",
    "                \n",
    "            # If the next greater element is not found, add -1 to the result list\n",
    "            if not found:\n",
    "                result.append(-1)\n",
    "\n",
    "        return result"
   ]
  },
  {
   "cell_type": "markdown",
   "id": "7c99fd73",
   "metadata": {},
   "source": [
    "## Testing"
   ]
  },
  {
   "cell_type": "code",
   "execution_count": 4,
   "id": "7e306c03",
   "metadata": {},
   "outputs": [
    {
     "name": "stdout",
     "output_type": "stream",
     "text": [
      "Test Case 1:\n",
      "nums1: [4, 1, 2]\n",
      "nums2: [1, 3, 4, 2]\n",
      "Expected Output: [-1, 3, -1]\n",
      "Actual Output: [-1, 3, -1]\n",
      "------------------------------\n",
      "Test Case 2:\n",
      "nums1: [2, 4]\n",
      "nums2: [1, 2, 3, 4]\n",
      "Expected Output: [3, -1]\n",
      "Actual Output: [3, -1]\n",
      "------------------------------\n",
      "Test Case 3:\n",
      "nums1: [1, 3]\n",
      "nums2: [4, 1, 2, 3]\n",
      "Expected Output: [2, -1]\n",
      "Actual Output: [2, -1]\n",
      "------------------------------\n"
     ]
    }
   ],
   "source": [
    "# Test Cases\n",
    "test_cases = [\n",
    "    ([4,1,2], [1,3,4,2], [-1,3,-1]),  # Test Case 1\n",
    "    ([2,4], [1,2,3,4], [3,-1]),        # Test Case 2\n",
    "    ([1,3], [4,1,2,3], [2,-1])         # Test Case 3\n",
    "]\n",
    "\n",
    "# Testing\n",
    "sol2 = Solution2()\n",
    "for i, (nums1, nums2, expected) in enumerate(test_cases, 1):\n",
    "    result = sol2.nextGreaterElement(nums1, nums2)\n",
    "    print(f\"Test Case {i}:\")\n",
    "    print(f\"nums1: {nums1}\")\n",
    "    print(f\"nums2: {nums2}\")\n",
    "    print(f\"Expected Output: {expected}\")\n",
    "    print(f\"Actual Output: {result}\")\n",
    "    print(\"---\" * 10)"
   ]
  },
  {
   "cell_type": "markdown",
   "id": "50c54ef2",
   "metadata": {},
   "source": [
    "## Complexity Analysis  \n",
    "\n",
    "- **Variables**:\n",
    "    - $n$ is the length of `nums1`\n",
    "    - $m$ is the length of `nums2`\n",
    "\n",
    "### Time Complexity:  $O(n \\cdot m)$\n",
    " -  For each element in nums1, the algorithm potentially scans through the entire nums2 array to find the next greater element.  \n",
    "\n",
    "### Space Complexity:  $O(n)$\n",
    " -  The space complexity is dictated by the size of the result array which stores the next greater element for each element in nums1. There is no additional significant space usage in the algorithm.\n",
    "***"
   ]
  }
 ],
 "metadata": {
  "kernelspec": {
   "display_name": "Python 3 (ipykernel)",
   "language": "python",
   "name": "python3"
  },
  "language_info": {
   "codemirror_mode": {
    "name": "ipython",
    "version": 3
   },
   "file_extension": ".py",
   "mimetype": "text/x-python",
   "name": "python",
   "nbconvert_exporter": "python",
   "pygments_lexer": "ipython3",
   "version": "3.10.4"
  }
 },
 "nbformat": 4,
 "nbformat_minor": 5
}

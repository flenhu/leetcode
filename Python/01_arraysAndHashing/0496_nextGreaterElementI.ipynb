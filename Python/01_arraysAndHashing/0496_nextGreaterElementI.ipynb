{
 "cells": [
  {
   "cell_type": "markdown",
   "id": "835c632c",
   "metadata": {},
   "source": [
    "#### [Python <img src=\"../../assets/pythonLogo.png\" alt=\"py logo\" style=\"height: 1em; vertical-align: sub;\">](../README.md) | Easy 🟢 | [Arrays & Hashing](README.md)\n",
    "# [496. Next Greater Element I](https://leetcode.com/problems/next-greater-element-i/description/) (in prog)"
   ]
  },
  {
   "cell_type": "markdown",
   "id": "7f10f1eb",
   "metadata": {},
   "source": [
    "The **next greater element** of some element `x` in an array is the **first greater** element that is **to the right** of `x` in the same array.\n",
    "\n",
    "You are given two **distinct 0-indexed** integer arrays `nums1` and `nums2`, where `nums1` is a subset of `nums2`.\n",
    "\n",
    "For each `0 <= i < nums1.length`, find the index `j` such that `nums1[i] == nums2[j]` and determine **the next greater element of `nums2[j]` in `nums2`. If there is no next greater element, then the answer for this query is `-1`.\n",
    "\n",
    "Return an array `ans` of length `nums1.length` such that `ans[i]` is the **next greater element** as described above.\n",
    "\n",
    "#### Example 1:  \n",
    "> **Input**: `nums1 = [4,1,2], nums2 = [1,3,4,2]`  \n",
    "> **Output**: `[-1,3,-1]`  \n",
    "> **Explanation**: The next greater element for each value of `nums1` is as follows:  \n",
    "> - `4` is underlined in `nums2 = [1,3,4,2]`. There is no next greater element, so the answer is `-1`.  \n",
    "> - `1` is underlined in `nums2 = [1,3,4,2]`. The next greater element is `3`.  \n",
    "> - `2` is underlined in `nums2 = [1,3,4,2]`. There is no next greater element, so the answer is `-1`.\n",
    "\n",
    "#### Example 2:\n",
    "> **Input**: `nums1 = [2,4]`, `nums2 = [1,2,3,4]`  \n",
    "> **Output**: `[3,-1]`  \n",
    "> **Explanation**: The next greater element for each value of `nums1` is as follows:  \n",
    "> - `2` is underlined in `nums2 = [1,2,3,4]`. The next greater element is `3`.  \n",
    "> - `4` is underlined in `nums2 = [1,2,3,4]`. There is no next greater element, so the answer is `-1`.\n",
    "\n",
    "#### Constraints:\n",
    "\n",
    "- $1 \\leq$ nums1.length $\\leq$ `nums2.length` $\\leq 1000$\n",
    "- $0 \\leq$ `nums1[i]`, `nums2[i]` $\\leq 10^4$\n",
    "- All integers in `nums1` and `nums2` are unique.\n",
    "- All the integers of `nums1` also appear in `nums2`.\n"
   ]
  },
  {
   "cell_type": "markdown",
   "id": "5a871415",
   "metadata": {},
   "source": [
    "### Problem Explanation\n",
    "- So we are given two arrays `nums1` and `nums2`.\n",
    "- `nums1` is a subset of `nums2`, and both arrays contain unique elements.\n",
    "- The goal is to find the **next greater element** for each element in `nums1` based on their positions on `nums2`. \n",
    "- The **next greater element** for an element `x` is the first element that is greater than `x` and is located to the right of `x` in `nums2`.\n",
    "    - If no such element exists, the results is `-1`. \n",
    "- Essentially, the task is to return an array of these next greater elements corresponding to the elements of `nums1` as they appear in `nums2`.\n",
    "***"
   ]
  },
  {
   "cell_type": "markdown",
   "id": "66c83cb9",
   "metadata": {},
   "source": [
    "# Approach: Stack\n",
    "\n",
    "### Intuition\n",
    "- A stack can be used to efficient track elements in `nums2` for which we have not yet found the next greater element.\n",
    "- As we traverse `nums2`, we use the stack to store elements until we a greater element. Once we find find a greater element, we resolve the next greater element for all elements in the stack that are smaller than the current element.\n",
    "\n",
    "### Algorithm\n"
   ]
  },
  {
   "cell_type": "markdown",
   "id": "7888762a",
   "metadata": {},
   "source": [
    "### Code Implementation"
   ]
  },
  {
   "cell_type": "code",
   "execution_count": null,
   "id": "e1d254e7",
   "metadata": {},
   "outputs": [],
   "source": []
  },
  {
   "cell_type": "markdown",
   "id": "ce05a3cf",
   "metadata": {},
   "source": [
    "### Testing"
   ]
  },
  {
   "cell_type": "code",
   "execution_count": null,
   "id": "4c5194cc",
   "metadata": {},
   "outputs": [],
   "source": []
  },
  {
   "cell_type": "markdown",
   "id": "8a5df28b",
   "metadata": {},
   "source": [
    "### Complexity Analysis\n",
    "- #### Time Complexity: \n",
    "    - \n",
    "- #### Space Complexity: \n",
    "    - \n",
    "***"
   ]
  },
  {
   "cell_type": "markdown",
   "id": "32c95f2b",
   "metadata": {},
   "source": [
    "# Approach 2:\n",
    "\n",
    "\n",
    "### Intuition\n",
    "\n",
    "\n",
    "### Algorithm\n"
   ]
  }
 ],
 "metadata": {
  "kernelspec": {
   "display_name": "Python 3 (ipykernel)",
   "language": "python",
   "name": "python3"
  },
  "language_info": {
   "codemirror_mode": {
    "name": "ipython",
    "version": 3
   },
   "file_extension": ".py",
   "mimetype": "text/x-python",
   "name": "python",
   "nbconvert_exporter": "python",
   "pygments_lexer": "ipython3",
   "version": "3.10.4"
  }
 },
 "nbformat": 4,
 "nbformat_minor": 5
}

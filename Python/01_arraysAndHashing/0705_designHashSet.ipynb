{
 "cells": [
  {
   "cell_type": "markdown",
   "id": "835c632c",
   "metadata": {},
   "source": [
    "#### [Python <img src=\"../../assets/pythonLogo.png\" alt=\"py logo\" style=\"height: 1em; vertical-align: sub;\">](../README.md) | Easy 🟢 | [Arrays & Hashing](README.md)\n",
    "# [705. Design HashSet](https://leetcode.com/problems/design-hashset/description/) (Not started 😕)"
   ]
  },
  {
   "cell_type": "markdown",
   "id": "b9441082",
   "metadata": {},
   "source": [
    "Design a HashSet without using any built-in hash table libraries.\n",
    "\n",
    "Implement `MyHashSet` class:\n",
    "- `void add(key)` Inserts the value `key` into the HashSet.\n",
    "- `bool contains(key)` Returns whether the value `key` exists in the HashSet or not.\n",
    "- `void remove(key)` Removes the value `key` in the HashSet. If `key` does not exist in the HashSet, do nothing.\n",
    " \n",
    "#### Example 1:\n",
    "> **Input**:  \n",
    "> `[\"MyHashSet\", \"add\", \"add\", \"contains\", \"contains\", \"add\", \"contains\", \"remove\", \"contains\"]`  \n",
    "> `[[], [1], [2], [1], [3], [2], [2], [2], [2]]`  \n",
    "> **Output**:  \n",
    "> `[null, null, null, true, false, null, true, null, false]`  \n",
    "> \n",
    "> **Explanation**  \n",
    "> `MyHashSet myHashSet = new MyHashSet();`  \n",
    "> `myHashSet.add(1);`      // set = [1]  \n",
    "> `myHashSet.add(2);`      // set = [1, 2]  \n",
    "> `myHashSet.contains(1);` // return True  \n",
    "> `myHashSet.contains(3);` // return False, (not found)  \n",
    "> `myHashSet.add(2);`      // set = [1, 2]  \n",
    "> `myHashSet.contains(2);` // return True  \n",
    "> `myHashSet.remove(2);`   // set = [1]  \n",
    "> `myHashSet.contains(2);` // return False, (already removed)\n",
    "\n",
    "#### Constraints:\n",
    "- $0 \\leq$ `key` $ \\leq 10^6$\n",
    "- At most $10^4$ calls will be made to add, remove, and contains.\n"
   ]
  },
  {
   "cell_type": "markdown",
   "id": "5a871415",
   "metadata": {},
   "source": [
    "## Problem Explanation\n",
    "- The task here is to design a simple HashSet, which is a data structure that stores a collection of unique elements.\n",
    "- Unlike a list or array, a HashSet does not allow for duplicate elements, and the order of elements is not guaranteed.\n",
    "- The challenge is to implement this functionality without using or reluing on built-in hash table libraries, there are several methods and adata structures we can do this with.\n",
    "***"
   ]
  },
  {
   "cell_type": "markdown",
   "id": "66c83cb9",
   "metadata": {},
   "source": [
    "# Approach 1: Dynamic Array as a Bucket\n",
    "For this approach we'll use a dynamic array (aka Python List) to store elements of the HashSet. Each element will be placed directly into the array, with a few checks in place to ensure we don't have duplicates inserted\n",
    "\n",
    "## Intuition\n",
    "- The dynamic array offers a straightforward way to store elements with constant-time access for adding, checking, and removing elements. (Assuming that these operations are not frequently performed at a large scale.\n",
    "- This approach leverages Python's built-in list operations to manage elements, which will give a pretty straightforward implementation framework for the HashSet.\n",
    "\n",
    "## Algorithm\n",
    "1. **Initialization**: Create an empty dynamic array to represent the `HashSet`.\n",
    "2. **`Add(key)`:** \n",
    "    - Before adding a new `key`, check if it already exists in the `HashSet` to maintain the uniqueness of elements.\n",
    "    - If the key is not present, append it to the array.\n",
    "3. **`Remove(key)`:** \n",
    "    - Check if the key already exists in the `HashSet`.\n",
    "    - If so, remove the key from the array.\n",
    "4. **`Contains(key)`:** \n",
    "    - Return `True` if the key exists in the `HashSet`; otherwise return `False`."
   ]
  },
  {
   "cell_type": "markdown",
   "id": "7888762a",
   "metadata": {},
   "source": [
    "### Code Implementation"
   ]
  },
  {
   "cell_type": "code",
   "execution_count": null,
   "id": "e1d254e7",
   "metadata": {},
   "outputs": [],
   "source": []
  },
  {
   "cell_type": "markdown",
   "id": "ce05a3cf",
   "metadata": {},
   "source": [
    "### Testing"
   ]
  },
  {
   "cell_type": "code",
   "execution_count": null,
   "id": "4c5194cc",
   "metadata": {},
   "outputs": [],
   "source": []
  },
  {
   "cell_type": "markdown",
   "id": "8a5df28b",
   "metadata": {},
   "source": [
    "### Complexity Analysis\n",
    "- #### Time Complexity: \n",
    "    - \n",
    "- #### Space Complexity: \n",
    "    - \n",
    "***"
   ]
  },
  {
   "cell_type": "markdown",
   "id": "32c95f2b",
   "metadata": {},
   "source": [
    "# Approach 2:\n",
    "\n",
    "\n",
    "### Intuition\n",
    "\n",
    "\n",
    "### Algorithm\n"
   ]
  }
 ],
 "metadata": {
  "kernelspec": {
   "display_name": "Python 3 (ipykernel)",
   "language": "python",
   "name": "python3"
  },
  "language_info": {
   "codemirror_mode": {
    "name": "ipython",
    "version": 3
   },
   "file_extension": ".py",
   "mimetype": "text/x-python",
   "name": "python",
   "nbconvert_exporter": "python",
   "pygments_lexer": "ipython3",
   "version": "3.10.4"
  }
 },
 "nbformat": 4,
 "nbformat_minor": 5
}

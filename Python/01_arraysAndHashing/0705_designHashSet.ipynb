{
 "cells": [
  {
   "cell_type": "markdown",
   "id": "835c632c",
   "metadata": {},
   "source": [
    "#### [Python <img src=\"../../assets/pythonLogo.png\" alt=\"py logo\" style=\"height: 1em; vertical-align: sub;\">](../README.md) | Easy 🟢 | [Arrays & Hashing](README.md)\n",
    "# [705. Design HashSet](https://leetcode.com/problems/design-hashset/description/) (In prog 👷)"
   ]
  },
  {
   "cell_type": "markdown",
   "id": "b9441082",
   "metadata": {},
   "source": [
    "Design a HashSet without using any built-in hash table libraries.\n",
    "\n",
    "Implement `MyHashSet` class:\n",
    "- `void add(key)` Inserts the value `key` into the HashSet.\n",
    "- `bool contains(key)` Returns whether the value `key` exists in the HashSet or not.\n",
    "- `void remove(key)` Removes the value `key` in the HashSet. If `key` does not exist in the HashSet, do nothing.\n",
    " \n",
    "#### Example 1:\n",
    "> **Input**:  \n",
    "> `[\"MyHashSet\", \"add\", \"add\", \"contains\", \"contains\", \"add\", \"contains\", \"remove\", \"contains\"]`  \n",
    "> `[[], [1], [2], [1], [3], [2], [2], [2], [2]]`  \n",
    "> **Output**:  \n",
    "> `[null, null, null, true, false, null, true, null, false]`  \n",
    "> \n",
    "> **Explanation**  \n",
    "> `MyHashSet myHashSet = new MyHashSet();`  \n",
    "> `myHashSet.add(1);`      // set = [1]  \n",
    "> `myHashSet.add(2);`      // set = [1, 2]  \n",
    "> `myHashSet.contains(1);` // return True  \n",
    "> `myHashSet.contains(3);` // return False, (not found)  \n",
    "> `myHashSet.add(2);`      // set = [1, 2]  \n",
    "> `myHashSet.contains(2);` // return True  \n",
    "> `myHashSet.remove(2);`   // set = [1]  \n",
    "> `myHashSet.contains(2);` // return False, (already removed)\n",
    "\n",
    "#### Constraints:\n",
    "- $0 \\leq$ `key` $ \\leq 10^6$\n",
    "- At most $10^4$ calls will be made to add, remove, and contains.\n"
   ]
  },
  {
   "cell_type": "markdown",
   "id": "5a871415",
   "metadata": {},
   "source": [
    "## Problem Explanation\n",
    "- The task here is to design a simple HashSet, which is a data structure that stores a collection of unique elements.\n",
    "- Unlike a list or array, a HashSet does not allow for duplicate elements, and the order of elements is not guaranteed.\n",
    "- The challenge is to implement this functionality without using or reluing on built-in hash table libraries, there are several methods and adata structures we can do this with.\n",
    "***"
   ]
  },
  {
   "cell_type": "markdown",
   "id": "66c83cb9",
   "metadata": {},
   "source": [
    "# Approach 1: Dynamic Array as a Bucket\n",
    "For this approach we'll use a dynamic array (aka Python List) to store elements of the HashSet. Each element will be placed directly into the array, with a few checks in place to ensure we don't have duplicates inserted\n",
    "\n",
    "## Intuition\n",
    "- The dynamic array offers a straightforward way to store elements with constant-time access for adding, checking, and removing elements. (Assuming that these operations are not frequently performed at a large scale.\n",
    "- This approach leverages Python's built-in list operations to manage elements, which will give a pretty straightforward implementation framework for the HashSet.\n",
    "\n",
    "## Algorithm\n",
    "1. **Initialization**: Create an empty dynamic array to represent the `HashSet`.\n",
    "2. **`Add(key)`:** \n",
    "    - Before adding a new `key`, check if it already exists in the `HashSet` to maintain the uniqueness of elements.\n",
    "    - If the key is not present, append it to the array.\n",
    "3. **`Remove(key)`:** \n",
    "    - Check if the key already exists in the `HashSet`.\n",
    "    - If so, remove the key from the array.\n",
    "4. **`Contains(key)`:** \n",
    "    - Return `True` if the key exists in the `HashSet`; otherwise return `False`."
   ]
  },
  {
   "cell_type": "markdown",
   "id": "7888762a",
   "metadata": {},
   "source": [
    "## Code Implementation"
   ]
  },
  {
   "cell_type": "code",
   "execution_count": 1,
   "id": "e1d254e7",
   "metadata": {},
   "outputs": [],
   "source": [
    "class MyHashSet:\n",
    "\n",
    "    def __init__(self):\n",
    "        # Initialize the dynamic array for the HashSet\n",
    "        self.hashset = []\n",
    "\n",
    "    def add(self, key: int) -> None:\n",
    "        # Add a key to the HashSet if it's not already present\n",
    "        if not self.contains(key):\n",
    "            self.hashset.append(key)\n",
    "\n",
    "    def remove(self, key: int) -> None:\n",
    "        # Remove the key from the HashSet if it exists\n",
    "        if self.contains(key):\n",
    "            self.hashset.remove(key)\n",
    "\n",
    "    def contains(self, key: int) -> bool:\n",
    "        # Check if the key exists in the HashSet\n",
    "        return key in self.hashset\n",
    "\n",
    "# Your MyHashSet object will be instantiated and called as such:\n",
    "# obj = MyHashSet()\n",
    "# obj.add(key)\n",
    "# obj.remove(key)\n",
    "# param_3 = obj.contains(key)"
   ]
  },
  {
   "cell_type": "markdown",
   "id": "ce05a3cf",
   "metadata": {},
   "source": [
    "### Testing"
   ]
  },
  {
   "cell_type": "code",
   "execution_count": 13,
   "id": "4c5194cc",
   "metadata": {
    "scrolled": true
   },
   "outputs": [
    {
     "name": "stdout",
     "output_type": "stream",
     "text": [
      "Approach: Dynamic Array as a Bucket\n",
      "Testing Implementation of MyHashSet\n",
      "-----------------------------------\n",
      "After 'add(1)': HashSet state = [1]\n",
      "Test 1: Passed.\n",
      "After 'add(2)': HashSet state = [1, 2]\n",
      "Test 2: Passed.\n",
      "Operation 'contains(1)': Expected = True, Got = True\n",
      "Test 3: Passed.\n",
      "Operation 'contains(3)': Expected = False, Got = False\n",
      "Test 4: Passed.\n",
      "After 'add(2)': HashSet state = [1, 2]\n",
      "Test 5: Passed.\n",
      "Operation 'contains(2)': Expected = True, Got = True\n",
      "Test 6: Passed.\n",
      "After 'remove(2)': HashSet state = [1]\n",
      "Test 7: Passed.\n",
      "Operation 'contains(2)': Expected = False, Got = False\n",
      "Test 8: Passed.\n",
      "All tests passed for MyHashSet.\n"
     ]
    }
   ],
   "source": [
    "def test_myHashSet(HashSetClass):\n",
    "    print(\"Testing Implementation of MyHashSet\")\n",
    "    print(\"-----------------------------------\")\n",
    "\n",
    "    # Initialize the HashSet with the given class\n",
    "    myHashSet = HashSetClass()\n",
    "    simulated_state = set()  # Simulate the expected state of the HashSet for display\n",
    "    operations = [\n",
    "        ('add', 1),\n",
    "        ('add', 2),\n",
    "        ('contains', 1, True),\n",
    "        ('contains', 3, False),\n",
    "        ('add', 2),  # Duplicate add to test idempotence\n",
    "        ('contains', 2, True),\n",
    "        ('remove', 2),\n",
    "        ('contains', 2, False)\n",
    "    ]\n",
    "\n",
    "    test_passed = True\n",
    "    test_counter = 1\n",
    "\n",
    "    for operation in operations:\n",
    "        op, key, *expected_result = operation\n",
    "\n",
    "        if op == 'add':\n",
    "            myHashSet.add(key)\n",
    "            simulated_state.add(key)\n",
    "            print(f\"After '{op}({key})': HashSet state = {sorted(simulated_state)}\")\n",
    "        elif op == 'remove':\n",
    "            myHashSet.remove(key)\n",
    "            simulated_state.discard(key)  # Use discard to avoid KeyError if key is not present\n",
    "            print(f\"After '{op}({key})': HashSet state = {sorted(simulated_state)}\")\n",
    "        elif op == 'contains':\n",
    "            result = myHashSet.contains(key)\n",
    "            expected = expected_result[0]\n",
    "            print(f\"Operation '{op}({key})': Expected = {expected}, Got = {result}\")\n",
    "            if result == expected:\n",
    "                print(f\"Test {test_counter}: Passed.\")\n",
    "            else:\n",
    "                print(f\"Test {test_counter}: Failed. Expected = {expected}, Got = {result}\")\n",
    "                test_passed = False\n",
    "            test_counter += 1\n",
    "            continue  # Skip the next print statement for 'contains' operation\n",
    "\n",
    "        print(f\"Test {test_counter}: Passed.\")\n",
    "        test_counter += 1\n",
    "\n",
    "    if test_passed:\n",
    "        print(\"All tests passed for MyHashSet.\")\n",
    "    else:\n",
    "        print(\"Some tests failed for MyHashSet.\")\n",
    "\n",
    "print(\"Approach: Dynamic Array as a Bucket\")\n",
    "test_myHashSet(MyHashSet)\n"
   ]
  },
  {
   "cell_type": "markdown",
   "id": "8a5df28b",
   "metadata": {},
   "source": [
    "## Complexity Analysis\n",
    "- ### Time Complexity: \n",
    "    - **`add(key)`:** $O(n)$ in the worst case, since we need to check if the key exists before adding it.\n",
    "    - **`remove(key)`:** $O(n)$ since it needs to search the key before removing it.\n",
    "    - **`contains(key)`:** $O(n)$ due to the search through of the array to find the key.\n",
    "- ### Space Complexity: $O(n)$\n",
    "    - $n$ is the number of unique keys added to the HashSet. This space is required to store the keys in the dynamic array.\n",
    "***"
   ]
  },
  {
   "cell_type": "markdown",
   "id": "32c95f2b",
   "metadata": {},
   "source": [
    "# Approach 2: Array of Buckets with Chaining\n",
    "So, we are going to stick with using an array and this time use is to store buckets, where each bucket is a list that chains together all the elements that hash to the same index. This is a classical approach to handling collisions in a hash table.\n",
    "\n",
    "## Intuition\n",
    "- The main idea is to distribute all possible keys evenly across a fixed number of buckets to minimize the chances of collisions.\n",
    "- When a collision does occur (i.e. two different keys hash to the same bucket), the colliding elements are stored together in a list (the chain) at that bucket's index. \n",
    "- By doing so, the load is distributed, and while searching for an element, we only need to look through the elements in the corresponding bucket.\n",
    "\n",
    "## Algorithm\n",
    "1. **Initialization:** Create an array of empty buckets (lists) based on a predefined size. (We can call this `numBuckets`.)\n",
    "2. **Hash Function (`hash:`):** Using a simple mod operation `key % numBuckets` can uniformly distribute the keys to the available buckets.\n",
    "3. **`add(key)`:**\n",
    "    - Compute the index for the key\n",
    "    - Add the key to the bucket if it's not already present to ensure uniqueness within the `HashSet`.\n",
    "4. **`remove(key)`:**\n",
    "    - Find a bucket where the key would be\n",
    "    - Remove the key from the bucket if present\n",
    "5. **`contains(key)`:**\n",
    "    - Check if the key is in the corresponding bucket"
   ]
  },
  {
   "cell_type": "markdown",
   "id": "9de310c2",
   "metadata": {},
   "source": [
    "## Code Implementation"
   ]
  },
  {
   "cell_type": "code",
   "execution_count": 10,
   "id": "259d822e",
   "metadata": {},
   "outputs": [],
   "source": [
    "class MyHashSet2:\n",
    "    def __init__(self, numBuckets=1000):\n",
    "        # Initialize the buckets for the HashSet\n",
    "        self.buckets = [[] for _ in range(numBuckets)]\n",
    "        self.numBuckets = numBuckets    # Number of buckets in the HashSet\n",
    "\n",
    "    # the underscore means that this method is private\n",
    "    def _hash(self, key):\n",
    "        return key % self.numBuckets    # Hash function to determine the bucket index\n",
    "    \n",
    "    def add(self, key: int) -> None:\n",
    "        bucket_index = self._hash(key)  # Find the bucket index for the key\n",
    "        if key not in self.buckets[bucket_index]:  # Add the key to the bucket if it's not present\n",
    "            self.buckets[bucket_index].append(key)\n",
    "    \n",
    "    def remove(self, key: int) -> None:\n",
    "        bucket_index = self._hash(key)  # Find the bucket index for the key\n",
    "        bucket = self.buckets[bucket_index] # Get the bucket for the key\n",
    "        if key in bucket:   # Remove the key from the bucket if it's present\n",
    "            bucket.remove(key)\n",
    "    \n",
    "    def contains(self, key: int) -> bool:\n",
    "        bucket_index = self._hash(key)  # Find the bucket index for the key\n",
    "        return key in self.buckets[bucket_index]    # Check if the key exists in the bucket"
   ]
  },
  {
   "cell_type": "markdown",
   "id": "a453d779",
   "metadata": {},
   "source": [
    "## Testing"
   ]
  },
  {
   "cell_type": "code",
   "execution_count": 14,
   "id": "92cff817",
   "metadata": {},
   "outputs": [
    {
     "name": "stdout",
     "output_type": "stream",
     "text": [
      "Approach: Array of Buckets with Chaining\n",
      "Testing Implementation of MyHashSet\n",
      "-----------------------------------\n",
      "After 'add(1)': HashSet state = [1]\n",
      "Test 1: Passed.\n",
      "After 'add(2)': HashSet state = [1, 2]\n",
      "Test 2: Passed.\n",
      "Operation 'contains(1)': Expected = True, Got = True\n",
      "Test 3: Passed.\n",
      "Operation 'contains(3)': Expected = False, Got = False\n",
      "Test 4: Passed.\n",
      "After 'add(2)': HashSet state = [1, 2]\n",
      "Test 5: Passed.\n",
      "Operation 'contains(2)': Expected = True, Got = True\n",
      "Test 6: Passed.\n",
      "After 'remove(2)': HashSet state = [1]\n",
      "Test 7: Passed.\n",
      "Operation 'contains(2)': Expected = False, Got = False\n",
      "Test 8: Passed.\n",
      "All tests passed for MyHashSet.\n"
     ]
    }
   ],
   "source": [
    "print(\"Approach: Array of Buckets with Chaining\")\n",
    "test_myHashSet(MyHashSet2)"
   ]
  },
  {
   "cell_type": "markdown",
   "id": "de6069bb",
   "metadata": {},
   "source": [
    "## Complexity Analysis\n",
    "- **Variables**:\n",
    "    - $n$ is the number of elements\n",
    "    - $k$ is the number of buckets\n",
    "    - $m$ is the number of unique elements inserted into the HashSet.\n",
    "    \n",
    "- ### Time Complexity: \n",
    "    - **Average case for add, remove, & contains:** $O(1 + \\frac{n}{k})$\n",
    "        - Ideally, the hash function should distribute the elements uniformly across the buckets. \n",
    "        - Assuming that there is a good distribution, the average time complexity should be $O(1 + \\frac{n}{k})$, where $\\frac{n}{k})$ represents the average number of elements per bucket, this is also known as the load factor.\n",
    "        - However, since the load factor $\\frac{n}{k}$ is likely to be low and $k$ being sufficiently large, we can approximate the average time to $O(1)$ in the best case.\n",
    "    - **Worst Case:**\n",
    "        - The worst case for the operations would degrade to $O(n)$ in scenarios where the hash function doesn't distribute the elements evenly, which would cause a bunch of elements to be grouped in a single bucket.\n",
    "- ### Space Complexity: $O(k + m)$\n",
    "    - This reflects the space being used since $k$ is the number of buckets which is a fixed amount, and $m$ is the number of unique elements being inserted into the `HashSet`.\n",
    "    - $O(k)$ accounts for the initial array of bucket lists.\n",
    "    - $O(m)$ accounts for the actual data (unique elements) being stored into the `HashSet`.\n",
    "***"
   ]
  },
  {
   "cell_type": "markdown",
   "id": "d41d9e77",
   "metadata": {},
   "source": [
    "# Approach 3: LinkedList as Bucket\n",
    "This approach to implement a HashSet uses an array of linked lists in the form of buckets, where each bucket is responsible for storing all the keys that hash to the same index. This approach is similar to the previous and also utilizes \"chaining.\n",
    "\n",
    "## Intuition\n",
    "- The primary intuition behind using a LinkedList is that they let us handle collisions efficiently. \n",
    "- When two or more keys hash to the same index, rather than overwriting the existing key, the new key added to the end of the linked list at that index. This way each bucket can store multiple keys, and the linked list structure allows for efficient insertion and deletion.\n",
    "\n",
    "## Algorithm\n",
    "1. **Initialization:** Create an array where each element is the head of a linked list (which is initially `null`) to represent the buckets.\n",
    "2. **Hash Function:** A simple hash function that maps a key to a bucket index. This is usually done by the modulus operation (i.e. `key % number_of_buckets`).\n",
    "3. **Add key:**\n",
    "    - Compute the bucket index for the key.\n",
    "    - Check if the key already exists in the linked list at that bucket index. If it doesn't, insert it to the beginning or end of the list.\n",
    "4. **Remove key:**\n",
    "    - Find the bucket for the key.\n",
    "    - Search the linked list at that index for the key and remove it if found.\n",
    "5. **Contains Key**:\n",
    "    - Determine the bucket index for the key.\n",
    "    - Search the linked list at that bucket index to check if the key exists."
   ]
  },
  {
   "cell_type": "markdown",
   "id": "5ad93e83",
   "metadata": {},
   "source": [
    "## Code Implementation"
   ]
  },
  {
   "cell_type": "code",
   "execution_count": 15,
   "id": "9c23a0bc",
   "metadata": {},
   "outputs": [],
   "source": [
    "class ListNode:\n",
    "    def __init__(self, key, next=None):\n",
    "        self.key = key\n",
    "        self.next = next\n",
    "\n",
    "class MyHashSet3:\n",
    "    def __init__(self):\n",
    "        self.size = 1000                     # size of the HashSet\n",
    "        self.buckets = [None] * self.size    # Initialize the buckets for the HashSet\n",
    "\n",
    "    def _hash(self, key):\n",
    "        return key % self.size    # Hash function to determine the bucket index\n",
    "    \n",
    "    def add(self, key: int) -> None:\n",
    "        index = self._hash(key)    # Find the bucket index for the key\n",
    "        if not self.buckets[index]:         # If the bucket is empty, create a new ListNode with the key\n",
    "            self.buckets[index] = ListNode(key)\n",
    "        else:                    # If the bucket is not empty, traverse the list to find the key\n",
    "            curr = self.buckets[index]     \n",
    "            while curr.next:        \n",
    "                if curr.key == key:     # key already exists, return   \n",
    "                    return\n",
    "                if not curr.next:      \n",
    "                    curr.next = ListNode(key)       # insert the key at the end of the list\n",
    "                    return\n",
    "                curr = curr.next            \n",
    "\n",
    "    def remove(self, key: int) -> None: \n",
    "        index = self._hash(key)    # Find the bucket index for the key\n",
    "        curr = self.buckets[index] # Get the head node for the bucket\n",
    "        prev = None               # Initialize the previous node to None\n",
    "        while curr:\n",
    "            if curr.key == key:     # If the key is found\n",
    "                if prev:        # If the previous node exists\n",
    "                    prev.next = curr.next       # remove by skipping the current node\n",
    "                else:       # If the previous node does not exist\n",
    "                    self.buckets[index] = curr.next     # remove the head node\n",
    "                return    # return after removing the key\n",
    "            prev = curr                     # update the previous node\n",
    "            curr = curr.next                # move to the next node\n",
    "    \n",
    "    def contains(self, key: int) -> bool:\n",
    "        index = self._hash(key)    # Find the bucket index for the key\n",
    "        curr = self.buckets[index]\n",
    "        while curr:             # Traverse the list to find the key\n",
    "            if curr.key == key:    # If the key is found, return True\n",
    "                return True\n",
    "            curr = curr.next        # Move to the next node\n",
    "        return False        # If the key is not found, return False"
   ]
  },
  {
   "cell_type": "markdown",
   "id": "d48118e2",
   "metadata": {},
   "source": [
    "## Testing"
   ]
  },
  {
   "cell_type": "code",
   "execution_count": 16,
   "id": "24ea5041",
   "metadata": {},
   "outputs": [
    {
     "name": "stdout",
     "output_type": "stream",
     "text": [
      "Approach: LinkedList as Bucket\n",
      "Testing Implementation of MyHashSet\n",
      "-----------------------------------\n",
      "After 'add(1)': HashSet state = [1]\n",
      "Test 1: Passed.\n",
      "After 'add(2)': HashSet state = [1, 2]\n",
      "Test 2: Passed.\n",
      "Operation 'contains(1)': Expected = True, Got = True\n",
      "Test 3: Passed.\n",
      "Operation 'contains(3)': Expected = False, Got = False\n",
      "Test 4: Passed.\n",
      "After 'add(2)': HashSet state = [1, 2]\n",
      "Test 5: Passed.\n",
      "Operation 'contains(2)': Expected = True, Got = True\n",
      "Test 6: Passed.\n",
      "After 'remove(2)': HashSet state = [1]\n",
      "Test 7: Passed.\n",
      "Operation 'contains(2)': Expected = False, Got = False\n",
      "Test 8: Passed.\n",
      "All tests passed for MyHashSet.\n"
     ]
    }
   ],
   "source": [
    "print(\"Approach: LinkedList as Bucket\")\n",
    "test_myHashSet(MyHashSet3)"
   ]
  },
  {
   "cell_type": "markdown",
   "id": "52015f25",
   "metadata": {},
   "source": [
    "## Complexity Analysis\n",
    "- **Variables**:\n",
    "    - $N$ is the total number of keys\n",
    "    - $K$ is the number of buckets\n",
    "    - $M$ is the number of unique elements inserted into the HashSet.\n",
    "    \n",
    "- ### Time Complexity: \n",
    "    - **Average case for add, remove, & contains:** $O(1+\\frac{N}{K})$\n",
    "        - On average, these operations account for the hash computation and also the average length of the linked list to search through.\n",
    "        - In the worst casem where all the keys are in the same bucket, the runtime of the operations will degrade to $O(N)$\n",
    "- ### Space Complexity: $O(K + M)$\n",
    "    - $O(K)$ accounts for the space of the buckets\n",
    "    - $O(M)$ accounts form the space of the LinkedList nodes.\n",
    "***"
   ]
  },
  {
   "cell_type": "markdown",
   "id": "02e2e877",
   "metadata": {},
   "source": [
    "# Approach 4:\n",
    "\n",
    "\n",
    "## Intuition\n",
    "\n",
    "\n",
    "## Algorithm\n"
   ]
  },
  {
   "cell_type": "code",
   "execution_count": null,
   "id": "854912cb",
   "metadata": {},
   "outputs": [],
   "source": []
  },
  {
   "cell_type": "code",
   "execution_count": null,
   "id": "d4b4be4b",
   "metadata": {},
   "outputs": [],
   "source": []
  },
  {
   "cell_type": "markdown",
   "id": "a8d253a5",
   "metadata": {},
   "source": [
    "# Approach 5: Using Python Built-in Set 😔\n",
    "\n",
    "\n",
    "## Intuition\n",
    "\n",
    "\n",
    "## Algorithm\n"
   ]
  },
  {
   "cell_type": "code",
   "execution_count": null,
   "id": "00f0cad6",
   "metadata": {},
   "outputs": [],
   "source": []
  }
 ],
 "metadata": {
  "kernelspec": {
   "display_name": "Python 3 (ipykernel)",
   "language": "python",
   "name": "python3"
  },
  "language_info": {
   "codemirror_mode": {
    "name": "ipython",
    "version": 3
   },
   "file_extension": ".py",
   "mimetype": "text/x-python",
   "name": "python",
   "nbconvert_exporter": "python",
   "pygments_lexer": "ipython3",
   "version": "3.10.4"
  }
 },
 "nbformat": 4,
 "nbformat_minor": 5
}

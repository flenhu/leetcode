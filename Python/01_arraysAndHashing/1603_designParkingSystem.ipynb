{
 "cells": [
  {
   "cell_type": "markdown",
   "id": "835c632c",
   "metadata": {},
   "source": [
    "#### [Python <img src=\"../../assets/pythonLogo.png\" alt=\"py logo\" style=\"height: 1em; vertical-align: sub;\">](../README.md) | Easy 🟢 | [Arrays & Hashing](README.md)\n",
    "# [1603. Design Parking System]() (not started 😕)"
   ]
  },
  {
   "cell_type": "markdown",
   "id": "b9441082",
   "metadata": {},
   "source": [
    "Design a parking system for a parking lot. The parking lot has three kinds of parking spaces: big, medium, and small, with a fixed number of slots for each size.\n",
    "\n",
    "Implement the `ParkingSystem` class:\n",
    "- `ParkingSystem(int big, int medium, int small)` Initializes object of the ParkingSystem class. The number of slots for each parking space are given as part of the constructor.\n",
    "- `bool addCar(int carType)` Checks whether there is a parking space of `carType` for the car that wants to get into the parking lot. `carType` can be of three kinds: big, medium, or small, which are represented by `1`, `2`, and `3` respectively. **A car can only park in a parking space of its** `carType`. If there is no space available, return false, else park the car in that size space and return true.\n",
    " \n",
    "#### Example 1:\n",
    "> **Input:**\n",
    "> `[\"ParkingSystem\", \"addCar\", \"addCar\", \"addCar\", \"addCar\"]`\n",
    "> `[[1, 1, 0], [1], [2], [3], [1]]`  \n",
    "> **Output:**\n",
    "> `[null, true, true, false, false]`  \n",
    "> **Explanation:**  \n",
    "> `ParkingSystem parkingSystem = new ParkingSystem(1, 1, 0);`  \n",
    "> `parkingSystem.addCar(1);` // return true because there is 1 available slot for a big car  \n",
    "> `parkingSystem.addCar(2);` // return true because there is 1 available slot for a medium car  \n",
    "> `parkingSystem.addCar(3);` // return false because there is no available slot for a small car  \n",
    "> `parkingSystem.addCar(1);` // return false because there is no available slot for a big car. It is already occupied.\n",
    "\n",
    "#### Constraints:\n",
    "- `0 <= big, medium, small <= 1000`\n",
    "- `carType` is `1`, `2`, or `3`\n",
    "- At most `1000` calls will be made to `addCar`\n"
   ]
  },
  {
   "cell_type": "markdown",
   "id": "5a871415",
   "metadata": {},
   "source": [
    "### Problem Explanation\n",
    "- \n",
    "\n",
    "***"
   ]
  },
  {
   "cell_type": "markdown",
   "id": "66c83cb9",
   "metadata": {},
   "source": [
    "# Approach: \n",
    "\n",
    "\n",
    "### Intuition\n",
    "\n",
    "\n",
    "### Algorithm\n"
   ]
  },
  {
   "cell_type": "markdown",
   "id": "7888762a",
   "metadata": {},
   "source": [
    "### Code Implementation"
   ]
  },
  {
   "cell_type": "code",
   "execution_count": null,
   "id": "e1d254e7",
   "metadata": {},
   "outputs": [],
   "source": []
  },
  {
   "cell_type": "markdown",
   "id": "ce05a3cf",
   "metadata": {},
   "source": [
    "### Testing"
   ]
  },
  {
   "cell_type": "code",
   "execution_count": null,
   "id": "4c5194cc",
   "metadata": {},
   "outputs": [],
   "source": []
  },
  {
   "cell_type": "markdown",
   "id": "8a5df28b",
   "metadata": {},
   "source": [
    "### Complexity Analysis\n",
    "- #### Time Complexity: \n",
    "    - \n",
    "- #### Space Complexity: \n",
    "    - \n",
    "***"
   ]
  },
  {
   "cell_type": "markdown",
   "id": "32c95f2b",
   "metadata": {},
   "source": [
    "# Approach 2:\n",
    "\n",
    "\n",
    "### Intuition\n",
    "\n",
    "\n",
    "### Algorithm\n"
   ]
  }
 ],
 "metadata": {
  "kernelspec": {
   "display_name": "Python 3 (ipykernel)",
   "language": "python",
   "name": "python3"
  },
  "language_info": {
   "codemirror_mode": {
    "name": "ipython",
    "version": 3
   },
   "file_extension": ".py",
   "mimetype": "text/x-python",
   "name": "python",
   "nbconvert_exporter": "python",
   "pygments_lexer": "ipython3",
   "version": "3.10.4"
  }
 },
 "nbformat": 4,
 "nbformat_minor": 5
}

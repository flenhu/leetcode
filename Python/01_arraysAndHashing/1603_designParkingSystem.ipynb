{
 "cells": [
  {
   "cell_type": "markdown",
   "id": "835c632c",
   "metadata": {},
   "source": [
    "#### [Python <img src=\"../../assets/pythonLogo.png\" alt=\"py logo\" style=\"height: 1em; vertical-align: sub;\">](../README.md) | Easy 🟢 | [Arrays & Hashing](README.md)\n",
    "# [1603. Design Parking System](https://leetcode.com/problems/design-parking-system/description/)"
   ]
  },
  {
   "cell_type": "markdown",
   "id": "b9441082",
   "metadata": {},
   "source": [
    "Design a parking system for a parking lot. The parking lot has three kinds of parking spaces: big, medium, and small, with a fixed number of slots for each size.\n",
    "\n",
    "Implement the `ParkingSystem` class:\n",
    "- `ParkingSystem(int big, int medium, int small)` Initializes object of the ParkingSystem class. The number of slots for each parking space are given as part of the constructor.\n",
    "- `bool addCar(int carType)` Checks whether there is a parking space of `carType` for the car that wants to get into the parking lot. `carType` can be of three kinds: big, medium, or small, which are represented by `1`, `2`, and `3` respectively. **A car can only park in a parking space of its** `carType`. If there is no space available, return false, else park the car in that size space and return true.\n",
    " \n",
    "#### Example 1:\n",
    "> **Input:**\n",
    "> `[\"ParkingSystem\", \"addCar\", \"addCar\", \"addCar\", \"addCar\"]`\n",
    "> `[[1, 1, 0], [1], [2], [3], [1]]`  \n",
    "> **Output:**\n",
    "> `[null, true, true, false, false]`  \n",
    "> **Explanation:**  \n",
    "> `ParkingSystem parkingSystem = new ParkingSystem(1, 1, 0);`  \n",
    "> `parkingSystem.addCar(1);` // return true because there is 1 available slot for a big car  \n",
    "> `parkingSystem.addCar(2);` // return true because there is 1 available slot for a medium car  \n",
    "> `parkingSystem.addCar(3);` // return false because there is no available slot for a small car  \n",
    "> `parkingSystem.addCar(1);` // return false because there is no available slot for a big car. It is already occupied.\n",
    "\n",
    "#### Constraints:\n",
    "- `0 <= big, medium, small <= 1000`\n",
    "- `carType` is `1`, `2`, or `3`\n",
    "- At most `1000` calls will be made to `addCar`\n"
   ]
  },
  {
   "cell_type": "markdown",
   "id": "5a871415",
   "metadata": {},
   "source": [
    "## Problem Explanation\n",
    "- For this problem we are asked to create a system to manage a parking lot with a fixed number of slots for three sizes of vehicles\n",
    "    1. big\n",
    "    2. medium\n",
    "    3. small\n",
    "- The challenge is to design a class that can handle parking requests based on the vehicle size and available space.\n",
    "***"
   ]
  },
  {
   "cell_type": "markdown",
   "id": "66c83cb9",
   "metadata": {},
   "source": [
    "# Approach 1: Direct Attributes\n",
    "\n",
    "## Intuition\n",
    "- Using direct attributes for each park space size depending on the car (big, medium, small) provides a straightforward way to track the number of available slots. \n",
    "- This approach is intuitive because it directly reflects the real-world scenario of having a specific number of parking spots for each size category.\n",
    "\n",
    "## Algorithm\n",
    "1. **Initialization:** Store the number of slots for each car size as separate attributes in the constructor.\n",
    "2. **Add car:** \n",
    "    - When a car requests to park, check if there is an available slot for its size.\n",
    "    - If parking is available, decrement the corresponding attribute and return `True`, otherwise return `False`.\n"
   ]
  },
  {
   "cell_type": "markdown",
   "id": "7888762a",
   "metadata": {},
   "source": [
    "## Code Implementation"
   ]
  },
  {
   "cell_type": "code",
   "execution_count": 5,
   "id": "e1d254e7",
   "metadata": {},
   "outputs": [],
   "source": [
    "class ParkingSystem:\n",
    "    def __init__(self, big: int, medium: int, small: int):\n",
    "        # initialize the number of parking spaces for each car type\n",
    "        self._big_spaces = big\n",
    "        self._medium_spaces = medium\n",
    "        self._small_spaces = small\n",
    "\n",
    "    def addCar(self, carType: int) -> bool:\n",
    "        # check if there is a parking space for the given car type\n",
    "        if carType ==1 and self._big_spaces > 0:    # if there is a parking space for big car and spaces are available\n",
    "            self._big_spaces -= 1   # reduce the number of parking spaces for big car\n",
    "            return True    \n",
    "        elif carType == 2 and self._medium_spaces > 0:  # if there is a parking space for medium car\n",
    "            self._medium_spaces -= 1\n",
    "            return True\n",
    "        elif carType == 3 and self._small_spaces > 0:   # if there is a parking space for small car\n",
    "            self._small_spaces -= 1\n",
    "            return True\n",
    "        return False"
   ]
  },
  {
   "cell_type": "markdown",
   "id": "ce05a3cf",
   "metadata": {},
   "source": [
    "## Testing"
   ]
  },
  {
   "cell_type": "code",
   "execution_count": 6,
   "id": "4c5194cc",
   "metadata": {},
   "outputs": [
    {
     "name": "stdout",
     "output_type": "stream",
     "text": [
      "addCar(1) -> Expected: True, Got: True\n",
      "addCar(2) -> Expected: True, Got: True\n",
      "addCar(3) -> Expected: False, Got: False\n",
      "addCar(1) -> Expected: False, Got: False\n",
      "✅All tests passed!\n"
     ]
    }
   ],
   "source": [
    "def test_parking_system(ParkingSystemClass):\n",
    "    # Create a ParkingSystem instance with given capacities\n",
    "    parkingSystem = ParkingSystemClass(1, 1, 0)\n",
    "    \n",
    "    # Testing scenarios\n",
    "    tests = [\n",
    "        (1, True),  # Big car; expect success\n",
    "        (2, True),  # Medium car; expect success\n",
    "        (3, False), # Small car; no space available\n",
    "        (1, False)  # Big car; no space left\n",
    "    ]\n",
    "    \n",
    "    for carType, expected in tests:\n",
    "        result = parkingSystem.addCar(carType)\n",
    "        print(f\"addCar({carType}) -> Expected: {expected}, Got: {result}\")\n",
    "        assert result == expected, f\"Test failed for carType {carType}. Expected {expected} but got {result}.\"\n",
    "    print(\"✅All tests passed!\")\n",
    "\n",
    "# Test the solution\n",
    "test_parking_system(ParkingSystem)\n"
   ]
  },
  {
   "cell_type": "markdown",
   "id": "8a5df28b",
   "metadata": {},
   "source": [
    "## Complexity Analysis\n",
    "- ### Time Complexity: $O(1)$ \n",
    "    - For both `addCar` and `__init__` methods, as they perform a constant number of operations regardless of the input size.\n",
    "- ### Space Complexity: $O(1)$\n",
    "    - Since we are storing the number of slots for each size, this does not change with the number of addCar operations.\n",
    "\n",
    "***"
   ]
  },
  {
   "cell_type": "markdown",
   "id": "32c95f2b",
   "metadata": {},
   "source": [
    "# Approach 2: Dictionary Based Tracking\n",
    "Another way we could tackle this problem us by using a dictionary to manage parking slots for each car type, tracking both the total number of occupied spaces and the maximum capacity for each car type.\n",
    "\n",
    "## Intuition\n",
    "- The main idea behind this approach is to encapsulate the state of each parking slot within a single and accessible data structure.\n",
    "- We can use a dictionary to map car types to a parking system's current occupancy and maximum capacity.\n",
    "- This approach simplifies the management of parking slots by consolidating all relevant info into a structured format, which allows for easy updates and checks.\n",
    "\n",
    "## Algorithm\n",
    "1. **Initialization:** Create a dictionary (`self.parking`) where each key-value pari corresponds to a car type and a list of two elements:\n",
    "    - The current number of parked cars of a type (`total_occupied`)\n",
    "    - The maximum capacity (`max_capacity`)\n",
    "2. **Add car:** To add a car:\n",
    "    - Increment the `total_occupied` count for the given car type.\n",
    "    - Check if the new total does not exceed the `max_capacity`.\n",
    "    - If it doesn't, update the occupancy and return `True`; otherwise return `False`."
   ]
  },
  {
   "cell_type": "markdown",
   "id": "722415cd",
   "metadata": {},
   "source": [
    "## Code Implementation"
   ]
  },
  {
   "cell_type": "code",
   "execution_count": 8,
   "id": "da6a69de",
   "metadata": {},
   "outputs": [],
   "source": [
    "class ParkingSystem2:\n",
    "    def __init__(self, big: int, medium: int, small: int):\n",
    "\n",
    "        # Initialize a dictionary to store the total occupied slots and the maximum slots for each car type\n",
    "        self.parking = {\n",
    "            1: [0, big],\n",
    "            2: [0, medium],\n",
    "            3: [0, small]\n",
    "        }\n",
    "\n",
    "    def addCar(self, carType: int) -> bool:\n",
    "        # increment the total occupied slots for the given car type if there is space available\n",
    "        if self.parking[carType][0] + 1 <= self.parking[carType][1]:\n",
    "            self.parking[carType][0] += 1\n",
    "            return True\n",
    "        return False    # return False if there is no space available for the given car type"
   ]
  },
  {
   "cell_type": "markdown",
   "id": "5052ba5a",
   "metadata": {},
   "source": [
    "## Testing"
   ]
  },
  {
   "cell_type": "code",
   "execution_count": 9,
   "id": "bf918b79",
   "metadata": {},
   "outputs": [
    {
     "name": "stdout",
     "output_type": "stream",
     "text": [
      "addCar(1) -> Expected: True, Got: True\n",
      "addCar(2) -> Expected: True, Got: True\n",
      "addCar(3) -> Expected: False, Got: False\n",
      "addCar(1) -> Expected: False, Got: False\n",
      "✅All tests passed!\n"
     ]
    }
   ],
   "source": [
    "test_parking_system(ParkingSystem2)"
   ]
  },
  {
   "cell_type": "markdown",
   "id": "023deef0",
   "metadata": {},
   "source": [
    "## Complexity Analysis\n",
    "- ### Time Complexity: $O(1)$ \n",
    "    -  The operations performed (accessing and updating dictionary values) are constant time operations, irrespective of the size of the input.\n",
    "- ### Space Complexity: $O(1)$\n",
    "    - The space used by the parking dictionary is constant, as it only contains three key-value pairs, regardless of the number of calls to addCar. This makes the space complexity independent of the input size, leading to a constant space requirement.\n",
    "\n",
    "***"
   ]
  },
  {
   "cell_type": "markdown",
   "id": "40012de0",
   "metadata": {},
   "source": [
    "## Conclusion\n",
    "### Direct Attributes Approach:\n",
    "- **Simplicity:** This method directly maps the problem statement to the class structure, using individual attributes for each car size. It's straightforward and easy to understand.\n",
    "- **Direct Access:** Parking slots are managed through direct attributes, making access and updates slightly faster due to the absence of an intermediary data structure like a dictionary.\n",
    "\n",
    "### Dictionary-Based Tracking Approach:\n",
    "- **Flexibility:** Using a dictionary to track parking spaces and their capacities allows for a more dynamic structure. Adding or modifying vehicle types involves simple updates to the dictionary, making this approach more scalable.\n",
    "- **Encapsulation**: This method encapsulates the state of each parking slot type within a single structure, which can be advantageous for managing larger datasets or more complex systems.\n",
    "- **Complexity**: Although slightly more complex due to the use of a dictionary, this approach offers a balanced trade-off between flexibility and performance.\n",
    "\n",
    "### Final Thoughts\n",
    "- The **Direct Attributes** Approach is ideal for scenarios with a fixed and small number of categories. It's simple and very direct, making it a great choice for problems with clearly defined and unchanging parameters.\n",
    "- The **Dictionary-Based Tracking** Approach shines in scenarios where scalability and adaptability are crucial. It allows for easy adjustments and can handle more complex requirements without significant changes to the underlying logic."
   ]
  }
 ],
 "metadata": {
  "kernelspec": {
   "display_name": "Python 3 (ipykernel)",
   "language": "python",
   "name": "python3"
  },
  "language_info": {
   "codemirror_mode": {
    "name": "ipython",
    "version": 3
   },
   "file_extension": ".py",
   "mimetype": "text/x-python",
   "name": "python",
   "nbconvert_exporter": "python",
   "pygments_lexer": "ipython3",
   "version": "3.10.4"
  }
 },
 "nbformat": 4,
 "nbformat_minor": 5
}

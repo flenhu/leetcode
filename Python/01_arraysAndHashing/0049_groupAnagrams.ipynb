{
 "cells": [
  {
   "cell_type": "markdown",
   "id": "835c632c",
   "metadata": {},
   "source": [
    "#### [Python <img src=\"../../assets/pythonLogo.png\" alt=\"py logo\" style=\"height: 1em; vertical-align: sub;\">](../README.md) | Medium 🟠 | [Arrays & Hashing](README.md)\n",
    "# [49. Group Anagrams ](https://leetcode.com/problems/group-anagrams/description/)"
   ]
  },
  {
   "cell_type": "markdown",
   "id": "b9441082",
   "metadata": {},
   "source": [
    "Given an array of strings `strs`, group **the anagrams** together. You can return the answer in **any order**.\n",
    "\n",
    "An **Anagram** is a word or phrase formed by rearranging the letters of a different word or phrase, typically using all the original letters exactly once.\n",
    "\n",
    "**Example 1:**\n",
    "> **Input**:`strs = [\"eat\",\"tea\",\"tan\",\"ate\",\"nat\",\"bat\"]`  \n",
    "> **Output**: `[[\"bat\"],[\"nat\",\"tan\"],[\"ate\",\"eat\",\"tea\"]]`  \n",
    "\n",
    "**Example 2:**\n",
    "> **Input**: `strs = [\"\"]`  \n",
    "> **Output**: `[[\"\"]]`  \n",
    "\n",
    "**Example 3:**\n",
    "> **Input**: `strs = [\"a\"]`  \n",
    "> **Output**: `[[\"a\"]]`   \n",
    "\n",
    "#### Constraints\n",
    "- `1 <= strs.length <=` $10^4$\n",
    "- `0 <= strs[i].length <= 100`\n",
    "- `strs[i]` consists of lowercase English letters."
   ]
  },
  {
   "cell_type": "markdown",
   "id": "5a871415",
   "metadata": {},
   "source": [
    "## Problem Explanation\n",
    "- The problem \"Group Anagrams\" asks us to group together strings that are anagrams of each other. \n",
    "- An anagram is a word or phrase formed by rearranging the letters of a different word or phrase, using all the original letters exactly once.\n",
    "- For instance, \"bat\" and \"tab\" are anagrams. \n",
    "- The task is to create groups of anagrams from the given array of strings and return them in a list of lists.\n",
    "***"
   ]
  },
  {
   "cell_type": "markdown",
   "id": "66c83cb9",
   "metadata": {},
   "source": [
    "# Approach 1: Character Count \n",
    "A solid approach to tackling this problem is counting the frequency of each character in a string and using that count as a key to group anagrams.\n",
    "\n",
    "## Intuition\n",
    "- The intuition behind this approach is that two strings are anagrams if and only if their character counts (for each letter) are the same. \n",
    "- Instead of sorting the strings to check if they are anagrams, we can count the occurrences of each character. \n",
    "- This count, represented as a tuple of 26 elements (for each letter in the English alphabet), serves as a unique identifier for each group of anagrams.\n",
    "\n",
    "## Algorithm\n",
    "1. **Initialize:** a dictionary (hashmap) to store the lists of anagrams, where the keys will be the unique character count tuples and the values will be the lists of strings that share the same character count.\n",
    "2. **Iterate over each string in the input list**\n",
    "3. **Count characters:** For each string, create a count of 26 zeroes, one for each letter. Then, increment the count for each character in the string.\n",
    "4. **Group anagrams:** Use the tuple of counts as a key in the dictionary. Then append the current string to the list corresponding to this key.\n",
    "5. **Return Groups:** Since the dictionary's values hold the grouped anagrams, we can return those."
   ]
  },
  {
   "cell_type": "markdown",
   "id": "7888762a",
   "metadata": {},
   "source": [
    "## Code Implementation"
   ]
  },
  {
   "cell_type": "code",
   "execution_count": 9,
   "id": "e1d254e7",
   "metadata": {},
   "outputs": [],
   "source": [
    "from collections import defaultdict\n",
    "\n",
    "class Solution:\n",
    "    def groupAnagrams(self, strs):\n",
    "        ans = defaultdict(list)   # Create a defaultdict to store anagram groups\n",
    "\n",
    "        for s in strs:  # Iterate through each string in the input array\n",
    "            count = [0] * 26  # Create a count array of size 26\n",
    "            for c in s:# Increment the count in the corresponding index of the count array\n",
    "                count[ord(c) - ord(\"a\")] += 1\n",
    "            ans[tuple(count)].append(s)  \n",
    "            # Convert the count array to a tuple and use it as the key in the dict, appending\n",
    "            # the current string to the corresponding list\n",
    "        return list(ans.values())  # Return groups of anagrams"
   ]
  },
  {
   "cell_type": "markdown",
   "id": "ce05a3cf",
   "metadata": {},
   "source": [
    "### Testing"
   ]
  },
  {
   "cell_type": "code",
   "execution_count": 10,
   "id": "4c5194cc",
   "metadata": {},
   "outputs": [
    {
     "name": "stdout",
     "output_type": "stream",
     "text": [
      "Test Case 1:\n",
      "Input: ['eat', 'tea', 'tan', 'ate', 'nat', 'bat']\n",
      "Expected Output: [['eat', 'tea', 'ate'], ['tan', 'nat'], ['bat']]\n",
      "Result: [['eat', 'tea', 'ate'], ['tan', 'nat'], ['bat']]\n",
      "Test Case Passed!\n",
      "\n",
      "Test Case 2:\n",
      "Input: ['']\n",
      "Expected Output: [['']]\n",
      "Result: [['']]\n",
      "Test Case Passed!\n",
      "\n",
      "Test Case 3:\n",
      "Input: ['a']\n",
      "Expected Output: [['a']]\n",
      "Result: [['a']]\n",
      "Test Case Passed!\n",
      "\n",
      "All Test Cases Passed!\n"
     ]
    }
   ],
   "source": [
    "def test_solution(solution_class):\n",
    "    test_cases = [\n",
    "        {\n",
    "            \"input\": [\"eat\", \"tea\", \"tan\", \"ate\", \"nat\", \"bat\"],\n",
    "            \"expected\": [[\"eat\", \"tea\", \"ate\"], [\"tan\", \"nat\"], [\"bat\"]],\n",
    "        },\n",
    "        {\n",
    "            \"input\": [\"\"],\n",
    "            \"expected\": [[\"\"]],\n",
    "        },\n",
    "        {\n",
    "            \"input\": [\"a\"],\n",
    "            \"expected\": [[\"a\"]],\n",
    "        },\n",
    "    ]\n",
    "\n",
    "    solution = solution_class()\n",
    "    passed_count = 0\n",
    "\n",
    "    for i, test_case in enumerate(test_cases):\n",
    "        strs = test_case[\"input\"]\n",
    "        expected = test_case[\"expected\"]\n",
    "        result = solution.groupAnagrams(strs)\n",
    "\n",
    "        print(f\"Test Case {i+1}:\")\n",
    "        print(\"Input:\", strs)\n",
    "        print(\"Expected Output:\", expected)\n",
    "        print(\"Result:\", result)\n",
    "        \n",
    "        # Sort the expected and result lists for comparison\n",
    "        expected.sort()\n",
    "        result.sort()\n",
    "        \n",
    "        if expected == result:\n",
    "            print(\"Test Case Passed!\\n\")\n",
    "            passed_count += 1\n",
    "        else:\n",
    "            print(\"Test Case Failed!\\n\")\n",
    "\n",
    "    total_test_cases = len(test_cases)\n",
    "    if passed_count == total_test_cases:\n",
    "        print(\"All Test Cases Passed!\")\n",
    "    else:\n",
    "        print(f\"{passed_count}/{total_test_cases} Test Cases Passed.\")\n",
    "test_solution(Solution) "
   ]
  },
  {
   "cell_type": "markdown",
   "id": "8a5df28b",
   "metadata": {},
   "source": [
    "## Complexity Analysis\n",
    "- **Variables**:\n",
    "    - $n$ is the number of strings in the input list.\n",
    "    - $k$ is the maximum length of a string.\n",
    "\n",
    "- ### Time Complexity: $O(nk \\log{k})$ \n",
    "    - Since we sort each string individually, the time to sort takes $O(k\\log k)$ time for a string of length $k$.\n",
    "- ### Space Complexity: $O(n \\cdot k)$ \n",
    "    - The space complexity comes from the storage needed for the output, which, in the worst case would include space for all the strings in their sorted form. \n",
    "    - While the keys of the dictionary (sorted tuples) have a combined space complexity of $O(nk)$, the list of strings also requires $O(nk)$ space, so thus the space complexity overall is still $O(nk)$.\n",
    "***"
   ]
  },
  {
   "cell_type": "markdown",
   "id": "32c95f2b",
   "metadata": {},
   "source": [
    "# Approach 2: Categorize by Sorted String\n",
    "\n",
    "\n",
    "## Intuition: \n",
    "The idea is quite straightforward: if two strings are anagrams, sorting both the strings alphabetically will result in two identical strings. Thus, the sorted string serves as an ideal identifier for the anagram group. This method relies on sorting as a way to standardize the representation of the angrams which makes it easier to group them together.\n",
    "\n",
    "## Algorithm\n",
    "1. **Initialize** a dictionary of lists. This is of course for storing the lists of anagrams where the sorted strings are the keys.\n",
    "2. **Iterate** over each string in the input list.\n",
    "3. **Sort and Categorize:** For each string, sort the characters alphabetically and use the sorted string as a key in the dictionary. Append the original string to the list corresponding to the key.\n",
    "4. **Return Groups:** The values of the dictionary are the desired groups of anagrams so return those values."
   ]
  },
  {
   "cell_type": "markdown",
   "id": "58783fc9",
   "metadata": {},
   "source": [
    "## Code Implementation"
   ]
  },
  {
   "cell_type": "code",
   "execution_count": 11,
   "id": "c4e0d707",
   "metadata": {},
   "outputs": [],
   "source": [
    "from collections import defaultdict\n",
    "\n",
    "class Solution2:\n",
    "    def groupAnagrams(self, strs):\n",
    "        anagrams = defaultdict(list)  # Initializes a defaultdict to hold lists of anagrams\n",
    "        \n",
    "        for word in strs:  # Iterates over each string in the input list\n",
    "            sorted_word = ''.join(sorted(word))  # Sorts the string and joins it back\n",
    "            anagrams[sorted_word].append(word)  # Appends the original string to the list for that sorted key\n",
    "        \n",
    "        return list(anagrams.values())  # Returns all the lists of anagrams"
   ]
  },
  {
   "cell_type": "markdown",
   "id": "e4b95538",
   "metadata": {},
   "source": [
    "### Testing"
   ]
  },
  {
   "cell_type": "code",
   "execution_count": 12,
   "id": "e54fb8bf",
   "metadata": {},
   "outputs": [
    {
     "name": "stdout",
     "output_type": "stream",
     "text": [
      "Test Case 1:\n",
      "Input: ['eat', 'tea', 'tan', 'ate', 'nat', 'bat']\n",
      "Expected Output: [['eat', 'tea', 'ate'], ['tan', 'nat'], ['bat']]\n",
      "Result: [['eat', 'tea', 'ate'], ['tan', 'nat'], ['bat']]\n",
      "Test Case Passed!\n",
      "\n",
      "Test Case 2:\n",
      "Input: ['']\n",
      "Expected Output: [['']]\n",
      "Result: [['']]\n",
      "Test Case Passed!\n",
      "\n",
      "Test Case 3:\n",
      "Input: ['a']\n",
      "Expected Output: [['a']]\n",
      "Result: [['a']]\n",
      "Test Case Passed!\n",
      "\n",
      "All Test Cases Passed!\n"
     ]
    }
   ],
   "source": [
    "test_solution(Solution2) "
   ]
  },
  {
   "cell_type": "markdown",
   "id": "3222e4e3",
   "metadata": {},
   "source": [
    "## Complexity Analysis\n",
    "- **Variables**:\n",
    "    - $n$ is the number of strings in the input list.\n",
    "    - $k$ is the maximum length of a string.\n",
    "\n",
    "- ### Time Complexity: $O(n \\cdot k)$ \n",
    "    - Since we iterate through each string and then iterate through each character of the string to count the characters thus we have $n\\cdot k$.\n",
    "- ### Space Complexity: $O(n \\cdot k)$ \n",
    "    - Given that we store each string in the dictionary, in the worst casem if all strings are unique anagrams, we may possibly have to store all the strings in the dictionary.\n",
    "***"
   ]
  },
  {
   "cell_type": "markdown",
   "id": "5984b04e",
   "metadata": {},
   "source": [
    "# Approach 2.1: Sorting and Hashing\n",
    "\n",
    "\n",
    "## Intuition: \n",
    "The core idea remains the same: sort each string to use as a key in a dictionary (or defaultdict), where each key maps to a list of strings that, when sorted, are identical to the key. Though, we have a few differences:\n",
    "- **Direct String Manipulation**: Instead of converting the sorted string into a tuple, this approach directly joins the sorted characters back into a string. This makes the key more recognizable and easier to understand at a glance.\n",
    "- **Simpler Transformation**: The transformation from the input string to the key is done in a single line (sorted_word = ''.join(sorted(word))).\n",
    "\n",
    "## Algorithm\n",
    "1. **Initialize a defaultdict:** A defaultdict with lists as default values is initialized to store groups of anagrams.\n",
    "2. **Iterate over the input strings:** Go through each string in the provided list of strings.\n",
    "3. **Sort each string:** For each string, sort its characters alphabetically to determine its anagram group. This sorted string acts as a key.\n",
    "4. **Group anagrams:** Append the original string to the list in the defaultdict corresponding to the sorted string key.\n",
    "5. **Return the grouped anagrams:** Convert the values in the defaultdict (each of which is a list of anagrams) into a list and return it."
   ]
  },
  {
   "cell_type": "markdown",
   "id": "b682c48e",
   "metadata": {},
   "source": [
    "## Code Implementation"
   ]
  },
  {
   "cell_type": "code",
   "execution_count": 13,
   "id": "6a8a616a",
   "metadata": {},
   "outputs": [],
   "source": [
    "from collections import defaultdict\n",
    "\n",
    "class Solution2v1:\n",
    "    def groupAnagrams(self, strs):\n",
    "        anagrams = defaultdict(list)  # Initializes a defaultdict to hold lists of anagrams\n",
    "        \n",
    "        for word in strs:  # Iterates over each string in the input list\n",
    "            sorted_word = ''.join(sorted(word))  # Sorts the string and joins it back\n",
    "            anagrams[sorted_word].append(word)  # Appends the original string to the list for that sorted key\n",
    "        \n",
    "        return list(anagrams.values())  # Returns all the lists of anagrams\n"
   ]
  },
  {
   "cell_type": "markdown",
   "id": "ab4c951d",
   "metadata": {},
   "source": [
    "### Testing"
   ]
  },
  {
   "cell_type": "code",
   "execution_count": 14,
   "id": "6126c7e1",
   "metadata": {},
   "outputs": [
    {
     "name": "stdout",
     "output_type": "stream",
     "text": [
      "Test Case 1:\n",
      "Input: ['eat', 'tea', 'tan', 'ate', 'nat', 'bat']\n",
      "Expected Output: [['eat', 'tea', 'ate'], ['tan', 'nat'], ['bat']]\n",
      "Result: [['eat', 'tea', 'ate'], ['tan', 'nat'], ['bat']]\n",
      "Test Case Passed!\n",
      "\n",
      "Test Case 2:\n",
      "Input: ['']\n",
      "Expected Output: [['']]\n",
      "Result: [['']]\n",
      "Test Case Passed!\n",
      "\n",
      "Test Case 3:\n",
      "Input: ['a']\n",
      "Expected Output: [['a']]\n",
      "Result: [['a']]\n",
      "Test Case Passed!\n",
      "\n",
      "All Test Cases Passed!\n"
     ]
    }
   ],
   "source": [
    "test_solution(Solution2v1) "
   ]
  },
  {
   "cell_type": "markdown",
   "id": "90cacbfc",
   "metadata": {},
   "source": [
    "## Complexity Analysis\n",
    "Same as previous approach.\n",
    "- ### Time Complexity: $O(nk \\log{k})$ \n",
    "- ### Space Complexity: $O(n \\cdot k)$ \n",
    "***"
   ]
  },
  {
   "cell_type": "markdown",
   "id": "4fa8f265",
   "metadata": {},
   "source": [
    "# Final Conclusion\n",
    "The \"Group Anagrams\" problem is a classic example of categorization based on string properties, where the challenge is to group strings that are anagrams of each other. An anagram involves rearranging the letters of a word or phrase to form another, using all the original letters exactly once.\n",
    "\n",
    "## Approach Overview\n",
    "\n",
    "### Approach 1: Character Count\n",
    "This method involves creating a character frequency count for each string, using this count as a unique identifier to group anagrams. It's efficient because it directly compares the composition of the strings without altering their content.\n",
    "\n",
    "**Key Characteristics:** Utilizes character count as a direct comparison metric, avoids sorting.  \n",
    "**Complexity:** Time complexity is O(NK), and space complexity is O(NK), making it highly efficient, especially for strings of moderate length.\n",
    "\n",
    "### Approach 2: Categorize by Sorted String\n",
    "Approach 2 sorts each string and uses the sorted string as a key in a defaultdict to group anagrams. It's straightforward and intuitive, relying on the fact that anagrams will always sort into the same sequence of characters.\n",
    "\n",
    "**Key Characteristics:** Leverages sorting for easy group identification, intuitive and simple to implement.  \n",
    "**Complexity:** With a time complexity of O(NKlogK) and space complexity of O(NK), it's slightly less efficient than Approach 1 due to the sorting operation.\n",
    "\n",
    "### Approach 2.1: Sorting and Hashing (A slight variation of Approach 2)\n",
    "Approach 2.1 is essentially the same as Approach 2, categorizing by sorted strings. The slight variation might be in implementation details, but the core idea and the algorithms' complexities remain the same.\n",
    "\n",
    "**Key Characteristics:** Identical in logic to Approach 2, variations may lie in code semantics or structure.  \n",
    "**Complexity:** Shares the same complexity analysis as Approach 2 - O(NKlogK) for time and O(NK) for space.\n",
    "\n",
    "## Comparison and Efficiency\n",
    "- Approach 1 is generally more efficient for strings of moderate length due to its linear complexity with respect to the length of the strings. It avoids the overhead of sorting, making it faster for large datasets.  \n",
    "- Approaches 2 and 2.1 are more intuitive and straightforward, making the solution easier to understand and implement at the cost of slightly higher time complexity due to sorting. These approaches are particularly effective when the maximum string length (K) is relatively small, as the sorting overhead becomes negligible.\n",
    "\n",
    "## Most Efficient Approach\n",
    "For large datasets with relatively short strings, Approaches 2 and 2.1 offer a good balance of efficiency and simplicity.  \n",
    "When dealing with longer strings or aiming for maximum performance, Approach 1 (Character Count) is more efficient due to its lower time complexity and direct approach to comparing string compositions.  \n",
    "Both sorting-based approaches (2 and 2.1) and the character count approach (1) provide valuable techniques for solving problems involving string manipulation and categorization, with the choice of approach depending on specific problem constraints and performance requirements.\n"
   ]
  }
 ],
 "metadata": {
  "kernelspec": {
   "display_name": "Python 3 (ipykernel)",
   "language": "python",
   "name": "python3"
  },
  "language_info": {
   "codemirror_mode": {
    "name": "ipython",
    "version": 3
   },
   "file_extension": ".py",
   "mimetype": "text/x-python",
   "name": "python",
   "nbconvert_exporter": "python",
   "pygments_lexer": "ipython3",
   "version": "3.10.4"
  }
 },
 "nbformat": 4,
 "nbformat_minor": 5
}

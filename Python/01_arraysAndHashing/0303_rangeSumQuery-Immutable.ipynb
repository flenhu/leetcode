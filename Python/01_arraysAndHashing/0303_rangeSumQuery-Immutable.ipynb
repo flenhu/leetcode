{
 "cells": [
  {
   "cell_type": "markdown",
   "id": "835c632c",
   "metadata": {},
   "source": [
    "#### [Python <img src=\"../../assets/pythonLogo.png\" alt=\"py logo\" style=\"height: 1em; vertical-align: sub;\">](../README.md) | Easy 🟢 | [Arrays & Hashing](README.md)\n",
    "# [303. Range Sum Query - Immutable](https://leetcode.com/problems/range-sum-query-immutable/description/)"
   ]
  },
  {
   "cell_type": "markdown",
   "id": "b9441082",
   "metadata": {},
   "source": [
    "Given an integer array `nums`, handle multiple queries of the following type:\n",
    "\n",
    " 1. Calculate the **sum** of the elements of `nums` between indices `left` and `right` **inclusive** where `left <= right`.\n",
    "\n",
    "Implement the `NumArray` class:\n",
    "- `NumArray(int[] nums)` Initializes the object with the integer array `nums`.\n",
    "- `int sumRange(int left, int right)` Returns the **sum** of the elements of `nums` between indices `left` and `right` **inclusive** (i.e. `nums[left]` + `nums[left + 1]` + ... + `nums[right]`).\n",
    " \n",
    "#### Example 1:\n",
    "> **Input**  \n",
    "> `[\"NumArray\", \"sumRange\", \"sumRange\", \"sumRange\"]`  \n",
    "> `[[[-2, 0, 3, -5, 2, -1]], [0, 2], [2, 5], [0, 5]]`  \n",
    "> **Output**  \n",
    "> `[null, 1, -1, -3]`  \n",
    "> \n",
    "> **Explanation**  \n",
    "> `NumArray numArray = new NumArray([-2, 0, 3, -5, 2, -1]);`  \n",
    "> `numArray.sumRange(0, 2);` // return (-2) + 0 + 3 = 1  \n",
    "> `numArray.sumRange(2, 5);` // return 3 + (-5) + 2 + (-1) = -1  \n",
    "> `numArray.sumRange(0, 5);` // return (-2) + 0 + 3 + (-5) + 2 + (-1) = -3\n",
    "\n",
    "#### Constraints:\n",
    "\n",
    "- $1 \\leq$ `nums.length` $< 10^4$\n",
    "- $-10^5 \\leq$ `nums[i]` $\\leq 10^5$\n",
    "- $0 \\leq$ `left` $\\leq$ `right` $<$ `nums.length`\n",
    "- At most $10^4$ calls will be made to `sumRange`.\n"
   ]
  },
  {
   "cell_type": "markdown",
   "id": "5a871415",
   "metadata": {},
   "source": [
    "## Problem Explanation\n",
    "- This problem requires us to process multiple queries asking for the sum of elements in a given range of an array. \n",
    "- Some things to consider are:\n",
    "    - We are given an array of integers called `nums`\n",
    "    - We want to calculate the sum of the elements between two indices `left` and `right` (inclusive) multiple times.\n",
    "    - The array doesn't change (immutable), meaning once it's initialized, its elements don't get modified.\n",
    "***"
   ]
  },
  {
   "cell_type": "markdown",
   "id": "66c83cb9",
   "metadata": {},
   "source": [
    "# Approach: Caching with Prefix Sum Array\n",
    "- The key to solving this problem lies in precomputing the cumulative sums using prefix sums. This is essentially cahcing because we are storing the results for future use.\n",
    "\n",
    "## Intuition\n",
    "- Since the array is immutable, the sum of any subarray remains constant.\n",
    "- Calculating this sum repeatedly for each query would be highly inefficient. Instead we can create an array where each element at index `i` stores the sum of all elements from the start of the array up to `i`. \n",
    "- Doing this precomputation lets us answer each sum query in constant time.\n",
    "\n",
    "## Algorithm\n",
    "1. **Initialization(`__init__` method):**\n",
    "    - Create a prefix sum array where `prefix[i]` is the sum of `nums[0]` to `nums[i]`.\n",
    "    - This is done by iterating through `nums` and cumulatively adding each element to the sum of all previous elements.\n",
    "\n",
    "2. **Querying(`sumRange` method):**\n",
    "    - To find the sum of elements from `left` to `right`, we get `prefix[right]`.\n",
    "    - If `left` is greater than `0`, subtract `prefix[left - 1]` from `prefix[right]` to exclude the sum of elements before `left`.\n",
    "    - If `left` is `0`, `prefix[right]` is the desired sum."
   ]
  },
  {
   "cell_type": "markdown",
   "id": "7888762a",
   "metadata": {},
   "source": [
    "### Code Implementation"
   ]
  },
  {
   "cell_type": "code",
   "execution_count": 1,
   "id": "e1d254e7",
   "metadata": {},
   "outputs": [],
   "source": [
    "from typing import List\n",
    "\n",
    "class NumArray:\n",
    "\n",
    "    def __init__(self, nums: List[int]):\n",
    "        self.prefix_sum = [0] * len(nums)  # initialize prefix_sum array to be the same length as nums\n",
    "        cur_sum = 0  # set the current cumulative sum to 0\n",
    "        for i, num in enumerate(nums):  # iterate through the nums array\n",
    "            cur_sum += num  # add the current number to the cumulative sum\n",
    "            # set the current index in the prefix_sum array to be the current cumulative sum\n",
    "            self.prefix_sum[i] = cur_sum \n",
    "\n",
    "    def sumRange(self, left: int, right: int) -> int:\n",
    "        # if left is 0, return the value at the right index in the prefix_sum array\n",
    "        if left == 0:\n",
    "            return self.prefix_sum[right]\n",
    "        # otherwise, return the difference between the \n",
    "        # value at the right index and the value at the left - 1 index\n",
    "        return self.prefix_sum[right] - self.prefix_sum[left - 1]\n",
    "\n",
    "# Your NumArray object will be instantiated and called as such:\n",
    "# obj = NumArray(nums)\n",
    "# param_1 = obj.sumRange(left,right)"
   ]
  },
  {
   "cell_type": "markdown",
   "id": "ce05a3cf",
   "metadata": {},
   "source": [
    "### Testing"
   ]
  },
  {
   "cell_type": "code",
   "execution_count": 9,
   "id": "4c5194cc",
   "metadata": {},
   "outputs": [
    {
     "name": "stdout",
     "output_type": "stream",
     "text": [
      "Given NumArray: [-2, 0, 3, -5, 2, -1]\n",
      "Test Case 1 Passed, Input: sumRange(0, 2), Expected Output: 1, Actual Output: 1\n",
      "Test Case 2 Passed, Input: sumRange(2, 5), Expected Output: -1, Actual Output: -1\n",
      "Test Case 3 Passed, Input: sumRange(0, 5), Expected Output: -3, Actual Output: -3\n"
     ]
    }
   ],
   "source": [
    "\n",
    "\n",
    "# Function to test the NumArray class\n",
    "def test_NumArray():\n",
    "    # Instantiate the object with the given array\n",
    "    given_nums = [-2, 0, 3, -5, 2, -1]\n",
    "    obj = NumArray(given_nums)\n",
    "    print(f\"Given NumArray: {given_nums}\")\n",
    "\n",
    "    # Test Case 1\n",
    "    result = obj.sumRange(0, 2)\n",
    "    expected = 1\n",
    "    assert result == expected, f\"Test Case 1 Failed: Expected {expected}, got {result}\"\n",
    "    print(f\"Test Case 1 Passed, Input: sumRange(0, 2), Expected Output: {expected}, Actual Output: {result}\")\n",
    "\n",
    "    # Test Case 2\n",
    "    result = obj.sumRange(2, 5)\n",
    "    expected = -1\n",
    "    assert result == expected, f\"Test Case 2 Failed: Expected {expected}, got {result}\"\n",
    "    print(f\"Test Case 2 Passed, Input: sumRange(2, 5), Expected Output: {expected}, Actual Output: {result}\")\n",
    "\n",
    "    # Test Case 3\n",
    "    result = obj.sumRange(0, 5)\n",
    "    expected = -3\n",
    "    assert result == expected, f\"Test Case 3 Failed: Expected {expected}, got {result}\"\n",
    "    print(f\"Test Case 3 Passed, Input: sumRange(0, 5), Expected Output: {expected}, Actual Output: {result}\")\n",
    "\n",
    "test_NumArray()\n"
   ]
  },
  {
   "cell_type": "markdown",
   "id": "8a5df28b",
   "metadata": {},
   "source": [
    "## Complexity Analysis  \n",
    "\n",
    "- **Variables**:\n",
    "    - $n$ is the length of `nums`\n",
    "\n",
    "### Time Complexity:   \n",
    "\n",
    "#### Initialization: $O(n)$  \n",
    "     - We only go throught the array once to compute the prefix sums.\n",
    "#### Query (`sumRange`): $O(1)$  \n",
    "    - Each query is computed in constant time since we are just accessing the elements in the precomputed prefix sum array.\n",
    "\n",
    "### Space Complexity:  $O(n)$\n",
    " -  We use additional space for the prefix sum array, which is of the same length as the input array.\n",
    "***"
   ]
  }
 ],
 "metadata": {
  "kernelspec": {
   "display_name": "Python 3 (ipykernel)",
   "language": "python",
   "name": "python3"
  },
  "language_info": {
   "codemirror_mode": {
    "name": "ipython",
    "version": 3
   },
   "file_extension": ".py",
   "mimetype": "text/x-python",
   "name": "python",
   "nbconvert_exporter": "python",
   "pygments_lexer": "ipython3",
   "version": "3.10.4"
  }
 },
 "nbformat": 4,
 "nbformat_minor": 5
}

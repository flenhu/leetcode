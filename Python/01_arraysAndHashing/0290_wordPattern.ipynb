{
 "cells": [
  {
   "cell_type": "markdown",
   "id": "835c632c",
   "metadata": {},
   "source": [
    "#### [Python <img src=\"../../assets/pythonLogo.png\" alt=\"py logo\" style=\"height: 1em; vertical-align: sub;\">](../README.md) | Easy 🟢 | [Arrays & Hashing](README.md)\n",
    "# [290. Word Pattern](https://leetcode.com/problems/word-pattern/description/) (Not Started 😕)"
   ]
  },
  {
   "cell_type": "markdown",
   "id": "b9441082",
   "metadata": {},
   "source": [
    "Given a `pattern` and a string `s`, find if `s` follows the same pattern.\n",
    "\n",
    "Here **follow** means a full match, such that there is a bijection between a letter in `pattern` and a **non-empty** word in `s`.\n",
    "\n",
    "#### Example 1:\n",
    "> **Input**: `pattern = \"abba\"`, `s = \"dog cat cat dog\"`  \n",
    "> **Output**: `true`\n",
    "\n",
    "#### Example 2:\n",
    "> **Input**: `pattern = \"abba\"`, `s = \"dog cat cat fish\"`  \n",
    "> **Output**: `false`\n",
    "\n",
    "#### Example 3:\n",
    "> **Input**: `pattern = \"aaaa\"`, `s = \"dog cat cat dog\"`  \n",
    "> **Output**: `false`\n",
    "\n",
    "#### Constraints:\n",
    "- `1 <= pattern.length <= 300`\n",
    "- `pattern` contains only lower-case English letters.\n",
    "- `1 <= s.length <= 3000`\n",
    "- `s` contains only lowercase English letters and spaces `' '`.\n",
    "- `s` does not contain any leading or trailing spaces.\n",
    "- All the words in `s` are separated by a **single space**."
   ]
  },
  {
   "cell_type": "markdown",
   "id": "5a871415",
   "metadata": {},
   "source": [
    "### Problem Explanation\n",
    "- In this problem we are asked to determine if a string `s` follows a specific pattern defined by the string `pattern`.\n",
    "- The pattern is a sequence of characters, where each character maps uniquely to a word in `s`.\n",
    "- A word is a sequence of non-empy characters separated by spaces in `s`. The mapping is a **bijection**, which means:\n",
    "    1. Each character in `pattern` must map to a distinct word in `s`\n",
    "    2. Each word in `s` must be mapped to by a distinct character in `pattern`.\n",
    "    3. The order of characters in `pattern` should match the order of corresponding words in `s`.\n",
    "***"
   ]
  },
  {
   "cell_type": "markdown",
   "id": "66c83cb9",
   "metadata": {},
   "source": [
    "# Approach: Two Hash Maps\n",
    "\n",
    "## Intuition\n",
    "To ensure a bijection, we use two hash maps:\n",
    "1. One to map each character in pattern to the corresponding word in s.\n",
    "2. Another to map each word in s back to the corresponding character in pattern.\n",
    "\n",
    "This dual mapping helps verify that no character maps to two different words and no two characters map to the same word.\n",
    "\n",
    "## Algorithm\n",
    "1. **Split the String:** Split `s` into words based on spaces.\n",
    "2. **Check Length:** If the number of characters in `pattern` does not match the number of words in `s`, return `False`\n",
    "3. **Create Two Hash Maps:** Initialize two empty hash maps\n",
    "4. **Iterate and Map:** Loop through each character-word pair from `pattern` and `s`.\n",
    "    - Check if the current mapping contradicts any existing mapping in either hash maps\n",
    "    - If a contradiction is found, return `False`\n",
    "    - Otherwise, if no contradictions are found, return `True`."
   ]
  },
  {
   "cell_type": "markdown",
   "id": "7888762a",
   "metadata": {},
   "source": [
    "## Code Implementation"
   ]
  },
  {
   "cell_type": "code",
   "execution_count": null,
   "id": "e1d254e7",
   "metadata": {},
   "outputs": [],
   "source": [
    "class Solution:\n",
    "    def wordPattern(self, pattern: str, s: str) -> bool:\n",
    "        "
   ]
  },
  {
   "cell_type": "markdown",
   "id": "ce05a3cf",
   "metadata": {},
   "source": [
    "### Testing"
   ]
  },
  {
   "cell_type": "code",
   "execution_count": null,
   "id": "4c5194cc",
   "metadata": {},
   "outputs": [],
   "source": []
  },
  {
   "cell_type": "markdown",
   "id": "8a5df28b",
   "metadata": {},
   "source": [
    "### Complexity Analysis\n",
    "- #### Time Complexity: \n",
    "    - \n",
    "- #### Space Complexity: \n",
    "    - \n",
    "***"
   ]
  },
  {
   "cell_type": "markdown",
   "id": "32c95f2b",
   "metadata": {},
   "source": [
    "# Approach 2:\n",
    "\n",
    "\n",
    "### Intuition\n",
    "\n",
    "\n",
    "### Algorithm\n"
   ]
  }
 ],
 "metadata": {
  "kernelspec": {
   "display_name": "Python 3 (ipykernel)",
   "language": "python",
   "name": "python3"
  },
  "language_info": {
   "codemirror_mode": {
    "name": "ipython",
    "version": 3
   },
   "file_extension": ".py",
   "mimetype": "text/x-python",
   "name": "python",
   "nbconvert_exporter": "python",
   "pygments_lexer": "ipython3",
   "version": "3.10.4"
  }
 },
 "nbformat": 4,
 "nbformat_minor": 5
}

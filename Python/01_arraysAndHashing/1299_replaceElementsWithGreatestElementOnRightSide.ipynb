{
 "cells": [
  {
   "cell_type": "markdown",
   "id": "835c632c",
   "metadata": {},
   "source": [
    "#### [Python <img src=\"../../assets/pythonLogo.png\" alt=\"py logo\" style=\"height: 1em; vertical-align: sub;\">](../README.md) | Easy 🟢 | [Arrays & Hashing](README.md)\n",
    "# [1299. Replace Elements with Greatest Element on Right Side](https://leetcode.com/problems/replace-elements-with-greatest-element-on-right-side/description/)"
   ]
  },
  {
   "cell_type": "markdown",
   "id": "b9441082",
   "metadata": {},
   "source": [
    "Given an array `arr`, replace every element in that array with the greatest element among the elements to its right, and replace the last element with `-1`.\n",
    "\n",
    "After doing so, return the array.\n",
    "\n",
    "**Example 1:**\n",
    "> **Input:** `arr = [17,18,5,4,6,1]`  \n",
    "> **Output:** `[18,6,6,6,1,-1]`  \n",
    "> **Explanation:**  \n",
    "> - `index 0 --> the greatest element to the right of index 0 is index 1 (18).`\n",
    "> - `index 1 --> the greatest element to the right of index 1 is index 4 (6).`\n",
    "> - `index 2 --> the greatest element to the right of index 2 is index 4 (6).`\n",
    "> - `index 3 --> the greatest element to the right of index 3 is index 4 (6).`\n",
    "> - `index 4 --> the greatest element to the right of index 4 is index 5 (1).`\n",
    "> - `index 5 --> there are no elements to the right of index 5, so we put -1.`\n",
    "\n",
    "**Example 2:**\n",
    "> **Input:** `arr = [400]`\n",
    "> **Output:** `[-1]`  \n",
    "> **Explanation:** There are no elements to the right of index `0`\n",
    "\n",
    "#### Constraints\n",
    "- $1 \\leq$ `arr.length` $\\leq 10^4$\n",
    "- $1 \\leq$ `arr[1]` $\\leq 10^5$"
   ]
  },
  {
   "cell_type": "code",
   "execution_count": null,
   "id": "da243dde",
   "metadata": {},
   "outputs": [],
   "source": []
  }
 ],
 "metadata": {
  "kernelspec": {
   "display_name": "Python 3 (ipykernel)",
   "language": "python",
   "name": "python3"
  },
  "language_info": {
   "codemirror_mode": {
    "name": "ipython",
    "version": 3
   },
   "file_extension": ".py",
   "mimetype": "text/x-python",
   "name": "python",
   "nbconvert_exporter": "python",
   "pygments_lexer": "ipython3",
   "version": "3.10.4"
  }
 },
 "nbformat": 4,
 "nbformat_minor": 5
}

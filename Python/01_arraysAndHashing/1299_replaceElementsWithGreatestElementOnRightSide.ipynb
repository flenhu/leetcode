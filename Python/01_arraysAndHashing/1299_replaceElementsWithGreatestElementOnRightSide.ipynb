{
 "cells": [
  {
   "cell_type": "markdown",
   "id": "835c632c",
   "metadata": {},
   "source": [
    "#### [Python <img src=\"../../assets/pythonLogo.png\" alt=\"py logo\" style=\"height: 1em; vertical-align: sub;\">](../README.md) | Easy 🟢 | [Arrays & Hashing](README.md)\n",
    "# [1299. Replace Elements with Greatest Element on Right Side](https://leetcode.com/problems/replace-elements-with-greatest-element-on-right-side/description/)"
   ]
  },
  {
   "cell_type": "markdown",
   "id": "b9441082",
   "metadata": {},
   "source": [
    "Given an array `arr`, replace every element in that array with the greatest element among the elements to its right, and replace the last element with `-1`.\n",
    "\n",
    "After doing so, return the array.\n",
    "\n",
    "**Example 1:**\n",
    "> **Input:** `arr = [17,18,5,4,6,1]`  \n",
    "> **Output:** `[18,6,6,6,1,-1]`  \n",
    "> **Explanation:**  \n",
    "> - `index 0 --> the greatest element to the right of index 0 is index 1 (18).`\n",
    "> - `index 1 --> the greatest element to the right of index 1 is index 4 (6).`\n",
    "> - `index 2 --> the greatest element to the right of index 2 is index 4 (6).`\n",
    "> - `index 3 --> the greatest element to the right of index 3 is index 4 (6).`\n",
    "> - `index 4 --> the greatest element to the right of index 4 is index 5 (1).`\n",
    "> - `index 5 --> there are no elements to the right of index 5, so we put -1.`\n",
    "\n",
    "**Example 2:**\n",
    "> **Input:** `arr = [400]`\n",
    "> **Output:** `[-1]`  \n",
    "> **Explanation:** There are no elements to the right of index `0`\n",
    "\n",
    "#### Constraints\n",
    "- $1 \\leq$ `arr.length` $\\leq 10^4$\n",
    "- $1 \\leq$ `arr[1]` $\\leq 10^5$"
   ]
  },
  {
   "cell_type": "markdown",
   "id": "065d90ed",
   "metadata": {},
   "source": [
    "### Problem Explanation\n",
    "- This problem is pretty straightforward and is basically asking us to modify an array so that each element is replaced with the largest element that occurs to its right. The last element should also be replaced with `-1`, as there aren't any element to its right.\n",
    "***"
   ]
  },
  {
   "cell_type": "markdown",
   "id": "ac4793f2",
   "metadata": {},
   "source": [
    "# Approach: Right-To-Left Scan\n",
    "The optimal way to solve this problem is by scanning the array from right to left. This way, we can keep track of the maximum element found so far, and replace each element as we continue to iterate.\n",
    "\n",
    "### Intuition\n",
    "- Scanning from right to left allows us to maintain the current greatest element efficiently.\n",
    "- As we move left, we update the greatest element if we find a larger one.\n",
    "- This approach eliminates the need to scan the array multiple times.\n",
    "\n",
    "### Algorithm\n",
    "1. **Initialize Variables**:\n",
    "    - Create a variable to store the current greatest element (`maxElement`). \n",
    "        - Initially, set it to `-1`, as the last element will be replaced with `-1`.\n",
    "        - Start from the last element of the array.\n",
    "2. **Iterate from Right to Left**:\n",
    "    - For each element, store the current greatest element in its place.\n",
    "    - Update the `maxElement` with the maximum of its current value and the original value of the current element.\n",
    "3. **Set Last Element**:\n",
    "    - After the loop. set the last element of the array to `-1`."
   ]
  },
  {
   "cell_type": "markdown",
   "id": "dc63dbc0",
   "metadata": {},
   "source": [
    "### Code Implementation"
   ]
  },
  {
   "cell_type": "code",
   "execution_count": 1,
   "id": "5a7ad83a",
   "metadata": {},
   "outputs": [],
   "source": [
    "from typing import List\n",
    "\n",
    "class Solution:\n",
    "    def replaceElements(self, arr: List[int]) -> List[int]:\n",
    "        maxElement = -1  # Initialize the max element as -1\n",
    "        \n",
    "        # Iterate from the end of the beginning of the array\n",
    "        for i in range(len(arr) -1, -1, -1):\n",
    "            # Store the current max element in place of the current element\n",
    "            arr[i], maxElement = maxElement, max(maxElement, arr[i])\n",
    "            \n",
    "        return arr"
   ]
  },
  {
   "cell_type": "markdown",
   "id": "0ac8f605",
   "metadata": {},
   "source": [
    "### Testing"
   ]
  },
  {
   "cell_type": "code",
   "execution_count": 2,
   "id": "041986dd",
   "metadata": {},
   "outputs": [
    {
     "name": "stdout",
     "output_type": "stream",
     "text": [
      "Test Case 1: Input: [17, 18, 5, 4, 6, 1]\n",
      "Expected: [18, 6, 6, 6, 1, -1]\n",
      "Got: [18, 6, 6, 6, 1, -1] - Passed\n",
      "\n",
      "Test Case 2: Input: [400]\n",
      "Expected: [-1]\n",
      "Got: [-1] - Passed\n",
      "\n",
      "Test Case 3: Input: [5, 2, 7, 3, 6, 1, 4]\n",
      "Expected: [7, 7, 6, 6, 4, 4, -1]\n",
      "Got: [7, 7, 6, 6, 4, 4, -1] - Passed\n",
      "\n"
     ]
    }
   ],
   "source": [
    "def test_replaceElements(test_cases):\n",
    "    sol = Solution()\n",
    "    for i, (arr, expected) in enumerate(test_cases, 1):\n",
    "        result = sol.replaceElements(list(arr))  # Copy the array to avoid in-place modifications affecting tests\n",
    "        status = \"Passed\" if result == expected else \"Failed\"\n",
    "        print(f\"Test Case {i}: Input: {arr}\\nExpected: {expected}\\nGot: {result} - {status}\\n\")\n",
    "\n",
    "# Test cases\n",
    "test_cases = [\n",
    "    ([17, 18, 5, 4, 6, 1], [18, 6, 6, 6, 1, -1]),\n",
    "    ([400], [-1]),\n",
    "    ([5, 2, 7, 3, 6, 1, 4], [7, 7, 6, 6, 4, 4, -1])\n",
    "]\n",
    "\n",
    "# Run the tests\n",
    "test_replaceElements(test_cases)\n"
   ]
  },
  {
   "cell_type": "markdown",
   "id": "aa84c58c",
   "metadata": {},
   "source": [
    "### Complexity Analysis\n",
    "- #### Time Complexity: $O(n)$ \n",
    "    - $n$ is the length of the array. We only iterate throught the entire array once.\n",
    "- #### Space Complexity: $O(1)$\n",
    "    - We are modifying the array in place and not using any additional space that grows with the input size.\n",
    "***"
   ]
  },
  {
   "cell_type": "code",
   "execution_count": 4,
   "id": "c0589305",
   "metadata": {},
   "outputs": [],
   "source": [
    "class Solution2:\n",
    "    def replaceElements(self, arr: List[int]) -> List[int]:\n",
    "        # initial max = -1\n",
    "        # reverse iteration\n",
    "        # new max = max(old_max, arr[i])\n",
    "        \n",
    "        rightMax = -1\n",
    "        \n",
    "        for i in range(len(arr) -1, -1, -1):\n",
    "            newMax = max(rightMax, arr[i])\n",
    "            arr[i] = rightMax\n",
    "            rightMax = newMax\n",
    "        \n",
    "        return arr"
   ]
  }
 ],
 "metadata": {
  "kernelspec": {
   "display_name": "Python 3 (ipykernel)",
   "language": "python",
   "name": "python3"
  },
  "language_info": {
   "codemirror_mode": {
    "name": "ipython",
    "version": 3
   },
   "file_extension": ".py",
   "mimetype": "text/x-python",
   "name": "python",
   "nbconvert_exporter": "python",
   "pygments_lexer": "ipython3",
   "version": "3.10.4"
  }
 },
 "nbformat": 4,
 "nbformat_minor": 5
}

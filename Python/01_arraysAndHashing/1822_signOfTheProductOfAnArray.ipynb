{
 "cells": [
  {
   "cell_type": "markdown",
   "id": "835c632c",
   "metadata": {},
   "source": [
    "#### [Python <img src=\"../../assets/pythonLogo.png\" alt=\"py logo\" style=\"height: 1em; vertical-align: sub;\">](../README.md) | Easy 🟢 | [Arrays & Hashing](README.md)\n",
    "# [1822. Sign of the Product of an Array](https://leetcode.com/problems/sign-of-the-product-of-an-array/description/)"
   ]
  },
  {
   "cell_type": "markdown",
   "id": "b9441082",
   "metadata": {},
   "source": [
    "There is a function `signFunc(x)` that returns:\n",
    " - `1` if `x` is positive.\n",
    " - `-1` if `x` is negative.\n",
    " - `0` if `x` is equal to `0`.\n",
    "\n",
    "You are given an integer array `nums`. Let `product` be the product of all values in the array `nums`.\n",
    "\n",
    "Return `signFunc(product)`.\n",
    "\n",
    "#### Example 1:\n",
    "> **Input:** `nums = [-1,-2,-3,-4,3,2,1]`  \n",
    "> **Output:** `1`  \n",
    "> **Explanation:** The product of all values in the array is 144, and `signFunc(144) = 1`\n",
    "\n",
    "#### Example 2:\n",
    "> **Input:** `nums = [1,5,0,2,-3]`  \n",
    "> **Output:** `0`  \n",
    "> **Explanation:** The product of all values in the array is 0, and `signFunc(0) = 0`\n",
    "\n",
    "#### Example 3:\n",
    "> **Input:** `nums = [-1,1,-1,1,-1]`  \n",
    "> **Output:** `-1`  \n",
    "> **Explanation:** The product of all values in the array is -1, and `signFunc(-1) = -1`\n",
    "\n",
    "#### Constraints:\n",
    "- `1 <= nums.length <= 1000`\n",
    "- `-100 <= nums[i] <= 100`\n"
   ]
  },
  {
   "cell_type": "markdown",
   "id": "5a871415",
   "metadata": {},
   "source": [
    "## Problem Explanation\n",
    "- For this problem we are essentially focused on determining the overall sign (positive, negative, or zero) of the product of all elements in a given integer array.\n",
    "- Instead of calculating the actial product, we are mainly focused on finding out whether the product will have a certain sign, which we can figure out based on the signs of the numbers in the array.\n",
    "\n",
    "***"
   ]
  },
  {
   "cell_type": "markdown",
   "id": "66c83cb9",
   "metadata": {},
   "source": [
    "# Approach: Tracking the Sign of the Product\n",
    "For this approach, we can avoid doing direct multiplication. Instead we'll be keeping track of the sign change events that occur throughout the array. This approach uses two facts:\n",
    "1. Multiplying by a negative number changes the sign of the product.\n",
    "2. Encountering a zero means the product is zero, regardless of all the other elements.\n",
    "\n",
    "## Intuition\n",
    "The intuition behind this approach is basically just applying some of the basic properties of multiplication:\n",
    "1. The product of any number and zero is zero.\n",
    "2. The sign of a product changes with every multiplication by a negative number.\n",
    "3. The product remains positive if there are an even number of negative numbers (including zero and negatives) and no zeros.\n",
    "\n",
    "## Algorithm\n",
    "1. Initialize a flag as `True` to represent the positive sign.\n",
    "2. Iterate through each number in the array:\n",
    "    - If the current number is `0`, return `0` since the product of the entire array is going to be `0`.\n",
    "    - If the current number is negative, change the flag to flip the sign.\n",
    "3. After iterating through the array, return `1` if the flag is `True` (positive product) or `-1` meaning the flag is `False` (negative product)."
   ]
  },
  {
   "cell_type": "markdown",
   "id": "7888762a",
   "metadata": {},
   "source": [
    "### Code Implementation"
   ]
  },
  {
   "cell_type": "code",
   "execution_count": 1,
   "id": "e1d254e7",
   "metadata": {},
   "outputs": [],
   "source": [
    "from typing import List\n",
    "class Solution:\n",
    "    def arraySign(self, nums: List[int]) -> int:\n",
    "        flag = True  # Start with a positive sign assumption\n",
    "        for i in nums:\n",
    "            if i == 0:  # Product is zero if any element is zero\n",
    "                return 0\n",
    "            if i < 0:  # Toggle the sign for each negative element\n",
    "                flag = not flag\n",
    "        \n",
    "        return 1 if flag else -1  # Return the sign of the product"
   ]
  },
  {
   "cell_type": "markdown",
   "id": "ce05a3cf",
   "metadata": {},
   "source": [
    "### Testing"
   ]
  },
  {
   "cell_type": "code",
   "execution_count": 2,
   "id": "4c5194cc",
   "metadata": {},
   "outputs": [
    {
     "name": "stdout",
     "output_type": "stream",
     "text": [
      "Test Case 1: Input: [-1, -2, -3, -4, 3, 2, 1], Expected: 1, Result: 1, Passed: True\n",
      "Test Case 2: Input: [1, 5, 0, 2, -3], Expected: 0, Result: 0, Passed: True\n",
      "Test Case 3: Input: [-1, 1, -1, 1, -1], Expected: -1, Result: -1, Passed: True\n"
     ]
    }
   ],
   "source": [
    "def test_solution(func):\n",
    "    # Define test cases\n",
    "    test_cases = [\n",
    "        ([-1, -2, -3, -4, 3, 2, 1], 1),\n",
    "        ([1, 5, 0, 2, -3], 0),\n",
    "        ([-1, 1, -1, 1, -1], -1),\n",
    "    ]\n",
    "    \n",
    "    for idx, (nums, expected) in enumerate(test_cases, 1):\n",
    "        result = func(nums)\n",
    "        print(f\"Test Case {idx}: Input: {nums}, Expected: {expected}, Result: {result}, Passed: {result == expected}\")\n",
    "\n",
    "\n",
    "solution = Solution()\n",
    "\n",
    "test_solution(solution.arraySign)"
   ]
  },
  {
   "cell_type": "markdown",
   "id": "8a5df28b",
   "metadata": {},
   "source": [
    "## Complexity Analysis\n",
    "- ### Time Complexity: $O(n)$ \n",
    "    - $n$ is the number of elements in the array. We iterate throught the array once to check each element's sign.\n",
    "- ### Space Complexity: $O(1)$\n",
    "    - We use a fixed amount of extra space (for the `flag` variable), so our space complexity is constant.\n",
    "***"
   ]
  },
  {
   "cell_type": "markdown",
   "id": "32c95f2b",
   "metadata": {},
   "source": [
    "# Approach 2: Counting Negative Numbers\n",
    "For this approach we'll be iterating through the array, but we'll be counting the quantity of negative numbers and also checking if there are any zeros.\n",
    "\n",
    "## Intuition\n",
    "We'll still be accounting for the same basic principles of multiplication, although this time we're just taking the count of the negative numbers in the array.\n",
    "- An odd count of negatives results in a negative product\n",
    "- An even count of negatives results in a positive product.\n",
    "- The presence of any zero in the array results in a zero product.\n",
    "\n",
    "## Algorithm\n",
    "1. Initialize a counter for negative numbers (`neg_count = 0`).\n",
    "2. Iterate through each element in the array:\n",
    "    - If an element is `0`, return `0` since the product is zero.\n",
    "    - If an element is negative, increment the negative counter.\n",
    "3. After iteration, if the negative count is odd, return `-1`; otherwise return `1`."
   ]
  },
  {
   "cell_type": "markdown",
   "id": "a3aacf34",
   "metadata": {},
   "source": [
    "## Code Implementation"
   ]
  },
  {
   "cell_type": "code",
   "execution_count": 3,
   "id": "e57df84c",
   "metadata": {},
   "outputs": [],
   "source": [
    "class Solution2:\n",
    "    def arraySign(self, nums: List[int]) -> int:\n",
    "        neg_count = 0  # Counter for negative numbers\n",
    "        \n",
    "        for num in nums:\n",
    "            if num == 0:  # If there's a zero, the product is zero\n",
    "                return 0\n",
    "            elif num < 0:  # Count negative numbers\n",
    "                neg_count += 1\n",
    "        \n",
    "        # If the count of negative numbers is odd, the product is negative\n",
    "        return -1 if neg_count % 2 != 0 else 1\n"
   ]
  },
  {
   "cell_type": "markdown",
   "id": "fafa7886",
   "metadata": {},
   "source": [
    "## Testing"
   ]
  },
  {
   "cell_type": "code",
   "execution_count": 4,
   "id": "6f1385a9",
   "metadata": {},
   "outputs": [
    {
     "name": "stdout",
     "output_type": "stream",
     "text": [
      "Test Case 1: Input: [-1, -2, -3, -4, 3, 2, 1], Expected: 1, Result: 1, Passed: True\n",
      "Test Case 2: Input: [1, 5, 0, 2, -3], Expected: 0, Result: 0, Passed: True\n",
      "Test Case 3: Input: [-1, 1, -1, 1, -1], Expected: -1, Result: -1, Passed: True\n"
     ]
    }
   ],
   "source": [
    "solution2 = Solution2()\n",
    "\n",
    "test_solution(solution2.arraySign)"
   ]
  },
  {
   "cell_type": "markdown",
   "id": "b220297a",
   "metadata": {},
   "source": [
    "## Complexity Analysis\n",
    "- ### Time Complexity: $O(n)$ \n",
    "    - $n$ is the number of elements in the array. We iterate throught the array once to count up the negative numbers and to check for zeros.\n",
    "- ### Space Complexity: $O(1)$\n",
    "    - We use a fixed amount of extra space (for the `neg_counter`), so our space complexity is constant.\n",
    "***"
   ]
  },
  {
   "cell_type": "code",
   "execution_count": null,
   "id": "fbb024a7",
   "metadata": {},
   "outputs": [],
   "source": []
  }
 ],
 "metadata": {
  "kernelspec": {
   "display_name": "Python 3 (ipykernel)",
   "language": "python",
   "name": "python3"
  },
  "language_info": {
   "codemirror_mode": {
    "name": "ipython",
    "version": 3
   },
   "file_extension": ".py",
   "mimetype": "text/x-python",
   "name": "python",
   "nbconvert_exporter": "python",
   "pygments_lexer": "ipython3",
   "version": "3.10.4"
  }
 },
 "nbformat": 4,
 "nbformat_minor": 5
}

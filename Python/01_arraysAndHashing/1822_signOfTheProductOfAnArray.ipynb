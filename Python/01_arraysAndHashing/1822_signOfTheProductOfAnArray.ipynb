{
 "cells": [
  {
   "cell_type": "markdown",
   "id": "835c632c",
   "metadata": {},
   "source": [
    "#### [Python <img src=\"../../assets/pythonLogo.png\" alt=\"py logo\" style=\"height: 1em; vertical-align: sub;\">](../README.md) | Easy 🟢 | [Arrays & Hashing](README.md)\n",
    "# [1822. Sign of the Product of an Array](https://leetcode.com/problems/sign-of-the-product-of-an-array/description/) (not started 😕)"
   ]
  },
  {
   "cell_type": "markdown",
   "id": "b9441082",
   "metadata": {},
   "source": [
    "There is a function `signFunc(x)` that returns:\n",
    " - `1` if `x` is positive.\n",
    " - `-1` if `x` is negative.\n",
    " - `0` if `x` is equal to `0`.\n",
    "\n",
    "You are given an integer array `nums`. Let `product` be the product of all values in the array `nums`.\n",
    "\n",
    "Return `signFunc(product)`.\n",
    "\n",
    "#### Example 1:\n",
    "> **Input:** `nums = [-1,-2,-3,-4,3,2,1]`  \n",
    "> **Output:** `1`  \n",
    "> **Explanation:** The product of all values in the array is 144, and `signFunc(144) = 1`\n",
    "\n",
    "#### Example 2:\n",
    "> **Input:** `nums = [1,5,0,2,-3]`  \n",
    "> **Output:** `0`  \n",
    "> **Explanation:** The product of all values in the array is 0, and `signFunc(0) = 0`\n",
    "\n",
    "#### Example 3:\n",
    "> **Input:** `nums = [-1,1,-1,1,-1]`  \n",
    "> **Output:** `-1`  \n",
    "> **Explanation:** The product of all values in the array is -1, and `signFunc(-1) = -1`\n",
    "\n",
    "#### Constraints:\n",
    "- `1 <= nums.length <= 1000`\n",
    "- `-100 <= nums[i] <= 100`\n"
   ]
  },
  {
   "cell_type": "markdown",
   "id": "5a871415",
   "metadata": {},
   "source": [
    "### Problem Explanation\n",
    "- \n",
    "\n",
    "***"
   ]
  },
  {
   "cell_type": "markdown",
   "id": "66c83cb9",
   "metadata": {},
   "source": [
    "# Approach: \n",
    "\n",
    "\n",
    "### Intuition\n",
    "\n",
    "\n",
    "### Algorithm\n"
   ]
  },
  {
   "cell_type": "markdown",
   "id": "7888762a",
   "metadata": {},
   "source": [
    "### Code Implementation"
   ]
  },
  {
   "cell_type": "code",
   "execution_count": null,
   "id": "e1d254e7",
   "metadata": {},
   "outputs": [],
   "source": []
  },
  {
   "cell_type": "markdown",
   "id": "ce05a3cf",
   "metadata": {},
   "source": [
    "### Testing"
   ]
  },
  {
   "cell_type": "code",
   "execution_count": null,
   "id": "4c5194cc",
   "metadata": {},
   "outputs": [],
   "source": []
  },
  {
   "cell_type": "markdown",
   "id": "8a5df28b",
   "metadata": {},
   "source": [
    "### Complexity Analysis\n",
    "- #### Time Complexity: \n",
    "    - \n",
    "- #### Space Complexity: \n",
    "    - \n",
    "***"
   ]
  },
  {
   "cell_type": "markdown",
   "id": "32c95f2b",
   "metadata": {},
   "source": [
    "# Approach 2:\n",
    "\n",
    "\n",
    "### Intuition\n",
    "\n",
    "\n",
    "### Algorithm\n"
   ]
  }
 ],
 "metadata": {
  "kernelspec": {
   "display_name": "Python 3 (ipykernel)",
   "language": "python",
   "name": "python3"
  },
  "language_info": {
   "codemirror_mode": {
    "name": "ipython",
    "version": 3
   },
   "file_extension": ".py",
   "mimetype": "text/x-python",
   "name": "python",
   "nbconvert_exporter": "python",
   "pygments_lexer": "ipython3",
   "version": "3.10.4"
  }
 },
 "nbformat": 4,
 "nbformat_minor": 5
}

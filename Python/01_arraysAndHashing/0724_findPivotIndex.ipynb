{
 "cells": [
  {
   "cell_type": "markdown",
   "id": "835c632c",
   "metadata": {},
   "source": [
    "#### [Python <img src=\"../../assets/pythonLogo.png\" alt=\"py logo\" style=\"height: 1em; vertical-align: sub;\">](../README.md) | Easy 🟢 | [Arrays & Hashing](README.md)\n",
    "# [724. Find Pivot Index](https://leetcode.com/problems/find-pivot-index/description/) (Not started)"
   ]
  },
  {
   "cell_type": "markdown",
   "id": "b9441082",
   "metadata": {},
   "source": [
    "Given an array of integers `nums`, calculate the **pivot index** of this array.\n",
    "\n",
    "The **pivot index** is the index where the sum of all the numbers strictly to the left of the index is equal to the sum of all the numbers **strictly** to the index's right.\n",
    "\n",
    "If the index is on the left edge of the array, then the left sum is `0` because there are no elements to the left. This also applies to the right edge of the array.\n",
    "\n",
    "Return the **leftmost pivot index**. If no such index exists, return `-1`.\n",
    "\n",
    "#### Example 1:\n",
    "> **Input**: `nums = [1,7,3,6,5,6]`  \n",
    "> **Output**: `3`  \n",
    "> **Explanation**:  \n",
    "> The pivot index is 3.  \n",
    "> Left sum = `nums[0] + nums[1] + nums[2]` = `1 + 7 + 3` = `11`  \n",
    "> Right sum = `nums[4] + nums[5]` = `5 + 6` = `11`\n",
    "\n",
    "#### Example 2:\n",
    "> **Input**: `nums = [1,2,3]`  \n",
    "> **Output**: `-1`  \n",
    "> **Explanation**:  \n",
    "> There is no index that satisfies the conditions in the problem statement.\n",
    "\n",
    "#### Example 3:\n",
    "> **Input**: `nums = [2,1,-1]`  \n",
    "> **Output**: `0`  \n",
    "> **Explanation**:  \n",
    "> The pivot index is 0.  \n",
    "> Left sum = 0 (no elements to the left of index 0)  \n",
    "> Right sum = `nums[1] + nums[2]` = `1 + -1` = `0`\n",
    "\n",
    "#### Constraints:\n",
    "\n",
    "- `1 <= nums.length <= 10^4`\n",
    "- `-1000 <= nums[i] <= 1000`"
   ]
  },
  {
   "cell_type": "markdown",
   "id": "5a871415",
   "metadata": {},
   "source": [
    "## Problem Explanation\n",
    "- For this problem we want to find an index in an array where the sum of the elements to its equals the sums of the elements to its right. If no such index exists, the function returns `-1`.\n",
    "- Some important key concepts of this problem are;\n",
    "    - The pivot index is not included in either sum.\n",
    "    - If the pivot index is at the start of the array, the respective sum (left or right) is considered `0`.\n",
    "    - The goal is to find the leftmost pivot index if multiple pivot indexes exist.\n",
    "***"
   ]
  },
  {
   "cell_type": "markdown",
   "id": "66c83cb9",
   "metadata": {},
   "source": [
    "# Approach: Prefix Sum\n",
    "The \"prefix sum\" approach is probably the most suitable way to go about this problem. It involves calculating the cumulative sum of elements from the start of the array. This approach lets us efficiently calculate the sum of the element to the left of any given index.\n",
    "\n",
    "## Intuition\n",
    "- The core idea is to leverage the total sum of the array and the prefix sum (cumulative sum from the start).\n",
    "- For each index `i` in the array, if the sum of elements to its left is equal to the sum of the elements to its right, `i` is the pivot index.\n",
    "- We want to calculate the right sum by subtracting the left sum and the current element from the total sum.\n",
    "\n",
    "## Algorithm\n",
    "1. Calculate the total sum of the array.\n",
    "2. Initialize `leftSum as `0`.\n",
    "3. Iterate through each element in `nums[i].\n",
    "    - Calculate `rightSum` as `total - nums[i] - leftSum`\n",
    "    - If the `leftSum` equals the `rightSum`, return the current index `i`.\n",
    "    - Update `leftSum` by adding `nums[i]`\n",
    "4. If no pivot index is found, return `-1`."
   ]
  },
  {
   "cell_type": "markdown",
   "id": "7888762a",
   "metadata": {},
   "source": [
    "### Code Implementation"
   ]
  },
  {
   "cell_type": "code",
   "execution_count": 1,
   "id": "e1d254e7",
   "metadata": {},
   "outputs": [],
   "source": [
    "from typing import List\n",
    "\n",
    "class Solution:\n",
    "    def pivotIndex(self, nums: List[int]) -> int:\n",
    "        total = sum(nums)  # calculate the total sum of the array\n",
    "\n",
    "        leftSum = 0  # initialize the left sum to 0\n",
    "\n",
    "        # iterate through the array\n",
    "        for i, num in enumerate(nums):\n",
    "            rightSum = total - leftSum - num  # calculate the right sum\n",
    "            if leftSum == rightSum:  # if the left sum equals the right sum, return the index\n",
    "                return i\n",
    "            leftSum += num  # add the current number to the left sum\n",
    "\n",
    "        return -1  # if no pivot index is found, return -1"
   ]
  },
  {
   "cell_type": "markdown",
   "id": "ce05a3cf",
   "metadata": {},
   "source": [
    "### Testing"
   ]
  },
  {
   "cell_type": "code",
   "execution_count": 2,
   "id": "4c5194cc",
   "metadata": {},
   "outputs": [
    {
     "name": "stdout",
     "output_type": "stream",
     "text": [
      "Test: [1, 7, 3, 6, 5, 6], Expected: 3, Got: 3 - Passed\n",
      "Test: [1, 2, 3], Expected: -1, Got: -1 - Passed\n",
      "Test: [2, 1, -1], Expected: 0, Got: 0 - Passed\n"
     ]
    }
   ],
   "source": [
    "def test_pivotIndex(sol, nums, expected):\n",
    "    result = sol.pivotIndex(nums)\n",
    "    status = \"Passed\" if result == expected else \"Failed\"\n",
    "    print(f\"Test: {nums}, Expected: {expected}, Got: {result} - {status}\")\n",
    "\n",
    "sol = Solution()\n",
    "\n",
    "# Test Case 1\n",
    "test_pivotIndex(sol, [1, 7, 3, 6, 5, 6], 3)  # Expected Output: 3\n",
    "\n",
    "# Test Case 2\n",
    "test_pivotIndex(sol, [1, 2, 3], -1)  # Expected Output: -1\n",
    "\n",
    "# Test Case 3\n",
    "test_pivotIndex(sol, [2, 1, -1], 0)  # Expected Output: 0\n"
   ]
  },
  {
   "cell_type": "markdown",
   "id": "8a5df28b",
   "metadata": {},
   "source": [
    "## Complexity Analysis  \n",
    "\n",
    "- **Variable(s)**:\n",
    "    - $n$ is the length of the array `nums`\n",
    "\n",
    "### Time Complexity:  $O(n)$\n",
    " -  We iterate through the array once to calculate the total sum and once more to find the pivot index.\n",
    "\n",
    "### Space Complexity:  $O(1)$\n",
    " -  We only used a constant amount of extra space for the variables `total`, `leftSum`, and `rightSum`.\n",
    "***"
   ]
  }
 ],
 "metadata": {
  "kernelspec": {
   "display_name": "Python 3 (ipykernel)",
   "language": "python",
   "name": "python3"
  },
  "language_info": {
   "codemirror_mode": {
    "name": "ipython",
    "version": 3
   },
   "file_extension": ".py",
   "mimetype": "text/x-python",
   "name": "python",
   "nbconvert_exporter": "python",
   "pygments_lexer": "ipython3",
   "version": "3.10.4"
  }
 },
 "nbformat": 4,
 "nbformat_minor": 5
}

{
 "cells": [
  {
   "cell_type": "markdown",
   "id": "835c632c",
   "metadata": {},
   "source": [
    "#### [Python <img src=\"../../assets/pythonLogo.png\" alt=\"py logo\" style=\"height: 1em; vertical-align: sub;\">](../README.md) | Easy 🟢 | [Arrays & Hashing](README.md)\n",
    "# [724. Find Pivot Index](https://leetcode.com/problems/find-pivot-index/description/) (Not started)"
   ]
  },
  {
   "cell_type": "markdown",
   "id": "b9441082",
   "metadata": {},
   "source": [
    "Given an array of integers `nums`, calculate the **pivot index** of this array.\n",
    "\n",
    "The **pivot index** is the index where the sum of all the numbers strictly to the left of the index is equal to the sum of all the numbers **strictly** to the index's right.\n",
    "\n",
    "If the index is on the left edge of the array, then the left sum is `0` because there are no elements to the left. This also applies to the right edge of the array.\n",
    "\n",
    "Return the **leftmost pivot index**. If no such index exists, return `-1`.\n",
    "\n",
    "#### Example 1:\n",
    "> **Input**: `nums = [1,7,3,6,5,6]`  \n",
    "> **Output**: `3`  \n",
    "> **Explanation**:  \n",
    "> The pivot index is 3.  \n",
    "> Left sum = `nums[0] + nums[1] + nums[2]` = `1 + 7 + 3` = `11`  \n",
    "> Right sum = `nums[4] + nums[5]` = `5 + 6` = `11`\n",
    "\n",
    "#### Example 2:\n",
    "> **Input**: `nums = [1,2,3]`  \n",
    "> **Output**: `-1`  \n",
    "> **Explanation**:  \n",
    "> There is no index that satisfies the conditions in the problem statement.\n",
    "\n",
    "#### Example 3:\n",
    "> **Input**: `nums = [2,1,-1]`  \n",
    "> **Output**: `0`  \n",
    "> **Explanation**:  \n",
    "> The pivot index is 0.  \n",
    "> Left sum = 0 (no elements to the left of index 0)  \n",
    "> Right sum = `nums[1] + nums[2]` = `1 + -1` = `0`\n",
    "\n",
    "#### Constraints:\n",
    "\n",
    "- `1 <= nums.length <= 10^4`\n",
    "- `-1000 <= nums[i] <= 1000`"
   ]
  },
  {
   "cell_type": "markdown",
   "id": "5a871415",
   "metadata": {},
   "source": [
    "### Problem Explanation\n",
    "- \n",
    "\n",
    "***"
   ]
  },
  {
   "cell_type": "markdown",
   "id": "66c83cb9",
   "metadata": {},
   "source": [
    "# Approach: \n",
    "\n",
    "\n",
    "### Intuition\n",
    "\n",
    "\n",
    "### Algorithm\n"
   ]
  },
  {
   "cell_type": "markdown",
   "id": "7888762a",
   "metadata": {},
   "source": [
    "### Code Implementation"
   ]
  },
  {
   "cell_type": "code",
   "execution_count": null,
   "id": "e1d254e7",
   "metadata": {},
   "outputs": [],
   "source": []
  },
  {
   "cell_type": "markdown",
   "id": "ce05a3cf",
   "metadata": {},
   "source": [
    "### Testing"
   ]
  },
  {
   "cell_type": "code",
   "execution_count": null,
   "id": "4c5194cc",
   "metadata": {},
   "outputs": [],
   "source": []
  },
  {
   "cell_type": "markdown",
   "id": "8a5df28b",
   "metadata": {},
   "source": [
    "### Complexity Analysis\n",
    "- #### Time Complexity: \n",
    "    - \n",
    "- #### Space Complexity: \n",
    "    - \n",
    "***"
   ]
  },
  {
   "cell_type": "markdown",
   "id": "32c95f2b",
   "metadata": {},
   "source": [
    "# Approach 2:\n",
    "\n",
    "\n",
    "### Intuition\n",
    "\n",
    "\n",
    "### Algorithm\n"
   ]
  }
 ],
 "metadata": {
  "kernelspec": {
   "display_name": "Python 3 (ipykernel)",
   "language": "python",
   "name": "python3"
  },
  "language_info": {
   "codemirror_mode": {
    "name": "ipython",
    "version": 3
   },
   "file_extension": ".py",
   "mimetype": "text/x-python",
   "name": "python",
   "nbconvert_exporter": "python",
   "pygments_lexer": "ipython3",
   "version": "3.10.4"
  }
 },
 "nbformat": 4,
 "nbformat_minor": 5
}

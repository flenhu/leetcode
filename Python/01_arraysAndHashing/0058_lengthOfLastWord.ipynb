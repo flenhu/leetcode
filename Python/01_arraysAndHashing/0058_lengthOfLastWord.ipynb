{
 "cells": [
  {
   "cell_type": "markdown",
   "id": "835c632c",
   "metadata": {},
   "source": [
    "#### [Python <img src=\"../../assets/pythonLogo.png\" alt=\"py logo\" style=\"height: 1em; vertical-align: sub;\">](../README.md) | Easy 🟢 | [Arrays & Hashing](README.md)\n",
    "# [58. Length of Last Word](https://leetcode.com/problems/is-subsequence/description/)"
   ]
  },
  {
   "cell_type": "markdown",
   "id": "b9441082",
   "metadata": {},
   "source": [
    "Given a string `s` consisting of words and spaces, return the length of the **last** word in the string.\n",
    "\n",
    "A **word** is a maximal substring consisting of non-space characters only.\n",
    "\n",
    "**Example 1:**\n",
    "> **Input**: `s = \"Hello World\"`  \n",
    "> **Output**: `5`  \n",
    "> **Explanation**: The last word is `\"World\"\"` with length `5`.  \n",
    "\n",
    "**Example 1:**\n",
    "> **Input**: `s = \"   fly me   to   the moon  \"`  \n",
    "> **Output**: `4`  \n",
    "> **Explanation**: The last word is `\"moon\"\"` with length `4`.  \n",
    "\n",
    "**Example 3:**\n",
    "> **Input**: `s = \"luffy is still joyboy\"`  \n",
    "> **Output**: `6`  \n",
    "> **Explanation**: The last word is `\"joyboy\"` with length `6`.\n",
    "\n",
    "#### Constraints\n",
    "- $1 \\leq$ `s.length` $\\leq 10^4$\n",
    "- `s` consists of only English letters and spaces `' '`.\n",
    "- There will be at least one word in `s`."
   ]
  },
  {
   "cell_type": "markdown",
   "id": "5a871415",
   "metadata": {},
   "source": [
    "### Problem Explanation\n",
    "- In this problem we are given a string `s` that includes words that are separated by spaces, our main goal is to find the length of the last word in the string. Words are defined as contiguous strings of non-space characters.\n",
    "***"
   ]
  },
  {
   "cell_type": "markdown",
   "id": "66c83cb9",
   "metadata": {},
   "source": [
    "# Approach: Reverse Iteration\n",
    "For this approach we iterate over the string in reverse, counting the characters until the first space is encountered after a non-space character.\n",
    "\n",
    "### Intuition\n",
    "- **Reverse Traversal**: Starting from the end makes it a lot easier to find the last word directly, especially if there are trailing spaces.\n",
    "- **Counting characters**: Once a non-space character is encountered, we then start counting until a space is found.\n",
    "\n",
    "\n",
    "### Algorithm\n",
    "1. **Reverse Loop**:\n",
    "    - Iterate over the string in reverse\n",
    "    - If a non-space character is encountered, start a counter.\n",
    "    - If a space is encountered and the counter is non-zero, this indicates the end of the last word.\n",
    "2. **Return Length**:\n",
    "    - The counter value at the end of the iteration or when the first space (after non-space characters) is encountered is the length of the last word."
   ]
  },
  {
   "cell_type": "markdown",
   "id": "7888762a",
   "metadata": {},
   "source": [
    "### Code Implementation"
   ]
  },
  {
   "cell_type": "code",
   "execution_count": 1,
   "id": "e1d254e7",
   "metadata": {},
   "outputs": [],
   "source": [
    "class Solution:\n",
    "    def lengthOfLastWord(self, s: str) -> int:\n",
    "        count = 0  # Initialize the counter to 0\n",
    "\n",
    "        # Iterate through the string in reverse\n",
    "        for char in reversed(s):\n",
    "            # If the character is not a space, increment the counter\n",
    "            if char != \" \":\n",
    "                count += 1\n",
    "            # If the character is a space and the counter is not 0, break\n",
    "            elif count != 0:\n",
    "                break\n",
    "        \n",
    "        return count # Return the length of the last word"
   ]
  },
  {
   "cell_type": "markdown",
   "id": "ce05a3cf",
   "metadata": {},
   "source": [
    "### Testing"
   ]
  },
  {
   "cell_type": "code",
   "execution_count": 2,
   "id": "4c5194cc",
   "metadata": {},
   "outputs": [
    {
     "name": "stdout",
     "output_type": "stream",
     "text": [
      "Test passed for 'Hello World': expected 5, got 5\n",
      "Test passed for '   fly me   to   the moon  ': expected 4, got 4\n",
      "Test passed for 'luffy is still joyboy': expected 6, got 6\n"
     ]
    }
   ],
   "source": [
    "sol = Solution()\n",
    "\n",
    "# Define test cases\n",
    "test_cases = [\n",
    "    (\"Hello World\", 5),\n",
    "    (\"   fly me   to   the moon  \", 4),\n",
    "    (\"luffy is still joyboy\", 6)\n",
    "]\n",
    "\n",
    "# Test the function\n",
    "for s, expected in test_cases:\n",
    "    result = sol.lengthOfLastWord(s)\n",
    "    assert result == expected, f\"Test failed for '{s}': expected {expected}, got {result}\"\n",
    "    print(f\"Test passed for '{s}': expected {expected}, got {result}\")\n"
   ]
  },
  {
   "cell_type": "markdown",
   "id": "8a5df28b",
   "metadata": {},
   "source": [
    "### Complexity Analysis\n",
    "- #### Time Complexity: $O(n)$\n",
    "    - $n$ is the length of the string.\n",
    "    - In the worst case, we traverse the entire string.\n",
    "- #### Space Complexity: $O(1)$\n",
    "    - No additional space is used that grows with the input size.\n",
    "***"
   ]
  },
  {
   "cell_type": "markdown",
   "id": "32c95f2b",
   "metadata": {},
   "source": [
    "# Approach 2: Split and Check Last Element\n",
    "For this approach we essentially just split the string into words and find the length of the last word.\n",
    "\n",
    "### Intuition\n",
    "- **Simplicity of Splitting**: We can just use the Python `split()` method as it naturally divides a string into its component words based on spaces, this makes it pretty straightforward to isolate the last word.\n",
    "- **Direct access**: Once we split the string, the last word can be directly accessed and we can just get the length.\n",
    "\n",
    "### Algorithm\n",
    "1. **Split the String**:\n",
    "    - We use the `split()` method on the string `s` to divide it into a list of words.\n",
    "2. **Access the Last Word**:\n",
    "    - We then retrieve the last element from the list, which represents the last word.\n",
    "3. **Calculate and Return length**:\n",
    "    - Return the length of the last word using `len()`"
   ]
  },
  {
   "cell_type": "markdown",
   "id": "8ba289ec",
   "metadata": {},
   "source": [
    "### Code Implementation"
   ]
  },
  {
   "cell_type": "code",
   "execution_count": 3,
   "id": "b5503f46",
   "metadata": {},
   "outputs": [],
   "source": [
    "class Solution:\n",
    "    def lengthOfLastWord(self, s: str) -> int:\n",
    "        listOfWords = s.split()  # Split the string into a list of words\n",
    "        lastWord = listOfWords[-1]  # Get the last word in the list\n",
    "        return len(lastWord)"
   ]
  },
  {
   "cell_type": "markdown",
   "id": "97ea284e",
   "metadata": {},
   "source": [
    "### Testing"
   ]
  },
  {
   "cell_type": "code",
   "execution_count": 4,
   "id": "58c704b7",
   "metadata": {},
   "outputs": [
    {
     "name": "stdout",
     "output_type": "stream",
     "text": [
      "Test passed for 'Hello World': expected 5, got 5\n",
      "Test passed for '   fly me   to   the moon  ': expected 4, got 4\n",
      "Test passed for 'luffy is still joyboy': expected 6, got 6\n"
     ]
    }
   ],
   "source": [
    "sol = Solution()\n",
    "\n",
    "# Define test cases\n",
    "test_cases = [\n",
    "    (\"Hello World\", 5),\n",
    "    (\"   fly me   to   the moon  \", 4),\n",
    "    (\"luffy is still joyboy\", 6)\n",
    "]\n",
    "\n",
    "# Test the function\n",
    "for s, expected in test_cases:\n",
    "    result = sol.lengthOfLastWord(s)\n",
    "    assert result == expected, f\"Test failed for '{s}': expected {expected}, got {result}\"\n",
    "    print(f\"Test passed for '{s}': expected {expected}, got {result}\")\n"
   ]
  },
  {
   "cell_type": "markdown",
   "id": "b253ee19",
   "metadata": {},
   "source": [
    "### Complexity Analysis\n",
    "- #### Time Complexity: $O(n)$\n",
    "    - $n$ is the length of the string `s`\n",
    "    - The split operation iterates over the string once.\n",
    "- #### Space Complexity: $O(n)$\n",
    "    - $n$ is the length of the string `s`.\n",
    "    - The split oepration creates a list of words, which in the worst case (no spaces), this would make a list containing the entire string.\n",
    "***"
   ]
  },
  {
   "cell_type": "markdown",
   "id": "572b1f3e",
   "metadata": {},
   "source": [
    "# Approach 3: Forward Iteration with State Tracking\n",
    "Lastly, another way we can approach the problem is by iterating through the entire string from the start by keeping track of the length of the current word, and resetting the counter whenever a space is encountered.\n",
    "\n",
    "### Intuition\n",
    "- **Sequential Processing**: By processing the string from the start to end, this approach ensures that the length of the last word is correctly identified, even if there are multiple spaces between words.\n",
    "- **State tracking**: This approach also maintains a  count of the characteres in the current word. This count is reset when a space is encountered, which indicates the start of a new word.\n",
    "\n",
    "### Algorithm\n",
    "1. **Iterate over the string**:\n",
    "    - Traverse the string by character.\n",
    "    - If a non-space character is encountered, increment the count.\n",
    "    - If a space is encountered and the count is non-zero, reset the count to zero (this indicates the end of a word).\n",
    "2. **Return the count**:\n",
    "    - The count at the end of the string iteration is the length of the last word."
   ]
  },
  {
   "cell_type": "markdown",
   "id": "cac53a54",
   "metadata": {},
   "source": [
    "### Code Implementation"
   ]
  },
  {
   "cell_type": "code",
   "execution_count": 5,
   "id": "b4a8db77",
   "metadata": {},
   "outputs": [],
   "source": [
    "class Solution:\n",
    "    def lengthOfLastWord(self, s: str) -> int:\n",
    "        count = 0  # Initialize the counter to 0\n",
    "        length = len(s)\n",
    "\n",
    "        # Skip trailing spaces\n",
    "        while length > 0 and s[length - 1] == \" \":\n",
    "            length -= 1\n",
    "\n",
    "        # Count the length of the last word\n",
    "        while length > 0 and s[length - 1] != \" \":\n",
    "            count += 1\n",
    "            length -= 1\n",
    "\n",
    "        return count  # Return the length of the last word"
   ]
  },
  {
   "cell_type": "markdown",
   "id": "151a75e0",
   "metadata": {},
   "source": [
    "### Testing"
   ]
  },
  {
   "cell_type": "code",
   "execution_count": 7,
   "id": "177747e8",
   "metadata": {},
   "outputs": [
    {
     "name": "stdout",
     "output_type": "stream",
     "text": [
      "Test passed for 'Hello World': expected 5, got 5\n",
      "Test passed for '   fly me   to   the moon  ': expected 4, got 4\n",
      "Test passed for 'luffy is still joyboy': expected 6, got 6\n"
     ]
    }
   ],
   "source": [
    "sol = Solution()\n",
    "\n",
    "# Define test cases\n",
    "test_cases = [\n",
    "    (\"Hello World\", 5),\n",
    "    (\"   fly me   to   the moon  \", 4),\n",
    "    (\"luffy is still joyboy\", 6)\n",
    "]\n",
    "\n",
    "# Test the function\n",
    "for s, expected in test_cases:\n",
    "    result = sol.lengthOfLastWord(s)\n",
    "    assert result == expected, f\"Test failed for '{s}': expected {expected}, got {result}\"\n",
    "    print(f\"Test passed for '{s}': expected {expected}, got {result}\")\n"
   ]
  },
  {
   "cell_type": "markdown",
   "id": "1f559594",
   "metadata": {},
   "source": [
    "### Complexity Analysis\n",
    "- #### Time Complexity: $O(n)$\n",
    "    - $n$ is the length of the string `s`\n",
    "    - The split operation iterates over the string once.\n",
    "- #### Space Complexity: $O(1)$\n",
    "    - No additional space is used.\n",
    "***"
   ]
  },
  {
   "cell_type": "markdown",
   "id": "8cf58ac8",
   "metadata": {},
   "source": [
    "## Recap\n",
    "\n",
    "### Comparison of Approaches\n",
    "\n",
    "#### 1. Reverse Iteration\n",
    "- **Description**: Iterate from the end, counting characters until the first space is encountered after a non-space character.\n",
    "- **Pros**: Efficient for strings with trailing spaces; minimal string processing.\n",
    "- **Cons**: More complex reverse traversal logic.\n",
    "- **Best For**: Strings with numerous trailing spaces.\n",
    "- **Complexity Analysis**: $O(n)$ time; $O(1)$ space\n",
    "\n",
    "#### 2. Split and Check Last Element\n",
    "- **Description**: Divide the string into words using `split()` and return the length of the last word.\n",
    "- **Pros**: Simple and easy to understand.\n",
    "- **Cons**: Higher space complexity with list creation; less efficient for lengthy strings with many spaces.\n",
    "- **Best For**: Short strings or when readability is key.\n",
    "- **Complexity Analysis**: $O(n)$ (time); $O(n)$ (space)\n",
    "\n",
    "#### 3. Forward Iteration with State Tracking\n",
    "- **Description**: Count the length of the last word while iterating from the start, resetting the counter at spaces.\n",
    "- **Pros**: Straightforward logic; starts from the beginning of the string.\n",
    "- **Cons**: Requires multiple conditional checks.\n",
    "- **Best For**: Strings with many leading spaces.\n",
    "- **Complexity Analysis**: $O(n)$ (time); $O(1)$ (space)"
   ]
  }
 ],
 "metadata": {
  "kernelspec": {
   "display_name": "Python 3 (ipykernel)",
   "language": "python",
   "name": "python3"
  },
  "language_info": {
   "codemirror_mode": {
    "name": "ipython",
    "version": 3
   },
   "file_extension": ".py",
   "mimetype": "text/x-python",
   "name": "python",
   "nbconvert_exporter": "python",
   "pygments_lexer": "ipython3",
   "version": "3.10.4"
  }
 },
 "nbformat": 4,
 "nbformat_minor": 5
}

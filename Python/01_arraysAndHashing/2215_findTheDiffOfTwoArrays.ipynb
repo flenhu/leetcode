{
 "cells": [
  {
   "cell_type": "markdown",
   "id": "835c632c",
   "metadata": {},
   "source": [
    "#### [Python <img src=\"../../assets/pythonLogo.png\" alt=\"py logo\" style=\"height: 1em; vertical-align: sub;\">](../README.md) | Easy 🟢 | [Arrays & Hashing](README.md)\n",
    "# [2215. Find the Difference of Two Arrays](https://leetcode.com/problems/find-the-difference-of-two-arrays/description/) (in prog)"
   ]
  },
  {
   "cell_type": "markdown",
   "id": "b9441082",
   "metadata": {},
   "source": [
    "Given two **0-indexed** integer arrays `nums1` and `nums2`, return a list `answer` of size 2 where:\n",
    "\n",
    "- `answer[0]` is a list of all **distinct** integers in `nums1` which are **not** present in `nums2`.\n",
    "- `answer[1]` is a list of all **distinct** integers in `nums2` which are **not** present in `nums1`.\n",
    "\n",
    "**Note** that the integers in the lists may be returned in **any** order.\n",
    "\n",
    "#### Example 1:\n",
    "> **Input:** `nums1 = [1,2,3], nums2 = [2,4,6]`  \n",
    "> **Output:** `[[1,3],[4,6]]`  \n",
    "> **Explanation:**  \n",
    "> For `nums1`, `nums1[1] = 2` is present at index 0 of `nums2`, whereas `nums1[0] = 1` and `nums1[2] = 3` are not present in `nums2`. Therefore, `answer[0] = [1,3]`.  \n",
    "> For `nums2`, `nums2[0] = 2` is present at index 1 of `nums1`, whereas `nums2[1] = 4` and `nums2[2] = 6` are not present in `nums2`. Therefore, `answer[1] = [4,6]`.\n",
    "\n",
    "#### Example 2:\n",
    "> **Input:** `nums1 = [1,2,3,3], nums2 = [1,1,2,2]`  \n",
    "> **Output:** `[[3],[]]`  \n",
    "> **Explanation:**  \n",
    "> For `nums1`, `nums1[2]` and `nums1[3]` are not present in `nums2`. Since `nums1[2] == nums1[3]`, their value is only included once and `answer[0] = [3]`.  \n",
    "> Every integer in `nums2` is present in `nums1`. Therefore, `answer[1] = []`.\n",
    "\n",
    "#### Constraints:\n",
    "- `1 <= nums1.length, nums2.length <= 1000`\n",
    "- `-1000 <= nums1[i], nums2[i] <= 1000`\n"
   ]
  },
  {
   "cell_type": "markdown",
   "id": "5a871415",
   "metadata": {},
   "source": [
    "## Problem Explanation\n",
    "- For this problem, we want to identify unique integers in two given arrays that don't appear in the other array. More specifically, we are required to fine:\n",
    "    - All distinct integers in `nums1` not present in `nums2`\n",
    "    - All distinct integers in `nums2` not present in `nums1`\n",
    "- Essentially this problem wants us to focus on how to compare elements across two datasets to identify unique elements.\n",
    "***"
   ]
  },
  {
   "cell_type": "markdown",
   "id": "66c83cb9",
   "metadata": {},
   "source": [
    "# Approach: Hash Set\n",
    "\n",
    "## Intuition\n",
    "- Using a Hash Set is ideal for this problems because of its properties of storing unique elements and providing constant time complexity $O(1)$ for search, insertion, and deletion operations.\n",
    "- By converting both input arrays into sets, we eliminate values and can efficiently check for the prescense or absence of elements from one set in another.\n",
    "\n",
    "## Algorithm\n",
    "1. Convert `nums1` and `nums2` into sets (`nums1_set` and `nums2_set`) to ensure all elements are unique\n",
    "2. Find elements in `nums1_set` not present in `nums2_set` and vice versa.\n",
    "3. Return these elements as two separate lists, which gives us the final answer."
   ]
  },
  {
   "cell_type": "markdown",
   "id": "7888762a",
   "metadata": {},
   "source": [
    "## Code Implementation"
   ]
  },
  {
   "cell_type": "code",
   "execution_count": 1,
   "id": "e1d254e7",
   "metadata": {},
   "outputs": [],
   "source": [
    "from typing import List\n",
    "\n",
    "class Solution:\n",
    "    def findDifference(self, nums1: List[int], nums2: List[int]) -> List[List[int]]:\n",
    "        # Convert the input lists to sets to remove duplicates\n",
    "        nums1_set = set(nums1)\n",
    "        nums2_set = set(nums2)\n",
    "\n",
    "        #  Find the unique elements in nums1_set\n",
    "        lst1 = [num for num in nums1_set if num not in nums2_set]\n",
    "        #  Find the unique elements in nums2_set\n",
    "        lst2 = [num for num in nums2_set if num not in nums1_set]\n",
    "\n",
    "        return [lst1, lst2]"
   ]
  },
  {
   "cell_type": "markdown",
   "id": "ce05a3cf",
   "metadata": {},
   "source": [
    "### Testing"
   ]
  },
  {
   "cell_type": "code",
   "execution_count": 4,
   "id": "4c5194cc",
   "metadata": {},
   "outputs": [
    {
     "name": "stdout",
     "output_type": "stream",
     "text": [
      "Input: nums1 = [1, 2, 3], nums2 = [2, 4, 6]\n",
      "Expected Output: [[1, 3], [4, 6]]\n",
      "Result: [[1, 3], [4, 6]]\n",
      "Passed ✅\n",
      "\n",
      "Input: nums1 = [1, 2, 3, 3], nums2 = [1, 1, 2, 2]\n",
      "Expected Output: [[3], []]\n",
      "Result: [[3], []]\n",
      "Passed ✅\n",
      "\n",
      "Input: nums1 = [4, 9, 5], nums2 = [9, 4, 9, 8, 4]\n",
      "Expected Output: [[5], [8]]\n",
      "Result: [[5], [8]]\n",
      "Passed ✅\n",
      "\n"
     ]
    }
   ],
   "source": [
    "def test_solution(nums1, nums2, expected):\n",
    "    sol = Solution()\n",
    "    result = sol.findDifference(nums1, nums2)\n",
    "    print(f\"Input: nums1 = {nums1}, nums2 = {nums2}\")\n",
    "    print(f\"Expected Output: {expected}\")\n",
    "    print(f\"Result: {result}\")\n",
    "    print(\"Passed ✅\" if sorted(result[0]) == sorted(expected[0]) and sorted(result[1]) == sorted(expected[1]) else \"Failed Test Case\", end=\"\\n\\n\")\n",
    "\n",
    "# Test Case 1\n",
    "test_solution([1,2,3], [2,4,6], [[1,3],[4,6]])\n",
    "\n",
    "# Test Case 2\n",
    "test_solution([1,2,3,3], [1,1,2,2], [[3],[]])\n",
    "\n",
    "# Test Case 3\n",
    "test_solution([4,9,5], [9,4,9,8,4], [[5],[8]])\n"
   ]
  },
  {
   "cell_type": "markdown",
   "id": "8a5df28b",
   "metadata": {},
   "source": [
    "## Complexity Analysis\n",
    "- ### Time Complexity: $O(m + n)$ \n",
    "    - We iterate through each set once, where $m$ and $n$ are the lengths of the sets created from `nums1` and `nums2`\n",
    "- ### Space Complexity: $O(m+n)$\n",
    "    - In the worst case, all elements are unique, and the space of the sets is proportional to the size of the input arrays.\n",
    "\n",
    "***"
   ]
  }
 ],
 "metadata": {
  "kernelspec": {
   "display_name": "Python 3 (ipykernel)",
   "language": "python",
   "name": "python3"
  },
  "language_info": {
   "codemirror_mode": {
    "name": "ipython",
    "version": 3
   },
   "file_extension": ".py",
   "mimetype": "text/x-python",
   "name": "python",
   "nbconvert_exporter": "python",
   "pygments_lexer": "ipython3",
   "version": "3.10.4"
  }
 },
 "nbformat": 4,
 "nbformat_minor": 5
}

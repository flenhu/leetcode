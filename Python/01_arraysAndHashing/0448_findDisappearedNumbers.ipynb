{
 "cells": [
  {
   "cell_type": "markdown",
   "id": "835c632c",
   "metadata": {},
   "source": [
    "#### [Python <img src=\"../../assets/pythonLogo.png\" alt=\"py logo\" style=\"height: 1em; vertical-align: sub;\">](../README.md) | Easy 🟢 | [Arrays & Hashing](README.md)\n",
    "# [448. Find All Numbers Disappeared in an Array](https://leetcode.com/problems/find-all-numbers-disappeared-in-an-array/description/) (in prog 👷)"
   ]
  },
  {
   "cell_type": "markdown",
   "id": "b9441082",
   "metadata": {},
   "source": [
    "Given an array `nums` of `n` integers where `nums[i]` is in the range `[1, n]`, return an array of all the integers in the range `[1, n]` that do not appear in `nums`.\n",
    "\n",
    "#### Example 1:\n",
    "> **Input**: `nums = [4,3,2,7,8,2,3,1]`  \n",
    "> **Output**: `[5,6]`\n",
    "\n",
    "#### Example 2:\n",
    "> **Input**: `nums = [1,1]`  \n",
    "> **Output**: `[2]`\n",
    "\n",
    "#### Constraints:\n",
    "- `n == nums.length`\n",
    "- $1 \\leq$ `n` $\\leq 10^5$\n",
    "- $1 \\leq$ `nums[i]` $\\leq$ `n`"
   ]
  },
  {
   "cell_type": "markdown",
   "id": "5a871415",
   "metadata": {},
   "source": [
    "### Problem Explanation\n",
    "- For this problem we are asked to identify all the numbers that are missing from a given array `nums` where each number in `nums` where each number in `nums` is supposed to be within the range from `1` to `n` (where `n` is the size of the array).\n",
    "- Our goal is to find these missing numbers without using extra space for another data structure to keep track of the numbers seen or missing.\n",
    "\n",
    "***"
   ]
  },
  {
   "cell_type": "markdown",
   "id": "66c83cb9",
   "metadata": {},
   "source": [
    "# Approach 1 : In-Place Modification (most-efficient)\n",
    "- The in-place modification approach uses the array itself to mark the presence of the numbers. \n",
    "- Since we know the numbers are within a specific range (`1` to `n`), we can use the indices of the array as a \"natural hash-map\" where the presence of a number is marked by modifying the lement at the corresponding index.\n",
    "\n",
    "## Intuition\n",
    "- The intution behind this approach is recognizing that if a number `x` is present in teh array, then the number `x` can be used to mark the index `x-1` (considering 0-based indexing).\n",
    "- By negating the value at index `x-1`, we can indicate that `x` has been seen.\n",
    "- After we process all the numbers, the indices with positive values indicate the numbers that are missing.\n",
    "\n",
    "## Algorithm\n",
    "\n"
   ]
  },
  {
   "cell_type": "markdown",
   "id": "7888762a",
   "metadata": {},
   "source": [
    "## Code Implementation"
   ]
  },
  {
   "cell_type": "code",
   "execution_count": 1,
   "id": "e1d254e7",
   "metadata": {},
   "outputs": [],
   "source": [
    "from typing import List\n",
    "\n",
    "class Solution:\n",
    "    def findDisappearedNumbers(self, nums: List[int]) -> List[int]:\n",
    "        # Mark the presence of numbers in the array \n",
    "        for i in range(len(nums)):\n",
    "            index = abs(nums[i]) - 1    # Convert the value to index (0-based indexing)\n",
    "            nums[index] = -abs(nums[index])   # Negate the value at the index, if not already negated\n",
    "\n",
    "        # Find the missing numbers\n",
    "        missing = []\n",
    "        for i, value in enumerate(nums):   \n",
    "            if value > 0:   # If the value is positive, the number i+1 is missing  \n",
    "                missing.append(i + 1)\n",
    "\n",
    "        return missing      # Return the missing numbers"
   ]
  },
  {
   "cell_type": "markdown",
   "id": "ce05a3cf",
   "metadata": {},
   "source": [
    "### Testing"
   ]
  },
  {
   "cell_type": "code",
   "execution_count": 2,
   "id": "4c5194cc",
   "metadata": {},
   "outputs": [
    {
     "name": "stdout",
     "output_type": "stream",
     "text": [
      "Test Case 1: Input: [-4, -3, -2, -7, 8, 2, -3, -1]\n",
      "Expected: [5, 6]\n",
      "Output: [5, 6]\n",
      "Pass\n",
      "\n",
      "Test Case 2: Input: [-1, 1]\n",
      "Expected: [2]\n",
      "Output: [2]\n",
      "Pass\n",
      "\n",
      "Test Case 3: Input: [2, -2]\n",
      "Expected: [1]\n",
      "Output: [1]\n",
      "Pass\n",
      "\n"
     ]
    }
   ],
   "source": [
    "sol = Solution()\n",
    "\n",
    "# Define test cases\n",
    "test_cases = [\n",
    "    ([4,3,2,7,8,2,3,1], [5,6], \"Test Case 1\"),\n",
    "    ([1,1], [2], \"Test Case 2\"),\n",
    "    ([2,2], [1], \"Test Case 3\")\n",
    "]\n",
    "\n",
    "# Iterate through test cases, check results, and print outcomes\n",
    "for nums, expected, description in test_cases:\n",
    "    output = sol.findDisappearedNumbers(nums)\n",
    "    print(f\"{description}: Input: {nums}\\nExpected: {expected}\\nOutput: {output}\\n{'Pass' if output == expected else 'Fail'}\\n\")"
   ]
  },
  {
   "cell_type": "markdown",
   "id": "8a5df28b",
   "metadata": {},
   "source": [
    "## Complexity Analysis  \n",
    "\n",
    "- **Variables**:\n",
    "    - $n$ is the number of elements in the array `nums`.\n",
    "\n",
    "### Time Complexity:  $O(n)$\n",
    "- Since the algorithm makes two passes through the array;\n",
    "    1. To mark the prescence of `n`.  \n",
    "    2. To find the missing numbers.  \n",
    "    Thus, we have a _linear runtime_.\n",
    "\n",
    "### Space Complexity:  $O(1)$\n",
    " -  Since we don't count the space used to store the output, the input array is modified **in-place** to track the presence of numbers which is basically all we use and we don't have any additional data structures, so we have have _constant space_.\n",
    "***"
   ]
  },
  {
   "cell_type": "markdown",
   "id": "32c95f2b",
   "metadata": {},
   "source": [
    "# Approach 2:\n",
    "\n",
    "\n",
    "### Intuition\n",
    "\n",
    "\n",
    "### Algorithm\n"
   ]
  }
 ],
 "metadata": {
  "kernelspec": {
   "display_name": "Python 3 (ipykernel)",
   "language": "python",
   "name": "python3"
  },
  "language_info": {
   "codemirror_mode": {
    "name": "ipython",
    "version": 3
   },
   "file_extension": ".py",
   "mimetype": "text/x-python",
   "name": "python",
   "nbconvert_exporter": "python",
   "pygments_lexer": "ipython3",
   "version": "3.10.4"
  }
 },
 "nbformat": 4,
 "nbformat_minor": 5
}

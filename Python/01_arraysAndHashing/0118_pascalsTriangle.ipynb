{
 "cells": [
  {
   "cell_type": "markdown",
   "id": "835c632c",
   "metadata": {},
   "source": [
    "#### [Python <img src=\"../../assets/pythonLogo.png\" alt=\"py logo\" style=\"height: 1em; vertical-align: sub;\">](../README.md) | Easy 🟢 | [Arrays & Hashing](README.md)\n",
    "# [118. Pascal's Triangle](https://leetcode.com/problems/pascals-triangle/description/)"
   ]
  },
  {
   "cell_type": "markdown",
   "id": "b9441082",
   "metadata": {},
   "source": [
    "Given an integer `numRows`, return the first numRows of **Pascal's triangle**.\n",
    "\n",
    "In **Pascal's triangle**, each number is the sum of the two numbers directly above it as shown:\n",
    "![Pascal Triangle](https://upload.wikimedia.org/wikipedia/commons/0/0d/PascalTriangleAnimated2.gif)\n",
    "\n",
    "**Example 1:**\n",
    "> **Input**: `numRows = 5`  \n",
    "> **Output**: `[[1],[1,1],[1,2,1],[1,3,3,1],[1,4,6,4,1]]`  \n",
    "\n",
    "**Example 2:**\n",
    "> **Input**: `numRows = 1`  \n",
    "> **Output**: `[[1]]`   \n",
    "> **Explanation**: There is no common prefix among the input strings.\n",
    "\n",
    "#### Constraints\n",
    "- $1 \\leq$ `numRows` $\\leq 30$"
   ]
  },
  {
   "cell_type": "markdown",
   "id": "5a871415",
   "metadata": {},
   "source": [
    "### Problem Explanation\n",
    "- **Pascal's Triangle** is a classic problem that involves a triangular array of numbers where each number is the sum of the two numbers directly above it.\n",
    "- The rows of the triangle are conventionally indexed starting from `0`.\n",
    "- The first row (row 0) is just the number `1`.\n",
    "- For any other row `n`, the row starts and ends with `1` and every other number is between the sum of the two numbers in the row above it.\n",
    "- The challenge is to generate the first `numRows` of Pascal's Triangle.\n",
    "***"
   ]
  },
  {
   "cell_type": "markdown",
   "id": "66c83cb9",
   "metadata": {},
   "source": [
    "# Approach: Dynamic Programming\n",
    "- Probably the most intuitive way to solve this problem is with dynamic programming by constructing each row of the triangle based on the previous row.\n",
    "- Since each element in a row (except the first and last) is the sum of the two elements directly above it, we can then build each row iteratively.\n",
    "\n",
    "### Intuition\n",
    "- The intuition behind using dynamic programming is that the solution to a particular row depends on the solution to its previous row. \n",
    "- By building the rows one by one, starting from the first row, we can use the information (elements of a row) we already computed to construct the next row. \n",
    "- By compartmentalizing this problem, we reduce the redundant computations.\n",
    "\n",
    "### Algorithm\n",
    "1. **Initailize**: Start with an empty list to hold all rows of the triangle.\n",
    "2. **First Row**: Add the first row `[1]` to the triangle.\n",
    "3. **Iteratively Build Rows**:\n",
    "    - For each row from `1` to `numRows - 1` (since we already have the first row):\n",
    "        - Create a new row starting with `1`.\n",
    "        - For each position `i` in the row (excluding the first and last position):\n",
    "            - Calculate the values as the sum of `row[i-1]` and `row[i]` from the previous row.\n",
    "        - End the row with `1`.\n",
    "        - Add the newly created row to the triangle.\n",
    "4. **Return the Triangle**: After constructing all rows, return the triangle."
   ]
  },
  {
   "cell_type": "markdown",
   "id": "7888762a",
   "metadata": {},
   "source": [
    "### Code Implementation"
   ]
  },
  {
   "cell_type": "code",
   "execution_count": 1,
   "id": "e1d254e7",
   "metadata": {},
   "outputs": [],
   "source": [
    "from typing import List\n",
    "class Solution:\n",
    "    def generate(self, numRows: int) -> List[List[int]]:\n",
    "        # Start with an empty list to hold all the rows of the triangle\n",
    "        if numRows == 0:\n",
    "            return []\n",
    "                \n",
    "        triangle = [[1]]  # 1st row\n",
    "        # For each row after the first\n",
    "        for row_num in range(1, numRows):\n",
    "            row = [1] # The first row element is always 1.\n",
    "            for i in range(1, row_num):  # For all other elements in the row\n",
    "                # Sum the two elements above it in the previous row.\n",
    "                row.append(triangle[row_num-1][i-1] + triangle[row_num-1][i])\n",
    "            row.append(1)  # The last row element is always 1.\n",
    "            triangle.append(row) # Append the row to the triangle\n",
    "        return triangle"
   ]
  },
  {
   "cell_type": "markdown",
   "id": "ce05a3cf",
   "metadata": {},
   "source": [
    "### Testing"
   ]
  },
  {
   "cell_type": "code",
   "execution_count": 2,
   "id": "4c5194cc",
   "metadata": {},
   "outputs": [
    {
     "name": "stdout",
     "output_type": "stream",
     "text": [
      "\n",
      "Test with numRows = 5\n",
      "Generated Triangle:\n",
      "    1    \n",
      "   1 1   \n",
      "  1 2 1  \n",
      " 1 3 3 1 \n",
      "1 4 6 4 1\n",
      "\n",
      "Expected Output:\n",
      "    1    \n",
      "   1 1   \n",
      "  1 2 1  \n",
      " 1 3 3 1 \n",
      "1 4 6 4 1\n",
      "Passed ✅ \n",
      "\n",
      "--------------\n",
      "\n",
      "Test with numRows = 1\n",
      "Generated Triangle:\n",
      "1\n",
      "\n",
      "Expected Output:\n",
      "1\n",
      "Passed ✅ \n",
      "\n",
      "--------------\n",
      "\n",
      "Test with numRows = 4\n",
      "Generated Triangle:\n",
      "   1   \n",
      "  1 1  \n",
      " 1 2 1 \n",
      "1 3 3 1\n",
      "\n",
      "Expected Output:\n",
      "   1   \n",
      "  1 1  \n",
      " 1 2 1 \n",
      "1 3 3 1\n",
      "Passed ✅ \n",
      "\n",
      "--------------\n"
     ]
    }
   ],
   "source": [
    "def run_test_cases():\n",
    "    solution = Solution()\n",
    "\n",
    "    # Function to visually print the triangle\n",
    "    def print_triangle(triangle):\n",
    "        max_width = len(\" \".join(map(str, triangle[-1])))\n",
    "        for row in triangle:\n",
    "            row_str = \" \".join(map(str, row))\n",
    "            print(row_str.center(max_width))\n",
    "\n",
    "    # Test Case Function\n",
    "    def test(numRows, expected_output):\n",
    "        result = solution.generate(numRows)\n",
    "        print(f\"\\nTest with numRows = {numRows}\")\n",
    "        print(\"Generated Triangle:\")\n",
    "        print_triangle(result)\n",
    "        print(\"\\nExpected Output:\")\n",
    "        print_triangle(expected_output)\n",
    "        print(\"Passed ✅\" if result == expected_output else \"Test Fail\", \"\\n\")\n",
    "        print(\"--------------\")\n",
    "\n",
    "    # Test Cases\n",
    "    # Test Case 1\n",
    "    test(5, [[1], [1, 1], [1, 2, 1], [1, 3, 3, 1], [1, 4, 6, 4, 1]])\n",
    "\n",
    "    # Test Case 2\n",
    "    test(1, [[1]])\n",
    "\n",
    "    # Test Case 3\n",
    "    test(4, [[1], [1, 1], [1, 2, 1], [1, 3, 3, 1]])\n",
    "\n",
    "# Run the test cases\n",
    "run_test_cases()\n"
   ]
  },
  {
   "cell_type": "markdown",
   "id": "8a5df28b",
   "metadata": {},
   "source": [
    "### Complexity Analysis\n",
    "- #### Time Complexity: $O(n^2)$\n",
    "    - `n` is `numRows`.\n",
    "    - As we iterate through each row, and for each row, we perform operationals proportional to the row number.\n",
    "- #### Space Complexity: $O(n^2)$\n",
    "    - Since we store all values of the triangle up to `numRows`, the total number of elements in the triangle is the sum of the first `numRows` integers, which is $\\frac{n(n+1)}{2}$, and this is asymptotically equivalent to $O(n^2)$\n",
    "***"
   ]
  }
 ],
 "metadata": {
  "kernelspec": {
   "display_name": "Python 3 (ipykernel)",
   "language": "python",
   "name": "python3"
  },
  "language_info": {
   "codemirror_mode": {
    "name": "ipython",
    "version": 3
   },
   "file_extension": ".py",
   "mimetype": "text/x-python",
   "name": "python",
   "nbconvert_exporter": "python",
   "pygments_lexer": "ipython3",
   "version": "3.10.4"
  }
 },
 "nbformat": 4,
 "nbformat_minor": 5
}

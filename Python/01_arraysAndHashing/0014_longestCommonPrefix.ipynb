{
 "cells": [
  {
   "cell_type": "markdown",
   "id": "835c632c",
   "metadata": {},
   "source": [
    "#### [Python <img src=\"../../assets/pythonLogo.png\" alt=\"py logo\" style=\"height: 1em; vertical-align: sub;\">](../README.md) | Easy 🟢 | [Arrays & Hashing](README.md)\n",
    "# [14. Longest Common Prefix](https://leetcode.com/problems/longest-common-prefix/description/) (In Progress)"
   ]
  },
  {
   "cell_type": "markdown",
   "id": "b9441082",
   "metadata": {},
   "source": [
    "Write a function to find the longest common prefix string amongst an array of strings.\n",
    "\n",
    "If there is no common prefix, return an empty string `\"\"`.\n",
    "\n",
    "**Example 1:**\n",
    "> **Input**: `strs = [\"flower\",\"flow\",\"flight\"]`  \n",
    "> **Output**: `\"fl\"`  \n",
    "\n",
    "**Example 2:**\n",
    "> **Input**: `strs = [\"dog\",\"racecar\",\"car\"]`\n",
    "> **Output**: `\"\"`  \n",
    "> **Explanation**: There is no common prefix among the input strings.\n",
    "\n",
    "#### Constraints\n",
    "- $1 \\leq$ `strs.length` $\\leq 200$\n",
    "- $0 \\leq$ `strs[i].length` $\\leq 200$\n",
    "- `strs[i].length` consists of only lowercase English letters."
   ]
  },
  {
   "cell_type": "markdown",
   "id": "5a871415",
   "metadata": {},
   "source": [
    "### Problem Explanation\n",
    "- For this problem we are given an array of strings and our goal is to find the longest string prefix that is a prefix of all the strings in the array.\n",
    "- A prefix is a string that appears at the beginning of another string.\n",
    "***"
   ]
  },
  {
   "cell_type": "markdown",
   "id": "66c83cb9",
   "metadata": {},
   "source": [
    "# Approach 1: Horizontal Scanning \n",
    "- The horizontal scanning approach involves comparing the prefixes of the strings one by one.\n",
    "- We will initially consider the whole of the first string as the longest common prefix.\n",
    "- Then, we will iterate over the other strings, truncating the prefix as needed to ensure it's common across all the other strings.\n",
    "\n",
    "### Intuition\n",
    "- The main idea behind this approach is to build the longest common prefix step by step, reducing its length if needed.\n",
    "- It's similar to aligning strings horizontally and scanning them from left to right, cutting the prefix to fit all the strings.\n",
    "\n",
    "### Algorithm\n",
    "1. Initialize the prefix as the entire first string.\n",
    "2. Iterate over the other strings in the array.\n",
    "3. For each string, check its current character against the character at the same position \n",
    "    - If they differ or if the end of either the string or prefix is reached, truncate the prefix to the current length\n",
    "4. Return the prefix after iterating over all strings."
   ]
  },
  {
   "cell_type": "markdown",
   "id": "7888762a",
   "metadata": {},
   "source": [
    "### Code Implementation - Horizontal Scanning"
   ]
  },
  {
   "cell_type": "code",
   "execution_count": 1,
   "id": "e1d254e7",
   "metadata": {},
   "outputs": [],
   "source": [
    "from typing import List\n",
    "\n",
    "class Solution:\n",
    "    def longestCommonPrefix(self, strs: List[str]) -> str:\n",
    "        \n",
    "        # if strs is empty, return empty string\n",
    "        if not strs:\n",
    "            return \"\"\n",
    "        \n",
    "        prefix = strs[0]  # set prefix to first string in list\n",
    "        for i in range(1, len(strs)):  # iterate through list\n",
    "            while strs[i].find(prefix) != 0:  # while prefix is not found at beginning of string\n",
    "                prefix = prefix[:-1]                # remove last character from prefix\n",
    "                if not prefix:                      # if prefix is empty, return empty string   \n",
    "                    return \"\"                           # (no common prefix)\n",
    "        return prefix                   # return prefix"
   ]
  },
  {
   "cell_type": "markdown",
   "id": "ce05a3cf",
   "metadata": {},
   "source": [
    "### Testing - Horizontal Scanning"
   ]
  },
  {
   "cell_type": "code",
   "execution_count": 2,
   "id": "4c5194cc",
   "metadata": {},
   "outputs": [
    {
     "name": "stdout",
     "output_type": "stream",
     "text": [
      "Test Case: ['flower', 'flow', 'flight']\n",
      "Expected: 'fl', Got: 'fl'\n",
      "Passed ✅ \n",
      "\n",
      "Test Case: ['dog', 'racecar', 'car']\n",
      "Expected: '', Got: ''\n",
      "Passed ✅ \n",
      "\n",
      "Test Case: ['interspecies', 'interstellar', 'interstate']\n",
      "Expected: 'inters', Got: 'inters'\n",
      "Passed ✅ \n",
      "\n"
     ]
    }
   ],
   "source": [
    "sol = Solution()\n",
    "\n",
    "# Define a function for running test cases\n",
    "def run_test_case(test_case, expected):\n",
    "    result = sol.longestCommonPrefix(test_case)\n",
    "    print(f\"Test Case: {test_case}\")\n",
    "    print(f\"Expected: '{expected}', Got: '{result}'\")\n",
    "    print(\"Passed ✅\" if result == expected else \"Failed\", \"\\n\")\n",
    "\n",
    "# Test Case 1\n",
    "run_test_case([\"flower\", \"flow\", \"flight\"], \"fl\")\n",
    "\n",
    "# Test Case 2\n",
    "run_test_case([\"dog\", \"racecar\", \"car\"], \"\")\n",
    "\n",
    "# Test Case 3\n",
    "run_test_case([\"interspecies\", \"interstellar\", \"interstate\"], \"inters\")"
   ]
  },
  {
   "cell_type": "markdown",
   "id": "8a5df28b",
   "metadata": {},
   "source": [
    "### Complexity Analysis\n",
    "- #### Time Complexity: $O(S)$\n",
    "    - where S is the sum of all the characters in all strings.\n",
    "    - In the worst case, all comparisons will be done until the end of the shortest string\n",
    "- #### Space Complexity: $O(1)$\n",
    "    - We only used constant extra space for the prefix variable.\n",
    "***"
   ]
  },
  {
   "cell_type": "markdown",
   "id": "32c95f2b",
   "metadata": {},
   "source": [
    "# Approach 2: Vertical Scanning\n",
    "- For the vertical scanning approach, we compare characters from top to bottom on the same string index across all strings.\n",
    "- This comparison is done index by index for each string in the array.\n",
    "\n",
    "### Intuition\n",
    "- The main idea is to treat the srtings as columns and traverse down each column.\n",
    "- We compare the same character position across all strings, moving to the next character only if all strings match at the current position.\n",
    "- This approach can be more efficient when the stings are of varying lengths since it can quickly identify the lack of a common prefix.\n",
    "### Algorithm\n",
    "1. Check if the input array is empty; if it is, return an empty string.\n",
    "2. Iterate through the characters of the first string (as a baseline comparison).\n",
    "3. For each character, check the corresponding character in every other string.\n",
    "    - If the index is out of bounds for any string, or if the characters don't match, return the current longest common prefix.\n",
    "4. If all strings have the same character at this index, append the character to the longest common prefix.\n",
    "5. Continue until all characteres in the first string have been checked.\n",
    "6. Return the longest common prefix."
   ]
  },
  {
   "cell_type": "markdown",
   "id": "a284b78b",
   "metadata": {},
   "source": [
    "### Code Implementation - Vertical Scanning"
   ]
  },
  {
   "cell_type": "code",
   "execution_count": 3,
   "id": "b00e2329",
   "metadata": {},
   "outputs": [],
   "source": [
    "class Solution2:\n",
    "    def longestCommonPrefix(self, strs: List[str]) -> str:\n",
    "        \n",
    "        # if strs is empty, return empty string\n",
    "        if not strs:\n",
    "            return \"\"\n",
    "        \n",
    "        for i in range(len(strs[0])):  # iterate through characters of first string\n",
    "            current_char = strs[0][i]  # set current character to character at index i of first string\n",
    "            for string in strs:        # iterate through strings in list\n",
    "\n",
    "                 # Check if index is within bounds and character matches across all strings\n",
    "                if i >= len(string) or string[i] != current_char: \n",
    "                    return string[:i]   # return string up to index i\n",
    "        return strs[0]                  # return first string in list"
   ]
  },
  {
   "cell_type": "markdown",
   "id": "aa241dca",
   "metadata": {},
   "source": [
    "### Testing - Vertical Scanning"
   ]
  },
  {
   "cell_type": "code",
   "execution_count": 4,
   "id": "62c6451d",
   "metadata": {},
   "outputs": [
    {
     "name": "stdout",
     "output_type": "stream",
     "text": [
      "Test Case: ['flower', 'flow', 'flight']\n",
      "Expected: 'fl', Got: 'fl'\n",
      "Passed ✅ \n",
      "\n",
      "Test Case: ['dog', 'racecar', 'car']\n",
      "Expected: '', Got: ''\n",
      "Passed ✅ \n",
      "\n",
      "Test Case: ['interspecies', 'interstellar', 'interstate']\n",
      "Expected: 'inters', Got: 'inters'\n",
      "Passed ✅ \n",
      "\n"
     ]
    }
   ],
   "source": [
    "sol2 = Solution2()\n",
    "\n",
    "# Define a function for running test cases\n",
    "def run_test_case(test_case, expected):\n",
    "    result = sol2.longestCommonPrefix(test_case)\n",
    "    print(f\"Test Case: {test_case}\")\n",
    "    print(f\"Expected: '{expected}', Got: '{result}'\")\n",
    "    print(\"Passed ✅\" if result == expected else \"Failed\", \"\\n\")\n",
    "\n",
    "# Test Case 1\n",
    "run_test_case([\"flower\", \"flow\", \"flight\"], \"fl\")\n",
    "\n",
    "# Test Case 2\n",
    "run_test_case([\"dog\", \"racecar\", \"car\"], \"\")\n",
    "\n",
    "# Test Case 3\n",
    "run_test_case([\"interspecies\", \"interstellar\", \"interstate\"], \"inters\")\n"
   ]
  },
  {
   "cell_type": "markdown",
   "id": "c1b268c7",
   "metadata": {},
   "source": [
    "### Complexity Analysis\n",
    "- #### Time Complexity: $O(S)$\n",
    "    - where S is the sum of all the characters in all strings. (In the worst case)\n",
    "    - The algorithm compares character by character across all the strings, but it stops as soon as mismatch is found or the shortest string is fully scanned\n",
    "- #### Space Complexity: $O(1)$\n",
    "    - This approach does not require additional space that scales with the size of the input. \n",
    "    - The space used for the current_char variable and the index i is constant, irrespective of the input size.\n",
    "***"
   ]
  },
  {
   "cell_type": "markdown",
   "id": "a914ef3f",
   "metadata": {},
   "source": [
    "## Conclusion\n",
    "\n",
    "### Comparison of Approaches:\n",
    "\n",
    "#### Horizontal Scanning:\n",
    "- **Strategy**: Compares prefixes of strings one by one, adjusting the prefix until it matches across all strings.\n",
    "- **Best Suited For**: Scenarios with fewer strings or when the common prefix is expected to be relatively long.\n",
    "- **Time Complexity**: $O(S)$, where $S$ is the sum of all characters in all strings.\n",
    "- **Space Complexity**: $O(1)$, constant space usage.\n",
    "\n",
    "#### Vertical Scanning:\n",
    "- **Strategy**: Compares characters column by column across all strings, moving to the next character only when all strings match.\n",
    "- **Best Suited For**: Cases with many strings or strings of significantly varying lengths.\n",
    "- **Time Complexity**: $O(S)$, similar to horizontal scanning, but can be more efficient for varied-length strings.\n",
    "- **Space Complexity**: $O(1)$, also constant space usage.\n",
    "\n",
    "### Final Thoughts:\n",
    "\n",
    "- **Problem Solving Insight**: The choice of approach depends on the characteristics of the input. While both have similar worst-case time complexities, their practical performance can differ based on input patterns.\n",
    "- **Efficiency**: Both methods are space-efficient, using only constant extra space. The decision between them hinges more on the expected input.\n",
    "- **Scalability**: These methods scale well for most practical purposes. Alternative methods like divide and conquer or binary search might be considered for very specific or extremely large datasets.\n",
    "- **Variability in Problem Solving**: This problem illustrates how a simple task can have multiple efficient solutions, each with its own advantages and trade-offs."
   ]
  }
 ],
 "metadata": {
  "kernelspec": {
   "display_name": "Python 3 (ipykernel)",
   "language": "python",
   "name": "python3"
  },
  "language_info": {
   "codemirror_mode": {
    "name": "ipython",
    "version": 3
   },
   "file_extension": ".py",
   "mimetype": "text/x-python",
   "name": "python",
   "nbconvert_exporter": "python",
   "pygments_lexer": "ipython3",
   "version": "3.10.4"
  }
 },
 "nbformat": 4,
 "nbformat_minor": 5
}

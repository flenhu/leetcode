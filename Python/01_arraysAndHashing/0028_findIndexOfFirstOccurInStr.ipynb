{
 "cells": [
  {
   "cell_type": "markdown",
   "id": "835c632c",
   "metadata": {},
   "source": [
    "#### [Python <img src=\"../../assets/pythonLogo.png\" alt=\"py logo\" style=\"height: 1em; vertical-align: sub;\">](../README.md) | Easy 🟢 | [Arrays & Hashing](README.md)\n",
    "# [28. Find the Index of the First Occurrence in a String](https://leetcode.com/problems/find-the-index-of-the-first-occurrence-in-a-string/description/) (In prog 👷)"
   ]
  },
  {
   "cell_type": "markdown",
   "id": "b9441082",
   "metadata": {},
   "source": [
    "Given two strings `needle` and `haystack`, return the index of the first occurrence of `needle` in `haystack`, or `-1` if `needle` is not part of `haystack`.\n",
    "\n",
    "#### Example 1:\n",
    "> **Input:** haystack = \"sadbutsad\", needle = \"sad\"  \n",
    "> **Output:** `0`  \n",
    "> **Explanation:** \"sad\" occurs at index 0 and 6.  \n",
    "> The first occurrence is at index 0, so we return 0.\n",
    "\n",
    "#### Example 2:\n",
    "> **Input:** haystack = \"leetcode\", needle = \"leeto\"  \n",
    "> **Output:** `-1`  \n",
    "> **Explanation:** \"leeto\" did not occur in \"leetcode\", so we return -1.\n",
    "\n",
    "#### Constraints:\n",
    "- $1 \\leq$ `haystack.length, needle.length` $ \\leq 10^4$\n",
    "- `haystack` and `needle` consist of only lowercase English characters.\n"
   ]
  },
  {
   "cell_type": "markdown",
   "id": "5a871415",
   "metadata": {},
   "source": [
    "## Problem Explanation\n",
    "- For this problem we are required to find the starting position of the first occurence of a given substring `needle` within another string `haystack`.\n",
    "- If the `needle` isn't found, we return `-1`. \n",
    "- This problem is a classic _String Matching_ Problem.\n",
    "\n",
    "***"
   ]
  },
  {
   "cell_type": "markdown",
   "id": "66c83cb9",
   "metadata": {},
   "source": [
    "# Approach 1: Sliding Window\n",
    "We can solve this problem with the Sliding Window approach which involves moving a window of the same length as `needle` across `haystack` and checking for a match at each step.\n",
    "\n",
    "## Intuition\n",
    "- Let's imagine `needle` as a fixed-size window sliding over `haystack` from beginning to end, comparing each subtring of `haystack` that fits in this window with `needle`.\n",
    "- Once a match is found, the index at which this match starts in `haystack` is returned.\n",
    "- If the end of `haystack` is reached without finding a match, we return `-1`.\n",
    "\n",
    "\n",
    "## Algorithm\n",
    "1. **Check for Edge Cases:** If `needle` is empty, return 0, since an empty string is always found at the first position.\n",
    "2. **Sliding Window:** Iterate over `haystack` with a window size equal to the length of `needle`. For each position:\n",
    "    - Compare the substring of `haystack` within the window to `needle`.\n",
    "    - If they match, return the starting index of the current window in `haystack`.\n",
    "3. If no match is found by the end of the iteration, return `-1`."
   ]
  },
  {
   "cell_type": "markdown",
   "id": "7888762a",
   "metadata": {},
   "source": [
    "### Code Implementation"
   ]
  },
  {
   "cell_type": "code",
   "execution_count": 1,
   "id": "e1d254e7",
   "metadata": {},
   "outputs": [],
   "source": [
    "class Solution:\n",
    "    def strStr(self, haystack: str, needle: str) -> int:\n",
    "        # Edge case: needle is empty\n",
    "        if not needle:\n",
    "            return 0\n",
    "        \n",
    "        # Lengths of haystack and needle\n",
    "        len_haystack = len(haystack)\n",
    "        len_needle = len(needle)\n",
    "\n",
    "        # Slide the window: window's size is the same length as needle\n",
    "        for start in range(len_haystack - len_needle + 1):\n",
    "            # If the substring matches needle, return the start index\n",
    "            if haystack[start:start + len_needle] == needle:\n",
    "                return start\n",
    "            \n",
    "        # If no match is found, return -1\n",
    "        return -1"
   ]
  },
  {
   "cell_type": "markdown",
   "id": "ce05a3cf",
   "metadata": {},
   "source": [
    "### Testing"
   ]
  },
  {
   "cell_type": "code",
   "execution_count": 2,
   "id": "4c5194cc",
   "metadata": {},
   "outputs": [
    {
     "name": "stdout",
     "output_type": "stream",
     "text": [
      "--- Running tests for Solution1 ---\n",
      "Test Case 1 - Testing with haystack: 'sadbutsad', needle: 'sad'\n",
      "Expected: 0, Got: 0\n",
      "Test Passed ✅\n",
      "\n",
      "Test Case 2 - Testing with haystack: 'leetcode', needle: 'leeto'\n",
      "Expected: -1, Got: -1\n",
      "Test Passed ✅\n",
      "\n",
      "Test Case 3 - Testing with haystack: 'hello', needle: 'll'\n",
      "Expected: 2, Got: 2\n",
      "Test Passed ✅\n",
      "\n"
     ]
    }
   ],
   "source": [
    "def run_test_case(solution_instance, haystack, needle, expected, test_case_number):\n",
    "    result = solution_instance.strStr(haystack, needle)\n",
    "    print(f\"Test Case {test_case_number} - Testing with haystack: '{haystack}', needle: '{needle}'\")\n",
    "    print(f\"Expected: {expected}, Got: {result}\")\n",
    "    if result == expected:\n",
    "        print(\"Test Passed ✅\\n\")\n",
    "    else:\n",
    "        print(\"Test Failed\\n\")\n",
    "\n",
    "def run_all_tests(solutions):\n",
    "    test_cases = [\n",
    "        (\"sadbutsad\", \"sad\", 0),\n",
    "        (\"leetcode\", \"leeto\", -1),\n",
    "        (\"hello\", \"ll\", 2)\n",
    "    ]\n",
    "    \n",
    "    for i, solution in enumerate(solutions, start=1):\n",
    "        print(f\"--- Running tests for Solution{i} ---\")\n",
    "        for j, (haystack, needle, expected) in enumerate(test_cases, start=1):\n",
    "            run_test_case(solution, haystack, needle, expected, j)\n",
    "\n",
    "run_all_tests([Solution()])"
   ]
  },
  {
   "cell_type": "markdown",
   "id": "8a5df28b",
   "metadata": {},
   "source": [
    "## Complexity Analysis\n",
    "- **Variables**:\n",
    "    - $m$ is the length of `needle`.\n",
    "    - $n$ is the length of `haystack`.\n",
    "\n",
    "- ### Time Complexity: $O(nm)$\n",
    "    - **Outer Loop:** For each character in `haystack`, we potentially need to look at every other character in `haystack` until we find a match or reach the end. In the worst case, we're doing something for each of the $n$ characters.\n",
    "    - **Inner comparison:** For each of these starting positions, we compare the substring of `haystack` that starts at this position and is of length $m$ (the same length as `needle`) with needle itself. In the worst case, involves looking at each of the $m$ characters in needle.\n",
    "    - Thus, the $O(nm)$ complexity indicates that, in the worst case, the number of comparisons grows proportionally with the product of the lengths of `haystack` and `needle`. This is because, for each position in haystack (n possible positions), we might perform up to $m$ comparisons to check for a match with `needle`.\n",
    "- ### Space Complexity: $O(1)$\n",
    "    -  The algorithm uses a constant amount of space, as it only involves index manipulation and direct comparisons without allocating additional space for substrings or other data structures.\n",
    "***"
   ]
  },
  {
   "cell_type": "markdown",
   "id": "32c95f2b",
   "metadata": {},
   "source": [
    "# Approach 2: Direct Search with Python Built-in\n",
    "This next approach uses Python's built in methods for string manipulation and is straightforward in finding the index of the first occurence of a substring (`needle`) within another string (`haystack`).\n",
    "\n",
    "## Intuition\n",
    "- The core idea is to use the high-level operations provided by Python.\n",
    "- Python's `in` keyword checks for the existence of a substring within another string, and the `index()` method returns the first occurence of a specified value.\n",
    "- This approach eliminates the need to manually iterate through the `haystack` to compare each possible substring with `needle`.\n",
    "\n",
    "## Algorithm\n",
    "1. **Check for Edge Cases:** If both `needle` and `haystack` are empty, we return `0`, since the problem might define the occurence of an empty string in an empty string as `0`.\n",
    "2. **Search for Substring:** Use the `in` keyword to check if `needle` exists within `haystack`.\n",
    "3. **Return Index:** If needle is found, use the `index()` method of `haystack` to find and return the index of the first occurence of `needle`.\n",
    "4. **Not found:** If `needle` is not within `haystack`, return `-1`."
   ]
  },
  {
   "cell_type": "markdown",
   "id": "e5ef42c3",
   "metadata": {},
   "source": [
    "## Code Implementation"
   ]
  },
  {
   "cell_type": "code",
   "execution_count": 3,
   "id": "b526d6df",
   "metadata": {},
   "outputs": [],
   "source": [
    "class Solution2:\n",
    "    def strStr(self, haystack: str, needle: str) -> int:\n",
    "        # Check for the special case of both strings being empty\n",
    "        if not needle and not haystack:\n",
    "            return 0\n",
    "        \n",
    "        # Use Python's built-in functionality to check for the substring and return its index\n",
    "        if needle in haystack:\n",
    "            return haystack.index(needle)\n",
    "        else:\n",
    "            return -1\n"
   ]
  },
  {
   "cell_type": "markdown",
   "id": "f7c7fea0",
   "metadata": {},
   "source": [
    "## Testing"
   ]
  },
  {
   "cell_type": "code",
   "execution_count": 4,
   "id": "ac28cb81",
   "metadata": {},
   "outputs": [
    {
     "name": "stdout",
     "output_type": "stream",
     "text": [
      "--- Running tests for Solution1 ---\n",
      "Test Case 1 - Testing with haystack: 'sadbutsad', needle: 'sad'\n",
      "Expected: 0, Got: 0\n",
      "Test Passed ✅\n",
      "\n",
      "Test Case 2 - Testing with haystack: 'leetcode', needle: 'leeto'\n",
      "Expected: -1, Got: -1\n",
      "Test Passed ✅\n",
      "\n",
      "Test Case 3 - Testing with haystack: 'hello', needle: 'll'\n",
      "Expected: 2, Got: 2\n",
      "Test Passed ✅\n",
      "\n"
     ]
    }
   ],
   "source": [
    "run_all_tests([Solution2()])"
   ]
  },
  {
   "cell_type": "markdown",
   "id": "dabfe439",
   "metadata": {},
   "source": [
    "## Complexity Analysis\n",
    "- **Variables**:\n",
    "    - $m$ is the length of `needle`.\n",
    "    - $n$ is the length of `haystack`.\n",
    "\n",
    "- ### Time Complexity: $O(nm)$\n",
    "    - In the worst case, we get $O(nm)$.\n",
    "    - Under the hood, Python's `in` operator and `index()` may perform up to $n\\cdot m$ comparisons. Although, the actual performance is usually better due to the optimizations for Python's string handling functions.\n",
    "- ### Space Complexity: $O(1)$\n",
    "    -  The direct search approach doesn't use any additional space.\n",
    "***"
   ]
  }
 ],
 "metadata": {
  "kernelspec": {
   "display_name": "Python 3 (ipykernel)",
   "language": "python",
   "name": "python3"
  },
  "language_info": {
   "codemirror_mode": {
    "name": "ipython",
    "version": 3
   },
   "file_extension": ".py",
   "mimetype": "text/x-python",
   "name": "python",
   "nbconvert_exporter": "python",
   "pygments_lexer": "ipython3",
   "version": "3.10.4"
  }
 },
 "nbformat": 4,
 "nbformat_minor": 5
}

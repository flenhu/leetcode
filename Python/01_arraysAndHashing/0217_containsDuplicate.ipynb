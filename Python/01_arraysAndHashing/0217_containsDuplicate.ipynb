{
 "cells": [
  {
   "cell_type": "markdown",
   "id": "26045474",
   "metadata": {},
   "source": [
    "#### Python | Easy | Arrays & Hashing\n",
    "# [217. Contains Duplicate](https://leetcode.com/problems/contains-duplicate/)\n",
    "\n",
    "Given an integer array `nums`, return `true` if any value appears **at least twice** in the array, and return `false` if every element is distinct.\n",
    "\n",
    "**Example 1**  \n",
    "  > **Input:** `nums = [1,2,3,1]`  \n",
    "  > **Output:** `true`\n",
    "\n",
    "**Example 2**  \n",
    "  > **Input:** `nums = [1,2,3,4]`  \n",
    "  > **Output:** `false`\n",
    "\n",
    "**Example 3**  \n",
    "  > **Input:** `nums = [1,1,1,3,3,4,3,2,4,2]`  \n",
    "  > **Output:** `true`\n",
    "\n",
    "#### Constraints\n",
    "\n",
    "- $1$ ≤ `nums.length` ≤ $10^5$\n",
    "- -$10^9$≤ `nums[i]` ≤ $10^9$"
   ]
  },
  {
   "cell_type": "markdown",
   "id": "4c24431c",
   "metadata": {},
   "source": [
    "### <u>Problem explanation </u>\n",
    "The problem requires determining if an array `nums` contains any duplicate values. If any value appears at least twice, the function should return `true`. If all elements are distinct, it then should return `false`."
   ]
  },
  {
   "cell_type": "markdown",
   "id": "cdd6d024",
   "metadata": {},
   "source": [
    "### <u>Intuition</u>\n",
    "The intuition is to track the numbers we have already seen as we iterate through the array. If we encounter a number we have already seen, then we know its a duplicate    "
   ]
  },
  {
   "cell_type": "markdown",
   "id": "3417cf23",
   "metadata": {},
   "source": [
    "##  Approach: Using a Set for Tracking:\n",
    "\n",
    "- Sets in python are collections that don't allow duplicate elements\n",
    "- We can iterate through the array, then add each element to the set.\n",
    "- Before adding the element, we check if the element is already in the set.\n",
    "    - If it is already there, we return 'true'"
   ]
  },
  {
   "cell_type": "markdown",
   "id": "3f06ae06",
   "metadata": {},
   "source": [
    "### <u>Algorithm:</u>\n",
    "\n",
    "1. Initialize an empty set\n",
    "2. Iterate over the elements of `nums`\n",
    "    - If the current element is already in the set, return `true`\n",
    "    - Else, add the element to the set\n",
    "3. If the loop completes without finding duplicates, return `false`"
   ]
  },
  {
   "cell_type": "markdown",
   "id": "50573b86",
   "metadata": {},
   "source": [
    "### <u>Psuedocode</u>\n",
    "\n",
    "FUNCTION containsDuplicate(nums)\n",
    "    DECLARE a set named seenNumbers\n",
    "\n",
    "    FOR each number in nums\n",
    "        IF number is in seenNumbers\n",
    "            RETURN true\n",
    "        INSERT number into seenNumbers\n",
    "    END FOR\n",
    "\n",
    "    RETURN false\n",
    "END FUNCTION\n"
   ]
  },
  {
   "cell_type": "markdown",
   "id": "2fcc70a8",
   "metadata": {},
   "source": [
    "### <u>Python Implementation</u>"
   ]
  },
  {
   "cell_type": "code",
   "execution_count": 1,
   "id": "cf6f9965",
   "metadata": {},
   "outputs": [],
   "source": [
    "def containsDuplicate(nums):\n",
    "    # Initialize a set to keep track of the seen numbers\n",
    "    seenNumbers = set()\n",
    "    \n",
    "    # Iterate through each number in the array\n",
    "    for num in nums:\n",
    "        #Check if the number is already in the set\n",
    "        if num in seenNumbers:\n",
    "            return True\n",
    "        # Add the number to the set\n",
    "        seenNumbers.add(num)\n",
    "        \n",
    "    # if there are no dupes, return false\n",
    "    return false\n"
   ]
  },
  {
   "cell_type": "markdown",
   "id": "787837ea",
   "metadata": {},
   "source": [
    "#### Tests"
   ]
  },
  {
   "cell_type": "code",
   "execution_count": 2,
   "id": "b8040503",
   "metadata": {},
   "outputs": [
    {
     "name": "stdout",
     "output_type": "stream",
     "text": [
      "True\n"
     ]
    }
   ],
   "source": [
    "# Example usage\n",
    "print(containsDuplicate([1, 2, 3, 1]))  # Output: True"
   ]
  },
  {
   "cell_type": "markdown",
   "id": "cafd4aae",
   "metadata": {},
   "source": [
    "### <u>Complexity Analysis</u>\n",
    "- ### Time Complexity: $O(n)$ \n",
    "    - Since we iterate through each element of the array once. Checking if an element is in the set and then adding the element to the set both occur in constant time.\n",
    "- ### Space Complexity: $O(n)$ \n",
    "    - The space complexity is $O(n)$ in the worst case because when there are no duplicates, the est will contain all `n` elements from the array. In the best case, if there's an early dupe, then less space will be used.\n",
    "    "
   ]
  }
 ],
 "metadata": {
  "kernelspec": {
   "display_name": "Python 3 (ipykernel)",
   "language": "python",
   "name": "python3"
  },
  "language_info": {
   "codemirror_mode": {
    "name": "ipython",
    "version": 3
   },
   "file_extension": ".py",
   "mimetype": "text/x-python",
   "name": "python",
   "nbconvert_exporter": "python",
   "pygments_lexer": "ipython3",
   "version": "3.9.12"
  }
 },
 "nbformat": 4,
 "nbformat_minor": 5
}

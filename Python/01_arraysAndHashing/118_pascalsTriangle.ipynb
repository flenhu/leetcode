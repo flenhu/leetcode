{
 "cells": [
  {
   "cell_type": "markdown",
   "id": "835c632c",
   "metadata": {},
   "source": [
    "#### [Python <img src=\"../../assets/pythonLogo.png\" alt=\"py logo\" style=\"height: 1em; vertical-align: sub;\">](../README.md) | Easy 🟢 | [Arrays & Hashing](README.md)\n",
    "# [118. Pascal's Triangle](https://leetcode.com/problems/pascals-triangle/description/) (In Progress)"
   ]
  },
  {
   "cell_type": "markdown",
   "id": "b9441082",
   "metadata": {},
   "source": [
    "Given an integer `numRows`, return the first numRows of **Pascal's triangle**.\n",
    "\n",
    "In **Pascal's triangle**, each number is the sum of the two numbers directly above it as shown:\n",
    "![Pascal Triangle](https://upload.wikimedia.org/wikipedia/commons/0/0d/PascalTriangleAnimated2.gif)\n",
    "\n",
    "**Example 1:**\n",
    "> **Input**: `numRows = 5`  \n",
    "> **Output**: `[[1],[1,1],[1,2,1],[1,3,3,1],[1,4,6,4,1]]`  \n",
    "\n",
    "**Example 2:**\n",
    "> **Input**: `numRows = 1`  \n",
    "> **Output**: `[[1]]`   \n",
    "> **Explanation**: There is no common prefix among the input strings.\n",
    "\n",
    "#### Constraints\n",
    "- $1 \\leq$ `numRows` $\\leq 30$"
   ]
  },
  {
   "cell_type": "markdown",
   "id": "5a871415",
   "metadata": {},
   "source": [
    "### Problem Explanation\n",
    "- \n",
    "\n",
    "***"
   ]
  },
  {
   "cell_type": "markdown",
   "id": "66c83cb9",
   "metadata": {},
   "source": [
    "# Approach: \n",
    "\n",
    "\n",
    "### Intuition\n",
    "\n",
    "\n",
    "### Algorithm\n"
   ]
  },
  {
   "cell_type": "markdown",
   "id": "7888762a",
   "metadata": {},
   "source": [
    "### Code Implementation"
   ]
  },
  {
   "cell_type": "code",
   "execution_count": null,
   "id": "e1d254e7",
   "metadata": {},
   "outputs": [],
   "source": []
  },
  {
   "cell_type": "markdown",
   "id": "ce05a3cf",
   "metadata": {},
   "source": [
    "### Testing"
   ]
  },
  {
   "cell_type": "code",
   "execution_count": null,
   "id": "4c5194cc",
   "metadata": {},
   "outputs": [],
   "source": []
  },
  {
   "cell_type": "markdown",
   "id": "8a5df28b",
   "metadata": {},
   "source": [
    "### Complexity Analysis\n",
    "- #### Time Complexity: \n",
    "    - \n",
    "- #### Space Complexity: \n",
    "    - \n",
    "***"
   ]
  },
  {
   "cell_type": "markdown",
   "id": "32c95f2b",
   "metadata": {},
   "source": [
    "# Approach 2:\n",
    "\n",
    "\n",
    "### Intuition\n",
    "\n",
    "\n",
    "### Algorithm\n"
   ]
  }
 ],
 "metadata": {
  "kernelspec": {
   "display_name": "Python 3 (ipykernel)",
   "language": "python",
   "name": "python3"
  },
  "language_info": {
   "codemirror_mode": {
    "name": "ipython",
    "version": 3
   },
   "file_extension": ".py",
   "mimetype": "text/x-python",
   "name": "python",
   "nbconvert_exporter": "python",
   "pygments_lexer": "ipython3",
   "version": "3.11.5"
  }
 },
 "nbformat": 4,
 "nbformat_minor": 5
}

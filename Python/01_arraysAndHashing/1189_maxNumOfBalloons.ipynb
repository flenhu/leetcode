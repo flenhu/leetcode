{
 "cells": [
  {
   "cell_type": "markdown",
   "id": "835c632c",
   "metadata": {},
   "source": [
    "#### [Python <img src=\"../../assets/pythonLogo.png\" alt=\"py logo\" style=\"height: 1em; vertical-align: sub;\">](../README.md) | Easy 🟢 | [Arrays & Hashing](README.md)\n",
    "# [1189. Maximum Number of Balloons ](https://leetcode.com/problems/maximum-number-of-balloons/description/) (in prog 👷)"
   ]
  },
  {
   "cell_type": "markdown",
   "id": "b9441082",
   "metadata": {},
   "source": [
    "Given a string `text`, you want to use the characters of `text` to form as many instances of the word **\"balloon\"** as possible.\n",
    "\n",
    "You can use each character in `text` **at most once**. Return the maximum number of instances that can be formed.\n",
    "\n",
    "#### Example 1:\n",
    "![example 1](https://assets.leetcode.com/uploads/2019/09/05/1536_ex1_upd.JPG)\n",
    "> **Input**: `text = \"nlaebolko\"`  \n",
    "> **Output**: `1`\n",
    "\n",
    "#### Example 2:\n",
    "![example 2](https://assets.leetcode.com/uploads/2019/09/05/1536_ex2_upd.JPG)\n",
    "> **Input**: `text = \"loonbalxballpoon\"`  \n",
    "> **Output**: `2`\n",
    "\n",
    "#### Example 3:\n",
    "> **Input**: `text = \"leetcode\"`  \n",
    "> **Output**: `0`\n",
    "\n",
    "#### Constraints:\n",
    "- `1 <= text.length <= 10^4`\n",
    "- `text` consists of lower case English letters only.\n"
   ]
  },
  {
   "cell_type": "markdown",
   "id": "5a871415",
   "metadata": {},
   "source": [
    "### Problem Explanation\n",
    "- For this problem we are given a string `text` consisting of lowercase English letters. The main objective is to find out how many times we can form the word `\"balloon\"` using the letters from `text`.\n",
    "- Each letter from `text` can be used at most once for each instance of `\"balloon\"`.\n",
    "- We want to maximize the number of `\"balloon\"` instances that can be formed\n",
    "\n",
    "***"
   ]
  },
  {
   "cell_type": "markdown",
   "id": "66c83cb9",
   "metadata": {},
   "source": [
    "# Approach 1: Counting Characters\n",
    "The probably most natural approach is to count how often each character appears in text and then determining the maximum number of times \"balloon\" can be formed based on those counts. Since \"balloon\" requires:\n",
    "- 1 `'b'`\n",
    "- 1 `'a'`\n",
    "- 2 `'l'`'s\n",
    "- 2 `'o'`'s\n",
    "- 1 `'n'`'\n",
    "\n",
    "The limiting factor in forming `\"balloon\"` will be the availability of these characters in text, particularly `'l'` and `'o'`, which are needed twice.\n",
    "\n",
    "## Intuition\n",
    "- The intuition behind this approach is basically recognizing that the ability to form `\"balloon\"` is directly tied to the frequency of its constituent characters in text.\n",
    "- The characters 'l' and 'o' are critical because they are required more than once. Hence, their availability significantly impacts the overall count of \"balloon\" instances that can be formed.\n",
    "\n",
    "## Algorithm\n",
    "1. **Count Characters:** Use a counter to tally the occurences of each character in `text` and also for balloon.\n",
    "2. **Determine Minimum Ratio:**\n",
    "    - Iterate through characters in `\"balloon\"`, comparing their counts in text to their occurrence in `\"balloon\"` to find the limiting character. \n",
    "    - This is done by calculating the floor division of counts in text by counts in \"balloon\" for each character and taking the minimum.\n",
    "3. **Result:** The minimum ratio found indicates the maximum number of \"balloon\" instances that can be formed."
   ]
  },
  {
   "cell_type": "markdown",
   "id": "7888762a",
   "metadata": {},
   "source": [
    "## Code Implementation"
   ]
  },
  {
   "cell_type": "code",
   "execution_count": null,
   "id": "e1d254e7",
   "metadata": {},
   "outputs": [],
   "source": [
    "from collections import Counter\n",
    "\n",
    "class Solution:\n",
    "    def maxNumberOfBalloons(self, text: str) -> int:\n",
    "        # count the number of each character in the text\n",
    "        countText = Counter(text)\n",
    "        balloon = Counter('balloon')    # count the number of each character in the word balloon\n",
    "\n",
    "        res = len(text)         # the maximum number of balloons that can be formed is the length of the text\n",
    "        for c in balloon:       # for each character in the word balloon\n",
    "            # the maximum number of balloons that can be formed is the minimum number of times the \n",
    "            # character appears in the text divided by the number of times the character appears in the word balloon\n",
    "            res = min(res, countText[c] // balloon[c])  \n",
    "        return res"
   ]
  },
  {
   "cell_type": "markdown",
   "id": "ce05a3cf",
   "metadata": {},
   "source": [
    "## Testing"
   ]
  },
  {
   "cell_type": "code",
   "execution_count": null,
   "id": "4c5194cc",
   "metadata": {},
   "outputs": [],
   "source": [
    "def test_maxNumberOfBalloons(solution_instance, solution_name=\"Solution\"):\n",
    "    test_cases = [\n",
    "        (\"nlaebolko\", 1, \"Example 1\"),\n",
    "        (\"loonbalxballpoon\", 2, \"Example 2\"),\n",
    "        (\"leetcode\", 0, \"Example 3\"),\n",
    "    ]\n",
    "    \n",
    "    for text, expected, description in test_cases:\n",
    "        result = solution_instance.maxNumberOfBalloons(text)\n",
    "        status = \"Passed\" if result == expected else \"Failed\"\n",
    "        print(f\"{solution_name} - {description}: Input = '{text}' | Expected = {expected} | Got = {result} | Test {status}\")\n",
    "\n",
    "sol1 = Solution()\n",
    "test_maxNumberOfBalloons(sol1, \"Solution 1\")"
   ]
  },
  {
   "cell_type": "markdown",
   "id": "8a5df28b",
   "metadata": {},
   "source": [
    "## Complexity Analysis\n",
    "- **Variables**:\n",
    "    - $N$ is the length of the input string `text`.\n",
    "- ### Time Complexity: $O(N)$\n",
    "    - Since the iteration over `\"balloon\"` is a fixed set of characters, the use of the `Counter` requires us to iterate over all the characters in the string `text`, so we have $N$ operations.\n",
    "- ### Space Complexity: \n",
    "    - Since we only care about the 5 unique letters in `\"balloon\"`, the space complexity is constant.\n",
    "***"
   ]
  },
  {
   "cell_type": "markdown",
   "id": "32c95f2b",
   "metadata": {},
   "source": [
    "# Approach 2:\n",
    "\n",
    "\n",
    "### Intuition\n",
    "\n",
    "\n",
    "### Algorithm\n"
   ]
  }
 ],
 "metadata": {
  "kernelspec": {
   "display_name": "Python 3 (ipykernel)",
   "language": "python",
   "name": "python3"
  },
  "language_info": {
   "codemirror_mode": {
    "name": "ipython",
    "version": 3
   },
   "file_extension": ".py",
   "mimetype": "text/x-python",
   "name": "python",
   "nbconvert_exporter": "python",
   "pygments_lexer": "ipython3",
   "version": "3.10.4"
  }
 },
 "nbformat": 4,
 "nbformat_minor": 5
}

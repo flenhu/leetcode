{
 "cells": [
  {
   "cell_type": "markdown",
   "id": "835c632c",
   "metadata": {},
   "source": [
    "#### [Python <img src=\"../../assets/pythonLogo.png\" alt=\"py logo\" style=\"height: 1em; vertical-align: sub;\">](../README.md) | Easy 🟢 | [Arrays & Hashing](README.md)\n",
    "# [392. Is Subsequence](https://leetcode.com/problems/is-subsequence/description/)"
   ]
  },
  {
   "cell_type": "markdown",
   "id": "b9441082",
   "metadata": {},
   "source": [
    "Given two strings `s` and `t`, return `true` if `s` is a **subsequence** of `t`, or `false` otherwise.\n",
    "\n",
    "A **subsequence** of a string is a new string that is formed from the original string by deleting some (can be none) of the characters without disturbing the relative positions of the remaining characters. (i.e., `\"ace\"` is a subsequence of `\"abcde\"` while `\"aec\"` is not).\n",
    "\n",
    "\n",
    "**Example 1:**\n",
    "> **Input**: `s = \"abc\", t = \"ahbgdc\"`  \n",
    "> **Output**: `true`  \n",
    "\n",
    "**Example 2:**\n",
    "> **Input**: `s = \"axc\", t = \"ahbgdc\"`\n",
    "> **Output**: `false` \n",
    "\n",
    "#### Constraints\n",
    "- $0 \\leq$ `s.length` $\\leq 100$\n",
    "- $0 \\leq$ `t.length` $\\leq 10^4$\n",
    "- `s` and `t` consist only of lowercase English letters."
   ]
  },
  {
   "cell_type": "markdown",
   "id": "5a871415",
   "metadata": {},
   "source": [
    "### Problem Explanation\n",
    "- For this problem we are given two strings `s` and `t`. Our goal here is to determine if `s` is a subsequence of `t`. \n",
    "- A string `s` is a subsequence of `t` if `s` can be derived from `t` by removing some characters without changing the order of the remaining characters.\n",
    "***"
   ]
  },
  {
   "cell_type": "markdown",
   "id": "66c83cb9",
   "metadata": {},
   "source": [
    "# Approach: Two Pointer\n",
    "Probably the most straightforward approach is to do the two-pointer approach by iterating through both strings simultaneously, but only advancing in `s` (the shorter string) is found in `t` (the longer string).\n",
    "\n",
    "### Intuition\n",
    "- **Sequential Matching**: A subsequence maintains the order of the characters. So, we need to check if the characters in `s` appear in the same order in `t`.\n",
    "- **Pointer for Each String**: We use one pointer for `s` and another for `t`. Then, we move through `t`, and for each matching character in `s`, we'll advance the pointer in `s`.\n",
    "- **Completion Check**: If we reach the end of `s` (meaning all characters in `s` are found in `t` in order), `s` is a subsequence of `t`.\n",
    "\n",
    "### Algorithm\n",
    "1. Initilaize two pointers: `i` (for `s`) and `j` (for `t`) at 0.\n",
    "2. While both pointers are within their respective strings:\n",
    "    - If the characters at the two pointers match (`s[i] == t[j]`), increment `i`.\n",
    "    - Increment `j` in every iteration.\n",
    "3. After the loop, check if `i` is equal to the length of `s`.\n",
    "    - If `i == len(s)`, all characters of `s` were found in `t` in order, so return `True`.\n",
    "    - Otherwise, return `False`.\n",
    "    "
   ]
  },
  {
   "cell_type": "markdown",
   "id": "7888762a",
   "metadata": {},
   "source": [
    "### Code Implementation"
   ]
  },
  {
   "cell_type": "code",
   "execution_count": null,
   "id": "e1d254e7",
   "metadata": {},
   "outputs": [],
   "source": []
  },
  {
   "cell_type": "markdown",
   "id": "ce05a3cf",
   "metadata": {},
   "source": [
    "### Testing"
   ]
  },
  {
   "cell_type": "code",
   "execution_count": null,
   "id": "4c5194cc",
   "metadata": {},
   "outputs": [],
   "source": []
  },
  {
   "cell_type": "markdown",
   "id": "8a5df28b",
   "metadata": {},
   "source": [
    "### Complexity Analysis\n",
    "- #### Time Complexity: \n",
    "    - \n",
    "- #### Space Complexity: \n",
    "    - \n",
    "***"
   ]
  },
  {
   "cell_type": "markdown",
   "id": "32c95f2b",
   "metadata": {},
   "source": [
    "# Approach 2: \n",
    "\n",
    "\n",
    "### Intuition\n",
    "\n",
    "\n",
    "### Algorithm\n"
   ]
  }
 ],
 "metadata": {
  "kernelspec": {
   "display_name": "Python 3 (ipykernel)",
   "language": "python",
   "name": "python3"
  },
  "language_info": {
   "codemirror_mode": {
    "name": "ipython",
    "version": 3
   },
   "file_extension": ".py",
   "mimetype": "text/x-python",
   "name": "python",
   "nbconvert_exporter": "python",
   "pygments_lexer": "ipython3",
   "version": "3.11.5"
  }
 },
 "nbformat": 4,
 "nbformat_minor": 5
}

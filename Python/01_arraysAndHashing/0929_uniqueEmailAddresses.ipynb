{
 "cells": [
  {
   "cell_type": "markdown",
   "id": "835c632c",
   "metadata": {},
   "source": [
    "#### [Python <img src=\"../../assets/pythonLogo.png\" alt=\"py logo\" style=\"height: 1em; vertical-align: sub;\">](../README.md) | Easy 🟢 | [Arrays & Hashing](README.md)\n",
    "# [929. Unique Email Addresses](https://leetcode.com/problems/unique-email-addresses/description/) (In Progress)"
   ]
  },
  {
   "cell_type": "markdown",
   "id": "b9441082",
   "metadata": {},
   "source": [
    "Every **valid email** consists of a **local name** and a **domain name**, separated by the `'@'` sign. Besides lowercase letters, the email may contain one or more `'.'` or `'+'`.\n",
    "\n",
    "- For example, in `\"alice@leetcode.com\"`, `\"alice\"` is the **local name**, and `\"leetcode.com\"` is the **domain name**.\n",
    "If you add periods `'.'` between some characters in the **local name** part of an email address, mail sent there will be forwarded to the same address without dots in the local name. Note that this rule **does not apply** to **domain names**.\n",
    "\n",
    "For example, `\"alice.z@leetcode.com\"` and `\"alicez@leetcode.com\"` forward to the same email address.\n",
    "\n",
    "If you add a plus `'+'` in the **local name**, everything after the first plus sign **will be ignored**. This allows certain emails to be filtered. Note that this rule **does not apply** to **domain names**.\n",
    "\n",
    "- For example, `\"m.y+name@email.com\"` will be forwarded to `\"my@email.com\"`.\n",
    "\n",
    "It is possible to use both of these rules at the same time.\n",
    "\n",
    "Given an array of strings `emails` where we send one email to each `emails[i]`, return the number of different addresses that actually receive mails.\n",
    "\n",
    "**Example 1:**\n",
    "> **Input**: `emails = [\"test.email+alex@leetcode.com\",\"test.e.mail+bob.cathy@leetcode.com\",\"testemail+david@lee.tcode.com\"]`  \n",
    "> **Output**: `2`  \n",
    "> **Explanation**: `\"testemail@leetcode.com\"` and `\"testemail@lee.tcode.com\"` actually receive mails.\n",
    "\n",
    "**Example 2:**\n",
    "> **Input**: `emails = [\"a@leetcode.com\",\"b@leetcode.com\",\"c@leetcode.com\"]`  \n",
    "> **Output**: `3`   \n",
    "\n",
    "#### Constraints\n",
    "- $1 \\leq$ `emails.length`  $\\leq 100$  \n",
    "- $1 \\leq$ `emails[i].length` $\\leq 100$  \n",
    "- `emails[i]` consist of lowercase English letters, `'+'`, `'.'` and `'@'`.\n",
    "- Each `emails[i]` contains exactly one `'@'` character.\n",
    "- All local and domain names are non-empty.\n",
    "- Local names do not start with a `'+'` character.\n",
    "- Domain names end with the `\".com\"` suffix."
   ]
  },
  {
   "cell_type": "markdown",
   "id": "5a871415",
   "metadata": {},
   "source": [
    "### Problem Explanation\n",
    "- \n",
    "\n",
    "***"
   ]
  },
  {
   "cell_type": "markdown",
   "id": "66c83cb9",
   "metadata": {},
   "source": [
    "# Approach: \n",
    "\n",
    "\n",
    "### Intuition\n",
    "\n",
    "\n",
    "### Algorithm\n"
   ]
  },
  {
   "cell_type": "markdown",
   "id": "7888762a",
   "metadata": {},
   "source": [
    "### Code Implementation"
   ]
  },
  {
   "cell_type": "code",
   "execution_count": null,
   "id": "e1d254e7",
   "metadata": {},
   "outputs": [],
   "source": []
  },
  {
   "cell_type": "markdown",
   "id": "ce05a3cf",
   "metadata": {},
   "source": [
    "### Testing"
   ]
  },
  {
   "cell_type": "code",
   "execution_count": null,
   "id": "4c5194cc",
   "metadata": {},
   "outputs": [],
   "source": []
  },
  {
   "cell_type": "markdown",
   "id": "8a5df28b",
   "metadata": {},
   "source": [
    "### Complexity Analysis\n",
    "- #### Time Complexity: \n",
    "    - \n",
    "- #### Space Complexity: \n",
    "    - \n",
    "***"
   ]
  },
  {
   "cell_type": "markdown",
   "id": "32c95f2b",
   "metadata": {},
   "source": [
    "# Approach 2:\n",
    "\n",
    "\n",
    "### Intuition\n",
    "\n",
    "\n",
    "### Algorithm\n"
   ]
  }
 ],
 "metadata": {
  "kernelspec": {
   "display_name": "Python 3 (ipykernel)",
   "language": "python",
   "name": "python3"
  },
  "language_info": {
   "codemirror_mode": {
    "name": "ipython",
    "version": 3
   },
   "file_extension": ".py",
   "mimetype": "text/x-python",
   "name": "python",
   "nbconvert_exporter": "python",
   "pygments_lexer": "ipython3",
   "version": "3.11.5"
  }
 },
 "nbformat": 4,
 "nbformat_minor": 5
}

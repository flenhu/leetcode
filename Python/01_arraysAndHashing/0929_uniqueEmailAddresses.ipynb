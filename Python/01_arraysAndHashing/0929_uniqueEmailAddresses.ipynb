{
 "cells": [
  {
   "cell_type": "markdown",
   "id": "835c632c",
   "metadata": {},
   "source": [
    "#### [Python <img src=\"../../assets/pythonLogo.png\" alt=\"py logo\" style=\"height: 1em; vertical-align: sub;\">](../README.md) | Easy 🟢 | [Arrays & Hashing](README.md)\n",
    "# [929. Unique Email Addresses](https://leetcode.com/problems/unique-email-addresses/description/) (In Progress)"
   ]
  },
  {
   "cell_type": "markdown",
   "id": "b9441082",
   "metadata": {},
   "source": [
    "Every **valid email** consists of a **local name** and a **domain name**, separated by the `'@'` sign. Besides lowercase letters, the email may contain one or more `'.'` or `'+'`.\n",
    "\n",
    "- For example, in `\"alice@leetcode.com\"`, `\"alice\"` is the **local name**, and `\"leetcode.com\"` is the **domain name**.\n",
    "If you add periods `'.'` between some characters in the **local name** part of an email address, mail sent there will be forwarded to the same address without dots in the local name. Note that this rule **does not apply** to **domain names**.\n",
    "\n",
    "For example, `\"alice.z@leetcode.com\"` and `\"alicez@leetcode.com\"` forward to the same email address.\n",
    "\n",
    "If you add a plus `'+'` in the **local name**, everything after the first plus sign **will be ignored**. This allows certain emails to be filtered. Note that this rule **does not apply** to **domain names**.\n",
    "\n",
    "- For example, `\"m.y+name@email.com\"` will be forwarded to `\"my@email.com\"`.\n",
    "\n",
    "It is possible to use both of these rules at the same time.\n",
    "\n",
    "Given an array of strings `emails` where we send one email to each `emails[i]`, return the number of different addresses that actually receive mails.\n",
    "\n",
    "**Example 1:**\n",
    "> **Input**: `emails = [\"test.email+alex@leetcode.com\",\"test.e.mail+bob.cathy@leetcode.com\",\"testemail+david@lee.tcode.com\"]`  \n",
    "> **Output**: `2`  \n",
    "> **Explanation**: `\"testemail@leetcode.com\"` and `\"testemail@lee.tcode.com\"` actually receive mails.\n",
    "\n",
    "**Example 2:**\n",
    "> **Input**: `emails = [\"a@leetcode.com\",\"b@leetcode.com\",\"c@leetcode.com\"]`  \n",
    "> **Output**: `3`   \n",
    "\n",
    "#### Constraints\n",
    "- $1 \\leq$ `emails.length`  $\\leq 100$  \n",
    "- $1 \\leq$ `emails[i].length` $\\leq 100$  \n",
    "- `emails[i]` consist of lowercase English letters, `'+'`, `'.'` and `'@'`.\n",
    "- Each `emails[i]` contains exactly one `'@'` character.\n",
    "- All local and domain names are non-empty.\n",
    "- Local names do not start with a `'+'` character.\n",
    "- Domain names end with the `\".com\"` suffix."
   ]
  },
  {
   "cell_type": "markdown",
   "id": "5a871415",
   "metadata": {},
   "source": [
    "### Problem Explanation\n",
    "- For this problem, we are given a list of email addresses.\n",
    "- Each email consists of two parts:\n",
    "    1. A local name\n",
    "    2. A domain name  \n",
    "    These are separated by an `@` symbol.\n",
    "- The goal is to count how many unique email addresses are actually receiving emails, when considering the following rules:\n",
    "    1. **Dots in Local Name**: Dots `\".\"` in the local name are ignored.\n",
    "        - For eaxmple: `\"alice.z\"` and `\"alicez\"` in the local name equivalent.\n",
    "    2. **Plus Sign in the Local Name**: Everything after a `\"+\"` in the local name is ignored. \n",
    "        - For example: `\"my+name\"` is just treated as `\"my\"`\n",
    "    3. **Domain Name Unchanged**: The rules for the local name don't apply to the domain name.\n",
    "***"
   ]
  },
  {
   "cell_type": "markdown",
   "id": "66c83cb9",
   "metadata": {},
   "source": [
    "# Approach 1: String Split Method\n",
    "The String Split Method involves splitting the email into its local and domain parts, processing the local part according to the rules, and then combining it back with the domain part.\n",
    "\n",
    "## Intuition\n",
    "- The intuition behind using the String Split Method lies in utilizing built-in functions such as `split` and `replace`. These functions are:  \n",
    "    - **`split()`**:\n",
    "        - this function is used to divide the email strings into their respective parts: the local and domain names.\n",
    "        - It breaks the string around the `\"@\"` character for separating the two parts, then around the `\"+\"` in the local part to discard the irrelevant portions.\n",
    "    - **`replace()`**:\n",
    "        - This method is utilized to handle the rule about ignoring the dots in the local name.\n",
    "        - It replaces the occurences of the dot character `\".\"` with and empty string.\n",
    "\n",
    "## Algorithm\n",
    "1. ** Initialize a Set**: This is to store the unique email addresses.\n",
    "2. ** Process Each Email**:\n",
    "    - Split the email into local and domain parts.\n",
    "    - In the local part, remove everything after the first plus `\"+\"` and all dots `\".\"`\n",
    "    - Combine the newly processed local part with the domain part.\n",
    "3. **Add Processed Email to the Set**: This ensures the uniqueness of the emails.\n",
    "4. **Return the count** The number of unique emails is the size of the set."
   ]
  },
  {
   "cell_type": "markdown",
   "id": "7888762a",
   "metadata": {},
   "source": [
    "## Code Implementation"
   ]
  },
  {
   "cell_type": "code",
   "execution_count": 1,
   "id": "e1d254e7",
   "metadata": {},
   "outputs": [],
   "source": [
    "from typing import List\n",
    "\n",
    "class Solution:\n",
    "    def numUniqueEmails(self, emails: List[str]) -> int:\n",
    "        unique_emails = set()  # set to store unique emails\n",
    "        for email in emails:\n",
    "            local, domain = email.split('@')  # split local and domain\n",
    "            # remove '.' from local and ignore everything after '+'\n",
    "            local = local.split('+')[0].replace('.', '')\n",
    "            unique_emails.add(local + '@' + domain)  # add to set\n",
    "        return len(unique_emails)"
   ]
  },
  {
   "cell_type": "markdown",
   "id": "ce05a3cf",
   "metadata": {},
   "source": [
    "## Testing"
   ]
  },
  {
   "cell_type": "code",
   "execution_count": 2,
   "id": "4c5194cc",
   "metadata": {},
   "outputs": [
    {
     "name": "stdout",
     "output_type": "stream",
     "text": [
      "Test Case 1: Passed ✅ (Expected: 2, Got: 2)\n",
      "Test Case 2: Passed ✅ (Expected: 3, Got: 3)\n",
      "Test Case 3: Passed ✅ (Expected: 1, Got: 1)\n"
     ]
    }
   ],
   "source": [
    "sol = Solution()\n",
    "\n",
    "test_cases = {\n",
    "    \"Test Case 1\": {\"emails\": [\"test.email+alex@leetcode.com\", \"test.e.mail+bob.cathy@leetcode.com\", \"testemail+david@lee.tcode.com\"], \"expected\": 2},\n",
    "    \"Test Case 2\": {\"emails\": [\"a@leetcode.com\", \"b@leetcode.com\", \"c@leetcode.com\"], \"expected\": 3},\n",
    "    \"Test Case 3\": {\"emails\": [\"user.name+tag+sorting@example.com\", \"user.name@example.com\"], \"expected\": 1}\n",
    "}\n",
    "\n",
    "# Run the test cases\n",
    "for name, tc in test_cases.items():\n",
    "    result = sol.numUniqueEmails(tc[\"emails\"])\n",
    "    status = \"Passed ✅\" if result == tc[\"expected\"] else \"Failed 😔\"\n",
    "    print(f\"{name}: {status} (Expected: {tc['expected']}, Got: {result})\")"
   ]
  },
  {
   "cell_type": "markdown",
   "id": "8a5df28b",
   "metadata": {},
   "source": [
    "## Complexity Analysis  \n",
    "\n",
    "- **Variables**:\n",
    "    - Let $N$ be the number of emails\n",
    "    - Let $M$ be the average length of an email.\n",
    "\n",
    "### Time Complexity:  $O(N \\cdot M)$\n",
    " -  The `split` and `replace` methods are both liinear-time operations, with a complexity of $O(M)$, as they iterate over each character in the local part of the email.\n",
    " - Since these operations are performed for each of the $N$ emails, and considering the average length of each email is about $M$, the overall time complexity becomes: $N \\times M$.  \n",
    " \n",
    "### Space Complexity:  $O(N \\cdot M)$\n",
    " - In the worst case scenario, where every email in the list is unique, the algorithm needs to store each email.\n",
    " - The space complexity is also dependent on both the number of emails $N$ and the average length of these emails $M$.\n",
    "***"
   ]
  },
  {
   "cell_type": "markdown",
   "id": "32c95f2b",
   "metadata": {},
   "source": [
    "# Approach 2:\n",
    "\n",
    "\n",
    "### Intuition\n",
    "\n",
    "\n",
    "### Algorithm\n"
   ]
  }
 ],
 "metadata": {
  "kernelspec": {
   "display_name": "Python 3 (ipykernel)",
   "language": "python",
   "name": "python3"
  },
  "language_info": {
   "codemirror_mode": {
    "name": "ipython",
    "version": 3
   },
   "file_extension": ".py",
   "mimetype": "text/x-python",
   "name": "python",
   "nbconvert_exporter": "python",
   "pygments_lexer": "ipython3",
   "version": "3.10.4"
  }
 },
 "nbformat": 4,
 "nbformat_minor": 5
}

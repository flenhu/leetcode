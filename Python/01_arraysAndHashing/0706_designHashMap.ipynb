{
 "cells": [
  {
   "cell_type": "markdown",
   "id": "835c632c",
   "metadata": {},
   "source": [
    "#### [Python <img src=\"../../assets/pythonLogo.png\" alt=\"py logo\" style=\"height: 1em; vertical-align: sub;\">](../README.md) | Easy 🟢 | [Arrays & Hashing](README.md)\n",
    "# [706. Design HashMap]() (not started 😕)"
   ]
  },
  {
   "cell_type": "markdown",
   "id": "b9441082",
   "metadata": {},
   "source": [
    "Design a HashMap without using any built-in hash table libraries.\n",
    "\n",
    "Implement the MyHashMap class:\n",
    "- `MyHashMap()` initializes the object with an empty map.\n",
    "- `void put(int key, int value)` inserts a `(key, value)` pair into the HashMap. If the `key` already exists in the map, update the corresponding `value`.\n",
    "- `int get(int key)` returns the `value` to which the specified `key` is mapped, or `-1` if this map contains no mapping for the `key`.\n",
    "- `void remove(key)` removes the `key` and its corresponding `value` if the map contains the mapping for the `key`.\n",
    " \n",
    "#### Example 1:\n",
    "> **Input**:  \n",
    "> `[\"MyHashMap\", \"put\", \"put\", \"get\", \"get\", \"put\", \"get\", \"remove\", \"get\"]`  \n",
    "> `[[], [1, 1], [2, 2], [1], [3], [2, 1], [2], [2], [2]]`  \n",
    "> **Output**:  \n",
    "> `[null, null, null, 1, -1, null, 1, null, -1]`  \n",
    "> \n",
    "> **Explanation**:  \n",
    "> `MyHashMap myHashMap = new MyHashMap();`  \n",
    "> `myHashMap.put(1, 1);` // The map is now [[1,1]]  \n",
    "> `myHashMap.put(2, 2);` // The map is now [[1,1], [2,2]]  \n",
    "> `myHashMap.get(1);`    // return 1, The map is now [[1,1], [2,2]]  \n",
    "> `myHashMap.get(3);`    // return -1 (i.e., not found), The map is now [[1,1], [2,2]]  \n",
    "> `myHashMap.put(2, 1);` // The map is now [[1,1], [2,1]] (i.e., update the existing value)  \n",
    "> `myHashMap.get(2);`    // return 1, The map is now [[1,1], [2,1]]  \n",
    "> `myHashMap.remove(2);` // remove the mapping for 2, The map is now [[1,1]]  \n",
    "> `myHashMap.get(2);`    // return -1 (i.e., not found), The map is now [[1,1]]\n",
    "\n",
    "#### Constraints:\n",
    "- $0 \\leq$ `key, value` $ \\leq 10^6$\n",
    "- At most $10^4$ calls will be made to `put`, `get`, and `remove`.\n"
   ]
  },
  {
   "cell_type": "markdown",
   "id": "5a871415",
   "metadata": {},
   "source": [
    "## Problem Explanation:\n",
    "- For this problem we are asked to implement a basic HashMap (a.k.a hash table) without using any built-in hash table libraries.\n",
    "- A hash map is a data strucutre that stores key-value pairs.\n",
    "- Keys are unique, and each key maps exactly to one value.\n",
    "- Operations include adding a new key-value pair, updating the value for an existing key, retrieving the value for a given, and removing a key-value pair from the HashMap.\n",
    "***"
   ]
  },
  {
   "cell_type": "markdown",
   "id": "66c83cb9",
   "metadata": {},
   "source": [
    "# Approach 1: Modulo + LinkedList (chaining) \n",
    "This approach involves two main components:\n",
    "1. **Hashing:** We need to use a hash function to convert the key to an array index. A common and simple hash function is the modulo operation, where the `key` modulo `array_size` gives the `index`.\n",
    "2. **Collision Resolution:** We'll be handling the _collisions_ (when different keys map to the same index) by using linked lists. Each array index points to a linked list (or chain) of entries that share the same hash index.\n",
    "\n",
    "## Intuition\n",
    "- The modulo operation ensures that keys are evenly distributed across the array, while linked lists at each array index will allow multiple keys to exist at the same index without the need to overwrite each other.\n",
    "- This approach balances between efficiently using space and maintaining acceptable operation times by reducing the likelihood of long chains that would slow down the runtime.\n",
    "\n",
    "## Algorithm\n",
    "1. **Initialization:** Create an array of a fixed size, with each element being a dummy head of a linked list.\n",
    "2. **Hash Function:** Implement a hash function that computes the index for a given key using the modulo operation/\n",
    "3. **Put operation:** To add or update a key-value pair, we need to hash the key to find the correct index, traverse the linked list at that index to find the node with that given key (assuming that it exists), and then update its value or append a new node if the key is not found.\n",
    "4. **Get operation:** Hash the key to find the index, traverse the linked list at that index to find the node with the giben key, and then return its value if found; otherwose, return `-1`.\n",
    "5. **Remove operation:** Similarly, hash the key to find the index, then traverse the linked list to find and remove the node with the given key by adjusting the pointers."
   ]
  },
  {
   "cell_type": "markdown",
   "id": "7888762a",
   "metadata": {},
   "source": [
    "## Code Implementation"
   ]
  },
  {
   "cell_type": "code",
   "execution_count": null,
   "id": "e1d254e7",
   "metadata": {},
   "outputs": [],
   "source": []
  },
  {
   "cell_type": "markdown",
   "id": "ce05a3cf",
   "metadata": {},
   "source": [
    "### Testing"
   ]
  },
  {
   "cell_type": "code",
   "execution_count": null,
   "id": "4c5194cc",
   "metadata": {},
   "outputs": [],
   "source": []
  },
  {
   "cell_type": "markdown",
   "id": "8a5df28b",
   "metadata": {},
   "source": [
    "### Complexity Analysis\n",
    "- #### Time Complexity: \n",
    "    - \n",
    "- #### Space Complexity: \n",
    "    - \n",
    "***"
   ]
  },
  {
   "cell_type": "markdown",
   "id": "32c95f2b",
   "metadata": {},
   "source": [
    "# Approach 2:\n",
    "\n",
    "\n",
    "### Intuition\n",
    "\n",
    "\n",
    "### Algorithm\n"
   ]
  }
 ],
 "metadata": {
  "kernelspec": {
   "display_name": "Python 3 (ipykernel)",
   "language": "python",
   "name": "python3"
  },
  "language_info": {
   "codemirror_mode": {
    "name": "ipython",
    "version": 3
   },
   "file_extension": ".py",
   "mimetype": "text/x-python",
   "name": "python",
   "nbconvert_exporter": "python",
   "pygments_lexer": "ipython3",
   "version": "3.10.4"
  }
 },
 "nbformat": 4,
 "nbformat_minor": 5
}

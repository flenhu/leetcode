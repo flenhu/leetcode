{
 "cells": [
  {
   "cell_type": "markdown",
   "id": "835c632c",
   "metadata": {},
   "source": [
    "#### [Python <img src=\"../../assets/pythonLogo.png\" alt=\"py logo\" style=\"height: 1em; vertical-align: sub;\">](../README.md) | Easy 🟢 | [Arrays & Hashing](README.md)\n",
    "# [58. Length of Last Word](https://leetcode.com/problems/is-subsequence/description/) (In Progress)"
   ]
  },
  {
   "cell_type": "markdown",
   "id": "b9441082",
   "metadata": {},
   "source": [
    "Given a string `s` consisting of words and spaces, return the length of the **last** word in the string.\n",
    "\n",
    "A **word** is a maximal substring consisting of non-space characters only.\n",
    "\n",
    "**Example 1:**\n",
    "> **Input**: `s = \"Hello World\"`  \n",
    "> **Output**: `5`  \n",
    "> **Explanation**: The last word is `\"World\"\"` with length `5`.  \n",
    "\n",
    "**Example 1:**\n",
    "> **Input**: `s = \"   fly me   to   the moon  \"`  \n",
    "> **Output**: `4`  \n",
    "> **Explanation**: The last word is `\"moon\"\"` with length `4`.  \n",
    "\n",
    "**Example 3:**\n",
    "> **Input**: `s = \"luffy is still joyboy\"`  \n",
    "> **Output**: `6`  \n",
    "> **Explanation**: The last word is `\"joyboy\"` with length `6`.\n",
    "\n",
    "#### Constraints\n",
    "- $1 \\leq$ `s.length` $\\leq 10^4$\n",
    "- `s` consists of only English letters and spaces `' '`.\n",
    "- There will be at least one word in `s`."
   ]
  },
  {
   "cell_type": "markdown",
   "id": "5a871415",
   "metadata": {},
   "source": [
    "### Problem Explanation\n",
    "- This problem is pretty straightforward and is basically asking us to modify an array so that each element is replaced with the largest element that occurs to its right. The last element should also be replaced with `-1`, as there aren't any element to its right.\n",
    "***"
   ]
  },
  {
   "cell_type": "markdown",
   "id": "66c83cb9",
   "metadata": {},
   "source": [
    "# Approach: \n",
    "\n",
    "\n",
    "### Intuition\n",
    "\n",
    "\n",
    "### Algorithm\n"
   ]
  },
  {
   "cell_type": "markdown",
   "id": "7888762a",
   "metadata": {},
   "source": [
    "### Code Implementation"
   ]
  },
  {
   "cell_type": "code",
   "execution_count": null,
   "id": "e1d254e7",
   "metadata": {},
   "outputs": [],
   "source": []
  },
  {
   "cell_type": "markdown",
   "id": "ce05a3cf",
   "metadata": {},
   "source": [
    "### Testing"
   ]
  },
  {
   "cell_type": "code",
   "execution_count": null,
   "id": "4c5194cc",
   "metadata": {},
   "outputs": [],
   "source": []
  },
  {
   "cell_type": "markdown",
   "id": "8a5df28b",
   "metadata": {},
   "source": [
    "### Complexity Analysis\n",
    "- #### Time Complexity: \n",
    "    - \n",
    "- #### Space Complexity: \n",
    "    - \n",
    "***"
   ]
  },
  {
   "cell_type": "markdown",
   "id": "32c95f2b",
   "metadata": {},
   "source": [
    "# Approach 2:\n",
    "\n",
    "\n",
    "### Intuition\n",
    "\n",
    "\n",
    "### Algorithm\n"
   ]
  }
 ],
 "metadata": {
  "kernelspec": {
   "display_name": "Python 3 (ipykernel)",
   "language": "python",
   "name": "python3"
  },
  "language_info": {
   "codemirror_mode": {
    "name": "ipython",
    "version": 3
   },
   "file_extension": ".py",
   "mimetype": "text/x-python",
   "name": "python",
   "nbconvert_exporter": "python",
   "pygments_lexer": "ipython3",
   "version": "3.11.5"
  }
 },
 "nbformat": 4,
 "nbformat_minor": 5
}
